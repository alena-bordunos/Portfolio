{
 "cells": [
  {
   "cell_type": "markdown",
   "metadata": {},
   "source": [
    " # Анализ результатов А/В теста"
   ]
  },
  {
   "cell_type": "markdown",
   "metadata": {},
   "source": [
    "**Цель проекта:**\n",
    "Провести оценку результатов A/B-теста, используя датасет с действиями пользователей, техническое задание и несколько вспомогательных датасетов.\n",
    "\n",
    "**Ход исследования:**\n",
    "1) Предобработка данных:\n",
    "    - знакомство с данными\n",
    "    - обработка пропусков и дубликатов\n",
    "    - проверка соответствия требованиям технического задания\n",
    "2) Исследовательский анализ:\n",
    "    - анализ распределения числа событий на пользователя\n",
    "    - анализ распределения числа событий в выборках по дням\n",
    "    - изучение воронки событий\n",
    "3) Анализ результатов А/В тестирования\n",
    "4) Общий вывод по итогам проведения А/В теста\n",
    "\n",
    "**Техническое задание**\n",
    "\n",
    "- Название теста: `recommender_system_test`;\n",
    "- группы: А — контрольная, B — новая платёжная воронка;\n",
    "- дата запуска: 2020-12-07;\n",
    "- дата остановки набора новых пользователей: 2020-12-21;\n",
    "- дата остановки: 2021-01-04;\n",
    "- аудитория: в тест должно быть отобрано 15% новых пользователей из региона EU;\n",
    "- назначение теста: тестирование изменений, связанных с внедрением улучшенной рекомендательной системы;\n",
    "- ожидаемое количество участников теста: 6000.\n",
    "- ожидаемый эффект: за 14 дней с момента регистрации пользователи покажут улучшение каждой метрики не менее, чем на 10%:\n",
    "    - конверсии в просмотр карточек товаров — событие `product_page`,\n",
    "    - просмотры корзины — `product_cart`,\n",
    "    - покупки — `purchase`.\n",
    "    \n",
    "**Описание данных**\n",
    "\n",
    "`ab_project_marketing_events.csv` — календарь маркетинговых событий на 2020 год.\n",
    "\n",
    "Структура файла:\n",
    "\n",
    "- `name` — название маркетингового события;\n",
    "- `regions` — регионы, в которых будет проводиться рекламная кампания;\n",
    "- `start_dt` — дата начала кампании;\n",
    "- `finish_dt` — дата завершения кампании.\n",
    "\n",
    "`final_ab_new_users.csv` — пользователи, зарегистрировавшиеся с 7 до 21 декабря 2020 года.\n",
    "\n",
    "Структура файла:\n",
    "\n",
    "- `user_id` — идентификатор пользователя;\n",
    "- `first_date` — дата регистрации;\n",
    "- `region` — регион пользователя;\n",
    "- `device` — устройство, с которого происходила регистрация.\n",
    "\n",
    "`final_ab_events.csv` — действия новых пользователей в период с 7 декабря 2020 по 4 января 2021 года.\n",
    "\n",
    "Структура файла:\n",
    "\n",
    "- `user_id` — идентификатор пользователя;\n",
    "- `event_dt` — дата и время события;\n",
    "- `event_name` — тип события;\n",
    "- `details` — дополнительные данные о событии. Например, для покупок, `purchase,` в этом поле хранится стоимость покупки в долларах.\n",
    "\n",
    "`final_ab_participants.csv` — таблица участников тестов.\n",
    "\n",
    "Структура файла:\n",
    "\n",
    "- `user_id` — идентификатор пользователя;\n",
    "- `ab_test` — название теста;\n",
    "- `group` — группа пользователя."
   ]
  },
  {
   "cell_type": "markdown",
   "metadata": {},
   "source": [
    "## Предобработка данных"
   ]
  },
  {
   "cell_type": "markdown",
   "metadata": {},
   "source": [
    "### Знакомство с данными"
   ]
  },
  {
   "cell_type": "code",
   "execution_count": 1,
   "metadata": {},
   "outputs": [],
   "source": [
    "#загрузим необходимые библиотеки\n",
    "import pandas as pd\n",
    "import numpy as np\n",
    "import seaborn as sns\n",
    "import math as mth\n",
    "import matplotlib.pyplot as plt\n",
    "from scipy import stats as st\n",
    "import plotly.express as px\n",
    "import warnings\n",
    "warnings.filterwarnings('ignore')"
   ]
  },
  {
   "cell_type": "code",
   "execution_count": 2,
   "metadata": {},
   "outputs": [],
   "source": [
    "import plotly.io as pio \n",
    "pio.renderers.default = \"png\" \n",
    "svg_renderer = pio.renderers[\"png\"] \n",
    "svg_renderer.scale = 1.2"
   ]
  },
  {
   "cell_type": "code",
   "execution_count": 3,
   "metadata": {},
   "outputs": [],
   "source": [
    "# открываем файлы \n",
    "events = pd.read_csv('https://code.s3.yandex.net/datasets/final_ab_events.csv')\n",
    "marketing_events = pd.read_csv('https://code.s3.yandex.net/datasets/ab_project_marketing_events.csv')\n",
    "new_users = pd.read_csv('https://code.s3.yandex.net/datasets/final_ab_new_users.csv')\n",
    "participants = pd.read_csv('https://code.s3.yandex.net/datasets/final_ab_participants.csv')"
   ]
  },
  {
   "cell_type": "code",
   "execution_count": 4,
   "metadata": {},
   "outputs": [],
   "source": [
    "def preprocessing(df):\n",
    "    '''\n",
    "    функция для начальных этапов предобработки, проверки на пропуски и дубликаты\n",
    "    '''\n",
    "    df.info()\n",
    "    display(df.describe())\n",
    "    print('Пропущенных значений: \\n{}\\n'\n",
    "         'Явных дубликатов: {}'.format(df.isna().sum(),\n",
    "                                      df.duplicated().sum())\n",
    "         )\n",
    "    display(df.head(10))"
   ]
  },
  {
   "cell_type": "code",
   "execution_count": 5,
   "metadata": {},
   "outputs": [
    {
     "name": "stdout",
     "output_type": "stream",
     "text": [
      "<class 'pandas.core.frame.DataFrame'>\n",
      "RangeIndex: 440317 entries, 0 to 440316\n",
      "Data columns (total 4 columns):\n",
      " #   Column      Non-Null Count   Dtype  \n",
      "---  ------      --------------   -----  \n",
      " 0   user_id     440317 non-null  object \n",
      " 1   event_dt    440317 non-null  object \n",
      " 2   event_name  440317 non-null  object \n",
      " 3   details     62740 non-null   float64\n",
      "dtypes: float64(1), object(3)\n",
      "memory usage: 13.4+ MB\n"
     ]
    },
    {
     "data": {
      "text/html": [
       "<div>\n",
       "<style scoped>\n",
       "    .dataframe tbody tr th:only-of-type {\n",
       "        vertical-align: middle;\n",
       "    }\n",
       "\n",
       "    .dataframe tbody tr th {\n",
       "        vertical-align: top;\n",
       "    }\n",
       "\n",
       "    .dataframe thead th {\n",
       "        text-align: right;\n",
       "    }\n",
       "</style>\n",
       "<table border=\"1\" class=\"dataframe\">\n",
       "  <thead>\n",
       "    <tr style=\"text-align: right;\">\n",
       "      <th></th>\n",
       "      <th>details</th>\n",
       "    </tr>\n",
       "  </thead>\n",
       "  <tbody>\n",
       "    <tr>\n",
       "      <th>count</th>\n",
       "      <td>62740.000000</td>\n",
       "    </tr>\n",
       "    <tr>\n",
       "      <th>mean</th>\n",
       "      <td>23.877631</td>\n",
       "    </tr>\n",
       "    <tr>\n",
       "      <th>std</th>\n",
       "      <td>72.180465</td>\n",
       "    </tr>\n",
       "    <tr>\n",
       "      <th>min</th>\n",
       "      <td>4.990000</td>\n",
       "    </tr>\n",
       "    <tr>\n",
       "      <th>25%</th>\n",
       "      <td>4.990000</td>\n",
       "    </tr>\n",
       "    <tr>\n",
       "      <th>50%</th>\n",
       "      <td>4.990000</td>\n",
       "    </tr>\n",
       "    <tr>\n",
       "      <th>75%</th>\n",
       "      <td>9.990000</td>\n",
       "    </tr>\n",
       "    <tr>\n",
       "      <th>max</th>\n",
       "      <td>499.990000</td>\n",
       "    </tr>\n",
       "  </tbody>\n",
       "</table>\n",
       "</div>"
      ],
      "text/plain": [
       "            details\n",
       "count  62740.000000\n",
       "mean      23.877631\n",
       "std       72.180465\n",
       "min        4.990000\n",
       "25%        4.990000\n",
       "50%        4.990000\n",
       "75%        9.990000\n",
       "max      499.990000"
      ]
     },
     "metadata": {},
     "output_type": "display_data"
    },
    {
     "name": "stdout",
     "output_type": "stream",
     "text": [
      "Пропущенных значений: \n",
      "user_id            0\n",
      "event_dt           0\n",
      "event_name         0\n",
      "details       377577\n",
      "dtype: int64\n",
      "Явных дубликатов: 0\n"
     ]
    },
    {
     "data": {
      "text/html": [
       "<div>\n",
       "<style scoped>\n",
       "    .dataframe tbody tr th:only-of-type {\n",
       "        vertical-align: middle;\n",
       "    }\n",
       "\n",
       "    .dataframe tbody tr th {\n",
       "        vertical-align: top;\n",
       "    }\n",
       "\n",
       "    .dataframe thead th {\n",
       "        text-align: right;\n",
       "    }\n",
       "</style>\n",
       "<table border=\"1\" class=\"dataframe\">\n",
       "  <thead>\n",
       "    <tr style=\"text-align: right;\">\n",
       "      <th></th>\n",
       "      <th>user_id</th>\n",
       "      <th>event_dt</th>\n",
       "      <th>event_name</th>\n",
       "      <th>details</th>\n",
       "    </tr>\n",
       "  </thead>\n",
       "  <tbody>\n",
       "    <tr>\n",
       "      <th>0</th>\n",
       "      <td>E1BDDCE0DAFA2679</td>\n",
       "      <td>2020-12-07 20:22:03</td>\n",
       "      <td>purchase</td>\n",
       "      <td>99.99</td>\n",
       "    </tr>\n",
       "    <tr>\n",
       "      <th>1</th>\n",
       "      <td>7B6452F081F49504</td>\n",
       "      <td>2020-12-07 09:22:53</td>\n",
       "      <td>purchase</td>\n",
       "      <td>9.99</td>\n",
       "    </tr>\n",
       "    <tr>\n",
       "      <th>2</th>\n",
       "      <td>9CD9F34546DF254C</td>\n",
       "      <td>2020-12-07 12:59:29</td>\n",
       "      <td>purchase</td>\n",
       "      <td>4.99</td>\n",
       "    </tr>\n",
       "    <tr>\n",
       "      <th>3</th>\n",
       "      <td>96F27A054B191457</td>\n",
       "      <td>2020-12-07 04:02:40</td>\n",
       "      <td>purchase</td>\n",
       "      <td>4.99</td>\n",
       "    </tr>\n",
       "    <tr>\n",
       "      <th>4</th>\n",
       "      <td>1FD7660FDF94CA1F</td>\n",
       "      <td>2020-12-07 10:15:09</td>\n",
       "      <td>purchase</td>\n",
       "      <td>4.99</td>\n",
       "    </tr>\n",
       "    <tr>\n",
       "      <th>5</th>\n",
       "      <td>831887FE7F2D6CBA</td>\n",
       "      <td>2020-12-07 06:50:29</td>\n",
       "      <td>purchase</td>\n",
       "      <td>4.99</td>\n",
       "    </tr>\n",
       "    <tr>\n",
       "      <th>6</th>\n",
       "      <td>6B2F726BFD5F8220</td>\n",
       "      <td>2020-12-07 11:27:42</td>\n",
       "      <td>purchase</td>\n",
       "      <td>4.99</td>\n",
       "    </tr>\n",
       "    <tr>\n",
       "      <th>7</th>\n",
       "      <td>BEB37715AACF53B0</td>\n",
       "      <td>2020-12-07 04:26:15</td>\n",
       "      <td>purchase</td>\n",
       "      <td>4.99</td>\n",
       "    </tr>\n",
       "    <tr>\n",
       "      <th>8</th>\n",
       "      <td>B5FA27F582227197</td>\n",
       "      <td>2020-12-07 01:46:37</td>\n",
       "      <td>purchase</td>\n",
       "      <td>4.99</td>\n",
       "    </tr>\n",
       "    <tr>\n",
       "      <th>9</th>\n",
       "      <td>A92195E3CFB83DBD</td>\n",
       "      <td>2020-12-07 00:32:07</td>\n",
       "      <td>purchase</td>\n",
       "      <td>4.99</td>\n",
       "    </tr>\n",
       "  </tbody>\n",
       "</table>\n",
       "</div>"
      ],
      "text/plain": [
       "            user_id             event_dt event_name  details\n",
       "0  E1BDDCE0DAFA2679  2020-12-07 20:22:03   purchase    99.99\n",
       "1  7B6452F081F49504  2020-12-07 09:22:53   purchase     9.99\n",
       "2  9CD9F34546DF254C  2020-12-07 12:59:29   purchase     4.99\n",
       "3  96F27A054B191457  2020-12-07 04:02:40   purchase     4.99\n",
       "4  1FD7660FDF94CA1F  2020-12-07 10:15:09   purchase     4.99\n",
       "5  831887FE7F2D6CBA  2020-12-07 06:50:29   purchase     4.99\n",
       "6  6B2F726BFD5F8220  2020-12-07 11:27:42   purchase     4.99\n",
       "7  BEB37715AACF53B0  2020-12-07 04:26:15   purchase     4.99\n",
       "8  B5FA27F582227197  2020-12-07 01:46:37   purchase     4.99\n",
       "9  A92195E3CFB83DBD  2020-12-07 00:32:07   purchase     4.99"
      ]
     },
     "metadata": {},
     "output_type": "display_data"
    }
   ],
   "source": [
    "preprocessing(events)"
   ]
  },
  {
   "cell_type": "code",
   "execution_count": 6,
   "metadata": {},
   "outputs": [
    {
     "data": {
      "text/plain": [
       "array(['purchase', 'product_cart', 'product_page', 'login'], dtype=object)"
      ]
     },
     "execution_count": 6,
     "metadata": {},
     "output_type": "execute_result"
    }
   ],
   "source": [
    "events['event_name'].unique()\n",
    "#выведем уникальные значения категориального столбца, чтобы избежать неявных дубликатов"
   ]
  },
  {
   "cell_type": "code",
   "execution_count": 7,
   "metadata": {},
   "outputs": [],
   "source": [
    "# превратим столбец с датой и временем просто в дату, так как время не пригодится для исследования\n",
    "events['event_dt'] = pd.to_datetime(events['event_dt']).dt.date\n",
    "events['event_dt'] = pd.to_datetime(events['event_dt'])"
   ]
  },
  {
   "cell_type": "markdown",
   "metadata": {},
   "source": [
    "Есть 377577 пропусков в столбце details. Это вспомогательные данные, в которых содердится дополнительная информация к событиям (например, к событию purchase это сумма покупки в долларах), следовательно, наличие или отсутствие информации в этом столбце не повлияет на интерпретацию результатов А/В теста. Пропуски можно оставить без изменений. "
   ]
  },
  {
   "cell_type": "code",
   "execution_count": 8,
   "metadata": {},
   "outputs": [
    {
     "name": "stdout",
     "output_type": "stream",
     "text": [
      "<class 'pandas.core.frame.DataFrame'>\n",
      "RangeIndex: 14 entries, 0 to 13\n",
      "Data columns (total 4 columns):\n",
      " #   Column     Non-Null Count  Dtype \n",
      "---  ------     --------------  ----- \n",
      " 0   name       14 non-null     object\n",
      " 1   regions    14 non-null     object\n",
      " 2   start_dt   14 non-null     object\n",
      " 3   finish_dt  14 non-null     object\n",
      "dtypes: object(4)\n",
      "memory usage: 576.0+ bytes\n"
     ]
    },
    {
     "data": {
      "text/html": [
       "<div>\n",
       "<style scoped>\n",
       "    .dataframe tbody tr th:only-of-type {\n",
       "        vertical-align: middle;\n",
       "    }\n",
       "\n",
       "    .dataframe tbody tr th {\n",
       "        vertical-align: top;\n",
       "    }\n",
       "\n",
       "    .dataframe thead th {\n",
       "        text-align: right;\n",
       "    }\n",
       "</style>\n",
       "<table border=\"1\" class=\"dataframe\">\n",
       "  <thead>\n",
       "    <tr style=\"text-align: right;\">\n",
       "      <th></th>\n",
       "      <th>name</th>\n",
       "      <th>regions</th>\n",
       "      <th>start_dt</th>\n",
       "      <th>finish_dt</th>\n",
       "    </tr>\n",
       "  </thead>\n",
       "  <tbody>\n",
       "    <tr>\n",
       "      <th>count</th>\n",
       "      <td>14</td>\n",
       "      <td>14</td>\n",
       "      <td>14</td>\n",
       "      <td>14</td>\n",
       "    </tr>\n",
       "    <tr>\n",
       "      <th>unique</th>\n",
       "      <td>14</td>\n",
       "      <td>6</td>\n",
       "      <td>14</td>\n",
       "      <td>14</td>\n",
       "    </tr>\n",
       "    <tr>\n",
       "      <th>top</th>\n",
       "      <td>Labor day (May 1st) Ads Campaign</td>\n",
       "      <td>APAC</td>\n",
       "      <td>2020-03-17</td>\n",
       "      <td>2020-07-01</td>\n",
       "    </tr>\n",
       "    <tr>\n",
       "      <th>freq</th>\n",
       "      <td>1</td>\n",
       "      <td>4</td>\n",
       "      <td>1</td>\n",
       "      <td>1</td>\n",
       "    </tr>\n",
       "  </tbody>\n",
       "</table>\n",
       "</div>"
      ],
      "text/plain": [
       "                                    name regions    start_dt   finish_dt\n",
       "count                                 14      14          14          14\n",
       "unique                                14       6          14          14\n",
       "top     Labor day (May 1st) Ads Campaign    APAC  2020-03-17  2020-07-01\n",
       "freq                                   1       4           1           1"
      ]
     },
     "metadata": {},
     "output_type": "display_data"
    },
    {
     "name": "stdout",
     "output_type": "stream",
     "text": [
      "Пропущенных значений: \n",
      "name         0\n",
      "regions      0\n",
      "start_dt     0\n",
      "finish_dt    0\n",
      "dtype: int64\n",
      "Явных дубликатов: 0\n"
     ]
    },
    {
     "data": {
      "text/html": [
       "<div>\n",
       "<style scoped>\n",
       "    .dataframe tbody tr th:only-of-type {\n",
       "        vertical-align: middle;\n",
       "    }\n",
       "\n",
       "    .dataframe tbody tr th {\n",
       "        vertical-align: top;\n",
       "    }\n",
       "\n",
       "    .dataframe thead th {\n",
       "        text-align: right;\n",
       "    }\n",
       "</style>\n",
       "<table border=\"1\" class=\"dataframe\">\n",
       "  <thead>\n",
       "    <tr style=\"text-align: right;\">\n",
       "      <th></th>\n",
       "      <th>name</th>\n",
       "      <th>regions</th>\n",
       "      <th>start_dt</th>\n",
       "      <th>finish_dt</th>\n",
       "    </tr>\n",
       "  </thead>\n",
       "  <tbody>\n",
       "    <tr>\n",
       "      <th>0</th>\n",
       "      <td>Christmas&amp;New Year Promo</td>\n",
       "      <td>EU, N.America</td>\n",
       "      <td>2020-12-25</td>\n",
       "      <td>2021-01-03</td>\n",
       "    </tr>\n",
       "    <tr>\n",
       "      <th>1</th>\n",
       "      <td>St. Valentine's Day Giveaway</td>\n",
       "      <td>EU, CIS, APAC, N.America</td>\n",
       "      <td>2020-02-14</td>\n",
       "      <td>2020-02-16</td>\n",
       "    </tr>\n",
       "    <tr>\n",
       "      <th>2</th>\n",
       "      <td>St. Patric's Day Promo</td>\n",
       "      <td>EU, N.America</td>\n",
       "      <td>2020-03-17</td>\n",
       "      <td>2020-03-19</td>\n",
       "    </tr>\n",
       "    <tr>\n",
       "      <th>3</th>\n",
       "      <td>Easter Promo</td>\n",
       "      <td>EU, CIS, APAC, N.America</td>\n",
       "      <td>2020-04-12</td>\n",
       "      <td>2020-04-19</td>\n",
       "    </tr>\n",
       "    <tr>\n",
       "      <th>4</th>\n",
       "      <td>4th of July Promo</td>\n",
       "      <td>N.America</td>\n",
       "      <td>2020-07-04</td>\n",
       "      <td>2020-07-11</td>\n",
       "    </tr>\n",
       "    <tr>\n",
       "      <th>5</th>\n",
       "      <td>Black Friday Ads Campaign</td>\n",
       "      <td>EU, CIS, APAC, N.America</td>\n",
       "      <td>2020-11-26</td>\n",
       "      <td>2020-12-01</td>\n",
       "    </tr>\n",
       "    <tr>\n",
       "      <th>6</th>\n",
       "      <td>Chinese New Year Promo</td>\n",
       "      <td>APAC</td>\n",
       "      <td>2020-01-25</td>\n",
       "      <td>2020-02-07</td>\n",
       "    </tr>\n",
       "    <tr>\n",
       "      <th>7</th>\n",
       "      <td>Labor day (May 1st) Ads Campaign</td>\n",
       "      <td>EU, CIS, APAC</td>\n",
       "      <td>2020-05-01</td>\n",
       "      <td>2020-05-03</td>\n",
       "    </tr>\n",
       "    <tr>\n",
       "      <th>8</th>\n",
       "      <td>International Women's Day Promo</td>\n",
       "      <td>EU, CIS, APAC</td>\n",
       "      <td>2020-03-08</td>\n",
       "      <td>2020-03-10</td>\n",
       "    </tr>\n",
       "    <tr>\n",
       "      <th>9</th>\n",
       "      <td>Victory Day CIS (May 9th) Event</td>\n",
       "      <td>CIS</td>\n",
       "      <td>2020-05-09</td>\n",
       "      <td>2020-05-11</td>\n",
       "    </tr>\n",
       "  </tbody>\n",
       "</table>\n",
       "</div>"
      ],
      "text/plain": [
       "                               name                   regions    start_dt  \\\n",
       "0          Christmas&New Year Promo             EU, N.America  2020-12-25   \n",
       "1      St. Valentine's Day Giveaway  EU, CIS, APAC, N.America  2020-02-14   \n",
       "2            St. Patric's Day Promo             EU, N.America  2020-03-17   \n",
       "3                      Easter Promo  EU, CIS, APAC, N.America  2020-04-12   \n",
       "4                 4th of July Promo                 N.America  2020-07-04   \n",
       "5         Black Friday Ads Campaign  EU, CIS, APAC, N.America  2020-11-26   \n",
       "6            Chinese New Year Promo                      APAC  2020-01-25   \n",
       "7  Labor day (May 1st) Ads Campaign             EU, CIS, APAC  2020-05-01   \n",
       "8   International Women's Day Promo             EU, CIS, APAC  2020-03-08   \n",
       "9   Victory Day CIS (May 9th) Event                       CIS  2020-05-09   \n",
       "\n",
       "    finish_dt  \n",
       "0  2021-01-03  \n",
       "1  2020-02-16  \n",
       "2  2020-03-19  \n",
       "3  2020-04-19  \n",
       "4  2020-07-11  \n",
       "5  2020-12-01  \n",
       "6  2020-02-07  \n",
       "7  2020-05-03  \n",
       "8  2020-03-10  \n",
       "9  2020-05-11  "
      ]
     },
     "metadata": {},
     "output_type": "display_data"
    }
   ],
   "source": [
    "preprocessing(marketing_events)"
   ]
  },
  {
   "cell_type": "code",
   "execution_count": 9,
   "metadata": {},
   "outputs": [],
   "source": [
    "# приведем даты к нужному формату\n",
    "marketing_events['start_dt'] = pd.to_datetime(marketing_events['start_dt'])\n",
    "marketing_events['finish_dt'] = pd.to_datetime(marketing_events['finish_dt'])"
   ]
  },
  {
   "cell_type": "code",
   "execution_count": 10,
   "metadata": {},
   "outputs": [
    {
     "name": "stdout",
     "output_type": "stream",
     "text": [
      "<class 'pandas.core.frame.DataFrame'>\n",
      "RangeIndex: 61733 entries, 0 to 61732\n",
      "Data columns (total 4 columns):\n",
      " #   Column      Non-Null Count  Dtype \n",
      "---  ------      --------------  ----- \n",
      " 0   user_id     61733 non-null  object\n",
      " 1   first_date  61733 non-null  object\n",
      " 2   region      61733 non-null  object\n",
      " 3   device      61733 non-null  object\n",
      "dtypes: object(4)\n",
      "memory usage: 1.9+ MB\n"
     ]
    },
    {
     "data": {
      "text/html": [
       "<div>\n",
       "<style scoped>\n",
       "    .dataframe tbody tr th:only-of-type {\n",
       "        vertical-align: middle;\n",
       "    }\n",
       "\n",
       "    .dataframe tbody tr th {\n",
       "        vertical-align: top;\n",
       "    }\n",
       "\n",
       "    .dataframe thead th {\n",
       "        text-align: right;\n",
       "    }\n",
       "</style>\n",
       "<table border=\"1\" class=\"dataframe\">\n",
       "  <thead>\n",
       "    <tr style=\"text-align: right;\">\n",
       "      <th></th>\n",
       "      <th>user_id</th>\n",
       "      <th>first_date</th>\n",
       "      <th>region</th>\n",
       "      <th>device</th>\n",
       "    </tr>\n",
       "  </thead>\n",
       "  <tbody>\n",
       "    <tr>\n",
       "      <th>count</th>\n",
       "      <td>61733</td>\n",
       "      <td>61733</td>\n",
       "      <td>61733</td>\n",
       "      <td>61733</td>\n",
       "    </tr>\n",
       "    <tr>\n",
       "      <th>unique</th>\n",
       "      <td>61733</td>\n",
       "      <td>17</td>\n",
       "      <td>4</td>\n",
       "      <td>4</td>\n",
       "    </tr>\n",
       "    <tr>\n",
       "      <th>top</th>\n",
       "      <td>481A0E44E12AF38C</td>\n",
       "      <td>2020-12-21</td>\n",
       "      <td>EU</td>\n",
       "      <td>Android</td>\n",
       "    </tr>\n",
       "    <tr>\n",
       "      <th>freq</th>\n",
       "      <td>1</td>\n",
       "      <td>6290</td>\n",
       "      <td>46270</td>\n",
       "      <td>27520</td>\n",
       "    </tr>\n",
       "  </tbody>\n",
       "</table>\n",
       "</div>"
      ],
      "text/plain": [
       "                 user_id  first_date region   device\n",
       "count              61733       61733  61733    61733\n",
       "unique             61733          17      4        4\n",
       "top     481A0E44E12AF38C  2020-12-21     EU  Android\n",
       "freq                   1        6290  46270    27520"
      ]
     },
     "metadata": {},
     "output_type": "display_data"
    },
    {
     "name": "stdout",
     "output_type": "stream",
     "text": [
      "Пропущенных значений: \n",
      "user_id       0\n",
      "first_date    0\n",
      "region        0\n",
      "device        0\n",
      "dtype: int64\n",
      "Явных дубликатов: 0\n"
     ]
    },
    {
     "data": {
      "text/html": [
       "<div>\n",
       "<style scoped>\n",
       "    .dataframe tbody tr th:only-of-type {\n",
       "        vertical-align: middle;\n",
       "    }\n",
       "\n",
       "    .dataframe tbody tr th {\n",
       "        vertical-align: top;\n",
       "    }\n",
       "\n",
       "    .dataframe thead th {\n",
       "        text-align: right;\n",
       "    }\n",
       "</style>\n",
       "<table border=\"1\" class=\"dataframe\">\n",
       "  <thead>\n",
       "    <tr style=\"text-align: right;\">\n",
       "      <th></th>\n",
       "      <th>user_id</th>\n",
       "      <th>first_date</th>\n",
       "      <th>region</th>\n",
       "      <th>device</th>\n",
       "    </tr>\n",
       "  </thead>\n",
       "  <tbody>\n",
       "    <tr>\n",
       "      <th>0</th>\n",
       "      <td>D72A72121175D8BE</td>\n",
       "      <td>2020-12-07</td>\n",
       "      <td>EU</td>\n",
       "      <td>PC</td>\n",
       "    </tr>\n",
       "    <tr>\n",
       "      <th>1</th>\n",
       "      <td>F1C668619DFE6E65</td>\n",
       "      <td>2020-12-07</td>\n",
       "      <td>N.America</td>\n",
       "      <td>Android</td>\n",
       "    </tr>\n",
       "    <tr>\n",
       "      <th>2</th>\n",
       "      <td>2E1BF1D4C37EA01F</td>\n",
       "      <td>2020-12-07</td>\n",
       "      <td>EU</td>\n",
       "      <td>PC</td>\n",
       "    </tr>\n",
       "    <tr>\n",
       "      <th>3</th>\n",
       "      <td>50734A22C0C63768</td>\n",
       "      <td>2020-12-07</td>\n",
       "      <td>EU</td>\n",
       "      <td>iPhone</td>\n",
       "    </tr>\n",
       "    <tr>\n",
       "      <th>4</th>\n",
       "      <td>E1BDDCE0DAFA2679</td>\n",
       "      <td>2020-12-07</td>\n",
       "      <td>N.America</td>\n",
       "      <td>iPhone</td>\n",
       "    </tr>\n",
       "    <tr>\n",
       "      <th>5</th>\n",
       "      <td>137119F5A9E69421</td>\n",
       "      <td>2020-12-07</td>\n",
       "      <td>N.America</td>\n",
       "      <td>iPhone</td>\n",
       "    </tr>\n",
       "    <tr>\n",
       "      <th>6</th>\n",
       "      <td>62F0C741CC42D0CC</td>\n",
       "      <td>2020-12-07</td>\n",
       "      <td>APAC</td>\n",
       "      <td>iPhone</td>\n",
       "    </tr>\n",
       "    <tr>\n",
       "      <th>7</th>\n",
       "      <td>8942E64218C9A1ED</td>\n",
       "      <td>2020-12-07</td>\n",
       "      <td>EU</td>\n",
       "      <td>PC</td>\n",
       "    </tr>\n",
       "    <tr>\n",
       "      <th>8</th>\n",
       "      <td>499AFACF904BBAE3</td>\n",
       "      <td>2020-12-07</td>\n",
       "      <td>N.America</td>\n",
       "      <td>iPhone</td>\n",
       "    </tr>\n",
       "    <tr>\n",
       "      <th>9</th>\n",
       "      <td>FFCEA1179C253104</td>\n",
       "      <td>2020-12-07</td>\n",
       "      <td>EU</td>\n",
       "      <td>Android</td>\n",
       "    </tr>\n",
       "  </tbody>\n",
       "</table>\n",
       "</div>"
      ],
      "text/plain": [
       "            user_id  first_date     region   device\n",
       "0  D72A72121175D8BE  2020-12-07         EU       PC\n",
       "1  F1C668619DFE6E65  2020-12-07  N.America  Android\n",
       "2  2E1BF1D4C37EA01F  2020-12-07         EU       PC\n",
       "3  50734A22C0C63768  2020-12-07         EU   iPhone\n",
       "4  E1BDDCE0DAFA2679  2020-12-07  N.America   iPhone\n",
       "5  137119F5A9E69421  2020-12-07  N.America   iPhone\n",
       "6  62F0C741CC42D0CC  2020-12-07       APAC   iPhone\n",
       "7  8942E64218C9A1ED  2020-12-07         EU       PC\n",
       "8  499AFACF904BBAE3  2020-12-07  N.America   iPhone\n",
       "9  FFCEA1179C253104  2020-12-07         EU  Android"
      ]
     },
     "metadata": {},
     "output_type": "display_data"
    }
   ],
   "source": [
    "preprocessing(new_users)"
   ]
  },
  {
   "cell_type": "code",
   "execution_count": 11,
   "metadata": {},
   "outputs": [
    {
     "data": {
      "text/plain": [
       "array(['EU', 'N.America', 'APAC', 'CIS'], dtype=object)"
      ]
     },
     "execution_count": 11,
     "metadata": {},
     "output_type": "execute_result"
    }
   ],
   "source": [
    "# выведем уникальные значения категориальной переменной, чтобы исключить неявные дубликаты\n",
    "new_users['region'].unique()"
   ]
  },
  {
   "cell_type": "code",
   "execution_count": 12,
   "metadata": {},
   "outputs": [
    {
     "data": {
      "text/plain": [
       "array(['PC', 'Android', 'iPhone', 'Mac'], dtype=object)"
      ]
     },
     "execution_count": 12,
     "metadata": {},
     "output_type": "execute_result"
    }
   ],
   "source": [
    "new_users['device'].unique()"
   ]
  },
  {
   "cell_type": "code",
   "execution_count": 13,
   "metadata": {},
   "outputs": [],
   "source": [
    "new_users['first_date'] = pd.to_datetime(new_users['first_date'])"
   ]
  },
  {
   "cell_type": "code",
   "execution_count": 14,
   "metadata": {},
   "outputs": [
    {
     "name": "stdout",
     "output_type": "stream",
     "text": [
      "<class 'pandas.core.frame.DataFrame'>\n",
      "RangeIndex: 18268 entries, 0 to 18267\n",
      "Data columns (total 3 columns):\n",
      " #   Column   Non-Null Count  Dtype \n",
      "---  ------   --------------  ----- \n",
      " 0   user_id  18268 non-null  object\n",
      " 1   group    18268 non-null  object\n",
      " 2   ab_test  18268 non-null  object\n",
      "dtypes: object(3)\n",
      "memory usage: 428.3+ KB\n"
     ]
    },
    {
     "data": {
      "text/html": [
       "<div>\n",
       "<style scoped>\n",
       "    .dataframe tbody tr th:only-of-type {\n",
       "        vertical-align: middle;\n",
       "    }\n",
       "\n",
       "    .dataframe tbody tr th {\n",
       "        vertical-align: top;\n",
       "    }\n",
       "\n",
       "    .dataframe thead th {\n",
       "        text-align: right;\n",
       "    }\n",
       "</style>\n",
       "<table border=\"1\" class=\"dataframe\">\n",
       "  <thead>\n",
       "    <tr style=\"text-align: right;\">\n",
       "      <th></th>\n",
       "      <th>user_id</th>\n",
       "      <th>group</th>\n",
       "      <th>ab_test</th>\n",
       "    </tr>\n",
       "  </thead>\n",
       "  <tbody>\n",
       "    <tr>\n",
       "      <th>count</th>\n",
       "      <td>18268</td>\n",
       "      <td>18268</td>\n",
       "      <td>18268</td>\n",
       "    </tr>\n",
       "    <tr>\n",
       "      <th>unique</th>\n",
       "      <td>16666</td>\n",
       "      <td>2</td>\n",
       "      <td>2</td>\n",
       "    </tr>\n",
       "    <tr>\n",
       "      <th>top</th>\n",
       "      <td>5191CB5D9AEFBC6F</td>\n",
       "      <td>A</td>\n",
       "      <td>interface_eu_test</td>\n",
       "    </tr>\n",
       "    <tr>\n",
       "      <th>freq</th>\n",
       "      <td>2</td>\n",
       "      <td>9655</td>\n",
       "      <td>11567</td>\n",
       "    </tr>\n",
       "  </tbody>\n",
       "</table>\n",
       "</div>"
      ],
      "text/plain": [
       "                 user_id  group            ab_test\n",
       "count              18268  18268              18268\n",
       "unique             16666      2                  2\n",
       "top     5191CB5D9AEFBC6F      A  interface_eu_test\n",
       "freq                   2   9655              11567"
      ]
     },
     "metadata": {},
     "output_type": "display_data"
    },
    {
     "name": "stdout",
     "output_type": "stream",
     "text": [
      "Пропущенных значений: \n",
      "user_id    0\n",
      "group      0\n",
      "ab_test    0\n",
      "dtype: int64\n",
      "Явных дубликатов: 0\n"
     ]
    },
    {
     "data": {
      "text/html": [
       "<div>\n",
       "<style scoped>\n",
       "    .dataframe tbody tr th:only-of-type {\n",
       "        vertical-align: middle;\n",
       "    }\n",
       "\n",
       "    .dataframe tbody tr th {\n",
       "        vertical-align: top;\n",
       "    }\n",
       "\n",
       "    .dataframe thead th {\n",
       "        text-align: right;\n",
       "    }\n",
       "</style>\n",
       "<table border=\"1\" class=\"dataframe\">\n",
       "  <thead>\n",
       "    <tr style=\"text-align: right;\">\n",
       "      <th></th>\n",
       "      <th>user_id</th>\n",
       "      <th>group</th>\n",
       "      <th>ab_test</th>\n",
       "    </tr>\n",
       "  </thead>\n",
       "  <tbody>\n",
       "    <tr>\n",
       "      <th>0</th>\n",
       "      <td>D1ABA3E2887B6A73</td>\n",
       "      <td>A</td>\n",
       "      <td>recommender_system_test</td>\n",
       "    </tr>\n",
       "    <tr>\n",
       "      <th>1</th>\n",
       "      <td>A7A3664BD6242119</td>\n",
       "      <td>A</td>\n",
       "      <td>recommender_system_test</td>\n",
       "    </tr>\n",
       "    <tr>\n",
       "      <th>2</th>\n",
       "      <td>DABC14FDDFADD29E</td>\n",
       "      <td>A</td>\n",
       "      <td>recommender_system_test</td>\n",
       "    </tr>\n",
       "    <tr>\n",
       "      <th>3</th>\n",
       "      <td>04988C5DF189632E</td>\n",
       "      <td>A</td>\n",
       "      <td>recommender_system_test</td>\n",
       "    </tr>\n",
       "    <tr>\n",
       "      <th>4</th>\n",
       "      <td>482F14783456D21B</td>\n",
       "      <td>B</td>\n",
       "      <td>recommender_system_test</td>\n",
       "    </tr>\n",
       "    <tr>\n",
       "      <th>5</th>\n",
       "      <td>4FF2998A348C484F</td>\n",
       "      <td>A</td>\n",
       "      <td>recommender_system_test</td>\n",
       "    </tr>\n",
       "    <tr>\n",
       "      <th>6</th>\n",
       "      <td>7473E0943673C09E</td>\n",
       "      <td>A</td>\n",
       "      <td>recommender_system_test</td>\n",
       "    </tr>\n",
       "    <tr>\n",
       "      <th>7</th>\n",
       "      <td>C46FE336D240A054</td>\n",
       "      <td>A</td>\n",
       "      <td>recommender_system_test</td>\n",
       "    </tr>\n",
       "    <tr>\n",
       "      <th>8</th>\n",
       "      <td>92CB588012C10D3D</td>\n",
       "      <td>A</td>\n",
       "      <td>recommender_system_test</td>\n",
       "    </tr>\n",
       "    <tr>\n",
       "      <th>9</th>\n",
       "      <td>057AB296296C7FC0</td>\n",
       "      <td>B</td>\n",
       "      <td>recommender_system_test</td>\n",
       "    </tr>\n",
       "  </tbody>\n",
       "</table>\n",
       "</div>"
      ],
      "text/plain": [
       "            user_id group                  ab_test\n",
       "0  D1ABA3E2887B6A73     A  recommender_system_test\n",
       "1  A7A3664BD6242119     A  recommender_system_test\n",
       "2  DABC14FDDFADD29E     A  recommender_system_test\n",
       "3  04988C5DF189632E     A  recommender_system_test\n",
       "4  482F14783456D21B     B  recommender_system_test\n",
       "5  4FF2998A348C484F     A  recommender_system_test\n",
       "6  7473E0943673C09E     A  recommender_system_test\n",
       "7  C46FE336D240A054     A  recommender_system_test\n",
       "8  92CB588012C10D3D     A  recommender_system_test\n",
       "9  057AB296296C7FC0     B  recommender_system_test"
      ]
     },
     "metadata": {},
     "output_type": "display_data"
    }
   ],
   "source": [
    "preprocessing(participants)"
   ]
  },
  {
   "cell_type": "code",
   "execution_count": 15,
   "metadata": {},
   "outputs": [
    {
     "data": {
      "text/plain": [
       "array(['recommender_system_test', 'interface_eu_test'], dtype=object)"
      ]
     },
     "execution_count": 15,
     "metadata": {},
     "output_type": "execute_result"
    }
   ],
   "source": [
    "# выведем уникальные значения категориальной переменной, чтобы исключить неявные дубликаты\n",
    "participants['ab_test'].unique()"
   ]
  },
  {
   "cell_type": "markdown",
   "metadata": {},
   "source": [
    "Данные при первом знакомстве считываются корректно, дубликатов не выявлено, пропуски обнаружены только в деталях событий, не повлияют на ход исследования. Скорректированы типы данных."
   ]
  },
  {
   "cell_type": "markdown",
   "metadata": {},
   "source": [
    "### Проверка соответствия данных требованиям технического задания\n"
   ]
  },
  {
   "cell_type": "markdown",
   "metadata": {},
   "source": [
    "1) Название теста - recommender_system_test, группы: А — контрольная, B — новая платёжная воронка, назначение теста: тестирование изменений, связанных с внедрением улучшенной рекомендательной системы"
   ]
  },
  {
   "cell_type": "code",
   "execution_count": 16,
   "metadata": {},
   "outputs": [
    {
     "data": {
      "text/html": [
       "<div>\n",
       "<style scoped>\n",
       "    .dataframe tbody tr th:only-of-type {\n",
       "        vertical-align: middle;\n",
       "    }\n",
       "\n",
       "    .dataframe tbody tr th {\n",
       "        vertical-align: top;\n",
       "    }\n",
       "\n",
       "    .dataframe thead th {\n",
       "        text-align: right;\n",
       "    }\n",
       "</style>\n",
       "<table border=\"1\" class=\"dataframe\">\n",
       "  <thead>\n",
       "    <tr style=\"text-align: right;\">\n",
       "      <th></th>\n",
       "      <th></th>\n",
       "      <th>user_id</th>\n",
       "    </tr>\n",
       "    <tr>\n",
       "      <th>ab_test</th>\n",
       "      <th>group</th>\n",
       "      <th></th>\n",
       "    </tr>\n",
       "  </thead>\n",
       "  <tbody>\n",
       "    <tr>\n",
       "      <th rowspan=\"2\" valign=\"top\">interface_eu_test</th>\n",
       "      <th>A</th>\n",
       "      <td>5831</td>\n",
       "    </tr>\n",
       "    <tr>\n",
       "      <th>B</th>\n",
       "      <td>5736</td>\n",
       "    </tr>\n",
       "    <tr>\n",
       "      <th rowspan=\"2\" valign=\"top\">recommender_system_test</th>\n",
       "      <th>A</th>\n",
       "      <td>3824</td>\n",
       "    </tr>\n",
       "    <tr>\n",
       "      <th>B</th>\n",
       "      <td>2877</td>\n",
       "    </tr>\n",
       "  </tbody>\n",
       "</table>\n",
       "</div>"
      ],
      "text/plain": [
       "                               user_id\n",
       "ab_test                 group         \n",
       "interface_eu_test       A         5831\n",
       "                        B         5736\n",
       "recommender_system_test A         3824\n",
       "                        B         2877"
      ]
     },
     "execution_count": 16,
     "metadata": {},
     "output_type": "execute_result"
    }
   ],
   "source": [
    "participants.groupby(['ab_test', 'group']).agg({'user_id':'count'})"
   ]
  },
  {
   "cell_type": "code",
   "execution_count": 17,
   "metadata": {},
   "outputs": [],
   "source": [
    "participants_recommender = participants.query('ab_test == \"recommender_system_test\"')"
   ]
  },
  {
   "cell_type": "markdown",
   "metadata": {},
   "source": [
    "Как видно на сводной таблице, вместе с нашим А/В тестом изменений, связанных с внедрением улучшенной рекомендательной системы проводили еще один, более масштабный - \"interface_eu_test\". Необходимо уделить внимание при подготовке результатов на то, чтобы пересечение пользователей в этих двух тестах не повлияло на результат эксперимента.\n",
    "\n",
    "2) Корректность времени проведения теста:\n",
    "- дата запуска: 2020-12-07;\n",
    "- дата остановки набора новых пользователей: 2020-12-21;\n",
    "- дата остановки: 2021-01-04;"
   ]
  },
  {
   "cell_type": "code",
   "execution_count": 18,
   "metadata": {},
   "outputs": [],
   "source": [
    "users_ab = participants_recommender.merge(new_users, on='user_id', how='left')"
   ]
  },
  {
   "cell_type": "code",
   "execution_count": 19,
   "metadata": {},
   "outputs": [
    {
     "name": "stdout",
     "output_type": "stream",
     "text": [
      "Дата запуска теста: 2020-12-07 00:00:00\n",
      "Дата остановки набора новых пользователей: 2020-12-21 00:00:00\n",
      "Последние события в датасете: 2020-12-30 00:00:00\n"
     ]
    }
   ],
   "source": [
    "print('Дата запуска теста: {}\\n'\n",
    "      'Дата остановки набора новых пользователей: {}\\n'\n",
    "      'Последние события в датасете: {}'.format(users_ab['first_date'].min(),\n",
    "                                                users_ab['first_date'].max(),\n",
    "                                               events['event_dt'].max())\n",
    "     )"
   ]
  },
  {
   "cell_type": "markdown",
   "metadata": {},
   "source": [
    "Даты запуска теста и остановки набора новых пользователей соответствуют тз. Остановка теста произведена раньше обоначенного срока на 5 дней, это может сильно повлиять на интерпретацию результатов эксперимента, поскольку не достигнут размер выборки, который сделает результаты статистически значимыми.\n",
    "\n",
    "3) Аудитория: в тест должно быть отобрано 15% новых пользователей из региона EU; ожидаемое количество участников теста: 6000."
   ]
  },
  {
   "cell_type": "code",
   "execution_count": 20,
   "metadata": {},
   "outputs": [
    {
     "name": "stdout",
     "output_type": "stream",
     "text": [
      "Новых пользователей из EU: 42340\n",
      "Всего пользователей из EU в тесте recommender_system_test: 6351\n",
      "Доля новых пользователей из EU, отобранных в тест: 15.0%\n",
      "Количество участников теста: 6701\n"
     ]
    }
   ],
   "source": [
    "test_users_id = new_users.query('region == \"EU\" and first_date<= \"2020-12-21\"')['user_id']\n",
    "m = participants_recommender.query('user_id in @test_users_id')['user_id']\n",
    "print('Новых пользователей из EU: {}\\n'\n",
    "      'Всего пользователей из EU в тесте recommender_system_test: {}\\n'\n",
    "    'Доля новых пользователей из EU, отобранных в тест: {}%\\n'\n",
    "     'Количество участников теста: {}'.format(test_users_id.nunique(),\n",
    "                                             m.nunique(),\n",
    "                                             round(m.nunique()/test_users_id.nunique()*100,2),\n",
    "                                             participants_recommender['user_id'].nunique()))"
   ]
  },
  {
   "cell_type": "markdown",
   "metadata": {},
   "source": [
    "Предоставленные данные соответствуют ТЗ, 15% новых пользователей из Европы за выбранный период, всего участников теста 6701 человек."
   ]
  },
  {
   "cell_type": "markdown",
   "metadata": {},
   "source": [
    "### Проверка корректности времени проведения теста"
   ]
  },
  {
   "cell_type": "markdown",
   "metadata": {},
   "source": [
    "Далее необходимо проверить, не совпадает ли время проведения эксперимента с маркетинговыми или другими активностями. Для этого исследуем таблицу marketing_events."
   ]
  },
  {
   "cell_type": "code",
   "execution_count": 21,
   "metadata": {},
   "outputs": [
    {
     "data": {
      "text/html": [
       "<div>\n",
       "<style scoped>\n",
       "    .dataframe tbody tr th:only-of-type {\n",
       "        vertical-align: middle;\n",
       "    }\n",
       "\n",
       "    .dataframe tbody tr th {\n",
       "        vertical-align: top;\n",
       "    }\n",
       "\n",
       "    .dataframe thead th {\n",
       "        text-align: right;\n",
       "    }\n",
       "</style>\n",
       "<table border=\"1\" class=\"dataframe\">\n",
       "  <thead>\n",
       "    <tr style=\"text-align: right;\">\n",
       "      <th></th>\n",
       "      <th>name</th>\n",
       "      <th>regions</th>\n",
       "      <th>start_dt</th>\n",
       "      <th>finish_dt</th>\n",
       "    </tr>\n",
       "  </thead>\n",
       "  <tbody>\n",
       "    <tr>\n",
       "      <th>0</th>\n",
       "      <td>Christmas&amp;New Year Promo</td>\n",
       "      <td>EU, N.America</td>\n",
       "      <td>2020-12-25</td>\n",
       "      <td>2021-01-03</td>\n",
       "    </tr>\n",
       "    <tr>\n",
       "      <th>10</th>\n",
       "      <td>CIS New Year Gift Lottery</td>\n",
       "      <td>CIS</td>\n",
       "      <td>2020-12-30</td>\n",
       "      <td>2021-01-07</td>\n",
       "    </tr>\n",
       "  </tbody>\n",
       "</table>\n",
       "</div>"
      ],
      "text/plain": [
       "                         name        regions   start_dt  finish_dt\n",
       "0    Christmas&New Year Promo  EU, N.America 2020-12-25 2021-01-03\n",
       "10  CIS New Year Gift Lottery            CIS 2020-12-30 2021-01-07"
      ]
     },
     "execution_count": 21,
     "metadata": {},
     "output_type": "execute_result"
    }
   ],
   "source": [
    "marketing_events[(marketing_events['start_dt'] >= '2020-12-07') & (marketing_events['start_dt'] <= '2020-12-30')]"
   ]
  },
  {
   "cell_type": "markdown",
   "metadata": {},
   "source": [
    "Во время проведения теста в регионе EU проводилась промоакция \"Cristmas@New Year Promo\" - это является нарушением проведения теста, так как любые промоакции влияют на поведение клиента, соответственно, искажают результаты эксперимента."
   ]
  },
  {
   "cell_type": "markdown",
   "metadata": {},
   "source": [
    "### Проверка аудитории теста"
   ]
  },
  {
   "cell_type": "markdown",
   "metadata": {},
   "source": [
    "Для начала проверим географическую принадлежность участников теста:"
   ]
  },
  {
   "cell_type": "code",
   "execution_count": 22,
   "metadata": {},
   "outputs": [
    {
     "data": {
      "text/html": [
       "<div>\n",
       "<style scoped>\n",
       "    .dataframe tbody tr th:only-of-type {\n",
       "        vertical-align: middle;\n",
       "    }\n",
       "\n",
       "    .dataframe tbody tr th {\n",
       "        vertical-align: top;\n",
       "    }\n",
       "\n",
       "    .dataframe thead th {\n",
       "        text-align: right;\n",
       "    }\n",
       "</style>\n",
       "<table border=\"1\" class=\"dataframe\">\n",
       "  <thead>\n",
       "    <tr style=\"text-align: right;\">\n",
       "      <th></th>\n",
       "      <th>user_id</th>\n",
       "    </tr>\n",
       "    <tr>\n",
       "      <th>region</th>\n",
       "      <th></th>\n",
       "    </tr>\n",
       "  </thead>\n",
       "  <tbody>\n",
       "    <tr>\n",
       "      <th>APAC</th>\n",
       "      <td>72</td>\n",
       "    </tr>\n",
       "    <tr>\n",
       "      <th>CIS</th>\n",
       "      <td>55</td>\n",
       "    </tr>\n",
       "    <tr>\n",
       "      <th>EU</th>\n",
       "      <td>6351</td>\n",
       "    </tr>\n",
       "    <tr>\n",
       "      <th>N.America</th>\n",
       "      <td>223</td>\n",
       "    </tr>\n",
       "  </tbody>\n",
       "</table>\n",
       "</div>"
      ],
      "text/plain": [
       "           user_id\n",
       "region            \n",
       "APAC            72\n",
       "CIS             55\n",
       "EU            6351\n",
       "N.America      223"
      ]
     },
     "execution_count": 22,
     "metadata": {},
     "output_type": "execute_result"
    }
   ],
   "source": [
    "users_ab.groupby('region').agg({'user_id':'nunique'})"
   ]
  },
  {
   "cell_type": "markdown",
   "metadata": {},
   "source": [
    "Для проведения теста по условиям нужны только пользователи из EU. Удалим лишних:"
   ]
  },
  {
   "cell_type": "code",
   "execution_count": 23,
   "metadata": {},
   "outputs": [],
   "source": [
    "users_ab = users_ab.query('region == \"EU\"')"
   ]
  },
  {
   "cell_type": "markdown",
   "metadata": {},
   "source": [
    "Далее проверим пересечения наших участников с конкурирующим тестом:"
   ]
  },
  {
   "cell_type": "code",
   "execution_count": 24,
   "metadata": {},
   "outputs": [
    {
     "name": "stdout",
     "output_type": "stream",
     "text": [
      "Участников, попавших в оба теста: 1602\n"
     ]
    }
   ],
   "source": [
    "users_ab_id = users_ab['user_id']\n",
    "double = (participants.query('user_id in @users_ab_id')\n",
    "             .groupby('user_id').agg({'ab_test':'nunique'}).query('ab_test > 1').reset_index())\n",
    "double_id = double['user_id']\n",
    "print('Участников, попавших в оба теста:', double['ab_test'].count())"
   ]
  },
  {
   "cell_type": "markdown",
   "metadata": {},
   "source": [
    "Всего обнаружено 1602 участника, попавших в оба теста. Это является грубым нарушением проведения эксперимента, так как влияние, оказанное на участников может привести к искажению результатов тестов и снижению точности выводов. Однако, если участники попали в группу A конкурирующего теста, на них не было оказано влияние и их можно оставить, а попавших в группу В удалить."
   ]
  },
  {
   "cell_type": "code",
   "execution_count": 25,
   "metadata": {},
   "outputs": [
    {
     "name": "stdout",
     "output_type": "stream",
     "text": [
      "Участников теста, попавших в группу А конкурирующего: 783\n",
      "Участников теста, попавших в группу В конкурирующего: 819\n"
     ]
    }
   ],
   "source": [
    "print('Участников теста, попавших в группу А конкурирующего:', \n",
    "      participants.query('user_id in @double_id and ab_test == \"interface_eu_test\" and group == \"B\"')['user_id'].nunique())\n",
    "print('Участников теста, попавших в группу В конкурирующего:',\n",
    "     participants.query('user_id in @double_id and ab_test == \"interface_eu_test\" and group == \"A\"')['user_id'].nunique())"
   ]
  },
  {
   "cell_type": "code",
   "execution_count": 26,
   "metadata": {},
   "outputs": [
    {
     "name": "stdout",
     "output_type": "stream",
     "text": [
      "Осталось после удаления пересечений с конкурирующим тестом: 5532\n"
     ]
    }
   ],
   "source": [
    "# удалим участников, попавших в группу В конкурирующего теста\n",
    "id_to_delete = participants.query('user_id in @double_id and ab_test == \"interface_eu_test\" and group == \"A\"')['user_id']\n",
    "users_ab = users_ab.query('user_id not in @id_to_delete')\n",
    "print('Осталось после удаления пересечений с конкурирующим тестом:', users_ab['user_id'].count())\n"
   ]
  },
  {
   "cell_type": "markdown",
   "metadata": {},
   "source": [
    "Далее проверим равномерность распределения участников между группами теста и нет ли участников, попавших в обе группы."
   ]
  },
  {
   "cell_type": "code",
   "execution_count": 27,
   "metadata": {},
   "outputs": [
    {
     "name": "stdout",
     "output_type": "stream",
     "text": [
      "Участников теста, попавших в обе группы: 0\n"
     ]
    }
   ],
   "source": [
    "print('Участников теста, попавших в обе группы:',\n",
    "      users_ab.groupby('user_id').agg({'group':'count'}).query('group > 1')['group'].count())"
   ]
  },
  {
   "cell_type": "code",
   "execution_count": 28,
   "metadata": {},
   "outputs": [
    {
     "name": "stdout",
     "output_type": "stream",
     "text": [
      "       count  proportion\n",
      "group                   \n",
      "A       3152   56.977585\n",
      "B       2380   43.022415\n"
     ]
    }
   ],
   "source": [
    "group_counts = users_ab.groupby('group')['user_id'].count()\n",
    "total_count = group_counts.sum()\n",
    "group_proportions = group_counts.apply(lambda x: (x/total_count)*100)\n",
    "\n",
    "# Combine the count and proportion columns into a single DataFrame\n",
    "result_df = pd.concat([group_counts, group_proportions], axis=1)\n",
    "result_df.columns = ['count', 'proportion']\n",
    "\n",
    "# Display the result\n",
    "print(result_df)\n",
    "\n"
   ]
  },
  {
   "cell_type": "markdown",
   "metadata": {},
   "source": [
    "Участников в группе А больше, чем в группе В, это является нарушением проведения А/В теста, так как сбор одинакового количества участников в группах A/B теста важен для обеспечения баланса между группами и уменьшения влияния внешних факторов на результаты теста. Результаты теста могут быть искажены, так как различия в поведении участников могут быть связаны не с изменением тестируемого элемента, а с другими факторами, такими как возраст, пол, географическое расположение и т.д.\n",
    "\n",
    "Далее проверим данные на соответствие установленному в ТЗ лайфтайму пользователей - 14 дней."
   ]
  },
  {
   "cell_type": "code",
   "execution_count": 29,
   "metadata": {},
   "outputs": [
    {
     "data": {
      "text/html": [
       "<div>\n",
       "<style scoped>\n",
       "    .dataframe tbody tr th:only-of-type {\n",
       "        vertical-align: middle;\n",
       "    }\n",
       "\n",
       "    .dataframe tbody tr th {\n",
       "        vertical-align: top;\n",
       "    }\n",
       "\n",
       "    .dataframe thead th {\n",
       "        text-align: right;\n",
       "    }\n",
       "</style>\n",
       "<table border=\"1\" class=\"dataframe\">\n",
       "  <thead>\n",
       "    <tr style=\"text-align: right;\">\n",
       "      <th></th>\n",
       "      <th>user_id</th>\n",
       "      <th>group</th>\n",
       "      <th>ab_test</th>\n",
       "      <th>first_date</th>\n",
       "      <th>region</th>\n",
       "      <th>device</th>\n",
       "      <th>event_dt</th>\n",
       "      <th>event_name</th>\n",
       "      <th>details</th>\n",
       "    </tr>\n",
       "  </thead>\n",
       "  <tbody>\n",
       "    <tr>\n",
       "      <th>0</th>\n",
       "      <td>D1ABA3E2887B6A73</td>\n",
       "      <td>A</td>\n",
       "      <td>recommender_system_test</td>\n",
       "      <td>2020-12-07</td>\n",
       "      <td>EU</td>\n",
       "      <td>PC</td>\n",
       "      <td>2020-12-07</td>\n",
       "      <td>purchase</td>\n",
       "      <td>99.99</td>\n",
       "    </tr>\n",
       "    <tr>\n",
       "      <th>1</th>\n",
       "      <td>D1ABA3E2887B6A73</td>\n",
       "      <td>A</td>\n",
       "      <td>recommender_system_test</td>\n",
       "      <td>2020-12-07</td>\n",
       "      <td>EU</td>\n",
       "      <td>PC</td>\n",
       "      <td>2020-12-25</td>\n",
       "      <td>purchase</td>\n",
       "      <td>4.99</td>\n",
       "    </tr>\n",
       "    <tr>\n",
       "      <th>2</th>\n",
       "      <td>D1ABA3E2887B6A73</td>\n",
       "      <td>A</td>\n",
       "      <td>recommender_system_test</td>\n",
       "      <td>2020-12-07</td>\n",
       "      <td>EU</td>\n",
       "      <td>PC</td>\n",
       "      <td>2020-12-07</td>\n",
       "      <td>product_cart</td>\n",
       "      <td>NaN</td>\n",
       "    </tr>\n",
       "    <tr>\n",
       "      <th>3</th>\n",
       "      <td>D1ABA3E2887B6A73</td>\n",
       "      <td>A</td>\n",
       "      <td>recommender_system_test</td>\n",
       "      <td>2020-12-07</td>\n",
       "      <td>EU</td>\n",
       "      <td>PC</td>\n",
       "      <td>2020-12-25</td>\n",
       "      <td>product_cart</td>\n",
       "      <td>NaN</td>\n",
       "    </tr>\n",
       "    <tr>\n",
       "      <th>4</th>\n",
       "      <td>D1ABA3E2887B6A73</td>\n",
       "      <td>A</td>\n",
       "      <td>recommender_system_test</td>\n",
       "      <td>2020-12-07</td>\n",
       "      <td>EU</td>\n",
       "      <td>PC</td>\n",
       "      <td>2020-12-07</td>\n",
       "      <td>product_page</td>\n",
       "      <td>NaN</td>\n",
       "    </tr>\n",
       "    <tr>\n",
       "      <th>...</th>\n",
       "      <td>...</td>\n",
       "      <td>...</td>\n",
       "      <td>...</td>\n",
       "      <td>...</td>\n",
       "      <td>...</td>\n",
       "      <td>...</td>\n",
       "      <td>...</td>\n",
       "      <td>...</td>\n",
       "      <td>...</td>\n",
       "    </tr>\n",
       "    <tr>\n",
       "      <th>22884</th>\n",
       "      <td>80712ED4EA1B52A5</td>\n",
       "      <td>A</td>\n",
       "      <td>recommender_system_test</td>\n",
       "      <td>2020-12-14</td>\n",
       "      <td>EU</td>\n",
       "      <td>Android</td>\n",
       "      <td>2020-12-15</td>\n",
       "      <td>product_page</td>\n",
       "      <td>NaN</td>\n",
       "    </tr>\n",
       "    <tr>\n",
       "      <th>22885</th>\n",
       "      <td>80712ED4EA1B52A5</td>\n",
       "      <td>A</td>\n",
       "      <td>recommender_system_test</td>\n",
       "      <td>2020-12-14</td>\n",
       "      <td>EU</td>\n",
       "      <td>Android</td>\n",
       "      <td>2020-12-20</td>\n",
       "      <td>product_page</td>\n",
       "      <td>NaN</td>\n",
       "    </tr>\n",
       "    <tr>\n",
       "      <th>22886</th>\n",
       "      <td>80712ED4EA1B52A5</td>\n",
       "      <td>A</td>\n",
       "      <td>recommender_system_test</td>\n",
       "      <td>2020-12-14</td>\n",
       "      <td>EU</td>\n",
       "      <td>Android</td>\n",
       "      <td>2020-12-14</td>\n",
       "      <td>login</td>\n",
       "      <td>NaN</td>\n",
       "    </tr>\n",
       "    <tr>\n",
       "      <th>22887</th>\n",
       "      <td>80712ED4EA1B52A5</td>\n",
       "      <td>A</td>\n",
       "      <td>recommender_system_test</td>\n",
       "      <td>2020-12-14</td>\n",
       "      <td>EU</td>\n",
       "      <td>Android</td>\n",
       "      <td>2020-12-15</td>\n",
       "      <td>login</td>\n",
       "      <td>NaN</td>\n",
       "    </tr>\n",
       "    <tr>\n",
       "      <th>22888</th>\n",
       "      <td>80712ED4EA1B52A5</td>\n",
       "      <td>A</td>\n",
       "      <td>recommender_system_test</td>\n",
       "      <td>2020-12-14</td>\n",
       "      <td>EU</td>\n",
       "      <td>Android</td>\n",
       "      <td>2020-12-20</td>\n",
       "      <td>login</td>\n",
       "      <td>NaN</td>\n",
       "    </tr>\n",
       "  </tbody>\n",
       "</table>\n",
       "<p>22889 rows × 9 columns</p>\n",
       "</div>"
      ],
      "text/plain": [
       "                user_id group                  ab_test first_date region  \\\n",
       "0      D1ABA3E2887B6A73     A  recommender_system_test 2020-12-07     EU   \n",
       "1      D1ABA3E2887B6A73     A  recommender_system_test 2020-12-07     EU   \n",
       "2      D1ABA3E2887B6A73     A  recommender_system_test 2020-12-07     EU   \n",
       "3      D1ABA3E2887B6A73     A  recommender_system_test 2020-12-07     EU   \n",
       "4      D1ABA3E2887B6A73     A  recommender_system_test 2020-12-07     EU   \n",
       "...                 ...   ...                      ...        ...    ...   \n",
       "22884  80712ED4EA1B52A5     A  recommender_system_test 2020-12-14     EU   \n",
       "22885  80712ED4EA1B52A5     A  recommender_system_test 2020-12-14     EU   \n",
       "22886  80712ED4EA1B52A5     A  recommender_system_test 2020-12-14     EU   \n",
       "22887  80712ED4EA1B52A5     A  recommender_system_test 2020-12-14     EU   \n",
       "22888  80712ED4EA1B52A5     A  recommender_system_test 2020-12-14     EU   \n",
       "\n",
       "        device   event_dt    event_name  details  \n",
       "0           PC 2020-12-07      purchase    99.99  \n",
       "1           PC 2020-12-25      purchase     4.99  \n",
       "2           PC 2020-12-07  product_cart      NaN  \n",
       "3           PC 2020-12-25  product_cart      NaN  \n",
       "4           PC 2020-12-07  product_page      NaN  \n",
       "...        ...        ...           ...      ...  \n",
       "22884  Android 2020-12-15  product_page      NaN  \n",
       "22885  Android 2020-12-20  product_page      NaN  \n",
       "22886  Android 2020-12-14         login      NaN  \n",
       "22887  Android 2020-12-15         login      NaN  \n",
       "22888  Android 2020-12-20         login      NaN  \n",
       "\n",
       "[22889 rows x 9 columns]"
      ]
     },
     "execution_count": 29,
     "metadata": {},
     "output_type": "execute_result"
    }
   ],
   "source": [
    "full_table = users_ab.merge(events, on='user_id', how='left')\n",
    "full_table"
   ]
  },
  {
   "cell_type": "code",
   "execution_count": 30,
   "metadata": {},
   "outputs": [],
   "source": [
    "# создададим столбец, в котором посчитаем разницу во времени между регистрацией и совершением события\n",
    "full_table['lifetime'] = full_table['event_dt']-full_table['first_date']"
   ]
  },
  {
   "cell_type": "code",
   "execution_count": 31,
   "metadata": {},
   "outputs": [],
   "source": [
    "# удалим события, не подходящие по требованиям к проведению эксперимента (более 14 дней с момента регистрации)\n",
    "full_table = full_table.query('lifetime <= \"14 days\"')"
   ]
  },
  {
   "cell_type": "markdown",
   "metadata": {},
   "source": [
    "Также нужно удалить пользователей, зарегистированных после 17 декабря, так как до конца эксперимента не прошло 14 дней с их регистрации. Это необходимо для того, чтобы избежать искажения в результатах исследования при расчете показателей конверсии."
   ]
  },
  {
   "cell_type": "code",
   "execution_count": 32,
   "metadata": {},
   "outputs": [],
   "source": [
    "# удалим пользователей, зарегистрированных после 17 декабря\n",
    "full_table = full_table.query('first_date <=\"2020-12-17\"')"
   ]
  },
  {
   "cell_type": "markdown",
   "metadata": {},
   "source": [
    "### Повторная проверка соответствиям требований технического задания"
   ]
  },
  {
   "cell_type": "markdown",
   "metadata": {},
   "source": [
    "После очистки данных от не подходящих для анализа результатов, проведем повторную проверку соответствия требованиям ТЗ:"
   ]
  },
  {
   "cell_type": "code",
   "execution_count": 33,
   "metadata": {},
   "outputs": [
    {
     "name": "stdout",
     "output_type": "stream",
     "text": [
      "Дата запуска теста: 2020-12-07 00:00:00\n",
      "Дата остановки набора новых пользователей: 2020-12-17 00:00:00\n",
      "Последние события в датасете: 2020-12-29 00:00:00\n"
     ]
    }
   ],
   "source": [
    "print('Дата запуска теста: {}\\n'\n",
    "      'Дата остановки набора новых пользователей: {}\\n'\n",
    "      'Последние события в датасете: {}'.format(full_table['first_date'].min(),\n",
    "                                                full_table['first_date'].max(),\n",
    "                                               full_table['event_dt'].max())\n",
    "     )"
   ]
  },
  {
   "cell_type": "code",
   "execution_count": 34,
   "metadata": {},
   "outputs": [
    {
     "name": "stdout",
     "output_type": "stream",
     "text": [
      "Новых пользователей из EU: 42340\n",
      "Всего пользователей из EU в тесте recommender_system_test: 1866\n",
      "Доля новых пользователей из EU, отобранных в тест: 4.41%\n",
      "Количество участников теста: 1866\n"
     ]
    }
   ],
   "source": [
    "test_users_id = new_users.query('region == \"EU\" and first_date<= \"2020-12-21\"')['user_id']\n",
    "m = participants_recommender.query('user_id in @test_users_id')['user_id']\n",
    "print('Новых пользователей из EU: {}\\n'\n",
    "      'Всего пользователей из EU в тесте recommender_system_test: {}\\n'\n",
    "    'Доля новых пользователей из EU, отобранных в тест: {}%\\n'\n",
    "     'Количество участников теста: {}'.format(test_users_id.nunique(),\n",
    "                                             full_table['user_id'].nunique(),\n",
    "                                             round(full_table['user_id'].nunique()/test_users_id.nunique()*100,2),\n",
    "                                             full_table['user_id'].nunique()))"
   ]
  },
  {
   "cell_type": "code",
   "execution_count": 35,
   "metadata": {},
   "outputs": [
    {
     "name": "stdout",
     "output_type": "stream",
     "text": [
      "Количество участников теста по группам:\n",
      "       user_id\n",
      "group         \n",
      "A         1309\n",
      "B          557\n"
     ]
    }
   ],
   "source": [
    "print('Количество участников теста по группам:')\n",
    "quantity_users = full_table.groupby('group').agg({'user_id':'nunique'})\n",
    "print(quantity_users)"
   ]
  },
  {
   "cell_type": "markdown",
   "metadata": {},
   "source": [
    "При подробном изучении предоставленных данных на предмет соответствия требованиям технического задания обнаружено большое количество нарушений:\n",
    "1) Тест остановлен 30.12.2022, по ТЗ данные должны были собираться до 4.01.2023\\\n",
    "2) Во время проведения теста в регионе EU проводилась промоакция \"Cristmas@New Year Promo\" - это является нарушением проведения теста, так как любые промоакции влияют на поведение клиента, соответственно, искажают результаты эксперимента\\\n",
    "3) Обнаружено параллельное проведение другого А/В теста, в котором найдены пересекающиеся с нашим тестом участники (всего 1602). Это является грубым нарушением проведения эксперимента, так как влияние, оказанное на участников может привести к искажению результатов тестов и снижению точности выводов. 783 из них были в группе А конкурирующего теста, на них не было оказано влияние. 819 человек попали в группу В конкурирующего теста. Это повлияло на их результат, соответственно они были удалены.\\\n",
    "4) Участников в группе А больше, чем в группе В, это является нарушением проведения А/В теста, так как сбор одинакового количества участников в группах A/B теста важен для обеспечения баланса между группами и уменьшения влияния внешних факторов на результаты теста. Результаты теста могут быть искажены, так как различия в поведении участников могут быть связаны не с изменением тестируемого элемента\\\n",
    "5) Данные были отредактированы - очерчен лайфтайм пользователя - 14 дней, удалены превышающие этот период события и пользователи, \"не дожившие\" до окончания лайфтайма из-за преждевременной остановки эксперимента\\\n",
    "6) После очистки данных изменились показатели, которые были соблюдены в сырых - количество участников сократилось до 1866, что гораздо меньше заявленных 6000, доля новых пользователей из региона EU сократилась до 4.41%, что гораздо меньше требуемых 15%."
   ]
  },
  {
   "cell_type": "markdown",
   "metadata": {},
   "source": [
    "## Исследовательский анализ"
   ]
  },
  {
   "cell_type": "markdown",
   "metadata": {},
   "source": [
    "### Распределение количества событий на пользователя"
   ]
  },
  {
   "cell_type": "markdown",
   "metadata": {},
   "source": [
    "Выведем на экран гистограмму общего распределения событий на одного пользователя без учета деления на группы:"
   ]
  },
  {
   "cell_type": "code",
   "execution_count": 36,
   "metadata": {},
   "outputs": [
    {
     "data": {
      "image/png": "[encoded data removed]",
      "text/plain": [
       "<Figure size 1500x800 with 1 Axes>"
      ]
     },
     "metadata": {},
     "output_type": "display_data"
    }
   ],
   "source": [
    "plt.figure(figsize=(15, 8))\n",
    "sns.histplot(full_table.groupby(['group','user_id']).agg({'event_name':'count'}))\n",
    "plt.show()"
   ]
  },
  {
   "cell_type": "markdown",
   "metadata": {},
   "source": [
    "На гистограмме видно, что большая часть пользователей совершила от 3 до 7 событий. Количество событий на пользователя распределено неравномерно, отчетливо видны пики и провалы в значениях.\n",
    "\n",
    "Далее рассмотрим количество пользователей, совершивших событие с разделением на группы. Для этого создадим сводную таблицу и выведем столбчатую диаграмму."
   ]
  },
  {
   "cell_type": "code",
   "execution_count": 37,
   "metadata": {},
   "outputs": [
    {
     "data": {
      "text/html": [
       "<div>\n",
       "<style scoped>\n",
       "    .dataframe tbody tr th:only-of-type {\n",
       "        vertical-align: middle;\n",
       "    }\n",
       "\n",
       "    .dataframe tbody tr th {\n",
       "        vertical-align: top;\n",
       "    }\n",
       "\n",
       "    .dataframe thead th {\n",
       "        text-align: right;\n",
       "    }\n",
       "</style>\n",
       "<table border=\"1\" class=\"dataframe\">\n",
       "  <thead>\n",
       "    <tr style=\"text-align: right;\">\n",
       "      <th></th>\n",
       "      <th>group</th>\n",
       "      <th>event_name</th>\n",
       "      <th>user_id</th>\n",
       "      <th>all_users_group</th>\n",
       "      <th>percent_per_all_users_group</th>\n",
       "      <th>event/user</th>\n",
       "    </tr>\n",
       "  </thead>\n",
       "  <tbody>\n",
       "    <tr>\n",
       "      <th>0</th>\n",
       "      <td>A</td>\n",
       "      <td>login</td>\n",
       "      <td>1309</td>\n",
       "      <td>1309.0</td>\n",
       "      <td>100.00</td>\n",
       "      <td>100.00</td>\n",
       "    </tr>\n",
       "    <tr>\n",
       "      <th>1</th>\n",
       "      <td>A</td>\n",
       "      <td>product_cart</td>\n",
       "      <td>401</td>\n",
       "      <td>1309.0</td>\n",
       "      <td>30.63</td>\n",
       "      <td>326.43</td>\n",
       "    </tr>\n",
       "    <tr>\n",
       "      <th>2</th>\n",
       "      <td>A</td>\n",
       "      <td>product_page</td>\n",
       "      <td>842</td>\n",
       "      <td>1309.0</td>\n",
       "      <td>64.32</td>\n",
       "      <td>155.46</td>\n",
       "    </tr>\n",
       "    <tr>\n",
       "      <th>3</th>\n",
       "      <td>A</td>\n",
       "      <td>purchase</td>\n",
       "      <td>390</td>\n",
       "      <td>1309.0</td>\n",
       "      <td>29.79</td>\n",
       "      <td>335.64</td>\n",
       "    </tr>\n",
       "    <tr>\n",
       "      <th>4</th>\n",
       "      <td>B</td>\n",
       "      <td>login</td>\n",
       "      <td>556</td>\n",
       "      <td>557.0</td>\n",
       "      <td>99.82</td>\n",
       "      <td>100.18</td>\n",
       "    </tr>\n",
       "    <tr>\n",
       "      <th>5</th>\n",
       "      <td>B</td>\n",
       "      <td>product_cart</td>\n",
       "      <td>162</td>\n",
       "      <td>557.0</td>\n",
       "      <td>29.08</td>\n",
       "      <td>343.83</td>\n",
       "    </tr>\n",
       "    <tr>\n",
       "      <th>6</th>\n",
       "      <td>B</td>\n",
       "      <td>product_page</td>\n",
       "      <td>319</td>\n",
       "      <td>557.0</td>\n",
       "      <td>57.27</td>\n",
       "      <td>174.61</td>\n",
       "    </tr>\n",
       "    <tr>\n",
       "      <th>7</th>\n",
       "      <td>B</td>\n",
       "      <td>purchase</td>\n",
       "      <td>158</td>\n",
       "      <td>557.0</td>\n",
       "      <td>28.37</td>\n",
       "      <td>352.53</td>\n",
       "    </tr>\n",
       "  </tbody>\n",
       "</table>\n",
       "</div>"
      ],
      "text/plain": [
       "  group    event_name  user_id  all_users_group  percent_per_all_users_group  \\\n",
       "0     A         login     1309           1309.0                       100.00   \n",
       "1     A  product_cart      401           1309.0                        30.63   \n",
       "2     A  product_page      842           1309.0                        64.32   \n",
       "3     A      purchase      390           1309.0                        29.79   \n",
       "4     B         login      556            557.0                        99.82   \n",
       "5     B  product_cart      162            557.0                        29.08   \n",
       "6     B  product_page      319            557.0                        57.27   \n",
       "7     B      purchase      158            557.0                        28.37   \n",
       "\n",
       "   event/user  \n",
       "0      100.00  \n",
       "1      326.43  \n",
       "2      155.46  \n",
       "3      335.64  \n",
       "4      100.18  \n",
       "5      343.83  \n",
       "6      174.61  \n",
       "7      352.53  "
      ]
     },
     "metadata": {},
     "output_type": "display_data"
    }
   ],
   "source": [
    "pivot_event = full_table.pivot_table(index=['group','event_name'], \n",
    "                aggfunc={'user_id':'nunique'}).reset_index()\n",
    "for index, row in pivot_event.iterrows():\n",
    "    if row['group'] == \"A\":\n",
    "        pivot_event.loc[index, 'all_users_group'] = quantity_users['user_id']['A']\n",
    "    elif row['group'] == \"B\":\n",
    "        pivot_event.loc[index, 'all_users_group'] = quantity_users['user_id']['B']\n",
    "pivot_event['percent_per_all_users_group'] = round(pivot_event['user_id']/pivot_event['all_users_group']*100,2)\n",
    "pivot_event['event/user'] = round(pivot_event['all_users_group']/pivot_event['user_id']*100,2)\n",
    "display(pivot_event)"
   ]
  },
  {
   "cell_type": "code",
   "execution_count": 38,
   "metadata": {},
   "outputs": [
    {
     "data": {
      "image/png": "[encoded data removed]",
      "text/plain": [
       "<Figure size 640x480 with 1 Axes>"
      ]
     },
     "metadata": {},
     "output_type": "display_data"
    }
   ],
   "source": [
    "sns.barplot(data=pivot_event, x='event_name', y='user_id', hue = 'group')\n",
    "plt.title('Количество пользователей, совершивших событие')\n",
    "plt.ylabel('Кол-во пользователей')\n",
    "plt.xlabel('Событие')\n",
    "plt.show()"
   ]
  },
  {
   "cell_type": "markdown",
   "metadata": {},
   "source": [
    "Всего пользователи совершают 4 события: вход, переход на страницу продукта, переход на страницу корзины и покупка товара.\n",
    "Чаще всего происходит событие - login, реже всего пользователи обеих групп совершают покупку. Один пользователь из группы В миновал событие login. На графике видно, что количество пользователей, совершающих события в группе А сильно больше. Это связано, в первую очередь, с тем, что при проведении теста допущено неравномерное распределение прользователей между группами, что усложняет интерпретацию результатов.\n",
    "\n",
    "Также рассмотрим среднее количество событий на одного пользователя по группам:"
   ]
  },
  {
   "cell_type": "code",
   "execution_count": 39,
   "metadata": {},
   "outputs": [
    {
     "name": "stdout",
     "output_type": "stream",
     "text": [
      "Среднее количество событий на пользователя по группам:        event_name\n",
      "group            \n",
      "A            6.96\n",
      "B            5.83\n"
     ]
    }
   ],
   "source": [
    "events_per_user = full_table.groupby(['group', 'user_id']).agg({'event_name':'count'})\n",
    "avg_events = events_per_user.groupby('group').mean().round(2)\n",
    "print('Среднее количество событий на пользователя по группам:', avg_events)\n"
   ]
  },
  {
   "cell_type": "markdown",
   "metadata": {},
   "source": [
    "Проведем статистическую проверку равенства средних с помощью t-теста.\\\n",
    "Сформулируем гипотезы\\\n",
    "H_0: Среднее количество событий на пользователя в группе А = Среднее количество событий на пользователя в группе В\n",
    "H_1: Среднее количество событий на пользователя в группе А ≠ Среднее количество событий на пользователя в группе В\n",
    "alpha = 0.05"
   ]
  },
  {
   "cell_type": "code",
   "execution_count": 40,
   "metadata": {},
   "outputs": [
    {
     "name": "stdout",
     "output_type": "stream",
     "text": [
      "[4.51092263e-09]\n",
      "Отвергаем нулевую гипотезу: есть значимая разница\n"
     ]
    }
   ],
   "source": [
    "events_per_user_a = events_per_user.query('group == \"A\"')\n",
    "events_per_user_b = events_per_user.query('group == \"B\"')\n",
    "results = st.ttest_ind(events_per_user_a, events_per_user_b, equal_var=True)#ttest, признаем дисперсии равными\n",
    "\n",
    "\n",
    "alpha = .05\n",
    "#значение уровня значимости\n",
    "\n",
    "print(results.pvalue)# вывод значения p-value на экран \n",
    "if (results.pvalue < alpha):\n",
    "    print('Отвергаем нулевую гипотезу: есть значимая разница')\n",
    "else:\n",
    "    print('Не получилось отвергнуть нулевую гипотезу, нет оснований считать группы разными')\n",
    "\n",
    "# условный оператор с выводом строки с ответом"
   ]
  },
  {
   "cell_type": "markdown",
   "metadata": {},
   "source": [
    "Среднее количество событий на пользователя в группе А - 6.96, в группе В - 5.83. Проведенный t-test подтвердил наличие статистически значимых различий между этими двумя средними."
   ]
  },
  {
   "cell_type": "markdown",
   "metadata": {},
   "source": [
    "### Распределение числа событий в выборках по дням"
   ]
  },
  {
   "cell_type": "markdown",
   "metadata": {},
   "source": [
    "Далее изучим распределение числа событий в выборках по дням:"
   ]
  },
  {
   "cell_type": "code",
   "execution_count": 41,
   "metadata": {},
   "outputs": [],
   "source": [
    "full_table['event_dt'] = full_table['event_dt'].dt.date\n",
    "# сгруппирем данные по дням и типам событий\n",
    "days = full_table.groupby(['event_dt', 'group']).agg({'event_name':'count'}).reset_index()"
   ]
  },
  {
   "cell_type": "code",
   "execution_count": 42,
   "metadata": {},
   "outputs": [
    {
     "data": {
      "image/png": "[encoded data removed]",
      "text/plain": [
       "<Figure size 1500x800 with 1 Axes>"
      ]
     },
     "metadata": {},
     "output_type": "display_data"
    }
   ],
   "source": [
    "plt.figure(figsize=(15, 8))\n",
    "sns.barplot(x='event_dt', y='event_name', hue = 'group', data = days)\n",
    "plt.title('Распределение числа событий в выборках по дням')\n",
    "plt.xlabel('')\n",
    "plt.ylabel('Количество событий')\n",
    "plt.xticks(rotation = 45)\n",
    "plt.show()"
   ]
  },
  {
   "cell_type": "markdown",
   "metadata": {},
   "source": [
    "События во время проведения эксперимента равномерно распределены по дням, однако, в группе А замете большой всплеск количества событий с 14 по 18 декабря. Для того, чтобы определить возможные причины этого скачка рассмотрим динамику набора пользователей."
   ]
  },
  {
   "cell_type": "code",
   "execution_count": 43,
   "metadata": {},
   "outputs": [],
   "source": [
    "full_table['first_date'] = full_table['first_date'].dt.date\n",
    "users_collection = full_table.groupby(['first_date', 'group']).agg({'user_id':'count'}).reset_index()"
   ]
  },
  {
   "cell_type": "code",
   "execution_count": 44,
   "metadata": {},
   "outputs": [
    {
     "data": {
      "image/png": "[encoded data removed]",
      "text/plain": [
       "<Figure size 1500x800 with 1 Axes>"
      ]
     },
     "metadata": {},
     "output_type": "display_data"
    }
   ],
   "source": [
    "plt.figure(figsize=(15, 8))\n",
    "sns.barplot(x='first_date', y='user_id', hue = 'group', data = users_collection)\n",
    "plt.title('Распределение числа событий в выборках по дням')\n",
    "plt.xlabel('')\n",
    "plt.ylabel('Количество событий')\n",
    "plt.xticks(rotation = 45)\n",
    "plt.show()"
   ]
  },
  {
   "cell_type": "markdown",
   "metadata": {},
   "source": [
    "На графике регистрации новых пользователей по дням заметно резкое увеличение количества регистраций 14 декабря, и боольшое количество с 15 по 17 декабря. Это объясняет большое количество пользовательских событий в эти и несколько последующих дней."
   ]
  },
  {
   "cell_type": "markdown",
   "metadata": {},
   "source": [
    "### Изучение воронки событий"
   ]
  },
  {
   "cell_type": "markdown",
   "metadata": {},
   "source": [
    "Далее изучим воронку событий:"
   ]
  },
  {
   "cell_type": "code",
   "execution_count": 45,
   "metadata": {
    "scrolled": true
   },
   "outputs": [],
   "source": [
    "# создадим сводную таблицу для графического построения воронки\n",
    "funnel = full_table.pivot_table(index=['group','event_name'], \n",
    "                aggfunc={'user_id':'nunique'}).reset_index()\n",
    "event_dict = {\n",
    "    'login':'1_login',\n",
    "    'product_page': '2_product_page',\n",
    "    'product_cart':'3_product_cart',\n",
    "    'purchase':'4_purchase'\n",
    "}\n",
    "funnel['event_name'] = funnel['event_name'].map(dict(event_dict))\n",
    "funnel = funnel.sort_values(by=['group', 'event_name'])"
   ]
  },
  {
   "cell_type": "code",
   "execution_count": 46,
   "metadata": {},
   "outputs": [
    {
     "data": {
      "text/html": [
       "<div>\n",
       "<style scoped>\n",
       "    .dataframe tbody tr th:only-of-type {\n",
       "        vertical-align: middle;\n",
       "    }\n",
       "\n",
       "    .dataframe tbody tr th {\n",
       "        vertical-align: top;\n",
       "    }\n",
       "\n",
       "    .dataframe thead th {\n",
       "        text-align: right;\n",
       "    }\n",
       "</style>\n",
       "<table border=\"1\" class=\"dataframe\">\n",
       "  <thead>\n",
       "    <tr style=\"text-align: right;\">\n",
       "      <th></th>\n",
       "      <th>group</th>\n",
       "      <th>event_name</th>\n",
       "      <th>user_id</th>\n",
       "      <th>percent_per_previous</th>\n",
       "      <th>percent_per_all_users</th>\n",
       "    </tr>\n",
       "  </thead>\n",
       "  <tbody>\n",
       "    <tr>\n",
       "      <th>0</th>\n",
       "      <td>A</td>\n",
       "      <td>1_login</td>\n",
       "      <td>1309</td>\n",
       "      <td>100.00</td>\n",
       "      <td>100.00</td>\n",
       "    </tr>\n",
       "    <tr>\n",
       "      <th>2</th>\n",
       "      <td>A</td>\n",
       "      <td>2_product_page</td>\n",
       "      <td>842</td>\n",
       "      <td>64.32</td>\n",
       "      <td>64.32</td>\n",
       "    </tr>\n",
       "    <tr>\n",
       "      <th>1</th>\n",
       "      <td>A</td>\n",
       "      <td>3_product_cart</td>\n",
       "      <td>401</td>\n",
       "      <td>47.62</td>\n",
       "      <td>30.63</td>\n",
       "    </tr>\n",
       "    <tr>\n",
       "      <th>3</th>\n",
       "      <td>A</td>\n",
       "      <td>4_purchase</td>\n",
       "      <td>390</td>\n",
       "      <td>97.26</td>\n",
       "      <td>29.79</td>\n",
       "    </tr>\n",
       "  </tbody>\n",
       "</table>\n",
       "</div>"
      ],
      "text/plain": [
       "  group      event_name  user_id  percent_per_previous  percent_per_all_users\n",
       "0     A         1_login     1309                100.00                 100.00\n",
       "2     A  2_product_page      842                 64.32                  64.32\n",
       "1     A  3_product_cart      401                 47.62                  30.63\n",
       "3     A      4_purchase      390                 97.26                  29.79"
      ]
     },
     "metadata": {},
     "output_type": "display_data"
    },
    {
     "data": {
      "text/html": [
       "<div>\n",
       "<style scoped>\n",
       "    .dataframe tbody tr th:only-of-type {\n",
       "        vertical-align: middle;\n",
       "    }\n",
       "\n",
       "    .dataframe tbody tr th {\n",
       "        vertical-align: top;\n",
       "    }\n",
       "\n",
       "    .dataframe thead th {\n",
       "        text-align: right;\n",
       "    }\n",
       "</style>\n",
       "<table border=\"1\" class=\"dataframe\">\n",
       "  <thead>\n",
       "    <tr style=\"text-align: right;\">\n",
       "      <th></th>\n",
       "      <th>group</th>\n",
       "      <th>event_name</th>\n",
       "      <th>user_id</th>\n",
       "      <th>percent_per_previous</th>\n",
       "      <th>percent_per_all_users</th>\n",
       "    </tr>\n",
       "  </thead>\n",
       "  <tbody>\n",
       "    <tr>\n",
       "      <th>4</th>\n",
       "      <td>B</td>\n",
       "      <td>1_login</td>\n",
       "      <td>556</td>\n",
       "      <td>100.00</td>\n",
       "      <td>100.00</td>\n",
       "    </tr>\n",
       "    <tr>\n",
       "      <th>6</th>\n",
       "      <td>B</td>\n",
       "      <td>2_product_page</td>\n",
       "      <td>319</td>\n",
       "      <td>57.37</td>\n",
       "      <td>57.37</td>\n",
       "    </tr>\n",
       "    <tr>\n",
       "      <th>5</th>\n",
       "      <td>B</td>\n",
       "      <td>3_product_cart</td>\n",
       "      <td>162</td>\n",
       "      <td>50.78</td>\n",
       "      <td>29.14</td>\n",
       "    </tr>\n",
       "    <tr>\n",
       "      <th>7</th>\n",
       "      <td>B</td>\n",
       "      <td>4_purchase</td>\n",
       "      <td>158</td>\n",
       "      <td>97.53</td>\n",
       "      <td>28.42</td>\n",
       "    </tr>\n",
       "  </tbody>\n",
       "</table>\n",
       "</div>"
      ],
      "text/plain": [
       "  group      event_name  user_id  percent_per_previous  percent_per_all_users\n",
       "4     B         1_login      556                100.00                 100.00\n",
       "6     B  2_product_page      319                 57.37                  57.37\n",
       "5     B  3_product_cart      162                 50.78                  29.14\n",
       "7     B      4_purchase      158                 97.53                  28.42"
      ]
     },
     "metadata": {},
     "output_type": "display_data"
    }
   ],
   "source": [
    "# также выведем на экран таблицы, отражающие воронки для групп эксперимента отдельно. \n",
    "# посчитаем процент для каждого шага по отношению к предыдущему и к общему количеству\n",
    "a_funnel = funnel.query('group == \"A\"')\n",
    "a_funnel['percent_per_previous'] = round(a_funnel['user_id']/a_funnel['user_id'].shift(1)*100,2)\n",
    "a_funnel['percent_per_previous'] = a_funnel['percent_per_previous'].fillna(100.00)\n",
    "a_funnel['percent_per_all_users'] = round(a_funnel['user_id']/a_funnel['user_id'].iloc[0]*100,2)\n",
    "b_funnel = funnel.query('group == \"B\"')\n",
    "b_funnel['percent_per_previous'] = round(b_funnel['user_id']/b_funnel['user_id'].shift(1)*100,2)\n",
    "b_funnel['percent_per_previous'] = b_funnel['percent_per_previous'].fillna(100.00)\n",
    "b_funnel['percent_per_all_users'] = round(b_funnel['user_id']/b_funnel['user_id'].iloc[0]*100,2)\n",
    "display(a_funnel, b_funnel)"
   ]
  },
  {
   "cell_type": "code",
   "execution_count": 47,
   "metadata": {},
   "outputs": [
    {
     "data": {
      "image/png": "[encoded data removed]"
     },
     "metadata": {},
     "output_type": "display_data"
    }
   ],
   "source": [
    "fig = px.funnel(funnel, x='user_id', y='event_name', color='group')\n",
    "fig.update_layout(title='Воронка событий для групп А и В') \n",
    "fig.show()"
   ]
  },
  {
   "cell_type": "code",
   "execution_count": 48,
   "metadata": {},
   "outputs": [
    {
     "name": "stdout",
     "output_type": "stream",
     "text": [
      "Доходит до покупки от первого этапа 29.79% пользователей группы А и 28.42% пользователей группы В\n"
     ]
    }
   ],
   "source": [
    "print('Доходит до покупки от первого этапа {:.2%} пользователей группы А и {:.2%} пользователей группы В'.format(\n",
    "    funnel.loc[3]['user_id']/funnel.loc[0]['user_id'],\n",
    "     funnel.loc[7]['user_id']/funnel.loc[4]['user_id'])  \n",
    "     )\n",
    "    "
   ]
  },
  {
   "cell_type": "markdown",
   "metadata": {},
   "source": [
    "В группе А до покупки от первого этапа доходит 29.79% пользователей. Меньше всего конверсия на эатпе перехода в корзину(около 47 процентов к предыдущему шагу), однако, конверсия в покупку от корзины около 97 процентов. Это может означать, что некоторые пользователи совершают покупку минуя переход в корзину (например, функция \"покупка в один клик\"). Показатель общей конверсии в группе В немного ниже, чем в группе А - 28.42%."
   ]
  },
  {
   "cell_type": "markdown",
   "metadata": {},
   "source": [
    "## Оценка результатов А/В тестирования"
   ]
  },
  {
   "cell_type": "markdown",
   "metadata": {},
   "source": [
    "Для проверки статистически значимой разницы между группами в событиях воронки применим двухстороний Z-тест:"
   ]
  },
  {
   "cell_type": "code",
   "execution_count": 49,
   "metadata": {},
   "outputs": [
    {
     "data": {
      "text/html": [
       "<div>\n",
       "<style scoped>\n",
       "    .dataframe tbody tr th:only-of-type {\n",
       "        vertical-align: middle;\n",
       "    }\n",
       "\n",
       "    .dataframe tbody tr th {\n",
       "        vertical-align: top;\n",
       "    }\n",
       "\n",
       "    .dataframe thead th {\n",
       "        text-align: right;\n",
       "    }\n",
       "</style>\n",
       "<table border=\"1\" class=\"dataframe\">\n",
       "  <thead>\n",
       "    <tr style=\"text-align: right;\">\n",
       "      <th>event_name</th>\n",
       "      <th>login</th>\n",
       "      <th>product_cart</th>\n",
       "      <th>product_page</th>\n",
       "      <th>purchase</th>\n",
       "    </tr>\n",
       "    <tr>\n",
       "      <th>group</th>\n",
       "      <th></th>\n",
       "      <th></th>\n",
       "      <th></th>\n",
       "      <th></th>\n",
       "    </tr>\n",
       "  </thead>\n",
       "  <tbody>\n",
       "    <tr>\n",
       "      <th>A</th>\n",
       "      <td>1309</td>\n",
       "      <td>401</td>\n",
       "      <td>842</td>\n",
       "      <td>390</td>\n",
       "    </tr>\n",
       "    <tr>\n",
       "      <th>B</th>\n",
       "      <td>556</td>\n",
       "      <td>162</td>\n",
       "      <td>319</td>\n",
       "      <td>158</td>\n",
       "    </tr>\n",
       "  </tbody>\n",
       "</table>\n",
       "</div>"
      ],
      "text/plain": [
       "event_name  login  product_cart  product_page  purchase\n",
       "group                                                  \n",
       "A            1309           401           842       390\n",
       "B             556           162           319       158"
      ]
     },
     "execution_count": 49,
     "metadata": {},
     "output_type": "execute_result"
    }
   ],
   "source": [
    "# создадим сводную таблицу для проверки гипотез\n",
    "events_pivot = (\n",
    "    full_table.pivot_table(index='group', columns='event_name', values= 'user_id', aggfunc='nunique')\n",
    " \n",
    ")\n",
    "# events_pivot = events_pivot.rename({'login':'trials'}) # добавим общее количество пользователей каждой группы\n",
    "events_names = ['product_cart', 'product_page', 'purchase']\n",
    "#создадим переменную с уникальными названиями событий\n",
    "\n",
    "events_pivot"
   ]
  },
  {
   "cell_type": "markdown",
   "metadata": {},
   "source": []
  },
  {
   "cell_type": "code",
   "execution_count": 50,
   "metadata": {},
   "outputs": [],
   "source": [
    "# напишем функцию для проверки гипотез\n",
    "def p_value_check (group1, group2, event, alpha):\n",
    "    trials_1 = events_pivot.loc[group1]['login']\n",
    "    trials_2 = events_pivot.loc[group2]['login']\n",
    "    successes_1 = events_pivot.loc[group1][event]\n",
    "    successes_2 = events_pivot.loc[group2][event]\n",
    "    \n",
    "    \n",
    "    \n",
    "    trials = np.array([trials_1, trials_2])\n",
    "    successes = np.array([successes_1, successes_2])\n",
    "    # пропорция успехов в первой группе:\n",
    "    p1 = successes[0]/trials[0]\n",
    "    # пропорция успехов во второй группе:\n",
    "    p2 = successes[1]/trials[1]\n",
    "    \n",
    "    print(successes[0], successes[1], trials[0], trials[1])\n",
    "    \n",
    "    # пропорция успехов в комбинированном датасете:\n",
    "    p_combined = (successes[0] + successes[1]) / (trials[0] + trials[1])\n",
    "    # разница пропорций в датасетах\n",
    "    difference = p1 - p2 \n",
    "    # считаем статистику в ст.отклонениях стандартного нормального распределения\n",
    "    z_value = difference / mth.sqrt(p_combined * (1 - p_combined) * (1/trials[0] + 1/trials[1]))\n",
    "    # задаем стандартное нормальное распределение (среднее 0, ст.отклонение 1)\n",
    "    distr = st.norm(0, 1)  \n",
    "    p_value = (1 - distr.cdf(abs(z_value))) * 2\n",
    "    print('Событие', event, 'p-значение: ', p_value)\n",
    "    if p_value < alpha:\n",
    "        print('Отвергаем нулевую гипотезу: есть значимая разница')\n",
    "    else:\n",
    "        print('Не получилось отвергнуть нулевую гипотезу, нет оснований считать группы разными') \n"
   ]
  },
  {
   "cell_type": "markdown",
   "metadata": {},
   "source": [
    "Сформулируем гипотезы. Нулевая: различий в числе пользователей, совершивших события между группами А и В нет. Альтернативная: различия в числе пользователей между группами есть.\n",
    "\n",
    "Для множественных проверок применим поправку Бонферрони: значение альфа 0.05 разделим на 3 (количество проверяемых событий):"
   ]
  },
  {
   "cell_type": "code",
   "execution_count": 51,
   "metadata": {},
   "outputs": [],
   "source": [
    "alpha = 0.05/3"
   ]
  },
  {
   "cell_type": "code",
   "execution_count": 52,
   "metadata": {},
   "outputs": [
    {
     "name": "stdout",
     "output_type": "stream",
     "text": [
      "401 162 1309 556\n",
      "Событие product_cart p-значение:  0.5193509233341391\n",
      "Не получилось отвергнуть нулевую гипотезу, нет оснований считать группы разными\n",
      "842 319 1309 556\n",
      "Событие product_page p-значение:  0.004623528609445371\n",
      "Отвергаем нулевую гипотезу: есть значимая разница\n",
      "390 158 1309 556\n",
      "Событие purchase p-значение:  0.5505480106026897\n",
      "Не получилось отвергнуть нулевую гипотезу, нет оснований считать группы разными\n"
     ]
    }
   ],
   "source": [
    "for i in range(0, len(events_names)):\n",
    "    p_value_check('A','B', events_names[i], 0.05)"
   ]
  },
  {
   "cell_type": "markdown",
   "metadata": {},
   "source": [
    "По результатам проведенного Z-теста на выборках для событий product_cart, product_page и purchase, были получены следующие значения p-значения: 0.519, 0.004 и 0.551 соответственно.\n",
    "\n",
    "Для события product_cart полученное p-значение равно 0.519, что говорит о том, что различия между группами не являются статистически значимыми, и мы не можем отвергнуть нулевую гипотезу. Для события purchase полученное p-значение равно 0.551, что также указывает на то, что различия между группами не являются статистически значимыми, и мы не можем отвергнуть нулевую гипотезу. \n",
    "\n",
    "Однако, для события product_page полученное p-значение равно 0.004, что говорит о том, что различия между группами являются статистически значимыми, и мы можем отвергнуть нулевую гипотезу. Это означает, что существует статистически значимая разница между группами, связанная с событием product_page. \n",
    "\n",
    "Таким образом, можно сделать вывод, что изменения, связанные с событием product_page, могут оказать влияние на конверсию пользователей, в то время как изменения, связанные с событиями product_cart и purchase, не оказывают статистически значимого влияния на конверсию. Однако, стоит учесть, что эксперимент был проведен с большим количеством нарушений, это сильно влияет на интерпретацию результатов. \n"
   ]
  },
  {
   "cell_type": "markdown",
   "metadata": {},
   "source": [
    "## Общий вывод по итогам проверки результатов А/В теста"
   ]
  },
  {
   "cell_type": "markdown",
   "metadata": {},
   "source": [
    "На этапе знакомства с данными дубликатов не выявлено, пропуски обнаружены только в деталях событий, не повлияют на ход исследования. Скорректированы типы данных.\n",
    "\n",
    "При подробном изучении предоставленных данных на предмет соответствия требованиям технического задания обнаружено большое количество нарушений:\n",
    "1) Тест остановлен 30.12.2022, по ТЗ данные должны были собираться до 4.01.2023\\\n",
    "2) Во время проведения теста в регионе EU проводилась промоакция \"Cristmas@New Year Promo\" - это является нарушением проведения теста, так как любые промоакции влияют на поведение клиента, соответственно, искажают результаты эксперимента\\\n",
    "3) Обнаружено параллельное проведение другого А/В теста, в котором найдены пересекающиеся с нашим тестом участники (всего 1602). Это является грубым нарушением проведения эксперимента, так как влияние, оказанное на участников может привести к искажению результатов тестов и снижению точности выводов. 783 из них были в группе А конкурирующего теста, на них не было оказано влияние. 819 человек попали в группу В конкурирующего теста. Это повлияло на их результат, соответственно они были удалены.\\\n",
    "4) Участников в группе А больше, чем в группе В, это является нарушением проведения А/В теста, так как сбор одинакового количества участников в группах A/B теста важен для обеспечения баланса между группами и уменьшения влияния внешних факторов на результаты теста. Результаты теста могут быть искажены, так как различия в поведении участников могут быть связаны не с изменением тестируемого элемента\\\n",
    "5) Данные были отредактированы - очерчен лайфтайм пользователя - 14 дней, удалены превышающие этот период события и пользователи, \"не дожившие\" до окончания лайфтайма из-за преждевременной остановки эксперимента\\\n",
    "6) После очистки данных изменились показатели, которые были соблюдены в сырых - количество участников сократилось до 1866, что гораздо меньше заявленных 6000, доля новых пользователей из региона EU сократилась до 4.41%, что гораздо меньше требуемых 15%.\n",
    "\n",
    "Всего пользователи совершают 4 события: вход, переход на страницу продукта, переход на страницу корзины и покупка товара. Чаще всего происходит событие - login, реже всего пользователи обеих групп совершают покупку. Один пользователь из группы В миновал событие login. На графике видно, что количество пользователей, совершающих события в группе А сильно больше. Это связано, в первую очередь, с тем, что при проведении теста допущено неравномерное распределение прользователей между группами, что усложняет интерпретацию результатов.\n",
    "\n",
    "Среднее количество событий на пользователя в группе А - 6.96, в группе В - 5.83. Проведенный t-test подтвердил наличие статистически значимых различий между этими двумя средними.\n",
    "\n",
    "События во время проведения эксперимента равномерно распределены по дням, однако, в группе А замете большой всплеск количества событий с 14 по 18 декабря. На графике регистрации новых пользователей по дням заметно резкое увеличение количества регистраций 14 декабря, и большое количество с 15 по 17 декабря. Это объясняет большое количество пользовательских событий в эти и несколько последующих дней.\n",
    "\n",
    "В группе А до покупки от первого этапа доходит 29.79% пользователей. Меньше всего конверсия на эатпе перехода в корзину(около 47 процентов к предыдущему шагу), однако, конверсия в покупку от корзины около 97 процентов. Это может означать, что некоторые пользователи совершают покупку минуя переход в корзину (например, функция \"покупка в один клик\"). Показатель общей конверсии в группе В немного ниже, чем в группе А - 28.42%.\n",
    "\n",
    "Для проверки статистически значимой разницы между группами в событиях воронки применен двухстороний Z-тест с поправкой Бонферрони:\n",
    "сформулированы гипотезы Нулевая: различий в числе пользователей, совершивших события между группами А и В нет. Альтернативная: различия в числе пользователей между группами есть.\n",
    "\n",
    "По результатам проведенного Z-теста на выборках для событий product_cart, product_page и purchase, были получены следующие значения p-значения: 0.519, 0.004 и 0.551 соответственно.\n",
    "\n",
    "Для события product_cart полученное p-значение равно 0.519, что говорит о том, что различия между группами не являются статистически значимыми, и мы не можем отвергнуть нулевую гипотезу. Для события purchase полученное p-значение равно 0.551, что также указывает на то, что различия между группами не являются статистически значимыми, и мы не можем отвергнуть нулевую гипотезу.\n",
    "\n",
    "Однако, для события product_page полученное p-значение равно 0.004, что говорит о том, что различия между группами являются статистически значимыми, и мы можем отвергнуть нулевую гипотезу. Это означает, что существует статистически значимая разница между группами, связанная с событием product_page.\n",
    "\n",
    "Таким образом, можно сделать вывод, что изменения, связанные с событием product_page, могут оказать влияние на конверсию пользователей, в то время как изменения, связанные с событиями product_cart и purchase, не оказывают статистически значимого влияния на конверсию. Однако, стоит учесть, что эксперимент был проведен с большим количеством нарушений, это сильно влияет на интерпретацию результатов."
   ]
  }
 ],
 "metadata": {
  "ExecuteTimeLog": [
   {
    "duration": 12,
    "start_time": "2023-06-09T09:51:22.742Z"
   },
   {
    "duration": 2228,
    "start_time": "2023-06-09T09:51:37.297Z"
   },
   {
    "duration": 5063,
    "start_time": "2023-06-09T09:51:46.929Z"
   },
   {
    "duration": 5,
    "start_time": "2023-06-09T09:52:03.043Z"
   },
   {
    "duration": 1112,
    "start_time": "2023-06-09T09:52:10.078Z"
   },
   {
    "duration": 94,
    "start_time": "2023-06-09T09:52:58.938Z"
   },
   {
    "duration": 629,
    "start_time": "2023-06-09T09:53:10.155Z"
   },
   {
    "duration": 377,
    "start_time": "2023-06-09T09:53:45.114Z"
   },
   {
    "duration": 69,
    "start_time": "2023-06-09T09:53:53.322Z"
   },
   {
    "duration": 56,
    "start_time": "2023-06-09T17:25:12.921Z"
   },
   {
    "duration": 1443,
    "start_time": "2023-06-09T17:25:17.918Z"
   },
   {
    "duration": 1054,
    "start_time": "2023-06-09T17:25:19.363Z"
   },
   {
    "duration": 3,
    "start_time": "2023-06-09T17:25:20.419Z"
   },
   {
    "duration": 412,
    "start_time": "2023-06-09T17:25:20.424Z"
   },
   {
    "duration": 29,
    "start_time": "2023-06-09T17:25:20.838Z"
   },
   {
    "duration": 307,
    "start_time": "2023-06-09T17:25:20.869Z"
   },
   {
    "duration": 30,
    "start_time": "2023-06-09T17:25:21.178Z"
   },
   {
    "duration": 5,
    "start_time": "2023-06-09T17:25:21.209Z"
   },
   {
    "duration": 124,
    "start_time": "2023-06-09T17:25:32.064Z"
   },
   {
    "duration": 13,
    "start_time": "2023-06-09T17:25:47.968Z"
   },
   {
    "duration": 48,
    "start_time": "2023-06-09T17:25:53.229Z"
   },
   {
    "duration": 5,
    "start_time": "2023-06-09T17:26:03.201Z"
   },
   {
    "duration": 7,
    "start_time": "2023-06-09T17:26:38.255Z"
   },
   {
    "duration": 8,
    "start_time": "2023-06-09T17:27:02.847Z"
   },
   {
    "duration": 13,
    "start_time": "2023-06-09T17:28:55.249Z"
   },
   {
    "duration": 7,
    "start_time": "2023-06-09T17:29:44.228Z"
   },
   {
    "duration": 12,
    "start_time": "2023-06-09T18:02:20.437Z"
   },
   {
    "duration": 137,
    "start_time": "2023-06-09T18:48:34.289Z"
   },
   {
    "duration": 7,
    "start_time": "2023-06-09T18:48:45.271Z"
   },
   {
    "duration": 5,
    "start_time": "2023-06-09T18:48:58.698Z"
   },
   {
    "duration": 6,
    "start_time": "2023-06-09T18:50:54.781Z"
   },
   {
    "duration": 7,
    "start_time": "2023-06-09T18:51:01.454Z"
   },
   {
    "duration": 8,
    "start_time": "2023-06-09T18:51:02.207Z"
   },
   {
    "duration": 13,
    "start_time": "2023-06-09T18:51:18.842Z"
   },
   {
    "duration": 1292,
    "start_time": "2023-06-09T18:52:21.169Z"
   },
   {
    "duration": 19,
    "start_time": "2023-06-09T18:53:07.458Z"
   },
   {
    "duration": 33,
    "start_time": "2023-06-09T18:54:59.838Z"
   },
   {
    "duration": 26,
    "start_time": "2023-06-09T18:59:35.636Z"
   },
   {
    "duration": 14,
    "start_time": "2023-06-09T18:59:43.833Z"
   },
   {
    "duration": 6,
    "start_time": "2023-06-09T19:00:11.107Z"
   },
   {
    "duration": 9,
    "start_time": "2023-06-09T19:00:28.839Z"
   },
   {
    "duration": 1209,
    "start_time": "2023-06-09T19:00:33.678Z"
   },
   {
    "duration": 1395,
    "start_time": "2023-06-09T19:00:34.889Z"
   },
   {
    "duration": 4,
    "start_time": "2023-06-09T19:00:36.285Z"
   },
   {
    "duration": 461,
    "start_time": "2023-06-09T19:00:36.291Z"
   },
   {
    "duration": 30,
    "start_time": "2023-06-09T19:00:36.753Z"
   },
   {
    "duration": 314,
    "start_time": "2023-06-09T19:00:36.785Z"
   },
   {
    "duration": 32,
    "start_time": "2023-06-09T19:00:37.100Z"
   },
   {
    "duration": 60,
    "start_time": "2023-06-09T19:00:37.134Z"
   },
   {
    "duration": 154,
    "start_time": "2023-06-09T19:00:37.196Z"
   },
   {
    "duration": 7,
    "start_time": "2023-06-09T19:00:37.352Z"
   },
   {
    "duration": 17,
    "start_time": "2023-06-09T19:00:37.361Z"
   },
   {
    "duration": 17,
    "start_time": "2023-06-09T19:00:37.379Z"
   },
   {
    "duration": 64,
    "start_time": "2023-06-09T19:00:37.398Z"
   },
   {
    "duration": 5,
    "start_time": "2023-06-09T19:00:37.464Z"
   },
   {
    "duration": 32,
    "start_time": "2023-06-09T19:00:37.470Z"
   },
   {
    "duration": 24,
    "start_time": "2023-06-09T19:00:37.504Z"
   },
   {
    "duration": 50,
    "start_time": "2023-06-09T19:00:37.529Z"
   },
   {
    "duration": 16,
    "start_time": "2023-06-09T19:00:37.581Z"
   },
   {
    "duration": 32,
    "start_time": "2023-06-09T19:00:37.600Z"
   },
   {
    "duration": 111,
    "start_time": "2023-06-09T19:00:37.634Z"
   },
   {
    "duration": 0,
    "start_time": "2023-06-09T19:00:37.747Z"
   },
   {
    "duration": 0,
    "start_time": "2023-06-09T19:00:37.748Z"
   },
   {
    "duration": 0,
    "start_time": "2023-06-09T19:00:37.750Z"
   },
   {
    "duration": 0,
    "start_time": "2023-06-09T19:00:37.752Z"
   },
   {
    "duration": 7,
    "start_time": "2023-06-09T19:07:31.992Z"
   },
   {
    "duration": 20,
    "start_time": "2023-06-09T19:07:34.098Z"
   },
   {
    "duration": 4,
    "start_time": "2023-06-09T19:07:49.094Z"
   },
   {
    "duration": 18,
    "start_time": "2023-06-09T19:07:59.579Z"
   },
   {
    "duration": 5,
    "start_time": "2023-06-09T19:08:01.434Z"
   },
   {
    "duration": 4,
    "start_time": "2023-06-09T19:08:05.347Z"
   },
   {
    "duration": 4,
    "start_time": "2023-06-09T19:08:20.617Z"
   },
   {
    "duration": 8,
    "start_time": "2023-06-09T19:10:49.823Z"
   },
   {
    "duration": 22,
    "start_time": "2023-06-09T19:10:52.430Z"
   },
   {
    "duration": 5,
    "start_time": "2023-06-09T19:10:52.961Z"
   },
   {
    "duration": 14,
    "start_time": "2023-06-09T19:14:31.930Z"
   },
   {
    "duration": 127,
    "start_time": "2023-06-09T19:14:39.235Z"
   },
   {
    "duration": 3,
    "start_time": "2023-06-09T19:15:45.277Z"
   },
   {
    "duration": 30,
    "start_time": "2023-06-09T19:15:52.926Z"
   },
   {
    "duration": 737,
    "start_time": "2023-06-09T19:16:16.709Z"
   },
   {
    "duration": 8,
    "start_time": "2023-06-09T19:16:20.441Z"
   },
   {
    "duration": 6,
    "start_time": "2023-06-09T19:16:31.009Z"
   },
   {
    "duration": 4,
    "start_time": "2023-06-09T19:16:37.110Z"
   },
   {
    "duration": 34,
    "start_time": "2023-06-09T19:16:44.295Z"
   },
   {
    "duration": 9,
    "start_time": "2023-06-09T19:16:49.305Z"
   },
   {
    "duration": 10,
    "start_time": "2023-06-09T19:16:49.847Z"
   },
   {
    "duration": 48,
    "start_time": "2023-06-09T19:17:25.236Z"
   },
   {
    "duration": 6,
    "start_time": "2023-06-09T19:17:47.971Z"
   },
   {
    "duration": 6,
    "start_time": "2023-06-09T19:17:50.944Z"
   },
   {
    "duration": 6,
    "start_time": "2023-06-09T19:18:03.540Z"
   },
   {
    "duration": 1297,
    "start_time": "2023-06-09T19:18:08.119Z"
   },
   {
    "duration": 1297,
    "start_time": "2023-06-09T19:18:09.418Z"
   },
   {
    "duration": 4,
    "start_time": "2023-06-09T19:18:10.717Z"
   },
   {
    "duration": 496,
    "start_time": "2023-06-09T19:18:10.723Z"
   },
   {
    "duration": 30,
    "start_time": "2023-06-09T19:18:11.221Z"
   },
   {
    "duration": 321,
    "start_time": "2023-06-09T19:18:11.252Z"
   },
   {
    "duration": 30,
    "start_time": "2023-06-09T19:18:11.575Z"
   },
   {
    "duration": 4,
    "start_time": "2023-06-09T19:18:11.607Z"
   },
   {
    "duration": 153,
    "start_time": "2023-06-09T19:18:11.613Z"
   },
   {
    "duration": 7,
    "start_time": "2023-06-09T19:18:11.768Z"
   },
   {
    "duration": 22,
    "start_time": "2023-06-09T19:18:11.776Z"
   },
   {
    "duration": 30,
    "start_time": "2023-06-09T19:18:11.800Z"
   },
   {
    "duration": 59,
    "start_time": "2023-06-09T19:18:11.832Z"
   },
   {
    "duration": 4,
    "start_time": "2023-06-09T19:18:11.893Z"
   },
   {
    "duration": 17,
    "start_time": "2023-06-09T19:18:11.899Z"
   },
   {
    "duration": 28,
    "start_time": "2023-06-09T19:18:11.918Z"
   },
   {
    "duration": 26,
    "start_time": "2023-06-09T19:18:11.948Z"
   },
   {
    "duration": 30,
    "start_time": "2023-06-09T19:18:11.975Z"
   },
   {
    "duration": 16,
    "start_time": "2023-06-09T19:18:12.006Z"
   },
   {
    "duration": 19,
    "start_time": "2023-06-09T19:18:12.024Z"
   },
   {
    "duration": 12,
    "start_time": "2023-06-09T19:18:12.044Z"
   },
   {
    "duration": 37,
    "start_time": "2023-06-09T19:18:12.057Z"
   },
   {
    "duration": 105,
    "start_time": "2023-06-09T19:18:12.096Z"
   },
   {
    "duration": 0,
    "start_time": "2023-06-09T19:18:12.203Z"
   },
   {
    "duration": 0,
    "start_time": "2023-06-09T19:18:12.205Z"
   },
   {
    "duration": 1288,
    "start_time": "2023-06-09T19:18:38.473Z"
   },
   {
    "duration": 6,
    "start_time": "2023-06-09T19:19:31.112Z"
   },
   {
    "duration": 10,
    "start_time": "2023-06-09T19:19:41.116Z"
   },
   {
    "duration": 16,
    "start_time": "2023-06-09T19:19:56.138Z"
   },
   {
    "duration": 5,
    "start_time": "2023-06-09T19:24:07.238Z"
   },
   {
    "duration": 13,
    "start_time": "2023-06-09T19:36:55.293Z"
   },
   {
    "duration": 19,
    "start_time": "2023-06-09T19:36:58.151Z"
   },
   {
    "duration": 10,
    "start_time": "2023-06-09T19:37:18.688Z"
   },
   {
    "duration": 15,
    "start_time": "2023-06-09T19:37:28.009Z"
   },
   {
    "duration": 16,
    "start_time": "2023-06-09T19:45:37.328Z"
   },
   {
    "duration": 3,
    "start_time": "2023-06-09T19:46:26.927Z"
   },
   {
    "duration": 12,
    "start_time": "2023-06-09T19:46:31.444Z"
   },
   {
    "duration": 547,
    "start_time": "2023-06-09T19:46:33.612Z"
   },
   {
    "duration": 15,
    "start_time": "2023-06-09T19:46:34.842Z"
   },
   {
    "duration": 25,
    "start_time": "2023-06-09T19:46:38.476Z"
   },
   {
    "duration": 26,
    "start_time": "2023-06-09T19:46:44.216Z"
   },
   {
    "duration": 15,
    "start_time": "2023-06-09T19:46:58.489Z"
   },
   {
    "duration": 7,
    "start_time": "2023-06-09T19:47:53.733Z"
   },
   {
    "duration": 10,
    "start_time": "2023-06-09T19:48:14.795Z"
   },
   {
    "duration": 9,
    "start_time": "2023-06-09T19:48:16.326Z"
   },
   {
    "duration": 15,
    "start_time": "2023-06-09T19:48:21.998Z"
   },
   {
    "duration": 21,
    "start_time": "2023-06-09T19:58:02.483Z"
   },
   {
    "duration": 9,
    "start_time": "2023-06-09T19:58:08.760Z"
   },
   {
    "duration": 9,
    "start_time": "2023-06-09T19:58:09.202Z"
   },
   {
    "duration": 5,
    "start_time": "2023-06-09T19:58:09.688Z"
   },
   {
    "duration": 16,
    "start_time": "2023-06-09T19:58:10.674Z"
   },
   {
    "duration": 10,
    "start_time": "2023-06-09T19:58:56.826Z"
   },
   {
    "duration": 5,
    "start_time": "2023-06-09T19:59:06.018Z"
   },
   {
    "duration": 6,
    "start_time": "2023-06-09T19:59:08.910Z"
   },
   {
    "duration": 31,
    "start_time": "2023-06-09T20:01:57.841Z"
   },
   {
    "duration": 38,
    "start_time": "2023-06-09T20:02:18.583Z"
   },
   {
    "duration": 37,
    "start_time": "2023-06-09T20:02:54.569Z"
   },
   {
    "duration": 37,
    "start_time": "2023-06-09T20:03:10.620Z"
   },
   {
    "duration": 12,
    "start_time": "2023-06-09T20:17:54.088Z"
   },
   {
    "duration": 38,
    "start_time": "2023-06-09T20:35:20.229Z"
   },
   {
    "duration": 12,
    "start_time": "2023-06-09T20:36:34.623Z"
   },
   {
    "duration": 1450,
    "start_time": "2023-06-09T20:36:41.349Z"
   },
   {
    "duration": 1543,
    "start_time": "2023-06-09T20:36:42.802Z"
   },
   {
    "duration": 4,
    "start_time": "2023-06-09T20:36:44.347Z"
   },
   {
    "duration": 478,
    "start_time": "2023-06-09T20:36:44.353Z"
   },
   {
    "duration": 29,
    "start_time": "2023-06-09T20:36:44.834Z"
   },
   {
    "duration": 307,
    "start_time": "2023-06-09T20:36:44.865Z"
   },
   {
    "duration": 32,
    "start_time": "2023-06-09T20:36:45.173Z"
   },
   {
    "duration": 7,
    "start_time": "2023-06-09T20:36:45.207Z"
   },
   {
    "duration": 191,
    "start_time": "2023-06-09T20:36:45.216Z"
   },
   {
    "duration": 8,
    "start_time": "2023-06-09T20:36:45.409Z"
   },
   {
    "duration": 65,
    "start_time": "2023-06-09T20:36:45.418Z"
   },
   {
    "duration": 47,
    "start_time": "2023-06-09T20:36:45.485Z"
   },
   {
    "duration": 69,
    "start_time": "2023-06-09T20:36:45.534Z"
   },
   {
    "duration": 5,
    "start_time": "2023-06-09T20:36:45.606Z"
   },
   {
    "duration": 25,
    "start_time": "2023-06-09T20:36:45.612Z"
   },
   {
    "duration": 9,
    "start_time": "2023-06-09T20:36:45.639Z"
   },
   {
    "duration": 53,
    "start_time": "2023-06-09T20:36:45.650Z"
   },
   {
    "duration": 8,
    "start_time": "2023-06-09T20:36:45.706Z"
   },
   {
    "duration": 139,
    "start_time": "2023-06-09T20:36:45.716Z"
   },
   {
    "duration": 0,
    "start_time": "2023-06-09T20:36:45.858Z"
   },
   {
    "duration": 0,
    "start_time": "2023-06-09T20:36:45.859Z"
   },
   {
    "duration": 37,
    "start_time": "2023-06-09T20:36:57.497Z"
   },
   {
    "duration": 43,
    "start_time": "2023-06-09T20:37:19.075Z"
   },
   {
    "duration": 60,
    "start_time": "2023-06-09T20:37:32.069Z"
   },
   {
    "duration": 15,
    "start_time": "2023-06-09T20:37:34.780Z"
   },
   {
    "duration": 6,
    "start_time": "2023-06-09T20:37:36.924Z"
   },
   {
    "duration": 12,
    "start_time": "2023-06-09T20:37:55.154Z"
   },
   {
    "duration": 8,
    "start_time": "2023-06-09T20:39:31.922Z"
   },
   {
    "duration": 13,
    "start_time": "2023-06-09T20:39:38.754Z"
   },
   {
    "duration": 87,
    "start_time": "2023-06-09T20:44:59.612Z"
   },
   {
    "duration": 79,
    "start_time": "2023-06-09T20:45:21.844Z"
   },
   {
    "duration": 139,
    "start_time": "2023-06-09T20:45:31.299Z"
   },
   {
    "duration": 74,
    "start_time": "2023-06-09T20:46:10.904Z"
   },
   {
    "duration": 14,
    "start_time": "2023-06-09T20:46:46.011Z"
   },
   {
    "duration": 25,
    "start_time": "2023-06-09T20:46:50.653Z"
   },
   {
    "duration": 22,
    "start_time": "2023-06-09T20:47:00.927Z"
   },
   {
    "duration": 22,
    "start_time": "2023-06-09T20:47:07.393Z"
   },
   {
    "duration": 19,
    "start_time": "2023-06-09T20:51:17.021Z"
   },
   {
    "duration": 22,
    "start_time": "2023-06-09T20:51:53.776Z"
   },
   {
    "duration": 20,
    "start_time": "2023-06-09T20:52:08.416Z"
   },
   {
    "duration": 8,
    "start_time": "2023-06-09T20:53:53.970Z"
   },
   {
    "duration": 89,
    "start_time": "2023-06-09T20:54:09.581Z"
   },
   {
    "duration": 26,
    "start_time": "2023-06-09T20:54:42.504Z"
   },
   {
    "duration": 11,
    "start_time": "2023-06-09T20:54:43.907Z"
   },
   {
    "duration": 21,
    "start_time": "2023-06-09T20:55:24.303Z"
   },
   {
    "duration": 7,
    "start_time": "2023-06-09T20:55:26.176Z"
   },
   {
    "duration": 35,
    "start_time": "2023-06-09T20:55:55.725Z"
   },
   {
    "duration": 8,
    "start_time": "2023-06-09T20:59:49.922Z"
   },
   {
    "duration": 9,
    "start_time": "2023-06-09T21:00:00.351Z"
   },
   {
    "duration": 11,
    "start_time": "2023-06-09T21:00:09.291Z"
   },
   {
    "duration": 23,
    "start_time": "2023-06-09T21:00:21.198Z"
   },
   {
    "duration": 24,
    "start_time": "2023-06-09T21:00:49.619Z"
   },
   {
    "duration": 1262,
    "start_time": "2023-06-10T10:18:39.142Z"
   },
   {
    "duration": 1154,
    "start_time": "2023-06-10T10:18:40.406Z"
   },
   {
    "duration": 4,
    "start_time": "2023-06-10T10:18:41.561Z"
   },
   {
    "duration": 362,
    "start_time": "2023-06-10T10:18:41.566Z"
   },
   {
    "duration": 21,
    "start_time": "2023-06-10T10:18:41.929Z"
   },
   {
    "duration": 248,
    "start_time": "2023-06-10T10:18:41.951Z"
   },
   {
    "duration": 31,
    "start_time": "2023-06-10T10:18:42.201Z"
   },
   {
    "duration": 4,
    "start_time": "2023-06-10T10:18:42.234Z"
   },
   {
    "duration": 112,
    "start_time": "2023-06-10T10:18:42.240Z"
   },
   {
    "duration": 5,
    "start_time": "2023-06-10T10:18:42.354Z"
   },
   {
    "duration": 68,
    "start_time": "2023-06-10T10:18:42.361Z"
   },
   {
    "duration": 21,
    "start_time": "2023-06-10T10:18:42.431Z"
   },
   {
    "duration": 52,
    "start_time": "2023-06-10T10:18:42.454Z"
   },
   {
    "duration": 5,
    "start_time": "2023-06-10T10:18:42.508Z"
   },
   {
    "duration": 27,
    "start_time": "2023-06-10T10:18:42.515Z"
   },
   {
    "duration": 5,
    "start_time": "2023-06-10T10:18:42.544Z"
   },
   {
    "duration": 58,
    "start_time": "2023-06-10T10:18:42.550Z"
   },
   {
    "duration": 6,
    "start_time": "2023-06-10T10:18:42.610Z"
   },
   {
    "duration": 52,
    "start_time": "2023-06-10T10:18:42.619Z"
   },
   {
    "duration": 11,
    "start_time": "2023-06-10T10:18:42.673Z"
   },
   {
    "duration": 21,
    "start_time": "2023-06-10T10:18:42.686Z"
   },
   {
    "duration": 6,
    "start_time": "2023-06-10T10:18:42.709Z"
   },
   {
    "duration": 18,
    "start_time": "2023-06-10T10:18:42.716Z"
   },
   {
    "duration": 4,
    "start_time": "2023-06-10T10:18:42.736Z"
   },
   {
    "duration": 22,
    "start_time": "2023-06-10T10:18:42.742Z"
   },
   {
    "duration": 16,
    "start_time": "2023-06-10T10:24:17.251Z"
   },
   {
    "duration": 14,
    "start_time": "2023-06-10T10:24:31.759Z"
   },
   {
    "duration": 9,
    "start_time": "2023-06-10T10:31:22.705Z"
   },
   {
    "duration": 11,
    "start_time": "2023-06-10T10:34:07.310Z"
   },
   {
    "duration": 7,
    "start_time": "2023-06-10T10:34:23.743Z"
   },
   {
    "duration": 13,
    "start_time": "2023-06-10T10:35:12.037Z"
   },
   {
    "duration": 96,
    "start_time": "2023-06-10T10:44:34.406Z"
   },
   {
    "duration": 27,
    "start_time": "2023-06-10T10:45:03.988Z"
   },
   {
    "duration": 11,
    "start_time": "2023-06-10T10:47:13.626Z"
   },
   {
    "duration": 1173,
    "start_time": "2023-06-10T10:47:25.091Z"
   },
   {
    "duration": 971,
    "start_time": "2023-06-10T10:47:26.265Z"
   },
   {
    "duration": 3,
    "start_time": "2023-06-10T10:47:27.238Z"
   },
   {
    "duration": 349,
    "start_time": "2023-06-10T10:47:27.243Z"
   },
   {
    "duration": 27,
    "start_time": "2023-06-10T10:47:27.594Z"
   },
   {
    "duration": 257,
    "start_time": "2023-06-10T10:47:27.625Z"
   },
   {
    "duration": 39,
    "start_time": "2023-06-10T10:47:27.884Z"
   },
   {
    "duration": 4,
    "start_time": "2023-06-10T10:47:27.924Z"
   },
   {
    "duration": 119,
    "start_time": "2023-06-10T10:47:27.930Z"
   },
   {
    "duration": 8,
    "start_time": "2023-06-10T10:47:28.051Z"
   },
   {
    "duration": 8,
    "start_time": "2023-06-10T10:47:28.060Z"
   },
   {
    "duration": 37,
    "start_time": "2023-06-10T10:47:28.070Z"
   },
   {
    "duration": 52,
    "start_time": "2023-06-10T10:47:28.111Z"
   },
   {
    "duration": 5,
    "start_time": "2023-06-10T10:47:28.167Z"
   },
   {
    "duration": 42,
    "start_time": "2023-06-10T10:47:28.174Z"
   },
   {
    "duration": 6,
    "start_time": "2023-06-10T10:47:28.224Z"
   },
   {
    "duration": 31,
    "start_time": "2023-06-10T10:47:28.231Z"
   },
   {
    "duration": 6,
    "start_time": "2023-06-10T10:47:28.264Z"
   },
   {
    "duration": 33,
    "start_time": "2023-06-10T10:47:28.271Z"
   },
   {
    "duration": 18,
    "start_time": "2023-06-10T10:47:28.306Z"
   },
   {
    "duration": 17,
    "start_time": "2023-06-10T10:47:28.326Z"
   },
   {
    "duration": 10,
    "start_time": "2023-06-10T10:47:28.345Z"
   },
   {
    "duration": 37,
    "start_time": "2023-06-10T10:47:28.356Z"
   },
   {
    "duration": 14,
    "start_time": "2023-06-10T10:47:28.395Z"
   },
   {
    "duration": 23,
    "start_time": "2023-06-10T10:47:28.413Z"
   },
   {
    "duration": 32,
    "start_time": "2023-06-10T10:47:28.438Z"
   },
   {
    "duration": 92,
    "start_time": "2023-06-10T10:47:28.471Z"
   },
   {
    "duration": 0,
    "start_time": "2023-06-10T10:47:28.564Z"
   },
   {
    "duration": 4,
    "start_time": "2023-06-10T10:50:27.968Z"
   },
   {
    "duration": 13,
    "start_time": "2023-06-10T10:52:51.535Z"
   },
   {
    "duration": 14,
    "start_time": "2023-06-10T10:53:52.584Z"
   },
   {
    "duration": 19,
    "start_time": "2023-06-10T11:05:44.556Z"
   },
   {
    "duration": 18,
    "start_time": "2023-06-10T11:05:52.168Z"
   },
   {
    "duration": 12,
    "start_time": "2023-06-10T11:06:01.650Z"
   },
   {
    "duration": 11,
    "start_time": "2023-06-10T11:06:26.180Z"
   },
   {
    "duration": 1798,
    "start_time": "2023-06-10T11:06:39.638Z"
   },
   {
    "duration": 11,
    "start_time": "2023-06-10T11:06:51.884Z"
   },
   {
    "duration": 15,
    "start_time": "2023-06-10T11:07:45.329Z"
   },
   {
    "duration": 8,
    "start_time": "2023-06-10T11:11:34.387Z"
   },
   {
    "duration": 12,
    "start_time": "2023-06-10T11:15:31.875Z"
   },
   {
    "duration": 12,
    "start_time": "2023-06-10T11:26:33.386Z"
   },
   {
    "duration": 13,
    "start_time": "2023-06-10T11:27:37.084Z"
   },
   {
    "duration": 111,
    "start_time": "2023-06-10T11:27:48.100Z"
   },
   {
    "duration": 119,
    "start_time": "2023-06-10T11:27:57.284Z"
   },
   {
    "duration": 4,
    "start_time": "2023-06-10T11:29:10.829Z"
   },
   {
    "duration": 17,
    "start_time": "2023-06-10T11:29:18.852Z"
   },
   {
    "duration": 5,
    "start_time": "2023-06-10T11:33:15.685Z"
   },
   {
    "duration": 57,
    "start_time": "2023-06-10T11:34:51.344Z"
   },
   {
    "duration": 14,
    "start_time": "2023-06-10T11:35:01.980Z"
   },
   {
    "duration": 7,
    "start_time": "2023-06-10T11:36:00.566Z"
   },
   {
    "duration": 18,
    "start_time": "2023-06-10T11:36:06.169Z"
   },
   {
    "duration": 4,
    "start_time": "2023-06-10T11:36:20.990Z"
   },
   {
    "duration": 9,
    "start_time": "2023-06-10T11:41:26.381Z"
   },
   {
    "duration": 10,
    "start_time": "2023-06-10T11:41:37.336Z"
   },
   {
    "duration": 27,
    "start_time": "2023-06-10T11:44:12.887Z"
   },
   {
    "duration": 5,
    "start_time": "2023-06-10T11:44:19.458Z"
   },
   {
    "duration": 9,
    "start_time": "2023-06-10T11:44:21.603Z"
   },
   {
    "duration": 17,
    "start_time": "2023-06-10T11:44:40.828Z"
   },
   {
    "duration": 5,
    "start_time": "2023-06-10T11:44:47.563Z"
   },
   {
    "duration": 5,
    "start_time": "2023-06-10T12:48:22.322Z"
   },
   {
    "duration": 8,
    "start_time": "2023-06-10T12:48:24.650Z"
   },
   {
    "duration": 8,
    "start_time": "2023-06-10T12:48:27.892Z"
   },
   {
    "duration": 10,
    "start_time": "2023-06-10T12:48:29.092Z"
   },
   {
    "duration": 1092,
    "start_time": "2023-06-10T12:48:37.341Z"
   },
   {
    "duration": 1172,
    "start_time": "2023-06-10T12:48:38.435Z"
   },
   {
    "duration": 3,
    "start_time": "2023-06-10T12:48:39.609Z"
   },
   {
    "duration": 361,
    "start_time": "2023-06-10T12:48:39.613Z"
   },
   {
    "duration": 20,
    "start_time": "2023-06-10T12:48:39.977Z"
   },
   {
    "duration": 243,
    "start_time": "2023-06-10T12:48:40.006Z"
   },
   {
    "duration": 27,
    "start_time": "2023-06-10T12:48:40.250Z"
   },
   {
    "duration": 4,
    "start_time": "2023-06-10T12:48:40.278Z"
   },
   {
    "duration": 123,
    "start_time": "2023-06-10T12:48:40.283Z"
   },
   {
    "duration": 5,
    "start_time": "2023-06-10T12:48:40.407Z"
   },
   {
    "duration": 8,
    "start_time": "2023-06-10T12:48:40.413Z"
   },
   {
    "duration": 15,
    "start_time": "2023-06-10T12:48:40.423Z"
   },
   {
    "duration": 43,
    "start_time": "2023-06-10T12:48:40.440Z"
   },
   {
    "duration": 4,
    "start_time": "2023-06-10T12:48:40.486Z"
   },
   {
    "duration": 12,
    "start_time": "2023-06-10T12:48:40.506Z"
   },
   {
    "duration": 7,
    "start_time": "2023-06-10T12:48:40.519Z"
   },
   {
    "duration": 41,
    "start_time": "2023-06-10T12:48:40.527Z"
   },
   {
    "duration": 5,
    "start_time": "2023-06-10T12:48:40.569Z"
   },
   {
    "duration": 42,
    "start_time": "2023-06-10T12:48:40.576Z"
   },
   {
    "duration": 9,
    "start_time": "2023-06-10T12:48:40.620Z"
   },
   {
    "duration": 16,
    "start_time": "2023-06-10T12:48:40.630Z"
   },
   {
    "duration": 14,
    "start_time": "2023-06-10T12:48:40.648Z"
   },
   {
    "duration": 26,
    "start_time": "2023-06-10T12:48:40.663Z"
   },
   {
    "duration": 12,
    "start_time": "2023-06-10T12:48:40.691Z"
   },
   {
    "duration": 19,
    "start_time": "2023-06-10T12:48:40.704Z"
   },
   {
    "duration": 19,
    "start_time": "2023-06-10T12:48:40.725Z"
   },
   {
    "duration": 19,
    "start_time": "2023-06-10T12:48:40.745Z"
   },
   {
    "duration": 125,
    "start_time": "2023-06-10T12:48:40.765Z"
   },
   {
    "duration": 4,
    "start_time": "2023-06-10T12:48:40.891Z"
   },
   {
    "duration": 16,
    "start_time": "2023-06-10T12:48:40.896Z"
   },
   {
    "duration": 14,
    "start_time": "2023-06-10T12:48:40.913Z"
   },
   {
    "duration": 18,
    "start_time": "2023-06-10T12:48:40.928Z"
   },
   {
    "duration": 16,
    "start_time": "2023-06-10T12:48:40.947Z"
   },
   {
    "duration": 4,
    "start_time": "2023-06-10T12:48:40.964Z"
   },
   {
    "duration": 8,
    "start_time": "2023-06-10T12:51:53.874Z"
   },
   {
    "duration": 9,
    "start_time": "2023-06-10T12:51:54.418Z"
   },
   {
    "duration": 17,
    "start_time": "2023-06-10T12:51:58.275Z"
   },
   {
    "duration": 4,
    "start_time": "2023-06-10T12:51:58.822Z"
   },
   {
    "duration": 5,
    "start_time": "2023-06-10T12:56:52.377Z"
   },
   {
    "duration": 30,
    "start_time": "2023-06-10T12:58:54.758Z"
   },
   {
    "duration": 11,
    "start_time": "2023-06-10T13:00:07.178Z"
   },
   {
    "duration": 95,
    "start_time": "2023-06-10T13:05:41.054Z"
   },
   {
    "duration": 11,
    "start_time": "2023-06-10T13:05:49.118Z"
   },
   {
    "duration": 1657,
    "start_time": "2023-06-10T13:08:13.535Z"
   },
   {
    "duration": 15,
    "start_time": "2023-06-10T13:08:39.106Z"
   },
   {
    "duration": 15,
    "start_time": "2023-06-10T13:08:49.193Z"
   },
   {
    "duration": 19,
    "start_time": "2023-06-10T13:09:21.944Z"
   },
   {
    "duration": 3,
    "start_time": "2023-06-10T13:09:58.010Z"
   },
   {
    "duration": 18,
    "start_time": "2023-06-10T13:10:02.695Z"
   },
   {
    "duration": 14,
    "start_time": "2023-06-10T13:10:37.606Z"
   },
   {
    "duration": 4,
    "start_time": "2023-06-10T13:10:46.342Z"
   },
   {
    "duration": 3,
    "start_time": "2023-06-10T13:10:49.416Z"
   },
   {
    "duration": 20,
    "start_time": "2023-06-10T13:10:52.386Z"
   },
   {
    "duration": 127,
    "start_time": "2023-06-10T13:27:34.124Z"
   },
   {
    "duration": 19,
    "start_time": "2023-06-10T13:27:37.279Z"
   },
   {
    "duration": 8,
    "start_time": "2023-06-10T13:32:19.215Z"
   },
   {
    "duration": 18,
    "start_time": "2023-06-10T13:33:41.815Z"
   },
   {
    "duration": 19,
    "start_time": "2023-06-10T13:33:56.035Z"
   },
   {
    "duration": 4,
    "start_time": "2023-06-10T13:34:36.620Z"
   },
   {
    "duration": 4,
    "start_time": "2023-06-10T13:34:42.009Z"
   },
   {
    "duration": 17,
    "start_time": "2023-06-10T13:35:07.690Z"
   },
   {
    "duration": 16,
    "start_time": "2023-06-10T13:35:18.436Z"
   },
   {
    "duration": 1578,
    "start_time": "2023-06-10T13:35:56.738Z"
   },
   {
    "duration": 18,
    "start_time": "2023-06-10T13:40:04.912Z"
   },
   {
    "duration": 18,
    "start_time": "2023-06-10T13:40:28.604Z"
   },
   {
    "duration": 25,
    "start_time": "2023-06-10T13:41:08.992Z"
   },
   {
    "duration": 109,
    "start_time": "2023-06-10T13:41:51.599Z"
   },
   {
    "duration": 22,
    "start_time": "2023-06-10T13:41:57.474Z"
   },
   {
    "duration": 21,
    "start_time": "2023-06-10T13:44:42.356Z"
   },
   {
    "duration": 98,
    "start_time": "2023-06-10T14:44:58.729Z"
   },
   {
    "duration": 22,
    "start_time": "2023-06-10T14:45:04.486Z"
   },
   {
    "duration": 27,
    "start_time": "2023-06-10T14:45:40.424Z"
   },
   {
    "duration": 168,
    "start_time": "2023-06-10T14:47:00.575Z"
   },
   {
    "duration": 135,
    "start_time": "2023-06-10T14:47:17.525Z"
   },
   {
    "duration": 130,
    "start_time": "2023-06-10T14:47:35.462Z"
   },
   {
    "duration": 141,
    "start_time": "2023-06-10T14:51:14.786Z"
   },
   {
    "duration": 133,
    "start_time": "2023-06-10T14:51:26.751Z"
   },
   {
    "duration": 139,
    "start_time": "2023-06-10T14:52:09.921Z"
   },
   {
    "duration": 17,
    "start_time": "2023-06-10T14:57:39.456Z"
   },
   {
    "duration": 156,
    "start_time": "2023-06-10T14:58:22.334Z"
   },
   {
    "duration": 99,
    "start_time": "2023-06-10T14:58:39.447Z"
   },
   {
    "duration": 128,
    "start_time": "2023-06-10T14:58:56.610Z"
   },
   {
    "duration": 18,
    "start_time": "2023-06-10T14:59:11.483Z"
   },
   {
    "duration": 23,
    "start_time": "2023-06-10T15:00:48.548Z"
   },
   {
    "duration": 10,
    "start_time": "2023-06-10T15:06:32.920Z"
   },
   {
    "duration": 11,
    "start_time": "2023-06-10T15:06:47.129Z"
   },
   {
    "duration": 15,
    "start_time": "2023-06-10T15:06:53.536Z"
   },
   {
    "duration": 14,
    "start_time": "2023-06-10T15:07:20.122Z"
   },
   {
    "duration": 12,
    "start_time": "2023-06-10T15:07:28.932Z"
   },
   {
    "duration": 115,
    "start_time": "2023-06-10T15:07:47.982Z"
   },
   {
    "duration": 96,
    "start_time": "2023-06-10T15:08:09.945Z"
   },
   {
    "duration": 14,
    "start_time": "2023-06-10T15:08:32.718Z"
   },
   {
    "duration": 14,
    "start_time": "2023-06-10T15:08:40.892Z"
   },
   {
    "duration": 269,
    "start_time": "2023-06-10T15:08:47.282Z"
   },
   {
    "duration": 22,
    "start_time": "2023-06-10T15:08:56.622Z"
   },
   {
    "duration": 20,
    "start_time": "2023-06-10T15:09:01.827Z"
   },
   {
    "duration": 165,
    "start_time": "2023-06-10T15:14:13.576Z"
   },
   {
    "duration": 100,
    "start_time": "2023-06-10T15:14:41.146Z"
   },
   {
    "duration": 157,
    "start_time": "2023-06-10T15:14:51.326Z"
   },
   {
    "duration": 166,
    "start_time": "2023-06-10T15:22:14.054Z"
   },
   {
    "duration": 1119,
    "start_time": "2023-06-10T19:31:59.740Z"
   },
   {
    "duration": 1511,
    "start_time": "2023-06-10T19:32:00.861Z"
   },
   {
    "duration": 3,
    "start_time": "2023-06-10T19:32:02.374Z"
   },
   {
    "duration": 377,
    "start_time": "2023-06-10T19:32:02.378Z"
   },
   {
    "duration": 20,
    "start_time": "2023-06-10T19:32:02.757Z"
   },
   {
    "duration": 243,
    "start_time": "2023-06-10T19:32:02.778Z"
   },
   {
    "duration": 25,
    "start_time": "2023-06-10T19:32:03.024Z"
   },
   {
    "duration": 4,
    "start_time": "2023-06-10T19:32:03.050Z"
   },
   {
    "duration": 110,
    "start_time": "2023-06-10T19:32:03.055Z"
   },
   {
    "duration": 5,
    "start_time": "2023-06-10T19:32:03.167Z"
   },
   {
    "duration": 9,
    "start_time": "2023-06-10T19:32:03.173Z"
   },
   {
    "duration": 25,
    "start_time": "2023-06-10T19:32:03.183Z"
   },
   {
    "duration": 38,
    "start_time": "2023-06-10T19:32:03.210Z"
   },
   {
    "duration": 4,
    "start_time": "2023-06-10T19:32:03.250Z"
   },
   {
    "duration": 11,
    "start_time": "2023-06-10T19:32:03.255Z"
   },
   {
    "duration": 5,
    "start_time": "2023-06-10T19:32:03.267Z"
   },
   {
    "duration": 51,
    "start_time": "2023-06-10T19:32:03.273Z"
   },
   {
    "duration": 6,
    "start_time": "2023-06-10T19:32:03.325Z"
   },
   {
    "duration": 42,
    "start_time": "2023-06-10T19:32:03.332Z"
   },
   {
    "duration": 8,
    "start_time": "2023-06-10T19:32:03.375Z"
   },
   {
    "duration": 15,
    "start_time": "2023-06-10T19:32:03.384Z"
   },
   {
    "duration": 11,
    "start_time": "2023-06-10T19:32:03.401Z"
   },
   {
    "duration": 16,
    "start_time": "2023-06-10T19:32:03.414Z"
   },
   {
    "duration": 11,
    "start_time": "2023-06-10T19:32:03.432Z"
   },
   {
    "duration": 14,
    "start_time": "2023-06-10T19:32:03.444Z"
   },
   {
    "duration": 11,
    "start_time": "2023-06-10T19:32:03.460Z"
   },
   {
    "duration": 8,
    "start_time": "2023-06-10T19:32:03.472Z"
   },
   {
    "duration": 121,
    "start_time": "2023-06-10T19:32:03.481Z"
   },
   {
    "duration": 4,
    "start_time": "2023-06-10T19:32:03.604Z"
   },
   {
    "duration": 14,
    "start_time": "2023-06-10T19:32:03.609Z"
   },
   {
    "duration": 7,
    "start_time": "2023-06-10T19:32:03.624Z"
   },
   {
    "duration": 33,
    "start_time": "2023-06-10T19:32:03.632Z"
   },
   {
    "duration": 39,
    "start_time": "2023-06-10T19:32:03.666Z"
   },
   {
    "duration": 8,
    "start_time": "2023-06-10T19:32:03.706Z"
   },
   {
    "duration": 28,
    "start_time": "2023-06-10T19:32:03.715Z"
   },
   {
    "duration": 188,
    "start_time": "2023-06-10T19:32:03.745Z"
   },
   {
    "duration": 25,
    "start_time": "2023-06-10T19:32:03.935Z"
   },
   {
    "duration": 150,
    "start_time": "2023-06-10T19:32:03.961Z"
   },
   {
    "duration": 136,
    "start_time": "2023-06-10T19:39:22.511Z"
   },
   {
    "duration": 13,
    "start_time": "2023-06-10T19:39:42.848Z"
   },
   {
    "duration": 94,
    "start_time": "2023-06-10T19:40:51.728Z"
   },
   {
    "duration": 7,
    "start_time": "2023-06-10T19:40:56.254Z"
   },
   {
    "duration": 12,
    "start_time": "2023-06-10T19:40:57.436Z"
   },
   {
    "duration": 8,
    "start_time": "2023-06-10T19:41:06.287Z"
   },
   {
    "duration": 12,
    "start_time": "2023-06-10T19:41:07.641Z"
   },
   {
    "duration": 14,
    "start_time": "2023-06-10T19:41:22.277Z"
   },
   {
    "duration": 12,
    "start_time": "2023-06-10T19:41:31.865Z"
   },
   {
    "duration": 10,
    "start_time": "2023-06-10T19:41:36.347Z"
   },
   {
    "duration": 11,
    "start_time": "2023-06-10T19:41:45.664Z"
   },
   {
    "duration": 11,
    "start_time": "2023-06-10T19:42:37.540Z"
   },
   {
    "duration": 11,
    "start_time": "2023-06-10T19:43:14.291Z"
   },
   {
    "duration": 11,
    "start_time": "2023-06-10T19:43:25.660Z"
   },
   {
    "duration": 14,
    "start_time": "2023-06-10T19:44:01.082Z"
   },
   {
    "duration": 7,
    "start_time": "2023-06-10T19:44:30.357Z"
   },
   {
    "duration": 22,
    "start_time": "2023-06-10T19:44:31.456Z"
   },
   {
    "duration": 12,
    "start_time": "2023-06-10T19:44:34.220Z"
   },
   {
    "duration": 14,
    "start_time": "2023-06-10T19:45:07.071Z"
   },
   {
    "duration": 11,
    "start_time": "2023-06-10T19:45:07.834Z"
   },
   {
    "duration": 15,
    "start_time": "2023-06-10T19:45:22.471Z"
   },
   {
    "duration": 14,
    "start_time": "2023-06-10T19:45:35.662Z"
   },
   {
    "duration": 11,
    "start_time": "2023-06-10T19:45:36.406Z"
   },
   {
    "duration": 13,
    "start_time": "2023-06-10T19:45:57.716Z"
   },
   {
    "duration": 16,
    "start_time": "2023-06-10T19:46:07.492Z"
   },
   {
    "duration": 336,
    "start_time": "2023-06-10T19:46:14.446Z"
   },
   {
    "duration": 1199,
    "start_time": "2023-06-10T19:49:46.607Z"
   },
   {
    "duration": 1260,
    "start_time": "2023-06-10T19:49:47.808Z"
   },
   {
    "duration": 4,
    "start_time": "2023-06-10T19:49:49.069Z"
   },
   {
    "duration": 380,
    "start_time": "2023-06-10T19:49:49.075Z"
   },
   {
    "duration": 19,
    "start_time": "2023-06-10T19:49:49.457Z"
   },
   {
    "duration": 244,
    "start_time": "2023-06-10T19:49:49.478Z"
   },
   {
    "duration": 25,
    "start_time": "2023-06-10T19:49:49.724Z"
   },
   {
    "duration": 4,
    "start_time": "2023-06-10T19:49:49.750Z"
   },
   {
    "duration": 117,
    "start_time": "2023-06-10T19:49:49.755Z"
   },
   {
    "duration": 5,
    "start_time": "2023-06-10T19:49:49.875Z"
   },
   {
    "duration": 15,
    "start_time": "2023-06-10T19:49:49.881Z"
   },
   {
    "duration": 11,
    "start_time": "2023-06-10T19:49:49.906Z"
   },
   {
    "duration": 39,
    "start_time": "2023-06-10T19:49:49.919Z"
   },
   {
    "duration": 4,
    "start_time": "2023-06-10T19:49:49.959Z"
   },
   {
    "duration": 12,
    "start_time": "2023-06-10T19:49:49.964Z"
   },
   {
    "duration": 32,
    "start_time": "2023-06-10T19:49:49.977Z"
   },
   {
    "duration": 25,
    "start_time": "2023-06-10T19:49:50.010Z"
   },
   {
    "duration": 5,
    "start_time": "2023-06-10T19:49:50.037Z"
   },
   {
    "duration": 36,
    "start_time": "2023-06-10T19:49:50.043Z"
   },
   {
    "duration": 8,
    "start_time": "2023-06-10T19:49:50.081Z"
   },
   {
    "duration": 25,
    "start_time": "2023-06-10T19:49:50.090Z"
   },
   {
    "duration": 33,
    "start_time": "2023-06-10T19:49:50.116Z"
   },
   {
    "duration": 19,
    "start_time": "2023-06-10T19:49:50.150Z"
   },
   {
    "duration": 13,
    "start_time": "2023-06-10T19:49:50.170Z"
   },
   {
    "duration": 26,
    "start_time": "2023-06-10T19:49:50.184Z"
   },
   {
    "duration": 36,
    "start_time": "2023-06-10T19:49:50.212Z"
   },
   {
    "duration": 19,
    "start_time": "2023-06-10T19:49:50.249Z"
   },
   {
    "duration": 108,
    "start_time": "2023-06-10T19:49:50.271Z"
   },
   {
    "duration": 3,
    "start_time": "2023-06-10T19:49:50.381Z"
   },
   {
    "duration": 32,
    "start_time": "2023-06-10T19:49:50.385Z"
   },
   {
    "duration": 13,
    "start_time": "2023-06-10T19:49:50.419Z"
   },
   {
    "duration": 33,
    "start_time": "2023-06-10T19:49:50.433Z"
   },
   {
    "duration": 40,
    "start_time": "2023-06-10T19:49:50.467Z"
   },
   {
    "duration": 7,
    "start_time": "2023-06-10T19:49:50.509Z"
   },
   {
    "duration": 23,
    "start_time": "2023-06-10T19:49:50.517Z"
   },
   {
    "duration": 196,
    "start_time": "2023-06-10T19:49:50.541Z"
   },
   {
    "duration": 24,
    "start_time": "2023-06-10T19:49:50.738Z"
   },
   {
    "duration": 155,
    "start_time": "2023-06-10T19:49:50.764Z"
   },
   {
    "duration": 15,
    "start_time": "2023-06-10T19:49:50.920Z"
   },
   {
    "duration": 387,
    "start_time": "2023-06-10T19:49:50.936Z"
   },
   {
    "duration": 8,
    "start_time": "2023-06-10T19:54:08.574Z"
   },
   {
    "duration": 373,
    "start_time": "2023-06-10T19:54:14.626Z"
   },
   {
    "duration": 392,
    "start_time": "2023-06-10T19:54:35.690Z"
   },
   {
    "duration": 12,
    "start_time": "2023-06-10T19:55:14.253Z"
   },
   {
    "duration": 421,
    "start_time": "2023-06-10T19:55:15.154Z"
   },
   {
    "duration": 345,
    "start_time": "2023-06-10T19:55:23.554Z"
   },
   {
    "duration": 31,
    "start_time": "2023-06-10T20:42:17.713Z"
   },
   {
    "duration": 210,
    "start_time": "2023-06-10T20:42:53.577Z"
   },
   {
    "duration": 199,
    "start_time": "2023-06-10T20:43:07.157Z"
   },
   {
    "duration": 17,
    "start_time": "2023-06-10T20:45:47.749Z"
   },
   {
    "duration": 23,
    "start_time": "2023-06-10T20:45:54.306Z"
   },
   {
    "duration": 19,
    "start_time": "2023-06-10T20:49:43.770Z"
   },
   {
    "duration": 20,
    "start_time": "2023-06-10T20:49:49.573Z"
   },
   {
    "duration": 2,
    "start_time": "2023-06-10T20:52:07.127Z"
   },
   {
    "duration": 8,
    "start_time": "2023-06-10T20:53:23.167Z"
   },
   {
    "duration": 497,
    "start_time": "2023-06-10T20:54:24.385Z"
   },
   {
    "duration": 8,
    "start_time": "2023-06-10T20:54:39.821Z"
   },
   {
    "duration": 17,
    "start_time": "2023-06-10T20:55:43.372Z"
   },
   {
    "duration": 21,
    "start_time": "2023-06-10T20:56:26.994Z"
   },
   {
    "duration": 140,
    "start_time": "2023-06-10T20:57:04.260Z"
   },
   {
    "duration": 51,
    "start_time": "2023-06-10T20:57:18.580Z"
   },
   {
    "duration": 19,
    "start_time": "2023-06-10T20:58:09.871Z"
   },
   {
    "duration": 43,
    "start_time": "2023-06-10T20:58:10.792Z"
   },
   {
    "duration": 47,
    "start_time": "2023-06-10T20:58:18.471Z"
   },
   {
    "duration": 19,
    "start_time": "2023-06-10T20:58:55.778Z"
   },
   {
    "duration": 40,
    "start_time": "2023-06-10T20:58:56.511Z"
   },
   {
    "duration": 1873,
    "start_time": "2023-06-10T20:59:39.432Z"
   },
   {
    "duration": 0,
    "start_time": "2023-06-10T20:59:41.307Z"
   },
   {
    "duration": 19,
    "start_time": "2023-06-10T21:01:35.333Z"
   },
   {
    "duration": 22,
    "start_time": "2023-06-10T21:01:45.073Z"
   },
   {
    "duration": 19,
    "start_time": "2023-06-10T21:02:29.765Z"
   },
   {
    "duration": 40,
    "start_time": "2023-06-10T21:02:32.973Z"
   },
   {
    "duration": 15,
    "start_time": "2023-06-10T21:03:46.503Z"
   },
   {
    "duration": 18,
    "start_time": "2023-06-10T21:03:51.022Z"
   },
   {
    "duration": 40,
    "start_time": "2023-06-10T21:03:56.367Z"
   },
   {
    "duration": 38,
    "start_time": "2023-06-10T21:04:46.684Z"
   },
   {
    "duration": 109,
    "start_time": "2023-06-10T21:05:12.861Z"
   },
   {
    "duration": 114,
    "start_time": "2023-06-10T21:05:19.865Z"
   },
   {
    "duration": 103,
    "start_time": "2023-06-10T21:06:22.181Z"
   },
   {
    "duration": 12,
    "start_time": "2023-06-10T21:06:42.583Z"
   },
   {
    "duration": 10,
    "start_time": "2023-06-10T21:07:05.719Z"
   },
   {
    "duration": 10,
    "start_time": "2023-06-10T21:07:36.801Z"
   },
   {
    "duration": 9,
    "start_time": "2023-06-10T21:07:40.706Z"
   },
   {
    "duration": 10,
    "start_time": "2023-06-10T21:10:04.662Z"
   },
   {
    "duration": 17,
    "start_time": "2023-06-10T21:11:33.925Z"
   },
   {
    "duration": 41,
    "start_time": "2023-06-10T21:12:35.873Z"
   },
   {
    "duration": 39,
    "start_time": "2023-06-10T21:12:59.331Z"
   },
   {
    "duration": 19,
    "start_time": "2023-06-10T21:13:10.688Z"
   },
   {
    "duration": 18,
    "start_time": "2023-06-10T21:13:18.464Z"
   },
   {
    "duration": 19,
    "start_time": "2023-06-10T21:13:38.313Z"
   },
   {
    "duration": 17,
    "start_time": "2023-06-10T21:14:02.224Z"
   },
   {
    "duration": 17,
    "start_time": "2023-06-10T21:14:12.686Z"
   },
   {
    "duration": 17,
    "start_time": "2023-06-10T21:14:24.763Z"
   },
   {
    "duration": 23,
    "start_time": "2023-06-10T21:14:42.380Z"
   },
   {
    "duration": 39,
    "start_time": "2023-06-10T21:14:45.885Z"
   },
   {
    "duration": 11,
    "start_time": "2023-06-10T21:19:21.969Z"
   },
   {
    "duration": 21,
    "start_time": "2023-06-10T21:20:38.167Z"
   },
   {
    "duration": 39,
    "start_time": "2023-06-10T21:23:38.986Z"
   },
   {
    "duration": 17,
    "start_time": "2023-06-10T21:26:20.955Z"
   },
   {
    "duration": 6,
    "start_time": "2023-06-10T21:28:23.086Z"
   },
   {
    "duration": 11,
    "start_time": "2023-06-10T21:28:30.701Z"
   },
   {
    "duration": 13,
    "start_time": "2023-06-10T21:29:31.607Z"
   },
   {
    "duration": 15,
    "start_time": "2023-06-10T21:29:55.682Z"
   },
   {
    "duration": 21,
    "start_time": "2023-06-10T21:31:37.475Z"
   },
   {
    "duration": 1818,
    "start_time": "2023-06-10T21:33:07.485Z"
   },
   {
    "duration": 23,
    "start_time": "2023-06-10T21:35:28.066Z"
   },
   {
    "duration": 40,
    "start_time": "2023-06-10T21:35:29.005Z"
   },
   {
    "duration": 5,
    "start_time": "2023-06-10T21:37:10.253Z"
   },
   {
    "duration": 2,
    "start_time": "2023-06-10T21:37:22.750Z"
   },
   {
    "duration": 21,
    "start_time": "2023-06-10T21:38:58.186Z"
   },
   {
    "duration": 1780,
    "start_time": "2023-06-10T21:40:08.459Z"
   },
   {
    "duration": 1860,
    "start_time": "2023-06-10T21:40:31.079Z"
   },
   {
    "duration": 21,
    "start_time": "2023-06-10T21:41:03.876Z"
   },
   {
    "duration": 19,
    "start_time": "2023-06-10T21:41:41.725Z"
   },
   {
    "duration": 6,
    "start_time": "2023-06-10T21:41:43.725Z"
   },
   {
    "duration": 2,
    "start_time": "2023-06-10T21:41:45.597Z"
   },
   {
    "duration": 10,
    "start_time": "2023-06-10T21:42:15.417Z"
   },
   {
    "duration": 11,
    "start_time": "2023-06-10T21:45:12.701Z"
   },
   {
    "duration": 3,
    "start_time": "2023-06-10T21:49:00.106Z"
   },
   {
    "duration": 9,
    "start_time": "2023-06-10T21:49:00.905Z"
   },
   {
    "duration": 3,
    "start_time": "2023-06-10T21:51:06.374Z"
   },
   {
    "duration": 10,
    "start_time": "2023-06-10T21:51:07.088Z"
   },
   {
    "duration": 6,
    "start_time": "2023-06-10T22:04:26.557Z"
   },
   {
    "duration": 20,
    "start_time": "2023-06-10T22:11:08.293Z"
   },
   {
    "duration": 5,
    "start_time": "2023-06-10T22:11:09.406Z"
   },
   {
    "duration": 3,
    "start_time": "2023-06-10T22:11:11.867Z"
   },
   {
    "duration": 14,
    "start_time": "2023-06-10T22:11:12.670Z"
   },
   {
    "duration": 4,
    "start_time": "2023-06-10T22:11:30.162Z"
   },
   {
    "duration": 7,
    "start_time": "2023-06-10T22:11:43.012Z"
   },
   {
    "duration": 2,
    "start_time": "2023-06-10T22:11:44.673Z"
   },
   {
    "duration": 1846,
    "start_time": "2023-06-10T22:11:45.406Z"
   },
   {
    "duration": 20,
    "start_time": "2023-06-10T22:12:02.200Z"
   },
   {
    "duration": 6,
    "start_time": "2023-06-10T22:12:38.196Z"
   },
   {
    "duration": 2,
    "start_time": "2023-06-10T22:12:38.454Z"
   },
   {
    "duration": 11,
    "start_time": "2023-06-10T22:12:39.087Z"
   },
   {
    "duration": 16,
    "start_time": "2023-06-10T22:14:20.967Z"
   },
   {
    "duration": 5,
    "start_time": "2023-06-10T22:14:21.662Z"
   },
   {
    "duration": 3,
    "start_time": "2023-06-10T22:14:22.861Z"
   },
   {
    "duration": 9,
    "start_time": "2023-06-10T22:14:23.502Z"
   },
   {
    "duration": 3,
    "start_time": "2023-06-10T22:14:41.161Z"
   },
   {
    "duration": 8,
    "start_time": "2023-06-10T22:14:41.602Z"
   },
   {
    "duration": 1085,
    "start_time": "2023-06-10T22:15:17.033Z"
   },
   {
    "duration": 1676,
    "start_time": "2023-06-10T22:15:18.120Z"
   },
   {
    "duration": 4,
    "start_time": "2023-06-10T22:15:19.798Z"
   },
   {
    "duration": 343,
    "start_time": "2023-06-10T22:15:19.803Z"
   },
   {
    "duration": 20,
    "start_time": "2023-06-10T22:15:20.147Z"
   },
   {
    "duration": 254,
    "start_time": "2023-06-10T22:15:20.168Z"
   },
   {
    "duration": 26,
    "start_time": "2023-06-10T22:15:20.424Z"
   },
   {
    "duration": 10,
    "start_time": "2023-06-10T22:15:20.451Z"
   },
   {
    "duration": 107,
    "start_time": "2023-06-10T22:15:20.462Z"
   },
   {
    "duration": 5,
    "start_time": "2023-06-10T22:15:20.571Z"
   },
   {
    "duration": 41,
    "start_time": "2023-06-10T22:15:20.577Z"
   },
   {
    "duration": 30,
    "start_time": "2023-06-10T22:15:20.620Z"
   },
   {
    "duration": 54,
    "start_time": "2023-06-10T22:15:20.652Z"
   },
   {
    "duration": 4,
    "start_time": "2023-06-10T22:15:20.707Z"
   },
   {
    "duration": 54,
    "start_time": "2023-06-10T22:15:20.712Z"
   },
   {
    "duration": 4,
    "start_time": "2023-06-10T22:15:20.767Z"
   },
   {
    "duration": 28,
    "start_time": "2023-06-10T22:15:20.773Z"
   },
   {
    "duration": 5,
    "start_time": "2023-06-10T22:15:20.802Z"
   },
   {
    "duration": 30,
    "start_time": "2023-06-10T22:15:20.808Z"
   },
   {
    "duration": 9,
    "start_time": "2023-06-10T22:15:20.839Z"
   },
   {
    "duration": 14,
    "start_time": "2023-06-10T22:15:20.849Z"
   },
   {
    "duration": 10,
    "start_time": "2023-06-10T22:15:20.865Z"
   },
   {
    "duration": 18,
    "start_time": "2023-06-10T22:15:20.877Z"
   },
   {
    "duration": 18,
    "start_time": "2023-06-10T22:15:20.897Z"
   },
   {
    "duration": 8,
    "start_time": "2023-06-10T22:15:20.917Z"
   },
   {
    "duration": 9,
    "start_time": "2023-06-10T22:15:20.927Z"
   },
   {
    "duration": 7,
    "start_time": "2023-06-10T22:15:20.937Z"
   },
   {
    "duration": 128,
    "start_time": "2023-06-10T22:15:20.947Z"
   },
   {
    "duration": 4,
    "start_time": "2023-06-10T22:15:21.077Z"
   },
   {
    "duration": 7,
    "start_time": "2023-06-10T22:15:21.082Z"
   },
   {
    "duration": 17,
    "start_time": "2023-06-10T22:15:21.091Z"
   },
   {
    "duration": 4,
    "start_time": "2023-06-10T22:15:21.109Z"
   },
   {
    "duration": 30,
    "start_time": "2023-06-10T22:15:21.114Z"
   },
   {
    "duration": 8,
    "start_time": "2023-06-10T22:15:21.145Z"
   },
   {
    "duration": 215,
    "start_time": "2023-06-10T22:15:21.154Z"
   },
   {
    "duration": 24,
    "start_time": "2023-06-10T22:15:21.370Z"
   },
   {
    "duration": 145,
    "start_time": "2023-06-10T22:15:21.395Z"
   },
   {
    "duration": 11,
    "start_time": "2023-06-10T22:15:21.542Z"
   },
   {
    "duration": 355,
    "start_time": "2023-06-10T22:15:21.555Z"
   },
   {
    "duration": 19,
    "start_time": "2023-06-10T22:15:21.912Z"
   },
   {
    "duration": 6,
    "start_time": "2023-06-10T22:15:21.933Z"
   },
   {
    "duration": 431,
    "start_time": "2023-06-10T22:15:21.941Z"
   },
   {
    "duration": 38,
    "start_time": "2023-06-10T22:15:22.373Z"
   },
   {
    "duration": 30,
    "start_time": "2023-06-10T22:15:22.413Z"
   },
   {
    "duration": 187,
    "start_time": "2023-06-10T22:15:22.445Z"
   },
   {
    "duration": 0,
    "start_time": "2023-06-10T22:15:22.633Z"
   },
   {
    "duration": 0,
    "start_time": "2023-06-10T22:15:22.634Z"
   },
   {
    "duration": 0,
    "start_time": "2023-06-10T22:15:22.636Z"
   },
   {
    "duration": 0,
    "start_time": "2023-06-10T22:15:22.637Z"
   },
   {
    "duration": 110,
    "start_time": "2023-06-10T22:29:21.936Z"
   },
   {
    "duration": 192,
    "start_time": "2023-06-10T22:29:28.803Z"
   },
   {
    "duration": 13,
    "start_time": "2023-06-10T22:34:01.729Z"
   },
   {
    "duration": 351,
    "start_time": "2023-06-10T22:34:02.442Z"
   },
   {
    "duration": 15,
    "start_time": "2023-06-10T22:37:32.503Z"
   },
   {
    "duration": 22,
    "start_time": "2023-06-10T22:42:41.790Z"
   },
   {
    "duration": 9,
    "start_time": "2023-06-10T22:42:55.542Z"
   },
   {
    "duration": 41,
    "start_time": "2023-06-10T22:43:01.902Z"
   },
   {
    "duration": 108,
    "start_time": "2023-06-10T22:45:30.972Z"
   },
   {
    "duration": 107,
    "start_time": "2023-06-10T22:45:39.582Z"
   },
   {
    "duration": 5,
    "start_time": "2023-06-10T22:45:47.729Z"
   },
   {
    "duration": 4,
    "start_time": "2023-06-10T22:51:08.124Z"
   },
   {
    "duration": 20,
    "start_time": "2023-06-10T22:56:44.262Z"
   },
   {
    "duration": 5,
    "start_time": "2023-06-10T22:56:57.825Z"
   },
   {
    "duration": 3,
    "start_time": "2023-06-10T22:56:59.139Z"
   },
   {
    "duration": 8,
    "start_time": "2023-06-10T22:57:00.504Z"
   },
   {
    "duration": 9,
    "start_time": "2023-06-10T23:04:39.160Z"
   },
   {
    "duration": 350,
    "start_time": "2023-06-10T23:04:39.949Z"
   },
   {
    "duration": 9,
    "start_time": "2023-06-10T23:04:51.728Z"
   },
   {
    "duration": 435,
    "start_time": "2023-06-10T23:04:52.383Z"
   },
   {
    "duration": 9,
    "start_time": "2023-06-10T23:05:07.690Z"
   },
   {
    "duration": 1160,
    "start_time": "2023-06-10T23:05:13.089Z"
   },
   {
    "duration": 1149,
    "start_time": "2023-06-10T23:05:14.251Z"
   },
   {
    "duration": 3,
    "start_time": "2023-06-10T23:05:15.401Z"
   },
   {
    "duration": 346,
    "start_time": "2023-06-10T23:05:15.406Z"
   },
   {
    "duration": 20,
    "start_time": "2023-06-10T23:05:15.754Z"
   },
   {
    "duration": 248,
    "start_time": "2023-06-10T23:05:15.775Z"
   },
   {
    "duration": 25,
    "start_time": "2023-06-10T23:05:16.024Z"
   },
   {
    "duration": 4,
    "start_time": "2023-06-10T23:05:16.050Z"
   },
   {
    "duration": 115,
    "start_time": "2023-06-10T23:05:16.055Z"
   },
   {
    "duration": 5,
    "start_time": "2023-06-10T23:05:16.173Z"
   },
   {
    "duration": 15,
    "start_time": "2023-06-10T23:05:16.179Z"
   },
   {
    "duration": 26,
    "start_time": "2023-06-10T23:05:16.196Z"
   },
   {
    "duration": 47,
    "start_time": "2023-06-10T23:05:16.224Z"
   },
   {
    "duration": 4,
    "start_time": "2023-06-10T23:05:16.273Z"
   },
   {
    "duration": 15,
    "start_time": "2023-06-10T23:05:16.278Z"
   },
   {
    "duration": 13,
    "start_time": "2023-06-10T23:05:16.295Z"
   },
   {
    "duration": 24,
    "start_time": "2023-06-10T23:05:16.310Z"
   },
   {
    "duration": 5,
    "start_time": "2023-06-10T23:05:16.336Z"
   },
   {
    "duration": 34,
    "start_time": "2023-06-10T23:05:16.342Z"
   },
   {
    "duration": 8,
    "start_time": "2023-06-10T23:05:16.378Z"
   },
   {
    "duration": 26,
    "start_time": "2023-06-10T23:05:16.387Z"
   },
   {
    "duration": 5,
    "start_time": "2023-06-10T23:05:16.414Z"
   },
   {
    "duration": 15,
    "start_time": "2023-06-10T23:05:16.421Z"
   },
   {
    "duration": 12,
    "start_time": "2023-06-10T23:05:16.438Z"
   },
   {
    "duration": 9,
    "start_time": "2023-06-10T23:05:16.451Z"
   },
   {
    "duration": 9,
    "start_time": "2023-06-10T23:05:16.462Z"
   },
   {
    "duration": 37,
    "start_time": "2023-06-10T23:05:16.473Z"
   },
   {
    "duration": 115,
    "start_time": "2023-06-10T23:05:16.513Z"
   },
   {
    "duration": 3,
    "start_time": "2023-06-10T23:05:16.630Z"
   },
   {
    "duration": 9,
    "start_time": "2023-06-10T23:05:16.634Z"
   },
   {
    "duration": 11,
    "start_time": "2023-06-10T23:05:16.644Z"
   },
   {
    "duration": 4,
    "start_time": "2023-06-10T23:05:16.656Z"
   },
   {
    "duration": 30,
    "start_time": "2023-06-10T23:05:16.661Z"
   },
   {
    "duration": 8,
    "start_time": "2023-06-10T23:05:16.706Z"
   },
   {
    "duration": 212,
    "start_time": "2023-06-10T23:05:16.715Z"
   },
   {
    "duration": 26,
    "start_time": "2023-06-10T23:05:16.928Z"
   },
   {
    "duration": 155,
    "start_time": "2023-06-10T23:05:16.956Z"
   },
   {
    "duration": 8,
    "start_time": "2023-06-10T23:05:17.112Z"
   },
   {
    "duration": 94,
    "start_time": "2023-06-10T23:05:17.121Z"
   },
   {
    "duration": 0,
    "start_time": "2023-06-10T23:05:17.216Z"
   },
   {
    "duration": 0,
    "start_time": "2023-06-10T23:05:17.217Z"
   },
   {
    "duration": 0,
    "start_time": "2023-06-10T23:05:17.218Z"
   },
   {
    "duration": 0,
    "start_time": "2023-06-10T23:05:17.220Z"
   },
   {
    "duration": 0,
    "start_time": "2023-06-10T23:05:17.221Z"
   },
   {
    "duration": 0,
    "start_time": "2023-06-10T23:05:17.222Z"
   },
   {
    "duration": 0,
    "start_time": "2023-06-10T23:05:17.223Z"
   },
   {
    "duration": 0,
    "start_time": "2023-06-10T23:05:17.224Z"
   },
   {
    "duration": 0,
    "start_time": "2023-06-10T23:05:17.225Z"
   },
   {
    "duration": 382,
    "start_time": "2023-06-10T23:05:28.862Z"
   },
   {
    "duration": 12,
    "start_time": "2023-06-10T23:06:09.626Z"
   },
   {
    "duration": 8,
    "start_time": "2023-06-10T23:06:11.162Z"
   },
   {
    "duration": 345,
    "start_time": "2023-06-10T23:06:11.945Z"
   },
   {
    "duration": 1116,
    "start_time": "2023-06-10T23:08:06.530Z"
   },
   {
    "duration": 1074,
    "start_time": "2023-06-10T23:08:07.648Z"
   },
   {
    "duration": 3,
    "start_time": "2023-06-10T23:08:08.723Z"
   },
   {
    "duration": 344,
    "start_time": "2023-06-10T23:08:08.728Z"
   },
   {
    "duration": 20,
    "start_time": "2023-06-10T23:08:09.074Z"
   },
   {
    "duration": 247,
    "start_time": "2023-06-10T23:08:09.095Z"
   },
   {
    "duration": 25,
    "start_time": "2023-06-10T23:08:09.344Z"
   },
   {
    "duration": 4,
    "start_time": "2023-06-10T23:08:09.370Z"
   },
   {
    "duration": 106,
    "start_time": "2023-06-10T23:08:09.376Z"
   },
   {
    "duration": 5,
    "start_time": "2023-06-10T23:08:09.485Z"
   },
   {
    "duration": 12,
    "start_time": "2023-06-10T23:08:09.505Z"
   },
   {
    "duration": 11,
    "start_time": "2023-06-10T23:08:09.518Z"
   },
   {
    "duration": 36,
    "start_time": "2023-06-10T23:08:09.531Z"
   },
   {
    "duration": 4,
    "start_time": "2023-06-10T23:08:09.569Z"
   },
   {
    "duration": 32,
    "start_time": "2023-06-10T23:08:09.574Z"
   },
   {
    "duration": 5,
    "start_time": "2023-06-10T23:08:09.608Z"
   },
   {
    "duration": 45,
    "start_time": "2023-06-10T23:08:09.614Z"
   },
   {
    "duration": 5,
    "start_time": "2023-06-10T23:08:09.660Z"
   },
   {
    "duration": 37,
    "start_time": "2023-06-10T23:08:09.667Z"
   },
   {
    "duration": 8,
    "start_time": "2023-06-10T23:08:09.706Z"
   },
   {
    "duration": 17,
    "start_time": "2023-06-10T23:08:09.715Z"
   },
   {
    "duration": 5,
    "start_time": "2023-06-10T23:08:09.733Z"
   },
   {
    "duration": 15,
    "start_time": "2023-06-10T23:08:09.739Z"
   },
   {
    "duration": 12,
    "start_time": "2023-06-10T23:08:09.755Z"
   },
   {
    "duration": 8,
    "start_time": "2023-06-10T23:08:09.769Z"
   },
   {
    "duration": 31,
    "start_time": "2023-06-10T23:08:09.779Z"
   },
   {
    "duration": 6,
    "start_time": "2023-06-10T23:08:09.812Z"
   },
   {
    "duration": 115,
    "start_time": "2023-06-10T23:08:09.821Z"
   },
   {
    "duration": 3,
    "start_time": "2023-06-10T23:08:09.938Z"
   },
   {
    "duration": 18,
    "start_time": "2023-06-10T23:08:09.942Z"
   },
   {
    "duration": 5,
    "start_time": "2023-06-10T23:08:09.961Z"
   },
   {
    "duration": 4,
    "start_time": "2023-06-10T23:08:09.968Z"
   },
   {
    "duration": 44,
    "start_time": "2023-06-10T23:08:09.973Z"
   },
   {
    "duration": 8,
    "start_time": "2023-06-10T23:08:10.018Z"
   },
   {
    "duration": 211,
    "start_time": "2023-06-10T23:08:10.027Z"
   },
   {
    "duration": 24,
    "start_time": "2023-06-10T23:08:10.239Z"
   },
   {
    "duration": 148,
    "start_time": "2023-06-10T23:08:10.264Z"
   },
   {
    "duration": 12,
    "start_time": "2023-06-10T23:08:10.414Z"
   },
   {
    "duration": 346,
    "start_time": "2023-06-10T23:08:10.427Z"
   },
   {
    "duration": 14,
    "start_time": "2023-06-10T23:08:10.775Z"
   },
   {
    "duration": 35,
    "start_time": "2023-06-10T23:08:10.790Z"
   },
   {
    "duration": 389,
    "start_time": "2023-06-10T23:08:10.826Z"
   },
   {
    "duration": 4,
    "start_time": "2023-06-10T23:08:11.217Z"
   },
   {
    "duration": 29,
    "start_time": "2023-06-10T23:08:11.222Z"
   },
   {
    "duration": 6,
    "start_time": "2023-06-10T23:08:11.252Z"
   },
   {
    "duration": 47,
    "start_time": "2023-06-10T23:08:11.259Z"
   },
   {
    "duration": 18,
    "start_time": "2023-06-10T23:08:11.308Z"
   },
   {
    "duration": 1222,
    "start_time": "2023-06-10T23:24:12.059Z"
   },
   {
    "duration": 1657,
    "start_time": "2023-06-10T23:24:13.283Z"
   },
   {
    "duration": 5,
    "start_time": "2023-06-10T23:24:14.941Z"
   },
   {
    "duration": 416,
    "start_time": "2023-06-10T23:24:14.948Z"
   },
   {
    "duration": 29,
    "start_time": "2023-06-10T23:24:15.366Z"
   },
   {
    "duration": 277,
    "start_time": "2023-06-10T23:24:15.397Z"
   },
   {
    "duration": 32,
    "start_time": "2023-06-10T23:24:15.676Z"
   },
   {
    "duration": 4,
    "start_time": "2023-06-10T23:24:15.709Z"
   },
   {
    "duration": 144,
    "start_time": "2023-06-10T23:24:15.715Z"
   },
   {
    "duration": 17,
    "start_time": "2023-06-10T23:24:15.862Z"
   },
   {
    "duration": 18,
    "start_time": "2023-06-10T23:24:15.889Z"
   },
   {
    "duration": 21,
    "start_time": "2023-06-10T23:24:15.908Z"
   },
   {
    "duration": 54,
    "start_time": "2023-06-10T23:24:15.931Z"
   },
   {
    "duration": 5,
    "start_time": "2023-06-10T23:24:15.988Z"
   },
   {
    "duration": 20,
    "start_time": "2023-06-10T23:24:15.994Z"
   },
   {
    "duration": 6,
    "start_time": "2023-06-10T23:24:16.015Z"
   },
   {
    "duration": 28,
    "start_time": "2023-06-10T23:24:16.022Z"
   },
   {
    "duration": 6,
    "start_time": "2023-06-10T23:24:16.052Z"
   },
   {
    "duration": 44,
    "start_time": "2023-06-10T23:24:16.077Z"
   },
   {
    "duration": 10,
    "start_time": "2023-06-10T23:24:16.122Z"
   },
   {
    "duration": 14,
    "start_time": "2023-06-10T23:24:16.133Z"
   },
   {
    "duration": 5,
    "start_time": "2023-06-10T23:24:16.148Z"
   },
   {
    "duration": 32,
    "start_time": "2023-06-10T23:24:16.155Z"
   },
   {
    "duration": 14,
    "start_time": "2023-06-10T23:24:16.188Z"
   },
   {
    "duration": 11,
    "start_time": "2023-06-10T23:24:16.203Z"
   },
   {
    "duration": 11,
    "start_time": "2023-06-10T23:24:16.216Z"
   },
   {
    "duration": 9,
    "start_time": "2023-06-10T23:24:16.229Z"
   },
   {
    "duration": 159,
    "start_time": "2023-06-10T23:24:16.241Z"
   },
   {
    "duration": 4,
    "start_time": "2023-06-10T23:24:16.402Z"
   },
   {
    "duration": 11,
    "start_time": "2023-06-10T23:24:16.407Z"
   },
   {
    "duration": 16,
    "start_time": "2023-06-10T23:24:16.419Z"
   },
   {
    "duration": 10,
    "start_time": "2023-06-10T23:24:16.437Z"
   },
   {
    "duration": 50,
    "start_time": "2023-06-10T23:24:16.449Z"
   },
   {
    "duration": 8,
    "start_time": "2023-06-10T23:24:16.501Z"
   },
   {
    "duration": 243,
    "start_time": "2023-06-10T23:24:16.511Z"
   },
   {
    "duration": 38,
    "start_time": "2023-06-10T23:24:16.755Z"
   },
   {
    "duration": 173,
    "start_time": "2023-06-10T23:24:16.795Z"
   },
   {
    "duration": 18,
    "start_time": "2023-06-10T23:24:16.977Z"
   },
   {
    "duration": 416,
    "start_time": "2023-06-10T23:24:16.997Z"
   },
   {
    "duration": 17,
    "start_time": "2023-06-10T23:24:17.416Z"
   },
   {
    "duration": 54,
    "start_time": "2023-06-10T23:24:17.435Z"
   },
   {
    "duration": 1025,
    "start_time": "2023-06-10T23:24:17.491Z"
   },
   {
    "duration": 5,
    "start_time": "2023-06-10T23:24:18.517Z"
   },
   {
    "duration": 68,
    "start_time": "2023-06-10T23:24:18.523Z"
   },
   {
    "duration": 7,
    "start_time": "2023-06-10T23:24:18.592Z"
   },
   {
    "duration": 8,
    "start_time": "2023-06-10T23:24:18.601Z"
   },
   {
    "duration": 22,
    "start_time": "2023-06-10T23:24:18.610Z"
   },
   {
    "duration": 6,
    "start_time": "2023-06-10T23:28:19.152Z"
   },
   {
    "duration": 3,
    "start_time": "2023-06-10T23:28:20.612Z"
   },
   {
    "duration": 11,
    "start_time": "2023-06-10T23:28:23.107Z"
   },
   {
    "duration": 1081,
    "start_time": "2023-06-10T23:46:44.063Z"
   },
   {
    "duration": 1425,
    "start_time": "2023-06-10T23:46:45.145Z"
   },
   {
    "duration": 3,
    "start_time": "2023-06-10T23:46:46.571Z"
   },
   {
    "duration": 341,
    "start_time": "2023-06-10T23:46:46.576Z"
   },
   {
    "duration": 20,
    "start_time": "2023-06-10T23:46:46.919Z"
   },
   {
    "duration": 248,
    "start_time": "2023-06-10T23:46:46.940Z"
   },
   {
    "duration": 34,
    "start_time": "2023-06-10T23:46:47.190Z"
   },
   {
    "duration": 4,
    "start_time": "2023-06-10T23:46:47.226Z"
   },
   {
    "duration": 119,
    "start_time": "2023-06-10T23:46:47.231Z"
   },
   {
    "duration": 7,
    "start_time": "2023-06-10T23:46:47.352Z"
   },
   {
    "duration": 11,
    "start_time": "2023-06-10T23:46:47.360Z"
   },
   {
    "duration": 34,
    "start_time": "2023-06-10T23:46:47.372Z"
   },
   {
    "duration": 44,
    "start_time": "2023-06-10T23:46:47.408Z"
   },
   {
    "duration": 5,
    "start_time": "2023-06-10T23:46:47.453Z"
   },
   {
    "duration": 13,
    "start_time": "2023-06-10T23:46:47.460Z"
   },
   {
    "duration": 35,
    "start_time": "2023-06-10T23:46:47.475Z"
   },
   {
    "duration": 28,
    "start_time": "2023-06-10T23:46:47.512Z"
   },
   {
    "duration": 5,
    "start_time": "2023-06-10T23:46:47.542Z"
   },
   {
    "duration": 36,
    "start_time": "2023-06-10T23:46:47.549Z"
   },
   {
    "duration": 28,
    "start_time": "2023-06-10T23:46:47.586Z"
   },
   {
    "duration": 20,
    "start_time": "2023-06-10T23:46:47.615Z"
   },
   {
    "duration": 6,
    "start_time": "2023-06-10T23:46:47.636Z"
   },
   {
    "duration": 25,
    "start_time": "2023-06-10T23:46:47.644Z"
   },
   {
    "duration": 13,
    "start_time": "2023-06-10T23:46:47.670Z"
   },
   {
    "duration": 26,
    "start_time": "2023-06-10T23:46:47.685Z"
   },
   {
    "duration": 17,
    "start_time": "2023-06-10T23:46:47.712Z"
   },
   {
    "duration": 21,
    "start_time": "2023-06-10T23:46:47.730Z"
   },
   {
    "duration": 119,
    "start_time": "2023-06-10T23:46:47.755Z"
   },
   {
    "duration": 4,
    "start_time": "2023-06-10T23:46:47.875Z"
   },
   {
    "duration": 11,
    "start_time": "2023-06-10T23:46:47.880Z"
   },
   {
    "duration": 16,
    "start_time": "2023-06-10T23:46:47.892Z"
   },
   {
    "duration": 4,
    "start_time": "2023-06-10T23:46:47.909Z"
   },
   {
    "duration": 33,
    "start_time": "2023-06-10T23:46:47.914Z"
   },
   {
    "duration": 7,
    "start_time": "2023-06-10T23:46:47.949Z"
   },
   {
    "duration": 230,
    "start_time": "2023-06-10T23:46:47.958Z"
   },
   {
    "duration": 30,
    "start_time": "2023-06-10T23:46:48.190Z"
   },
   {
    "duration": 152,
    "start_time": "2023-06-10T23:46:48.221Z"
   },
   {
    "duration": 12,
    "start_time": "2023-06-10T23:46:48.374Z"
   },
   {
    "duration": 382,
    "start_time": "2023-06-10T23:46:48.387Z"
   },
   {
    "duration": 16,
    "start_time": "2023-06-10T23:46:48.771Z"
   },
   {
    "duration": 34,
    "start_time": "2023-06-10T23:46:48.789Z"
   },
   {
    "duration": 387,
    "start_time": "2023-06-10T23:46:48.824Z"
   },
   {
    "duration": 5,
    "start_time": "2023-06-10T23:46:49.213Z"
   },
   {
    "duration": 27,
    "start_time": "2023-06-10T23:46:49.220Z"
   },
   {
    "duration": 7,
    "start_time": "2023-06-10T23:46:49.249Z"
   },
   {
    "duration": 3,
    "start_time": "2023-06-10T23:46:49.306Z"
   },
   {
    "duration": 20,
    "start_time": "2023-06-10T23:46:49.310Z"
   },
   {
    "duration": 164,
    "start_time": "2023-06-10T23:47:53.602Z"
   },
   {
    "duration": 40,
    "start_time": "2023-06-10T23:49:11.797Z"
   },
   {
    "duration": 14,
    "start_time": "2023-06-10T23:52:19.449Z"
   },
   {
    "duration": 13,
    "start_time": "2023-06-10T23:52:29.800Z"
   },
   {
    "duration": 256,
    "start_time": "2023-06-10T23:53:16.696Z"
   },
   {
    "duration": 12,
    "start_time": "2023-06-10T23:55:18.047Z"
   },
   {
    "duration": 223,
    "start_time": "2023-06-10T23:55:25.746Z"
   },
   {
    "duration": 13,
    "start_time": "2023-06-11T00:04:33.872Z"
   },
   {
    "duration": 11,
    "start_time": "2023-06-11T00:04:43.948Z"
   },
   {
    "duration": 10,
    "start_time": "2023-06-11T00:06:22.081Z"
   },
   {
    "duration": 9,
    "start_time": "2023-06-11T00:06:34.051Z"
   },
   {
    "duration": 10,
    "start_time": "2023-06-11T00:06:42.946Z"
   },
   {
    "duration": 9,
    "start_time": "2023-06-11T00:07:34.807Z"
   },
   {
    "duration": 10,
    "start_time": "2023-06-11T00:08:02.256Z"
   },
   {
    "duration": 10,
    "start_time": "2023-06-11T00:08:12.944Z"
   },
   {
    "duration": 134,
    "start_time": "2023-06-11T00:08:25.463Z"
   },
   {
    "duration": 9,
    "start_time": "2023-06-11T00:08:30.018Z"
   },
   {
    "duration": 11,
    "start_time": "2023-06-11T00:11:41.706Z"
   },
   {
    "duration": 15,
    "start_time": "2023-06-11T00:12:30.184Z"
   },
   {
    "duration": 12,
    "start_time": "2023-06-11T00:13:55.126Z"
   },
   {
    "duration": 8,
    "start_time": "2023-06-11T00:19:12.093Z"
   },
   {
    "duration": 8,
    "start_time": "2023-06-11T00:19:46.854Z"
   },
   {
    "duration": 9,
    "start_time": "2023-06-11T00:20:36.775Z"
   },
   {
    "duration": 1121,
    "start_time": "2023-06-11T00:25:16.116Z"
   },
   {
    "duration": 1641,
    "start_time": "2023-06-11T00:25:17.239Z"
   },
   {
    "duration": 4,
    "start_time": "2023-06-11T00:25:18.881Z"
   },
   {
    "duration": 334,
    "start_time": "2023-06-11T00:25:18.886Z"
   },
   {
    "duration": 20,
    "start_time": "2023-06-11T00:25:19.223Z"
   },
   {
    "duration": 251,
    "start_time": "2023-06-11T00:25:19.244Z"
   },
   {
    "duration": 30,
    "start_time": "2023-06-11T00:25:19.497Z"
   },
   {
    "duration": 5,
    "start_time": "2023-06-11T00:25:19.528Z"
   },
   {
    "duration": 114,
    "start_time": "2023-06-11T00:25:19.535Z"
   },
   {
    "duration": 7,
    "start_time": "2023-06-11T00:25:19.651Z"
   },
   {
    "duration": 12,
    "start_time": "2023-06-11T00:25:19.659Z"
   },
   {
    "duration": 13,
    "start_time": "2023-06-11T00:25:19.672Z"
   },
   {
    "duration": 56,
    "start_time": "2023-06-11T00:25:19.686Z"
   },
   {
    "duration": 4,
    "start_time": "2023-06-11T00:25:19.744Z"
   },
   {
    "duration": 22,
    "start_time": "2023-06-11T00:25:19.749Z"
   },
   {
    "duration": 5,
    "start_time": "2023-06-11T00:25:19.772Z"
   },
   {
    "duration": 40,
    "start_time": "2023-06-11T00:25:19.778Z"
   },
   {
    "duration": 5,
    "start_time": "2023-06-11T00:25:19.819Z"
   },
   {
    "duration": 40,
    "start_time": "2023-06-11T00:25:19.825Z"
   },
   {
    "duration": 8,
    "start_time": "2023-06-11T00:25:19.867Z"
   },
   {
    "duration": 21,
    "start_time": "2023-06-11T00:25:19.877Z"
   },
   {
    "duration": 22,
    "start_time": "2023-06-11T00:25:19.899Z"
   },
   {
    "duration": 49,
    "start_time": "2023-06-11T00:25:19.923Z"
   },
   {
    "duration": 11,
    "start_time": "2023-06-11T00:25:19.974Z"
   },
   {
    "duration": 9,
    "start_time": "2023-06-11T00:25:19.986Z"
   },
   {
    "duration": 10,
    "start_time": "2023-06-11T00:25:19.996Z"
   },
   {
    "duration": 7,
    "start_time": "2023-06-11T00:25:20.007Z"
   },
   {
    "duration": 128,
    "start_time": "2023-06-11T00:25:20.015Z"
   },
   {
    "duration": 4,
    "start_time": "2023-06-11T00:25:20.144Z"
   },
   {
    "duration": 17,
    "start_time": "2023-06-11T00:25:20.149Z"
   },
   {
    "duration": 22,
    "start_time": "2023-06-11T00:25:20.167Z"
   },
   {
    "duration": 4,
    "start_time": "2023-06-11T00:25:20.190Z"
   },
   {
    "duration": 36,
    "start_time": "2023-06-11T00:25:20.195Z"
   },
   {
    "duration": 7,
    "start_time": "2023-06-11T00:25:20.233Z"
   },
   {
    "duration": 204,
    "start_time": "2023-06-11T00:25:20.241Z"
   },
   {
    "duration": 23,
    "start_time": "2023-06-11T00:25:20.446Z"
   },
   {
    "duration": 152,
    "start_time": "2023-06-11T00:25:20.470Z"
   },
   {
    "duration": 12,
    "start_time": "2023-06-11T00:25:20.623Z"
   },
   {
    "duration": 8,
    "start_time": "2023-06-11T00:25:20.636Z"
   },
   {
    "duration": 13,
    "start_time": "2023-06-11T00:25:20.645Z"
   },
   {
    "duration": 355,
    "start_time": "2023-06-11T00:25:20.661Z"
   },
   {
    "duration": 13,
    "start_time": "2023-06-11T00:25:21.017Z"
   },
   {
    "duration": 242,
    "start_time": "2023-06-11T00:25:21.031Z"
   },
   {
    "duration": 14,
    "start_time": "2023-06-11T00:25:21.274Z"
   },
   {
    "duration": 33,
    "start_time": "2023-06-11T00:25:21.290Z"
   },
   {
    "duration": 374,
    "start_time": "2023-06-11T00:25:21.324Z"
   },
   {
    "duration": 4,
    "start_time": "2023-06-11T00:25:21.699Z"
   },
   {
    "duration": 32,
    "start_time": "2023-06-11T00:25:21.704Z"
   },
   {
    "duration": 5,
    "start_time": "2023-06-11T00:25:21.738Z"
   },
   {
    "duration": 16,
    "start_time": "2023-06-11T00:25:21.744Z"
   },
   {
    "duration": 13,
    "start_time": "2023-06-11T00:25:21.761Z"
   },
   {
    "duration": 1358,
    "start_time": "2023-06-11T11:49:17.675Z"
   },
   {
    "duration": 1255,
    "start_time": "2023-06-11T11:49:19.041Z"
   },
   {
    "duration": 3,
    "start_time": "2023-06-11T11:49:20.298Z"
   },
   {
    "duration": 540,
    "start_time": "2023-06-11T11:49:20.303Z"
   },
   {
    "duration": 30,
    "start_time": "2023-06-11T11:49:20.852Z"
   },
   {
    "duration": 390,
    "start_time": "2023-06-11T11:49:20.884Z"
   },
   {
    "duration": 40,
    "start_time": "2023-06-11T11:49:21.276Z"
   },
   {
    "duration": 7,
    "start_time": "2023-06-11T11:49:21.327Z"
   },
   {
    "duration": 182,
    "start_time": "2023-06-11T11:49:21.335Z"
   },
   {
    "duration": 17,
    "start_time": "2023-06-11T11:49:21.528Z"
   },
   {
    "duration": 29,
    "start_time": "2023-06-11T11:49:21.551Z"
   },
   {
    "duration": 14,
    "start_time": "2023-06-11T11:49:21.581Z"
   },
   {
    "duration": 59,
    "start_time": "2023-06-11T11:49:21.597Z"
   },
   {
    "duration": 7,
    "start_time": "2023-06-11T11:49:21.660Z"
   },
   {
    "duration": 18,
    "start_time": "2023-06-11T11:49:21.669Z"
   },
   {
    "duration": 5,
    "start_time": "2023-06-11T11:49:21.689Z"
   },
   {
    "duration": 52,
    "start_time": "2023-06-11T11:49:21.696Z"
   },
   {
    "duration": 9,
    "start_time": "2023-06-11T11:49:21.750Z"
   },
   {
    "duration": 47,
    "start_time": "2023-06-11T11:49:21.760Z"
   },
   {
    "duration": 24,
    "start_time": "2023-06-11T11:49:21.809Z"
   },
   {
    "duration": 33,
    "start_time": "2023-06-11T11:49:21.841Z"
   },
   {
    "duration": 6,
    "start_time": "2023-06-11T11:49:21.875Z"
   },
   {
    "duration": 19,
    "start_time": "2023-06-11T11:49:21.882Z"
   },
   {
    "duration": 13,
    "start_time": "2023-06-11T11:49:21.902Z"
   },
   {
    "duration": 13,
    "start_time": "2023-06-11T11:49:21.916Z"
   },
   {
    "duration": 46,
    "start_time": "2023-06-11T11:49:21.932Z"
   },
   {
    "duration": 8,
    "start_time": "2023-06-11T11:49:21.979Z"
   },
   {
    "duration": 152,
    "start_time": "2023-06-11T11:49:21.990Z"
   },
   {
    "duration": 5,
    "start_time": "2023-06-11T11:49:22.145Z"
   },
   {
    "duration": 18,
    "start_time": "2023-06-11T11:49:22.165Z"
   },
   {
    "duration": 8,
    "start_time": "2023-06-11T11:49:22.185Z"
   },
   {
    "duration": 28,
    "start_time": "2023-06-11T11:49:22.194Z"
   },
   {
    "duration": 80,
    "start_time": "2023-06-11T11:49:22.223Z"
   },
   {
    "duration": 9,
    "start_time": "2023-06-11T11:49:22.304Z"
   },
   {
    "duration": 278,
    "start_time": "2023-06-11T11:49:22.314Z"
   },
   {
    "duration": 35,
    "start_time": "2023-06-11T11:49:22.594Z"
   },
   {
    "duration": 214,
    "start_time": "2023-06-11T11:49:22.631Z"
   },
   {
    "duration": 24,
    "start_time": "2023-06-11T11:49:22.848Z"
   },
   {
    "duration": 11,
    "start_time": "2023-06-11T11:49:22.874Z"
   },
   {
    "duration": 17,
    "start_time": "2023-06-11T11:49:22.886Z"
   },
   {
    "duration": 522,
    "start_time": "2023-06-11T11:49:22.904Z"
   },
   {
    "duration": 23,
    "start_time": "2023-06-11T11:49:23.428Z"
   },
   {
    "duration": 356,
    "start_time": "2023-06-11T11:49:23.452Z"
   },
   {
    "duration": 27,
    "start_time": "2023-06-11T11:49:23.810Z"
   },
   {
    "duration": 42,
    "start_time": "2023-06-11T11:49:23.843Z"
   },
   {
    "duration": 1214,
    "start_time": "2023-06-11T11:49:23.886Z"
   },
   {
    "duration": 6,
    "start_time": "2023-06-11T11:49:25.102Z"
   },
   {
    "duration": 83,
    "start_time": "2023-06-11T11:49:25.110Z"
   },
   {
    "duration": 42,
    "start_time": "2023-06-11T11:49:25.195Z"
   },
   {
    "duration": 57,
    "start_time": "2023-06-11T11:49:25.243Z"
   },
   {
    "duration": 34,
    "start_time": "2023-06-11T11:49:25.301Z"
   }
  ],
  "kernelspec": {
   "display_name": "Python 3 (ipykernel)",
   "language": "python",
   "name": "python3"
  },
  "language_info": {
   "codemirror_mode": {
    "name": "ipython",
    "version": 3
   },
   "file_extension": ".py",
   "mimetype": "text/x-python",
   "name": "python",
   "nbconvert_exporter": "python",
   "pygments_lexer": "ipython3",
   "version": "3.9.15"
  },
  "toc": {
   "base_numbering": 1,
   "nav_menu": {},
   "number_sections": true,
   "sideBar": true,
   "skip_h1_title": true,
   "title_cell": "Table of Contents",
   "title_sidebar": "Contents",
   "toc_cell": false,
   "toc_position": {},
   "toc_section_display": true,
   "toc_window_display": true
  }
 },
 "nbformat": 4,
 "nbformat_minor": 2
}
