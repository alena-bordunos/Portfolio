{
 "cells": [
  {
   "cell_type": "markdown",
   "id": "1c63e3e2",
   "metadata": {},
   "source": [
    "# Анализ поведения пользователей мобильного приложения"
   ]
  },
  {
   "cell_type": "markdown",
   "id": "eb2f6580",
   "metadata": {},
   "source": [
    "Вы работаете в стартапе, который продаёт продукты питания. Нужно разобраться, как ведут себя пользователи вашего мобильного приложения. \n",
    "\n",
    "**Цель исследования:**\n",
    "Изучение воронки продаж и интерпретация результатов проведенного А/В теста.\n",
    "\n",
    "**Ход исследования:**\n",
    "1) Подготовка данных\n",
    "2) Изучение данных\n",
    "3) Изучение воронки событий\n",
    "4) Изучение результатов проведенного А/В теста\n",
    "\n",
    "**Описание данных:**\n",
    "\n",
    "Каждая запись в логе — это действие пользователя, или событие. \n",
    "1) EventName — название события;\n",
    "2) DeviceIDHash — уникальный идентификатор пользователя;\n",
    "3) EventTimestamp — время события;\n",
    "4) ExpId — номер эксперимента: 246 и 247 — контрольные группы, а 248 — экспериментальная.\n"
   ]
  },
  {
   "cell_type": "markdown",
   "id": "cfae37b0",
   "metadata": {},
   "source": [
    "## 1. Подготовка данных"
   ]
  },
  {
   "cell_type": "code",
   "execution_count": 1,
   "id": "e2bcb1d6",
   "metadata": {},
   "outputs": [],
   "source": [
    "import pandas as pd  # импортируем библиотеки\n",
    "import numpy as np\n",
    "import seaborn as sns\n",
    "import math as mth\n",
    "import matplotlib.pyplot as plt\n",
    "from scipy import stats as st\n",
    "import plotly.express as px"
   ]
  },
  {
   "cell_type": "code",
   "execution_count": 2,
   "id": "bbc776a6",
   "metadata": {},
   "outputs": [],
   "source": [
    "data=pd.read_csv('/Users/alena/Desktop/datasets/logs_exp.csv', sep='\\t')\n",
    "#открываем файл"
   ]
  },
  {
   "cell_type": "code",
   "execution_count": 3,
   "id": "64ed1d30",
   "metadata": {},
   "outputs": [
    {
     "name": "stdout",
     "output_type": "stream",
     "text": [
      "<class 'pandas.core.frame.DataFrame'>\n",
      "RangeIndex: 244126 entries, 0 to 244125\n",
      "Data columns (total 4 columns):\n",
      " #   Column          Non-Null Count   Dtype \n",
      "---  ------          --------------   ----- \n",
      " 0   EventName       244126 non-null  object\n",
      " 1   DeviceIDHash    244126 non-null  int64 \n",
      " 2   EventTimestamp  244126 non-null  int64 \n",
      " 3   ExpId           244126 non-null  int64 \n",
      "dtypes: int64(3), object(1)\n",
      "memory usage: 7.5+ MB\n"
     ]
    }
   ],
   "source": [
    "data.info() # выведем на экран информацию о датасете для ознакомления"
   ]
  },
  {
   "cell_type": "code",
   "execution_count": 4,
   "id": "66baf292",
   "metadata": {},
   "outputs": [
    {
     "data": {
      "text/html": [
       "<div>\n",
       "<style scoped>\n",
       "    .dataframe tbody tr th:only-of-type {\n",
       "        vertical-align: middle;\n",
       "    }\n",
       "\n",
       "    .dataframe tbody tr th {\n",
       "        vertical-align: top;\n",
       "    }\n",
       "\n",
       "    .dataframe thead th {\n",
       "        text-align: right;\n",
       "    }\n",
       "</style>\n",
       "<table border=\"1\" class=\"dataframe\">\n",
       "  <thead>\n",
       "    <tr style=\"text-align: right;\">\n",
       "      <th></th>\n",
       "      <th>EventName</th>\n",
       "      <th>DeviceIDHash</th>\n",
       "      <th>EventTimestamp</th>\n",
       "      <th>ExpId</th>\n",
       "    </tr>\n",
       "  </thead>\n",
       "  <tbody>\n",
       "    <tr>\n",
       "      <th>0</th>\n",
       "      <td>MainScreenAppear</td>\n",
       "      <td>4575588528974610257</td>\n",
       "      <td>1564029816</td>\n",
       "      <td>246</td>\n",
       "    </tr>\n",
       "    <tr>\n",
       "      <th>1</th>\n",
       "      <td>MainScreenAppear</td>\n",
       "      <td>7416695313311560658</td>\n",
       "      <td>1564053102</td>\n",
       "      <td>246</td>\n",
       "    </tr>\n",
       "    <tr>\n",
       "      <th>2</th>\n",
       "      <td>PaymentScreenSuccessful</td>\n",
       "      <td>3518123091307005509</td>\n",
       "      <td>1564054127</td>\n",
       "      <td>248</td>\n",
       "    </tr>\n",
       "    <tr>\n",
       "      <th>3</th>\n",
       "      <td>CartScreenAppear</td>\n",
       "      <td>3518123091307005509</td>\n",
       "      <td>1564054127</td>\n",
       "      <td>248</td>\n",
       "    </tr>\n",
       "    <tr>\n",
       "      <th>4</th>\n",
       "      <td>PaymentScreenSuccessful</td>\n",
       "      <td>6217807653094995999</td>\n",
       "      <td>1564055322</td>\n",
       "      <td>248</td>\n",
       "    </tr>\n",
       "    <tr>\n",
       "      <th>5</th>\n",
       "      <td>CartScreenAppear</td>\n",
       "      <td>6217807653094995999</td>\n",
       "      <td>1564055323</td>\n",
       "      <td>248</td>\n",
       "    </tr>\n",
       "    <tr>\n",
       "      <th>6</th>\n",
       "      <td>OffersScreenAppear</td>\n",
       "      <td>8351860793733343758</td>\n",
       "      <td>1564066242</td>\n",
       "      <td>246</td>\n",
       "    </tr>\n",
       "    <tr>\n",
       "      <th>7</th>\n",
       "      <td>MainScreenAppear</td>\n",
       "      <td>5682100281902512875</td>\n",
       "      <td>1564085677</td>\n",
       "      <td>246</td>\n",
       "    </tr>\n",
       "    <tr>\n",
       "      <th>8</th>\n",
       "      <td>MainScreenAppear</td>\n",
       "      <td>1850981295691852772</td>\n",
       "      <td>1564086702</td>\n",
       "      <td>247</td>\n",
       "    </tr>\n",
       "    <tr>\n",
       "      <th>9</th>\n",
       "      <td>MainScreenAppear</td>\n",
       "      <td>5407636962369102641</td>\n",
       "      <td>1564112112</td>\n",
       "      <td>246</td>\n",
       "    </tr>\n",
       "  </tbody>\n",
       "</table>\n",
       "</div>"
      ],
      "text/plain": [
       "                 EventName         DeviceIDHash  EventTimestamp  ExpId\n",
       "0         MainScreenAppear  4575588528974610257      1564029816    246\n",
       "1         MainScreenAppear  7416695313311560658      1564053102    246\n",
       "2  PaymentScreenSuccessful  3518123091307005509      1564054127    248\n",
       "3         CartScreenAppear  3518123091307005509      1564054127    248\n",
       "4  PaymentScreenSuccessful  6217807653094995999      1564055322    248\n",
       "5         CartScreenAppear  6217807653094995999      1564055323    248\n",
       "6       OffersScreenAppear  8351860793733343758      1564066242    246\n",
       "7         MainScreenAppear  5682100281902512875      1564085677    246\n",
       "8         MainScreenAppear  1850981295691852772      1564086702    247\n",
       "9         MainScreenAppear  5407636962369102641      1564112112    246"
      ]
     },
     "execution_count": 4,
     "metadata": {},
     "output_type": "execute_result"
    }
   ],
   "source": [
    "data.head(10) #выведем на экран первые 10 строк датафрейма для ознакомления со структурой"
   ]
  },
  {
   "cell_type": "code",
   "execution_count": 5,
   "id": "c40a5743",
   "metadata": {},
   "outputs": [],
   "source": [
    "#изменим названия столбцов для удобства работы\n",
    "data = data.rename(columns={'EventName':'event_name','DeviceIDHash':'device_id_hash',\n",
    "                            'EventTimestamp':'event_timestamp', 'ExpId':'exp_id'})"
   ]
  },
  {
   "cell_type": "code",
   "execution_count": 6,
   "id": "f2196a9c",
   "metadata": {},
   "outputs": [
    {
     "data": {
      "text/plain": [
       "event_name         0\n",
       "device_id_hash     0\n",
       "event_timestamp    0\n",
       "exp_id             0\n",
       "dtype: int64"
      ]
     },
     "execution_count": 6,
     "metadata": {},
     "output_type": "execute_result"
    }
   ],
   "source": [
    "data.isna().sum() # сколько пропущено значений в каждом столбце"
   ]
  },
  {
   "cell_type": "code",
   "execution_count": 7,
   "id": "4372a573",
   "metadata": {},
   "outputs": [
    {
     "data": {
      "text/plain": [
       "413"
      ]
     },
     "execution_count": 7,
     "metadata": {},
     "output_type": "execute_result"
    }
   ],
   "source": [
    "data.duplicated().sum() #проверка на явные дубликаты"
   ]
  },
  {
   "cell_type": "code",
   "execution_count": 8,
   "id": "083a61e4",
   "metadata": {},
   "outputs": [],
   "source": [
    "data = data.drop_duplicates() #удалим дубликаты"
   ]
  },
  {
   "cell_type": "code",
   "execution_count": 9,
   "id": "2a9ef5d3",
   "metadata": {},
   "outputs": [],
   "source": [
    "# для дальнейшего анализа создадим столбцы с датой и временем\n",
    "\n",
    "data['event_date_time'] = pd.to_datetime(data['event_timestamp'], unit='s')\n",
    "data['event_date'] = data['event_date_time'].dt.date"
   ]
  },
  {
   "cell_type": "code",
   "execution_count": 10,
   "id": "52829644",
   "metadata": {},
   "outputs": [
    {
     "data": {
      "text/html": [
       "<div>\n",
       "<style scoped>\n",
       "    .dataframe tbody tr th:only-of-type {\n",
       "        vertical-align: middle;\n",
       "    }\n",
       "\n",
       "    .dataframe tbody tr th {\n",
       "        vertical-align: top;\n",
       "    }\n",
       "\n",
       "    .dataframe thead th {\n",
       "        text-align: right;\n",
       "    }\n",
       "</style>\n",
       "<table border=\"1\" class=\"dataframe\">\n",
       "  <thead>\n",
       "    <tr style=\"text-align: right;\">\n",
       "      <th></th>\n",
       "      <th>event_name</th>\n",
       "      <th>device_id_hash</th>\n",
       "      <th>event_timestamp</th>\n",
       "      <th>exp_id</th>\n",
       "      <th>event_date_time</th>\n",
       "      <th>event_date</th>\n",
       "    </tr>\n",
       "  </thead>\n",
       "  <tbody>\n",
       "    <tr>\n",
       "      <th>0</th>\n",
       "      <td>MainScreenAppear</td>\n",
       "      <td>4575588528974610257</td>\n",
       "      <td>1564029816</td>\n",
       "      <td>246</td>\n",
       "      <td>2019-07-25 04:43:36</td>\n",
       "      <td>2019-07-25</td>\n",
       "    </tr>\n",
       "    <tr>\n",
       "      <th>1</th>\n",
       "      <td>MainScreenAppear</td>\n",
       "      <td>7416695313311560658</td>\n",
       "      <td>1564053102</td>\n",
       "      <td>246</td>\n",
       "      <td>2019-07-25 11:11:42</td>\n",
       "      <td>2019-07-25</td>\n",
       "    </tr>\n",
       "    <tr>\n",
       "      <th>2</th>\n",
       "      <td>PaymentScreenSuccessful</td>\n",
       "      <td>3518123091307005509</td>\n",
       "      <td>1564054127</td>\n",
       "      <td>248</td>\n",
       "      <td>2019-07-25 11:28:47</td>\n",
       "      <td>2019-07-25</td>\n",
       "    </tr>\n",
       "    <tr>\n",
       "      <th>3</th>\n",
       "      <td>CartScreenAppear</td>\n",
       "      <td>3518123091307005509</td>\n",
       "      <td>1564054127</td>\n",
       "      <td>248</td>\n",
       "      <td>2019-07-25 11:28:47</td>\n",
       "      <td>2019-07-25</td>\n",
       "    </tr>\n",
       "    <tr>\n",
       "      <th>4</th>\n",
       "      <td>PaymentScreenSuccessful</td>\n",
       "      <td>6217807653094995999</td>\n",
       "      <td>1564055322</td>\n",
       "      <td>248</td>\n",
       "      <td>2019-07-25 11:48:42</td>\n",
       "      <td>2019-07-25</td>\n",
       "    </tr>\n",
       "  </tbody>\n",
       "</table>\n",
       "</div>"
      ],
      "text/plain": [
       "                event_name       device_id_hash  event_timestamp  exp_id  \\\n",
       "0         MainScreenAppear  4575588528974610257       1564029816     246   \n",
       "1         MainScreenAppear  7416695313311560658       1564053102     246   \n",
       "2  PaymentScreenSuccessful  3518123091307005509       1564054127     248   \n",
       "3         CartScreenAppear  3518123091307005509       1564054127     248   \n",
       "4  PaymentScreenSuccessful  6217807653094995999       1564055322     248   \n",
       "\n",
       "      event_date_time  event_date  \n",
       "0 2019-07-25 04:43:36  2019-07-25  \n",
       "1 2019-07-25 11:11:42  2019-07-25  \n",
       "2 2019-07-25 11:28:47  2019-07-25  \n",
       "3 2019-07-25 11:28:47  2019-07-25  \n",
       "4 2019-07-25 11:48:42  2019-07-25  "
      ]
     },
     "execution_count": 10,
     "metadata": {},
     "output_type": "execute_result"
    }
   ],
   "source": [
    "data.head() # выведем начало таблицы на экран для проверки произведенных изменений"
   ]
  },
  {
   "cell_type": "markdown",
   "id": "c55917c5",
   "metadata": {},
   "source": [
    "На этапе предобработки выявлено, что данные считываются корректно. Удалены явные дубликаты, изменены для удобства анализа названия столбцов и добавлены новые с датой и временем. Пропусков в данных не обнаружено."
   ]
  },
  {
   "cell_type": "markdown",
   "id": "a20dee26",
   "metadata": {},
   "source": [
    "## 2. Изучение данных"
   ]
  },
  {
   "cell_type": "code",
   "execution_count": 11,
   "id": "59c8ce27",
   "metadata": {},
   "outputs": [
    {
     "name": "stdout",
     "output_type": "stream",
     "text": [
      "Всего событий в логе: 243713 \n",
      "Всего пользователей в логе: 7551 \n",
      "В среднем событий на пользователя: 32.28\n"
     ]
    }
   ],
   "source": [
    "# Изучим количество событий и пользователей, сколько событий приходится в среднем на одного пользователя\n",
    "pd.set_option(\"display.float_format\", \"{:.2f}\".format) \n",
    "\n",
    "\n",
    "print('Всего событий в логе: {} \\n'\n",
    "    'Всего пользователей в логе: {} \\n'\n",
    "      'В среднем событий на пользователя: {}'.format(data['event_name'].count(), \n",
    "                                              data['device_id_hash'].nunique(),\n",
    "                                        round(data['event_name'].count()/data['device_id_hash'].nunique(),2)))\n"
   ]
  },
  {
   "cell_type": "code",
   "execution_count": 12,
   "id": "17c496ef",
   "metadata": {},
   "outputs": [
    {
     "name": "stdout",
     "output_type": "stream",
     "text": [
      "Минимальная дата: 2019-07-25 04:43:36 \n",
      "Максимальная дата: 2019-08-07 21:15:17 \n"
     ]
    }
   ],
   "source": [
    "print('Минимальная дата: {} \\n'\n",
    "      'Максимальная дата: {} '.format(data['event_date_time'].min(),\n",
    "                                     data['event_date_time'].max()))"
   ]
  },
  {
   "cell_type": "markdown",
   "id": "c4bb38ef",
   "metadata": {},
   "source": [
    "В датафрейме представлены данные за период с 25 июля по 7 августа 2019 года.\n",
    "\n",
    "Для того, чтобы проверить, одинаково ли полные данные за весь период, построим гистограмму:"
   ]
  },
  {
   "cell_type": "code",
   "execution_count": 13,
   "id": "04ef98c1",
   "metadata": {},
   "outputs": [
    {
     "data": {
      "image/png": "[encoded data removed]",
      "text/plain": [
       "<Figure size 800x500 with 1 Axes>"
      ]
     },
     "metadata": {},
     "output_type": "display_data"
    }
   ],
   "source": [
    "data.hist(column='event_date_time', figsize=(8,5), bins=20, color='green')\n",
    "plt.title('Распределение данных по датам')\n",
    "plt.xticks(rotation=45)\n",
    "plt.xlabel('Дата')\n",
    "plt.ylabel('Количество событий')\n",
    "plt.show()"
   ]
  },
  {
   "cell_type": "markdown",
   "id": "cdb099ee",
   "metadata": {},
   "source": [
    "На гистограмме видно, что данных за период до 31 июля представлено гораздо меньше, чем за август. Технически в логи новых дней по некоторым пользователям могут «доезжать» события из прошлого — это может «перекашивать данные». Для анализа отбросим часть и возьмем данные с 1 августа 2019 года."
   ]
  },
  {
   "cell_type": "code",
   "execution_count": 14,
   "id": "02f4c7b7",
   "metadata": {},
   "outputs": [],
   "source": [
    "log = data.loc[(data['event_date_time'] >= \"2019-08-01\")] #отфильтруем нужные данные"
   ]
  },
  {
   "cell_type": "code",
   "execution_count": 15,
   "id": "0a7e99b2",
   "metadata": {},
   "outputs": [
    {
     "name": "stdout",
     "output_type": "stream",
     "text": [
      "Потери при фильтрации по событиям: 1.16%\n",
      "Потери при фильтрации по уникальным пользователям: 0.23%\n"
     ]
    }
   ],
   "source": [
    "# посчитаем потери при фильтрации данных\n",
    "print('Потери при фильтрации по событиям: {:.2%}'\n",
    "      .format((data['event_name'].count()-log['event_name'].count())/data['event_name'].count()))\n",
    "print('Потери при фильтрации по уникальным пользователям: {:.2%}'\n",
    "      .format((data['device_id_hash'].nunique()-log['device_id_hash'].nunique())/data['device_id_hash'].nunique()))"
   ]
  },
  {
   "cell_type": "markdown",
   "id": "091705e0",
   "metadata": {},
   "source": [
    "Потери при фильтрации данных незначительные, можно продолжать анализ.\n",
    "\n",
    "Иследуем, есть ли в данных пользователи из всех трех экспериментальных групп и нет ли пользователей, оказавшихся в двух группах одновременно:"
   ]
  },
  {
   "cell_type": "code",
   "execution_count": 16,
   "id": "521b4b65",
   "metadata": {},
   "outputs": [
    {
     "data": {
      "text/html": [
       "<div>\n",
       "<style scoped>\n",
       "    .dataframe tbody tr th:only-of-type {\n",
       "        vertical-align: middle;\n",
       "    }\n",
       "\n",
       "    .dataframe tbody tr th {\n",
       "        vertical-align: top;\n",
       "    }\n",
       "\n",
       "    .dataframe thead tr th {\n",
       "        text-align: left;\n",
       "    }\n",
       "\n",
       "    .dataframe thead tr:last-of-type th {\n",
       "        text-align: right;\n",
       "    }\n",
       "</style>\n",
       "<table border=\"1\" class=\"dataframe\">\n",
       "  <thead>\n",
       "    <tr>\n",
       "      <th></th>\n",
       "      <th colspan=\"2\" halign=\"left\">device_id_hash</th>\n",
       "    </tr>\n",
       "    <tr>\n",
       "      <th></th>\n",
       "      <th>count</th>\n",
       "      <th>nunique</th>\n",
       "    </tr>\n",
       "    <tr>\n",
       "      <th>exp_id</th>\n",
       "      <th></th>\n",
       "      <th></th>\n",
       "    </tr>\n",
       "  </thead>\n",
       "  <tbody>\n",
       "    <tr>\n",
       "      <th>246</th>\n",
       "      <td>79302</td>\n",
       "      <td>2484</td>\n",
       "    </tr>\n",
       "    <tr>\n",
       "      <th>247</th>\n",
       "      <td>77022</td>\n",
       "      <td>2513</td>\n",
       "    </tr>\n",
       "    <tr>\n",
       "      <th>248</th>\n",
       "      <td>84563</td>\n",
       "      <td>2537</td>\n",
       "    </tr>\n",
       "  </tbody>\n",
       "</table>\n",
       "</div>"
      ],
      "text/plain": [
       "       device_id_hash        \n",
       "                count nunique\n",
       "exp_id                       \n",
       "246             79302    2484\n",
       "247             77022    2513\n",
       "248             84563    2537"
      ]
     },
     "execution_count": 16,
     "metadata": {},
     "output_type": "execute_result"
    }
   ],
   "source": [
    "log.pivot_table(index='exp_id', aggfunc={'device_id_hash':['count', 'nunique']})"
   ]
  },
  {
   "cell_type": "code",
   "execution_count": 18,
   "id": "afeab053",
   "metadata": {},
   "outputs": [
    {
     "data": {
      "text/html": [
       "<div>\n",
       "<style scoped>\n",
       "    .dataframe tbody tr th:only-of-type {\n",
       "        vertical-align: middle;\n",
       "    }\n",
       "\n",
       "    .dataframe tbody tr th {\n",
       "        vertical-align: top;\n",
       "    }\n",
       "\n",
       "    .dataframe thead th {\n",
       "        text-align: right;\n",
       "    }\n",
       "</style>\n",
       "<table border=\"1\" class=\"dataframe\">\n",
       "  <thead>\n",
       "    <tr style=\"text-align: right;\">\n",
       "      <th></th>\n",
       "      <th>exp_id</th>\n",
       "    </tr>\n",
       "    <tr>\n",
       "      <th>device_id_hash</th>\n",
       "      <th></th>\n",
       "    </tr>\n",
       "  </thead>\n",
       "  <tbody>\n",
       "  </tbody>\n",
       "</table>\n",
       "</div>"
      ],
      "text/plain": [
       "Empty DataFrame\n",
       "Columns: [exp_id]\n",
       "Index: []"
      ]
     },
     "execution_count": 18,
     "metadata": {},
     "output_type": "execute_result"
    }
   ],
   "source": [
    "# Проверим пользователей, которые могли участвовать в двух или нескольких группах одновременно:\n",
    "log.groupby('device_id_hash').agg({'exp_id':'nunique'}).query('exp_id > 1') \n"
   ]
  },
  {
   "cell_type": "markdown",
   "id": "ba7010aa",
   "metadata": {},
   "source": [
    "На этапе изучения данных принято решение исследовать данных за период с 1 по 7 августа 2019, так как они наиболее полно представлены в датасете. Потери при фильтрации данных незначительные - 1.16%. Пользователей, вошедших одновременно в несколько экспериментальных групп нет. Данные готовы к дальнейшему анализу."
   ]
  },
  {
   "cell_type": "markdown",
   "id": "b9f7f849",
   "metadata": {},
   "source": [
    "## 3. Изучение воронки событий"
   ]
  },
  {
   "cell_type": "markdown",
   "id": "e72b518a",
   "metadata": {},
   "source": [
    "Изучим, какие события есть в логах и как часто они встречаются:"
   ]
  },
  {
   "cell_type": "code",
   "execution_count": 19,
   "id": "f8e4bbc4",
   "metadata": {},
   "outputs": [
    {
     "data": {
      "text/html": [
       "<div>\n",
       "<style scoped>\n",
       "    .dataframe tbody tr th:only-of-type {\n",
       "        vertical-align: middle;\n",
       "    }\n",
       "\n",
       "    .dataframe tbody tr th {\n",
       "        vertical-align: top;\n",
       "    }\n",
       "\n",
       "    .dataframe thead th {\n",
       "        text-align: right;\n",
       "    }\n",
       "</style>\n",
       "<table border=\"1\" class=\"dataframe\">\n",
       "  <thead>\n",
       "    <tr style=\"text-align: right;\">\n",
       "      <th></th>\n",
       "      <th>event_date</th>\n",
       "    </tr>\n",
       "    <tr>\n",
       "      <th>event_name</th>\n",
       "      <th></th>\n",
       "    </tr>\n",
       "  </thead>\n",
       "  <tbody>\n",
       "    <tr>\n",
       "      <th>MainScreenAppear</th>\n",
       "      <td>117328</td>\n",
       "    </tr>\n",
       "    <tr>\n",
       "      <th>OffersScreenAppear</th>\n",
       "      <td>46333</td>\n",
       "    </tr>\n",
       "    <tr>\n",
       "      <th>CartScreenAppear</th>\n",
       "      <td>42303</td>\n",
       "    </tr>\n",
       "    <tr>\n",
       "      <th>PaymentScreenSuccessful</th>\n",
       "      <td>33918</td>\n",
       "    </tr>\n",
       "    <tr>\n",
       "      <th>Tutorial</th>\n",
       "      <td>1005</td>\n",
       "    </tr>\n",
       "  </tbody>\n",
       "</table>\n",
       "</div>"
      ],
      "text/plain": [
       "                         event_date\n",
       "event_name                         \n",
       "MainScreenAppear             117328\n",
       "OffersScreenAppear            46333\n",
       "CartScreenAppear              42303\n",
       "PaymentScreenSuccessful       33918\n",
       "Tutorial                       1005"
      ]
     },
     "execution_count": 19,
     "metadata": {},
     "output_type": "execute_result"
    }
   ],
   "source": [
    "log.pivot_table(index='event_name', aggfunc={'event_date':'count'}).sort_values(by='event_date', ascending=False)"
   ]
  },
  {
   "cell_type": "markdown",
   "id": "6ff65949",
   "metadata": {},
   "source": [
    "Чаще всего происходит событие - показ главного экрана, реже всего пользователи проходят обучение. Теперь посчитаем, сколько пользователей совершали каждое из этих событий и посчитаем долю пользователей, которые хоть раз совершали событие:"
   ]
  },
  {
   "cell_type": "code",
   "execution_count": 20,
   "id": "4dd12220",
   "metadata": {},
   "outputs": [
    {
     "data": {
      "text/html": [
       "<div>\n",
       "<style scoped>\n",
       "    .dataframe tbody tr th:only-of-type {\n",
       "        vertical-align: middle;\n",
       "    }\n",
       "\n",
       "    .dataframe tbody tr th {\n",
       "        vertical-align: top;\n",
       "    }\n",
       "\n",
       "    .dataframe thead th {\n",
       "        text-align: right;\n",
       "    }\n",
       "</style>\n",
       "<table border=\"1\" class=\"dataframe\">\n",
       "  <thead>\n",
       "    <tr style=\"text-align: right;\">\n",
       "      <th></th>\n",
       "      <th>device_id_hash</th>\n",
       "      <th>percent_per_all_users</th>\n",
       "    </tr>\n",
       "    <tr>\n",
       "      <th>event_name</th>\n",
       "      <th></th>\n",
       "      <th></th>\n",
       "    </tr>\n",
       "  </thead>\n",
       "  <tbody>\n",
       "    <tr>\n",
       "      <th>MainScreenAppear</th>\n",
       "      <td>7419</td>\n",
       "      <td>98.47</td>\n",
       "    </tr>\n",
       "    <tr>\n",
       "      <th>OffersScreenAppear</th>\n",
       "      <td>4593</td>\n",
       "      <td>60.96</td>\n",
       "    </tr>\n",
       "    <tr>\n",
       "      <th>CartScreenAppear</th>\n",
       "      <td>3734</td>\n",
       "      <td>49.56</td>\n",
       "    </tr>\n",
       "    <tr>\n",
       "      <th>PaymentScreenSuccessful</th>\n",
       "      <td>3539</td>\n",
       "      <td>46.97</td>\n",
       "    </tr>\n",
       "    <tr>\n",
       "      <th>Tutorial</th>\n",
       "      <td>840</td>\n",
       "      <td>11.15</td>\n",
       "    </tr>\n",
       "  </tbody>\n",
       "</table>\n",
       "</div>"
      ],
      "text/plain": [
       "                         device_id_hash  percent_per_all_users\n",
       "event_name                                                    \n",
       "MainScreenAppear                   7419                  98.47\n",
       "OffersScreenAppear                 4593                  60.96\n",
       "CartScreenAppear                   3734                  49.56\n",
       "PaymentScreenSuccessful            3539                  46.97\n",
       "Tutorial                            840                  11.15"
      ]
     },
     "metadata": {},
     "output_type": "display_data"
    }
   ],
   "source": [
    "pivot_event = log.pivot_table(index='event_name', \n",
    "                aggfunc={'device_id_hash':'nunique', }).sort_values(by='device_id_hash', ascending=False)\n",
    "pivot_event['percent_per_all_users'] = pivot_event['device_id_hash']/log['device_id_hash'].nunique()*100\n",
    "display(pivot_event)"
   ]
  },
  {
   "cell_type": "markdown",
   "id": "06a557b2",
   "metadata": {},
   "source": [
    "По предыдущей таблице можно примерно наметить последовательность событий для пользователей приложения: от показа главной страницы (событие происходит у 98% пользователей) до успешной оплаты заказа (у 47%). Исключение  - прохождение обучения по приложению (tutorial) - его проходит только 11% от всех пользователей, неизвестно на каком этапе пользования приложением. Для дальнейшего подсчета будем использовать данные без события tutorial."
   ]
  },
  {
   "cell_type": "code",
   "execution_count": 24,
   "id": "81a3e218",
   "metadata": {},
   "outputs": [
    {
     "data": {
      "text/html": [
       "<div>\n",
       "<style scoped>\n",
       "    .dataframe tbody tr th:only-of-type {\n",
       "        vertical-align: middle;\n",
       "    }\n",
       "\n",
       "    .dataframe tbody tr th {\n",
       "        vertical-align: top;\n",
       "    }\n",
       "\n",
       "    .dataframe thead th {\n",
       "        text-align: right;\n",
       "    }\n",
       "</style>\n",
       "<table border=\"1\" class=\"dataframe\">\n",
       "  <thead>\n",
       "    <tr style=\"text-align: right;\">\n",
       "      <th></th>\n",
       "      <th>event_name</th>\n",
       "      <th>device_id_hash</th>\n",
       "      <th>percent_per_all_users</th>\n",
       "      <th>percent_per_previous</th>\n",
       "    </tr>\n",
       "  </thead>\n",
       "  <tbody>\n",
       "    <tr>\n",
       "      <th>0</th>\n",
       "      <td>MainScreenAppear</td>\n",
       "      <td>7419</td>\n",
       "      <td>98.47</td>\n",
       "      <td>100.00</td>\n",
       "    </tr>\n",
       "    <tr>\n",
       "      <th>1</th>\n",
       "      <td>OffersScreenAppear</td>\n",
       "      <td>4593</td>\n",
       "      <td>60.96</td>\n",
       "      <td>61.91</td>\n",
       "    </tr>\n",
       "    <tr>\n",
       "      <th>2</th>\n",
       "      <td>CartScreenAppear</td>\n",
       "      <td>3734</td>\n",
       "      <td>49.56</td>\n",
       "      <td>81.30</td>\n",
       "    </tr>\n",
       "    <tr>\n",
       "      <th>3</th>\n",
       "      <td>PaymentScreenSuccessful</td>\n",
       "      <td>3539</td>\n",
       "      <td>46.97</td>\n",
       "      <td>94.78</td>\n",
       "    </tr>\n",
       "  </tbody>\n",
       "</table>\n",
       "</div>"
      ],
      "text/plain": [
       "                event_name  device_id_hash  percent_per_all_users  \\\n",
       "0         MainScreenAppear            7419                  98.47   \n",
       "1       OffersScreenAppear            4593                  60.96   \n",
       "2         CartScreenAppear            3734                  49.56   \n",
       "3  PaymentScreenSuccessful            3539                  46.97   \n",
       "\n",
       "   percent_per_previous  \n",
       "0                100.00  \n",
       "1                 61.91  \n",
       "2                 81.30  \n",
       "3                 94.78  "
      ]
     },
     "metadata": {},
     "output_type": "display_data"
    }
   ],
   "source": [
    "# исключим tutorial\n",
    "event_funnel = pivot_event.query('event_name !=\"Tutorial\"').reset_index()\n",
    "# посчитаем процент пользователей, которые доходят до каждого этапа по сравнению с предыдущим\n",
    "event_funnel['percent_per_previous'] = event_funnel['device_id_hash']/event_funnel['device_id_hash'].shift(1)*100\n",
    "event_funnel = event_funnel.sort_values(by='device_id_hash', ascending=False)\n",
    "event_funnel['percent_per_previous'] = event_funnel['percent_per_previous'].fillna(100.00)\n",
    "\n",
    "display(event_funnel)\n"
   ]
  },
  {
   "cell_type": "code",
   "execution_count": 25,
   "id": "d1f273fe",
   "metadata": {},
   "outputs": [
    {
     "name": "stdout",
     "output_type": "stream",
     "text": [
      "Доходит до оплаты от первого этапа 47.70% пользователей\n"
     ]
    }
   ],
   "source": [
    "print('Доходит до оплаты от первого этапа {:.2%} пользователей'.format(\n",
    "    event_funnel.loc[3]['device_id_hash']/event_funnel.loc[0]['device_id_hash'])\n",
    "     )"
   ]
  },
  {
   "cell_type": "markdown",
   "id": "ef05ce89",
   "metadata": {},
   "source": [
    "Из таблицы выше видно, что больше всего пользователей приложение теряет еще на этапе главного экрана - на следующий этап (экран предложения) переходят только 62% пользователей. На остальных этапах воронки конверсия лучше - 81% переходит в корзину и 94% перешедших в корзину успешно оплачивают свои покупки. Всего до успешной оплаты от первого события доходит 47% пользователей приложения."
   ]
  },
  {
   "cell_type": "markdown",
   "id": "e054d558",
   "metadata": {},
   "source": [
    "## 4. Изучение результатов эксперимента"
   ]
  },
  {
   "cell_type": "code",
   "execution_count": 26,
   "id": "afb79b54",
   "metadata": {},
   "outputs": [
    {
     "data": {
      "text/html": [
       "<div>\n",
       "<style scoped>\n",
       "    .dataframe tbody tr th:only-of-type {\n",
       "        vertical-align: middle;\n",
       "    }\n",
       "\n",
       "    .dataframe tbody tr th {\n",
       "        vertical-align: top;\n",
       "    }\n",
       "\n",
       "    .dataframe thead th {\n",
       "        text-align: right;\n",
       "    }\n",
       "</style>\n",
       "<table border=\"1\" class=\"dataframe\">\n",
       "  <thead>\n",
       "    <tr style=\"text-align: right;\">\n",
       "      <th></th>\n",
       "      <th>trials</th>\n",
       "    </tr>\n",
       "    <tr>\n",
       "      <th>exp_id</th>\n",
       "      <th></th>\n",
       "    </tr>\n",
       "  </thead>\n",
       "  <tbody>\n",
       "    <tr>\n",
       "      <th>246</th>\n",
       "      <td>2484</td>\n",
       "    </tr>\n",
       "    <tr>\n",
       "      <th>247</th>\n",
       "      <td>2513</td>\n",
       "    </tr>\n",
       "    <tr>\n",
       "      <th>248</th>\n",
       "      <td>2537</td>\n",
       "    </tr>\n",
       "  </tbody>\n",
       "</table>\n",
       "</div>"
      ],
      "text/plain": [
       "        trials\n",
       "exp_id        \n",
       "246       2484\n",
       "247       2513\n",
       "248       2537"
      ]
     },
     "metadata": {},
     "output_type": "display_data"
    }
   ],
   "source": [
    "# Узнаем, сколько уникальных пользователей в каждой экспериментальной группе\n",
    "logs = log.query('event_name != \"Tutorial\"')\n",
    "total_users =(\n",
    "    log.groupby(by='exp_id').agg({'device_id_hash':'nunique'})\n",
    ".rename(columns={'device_id_hash':'trials'})\n",
    ")\n",
    "display(total_users)"
   ]
  },
  {
   "cell_type": "markdown",
   "id": "ee140d50",
   "metadata": {},
   "source": [
    "Группы 246 и 247 - контрольные группы для проведения А/А эксперимента, чтобы проверить корректность всех механизмов и расчётов. Необходимо проверить, находят ли статистические критерии разницу между выборками 246 и 247. Для проверки разницы между этими группами используем метод z-test."
   ]
  },
  {
   "cell_type": "code",
   "execution_count": 27,
   "id": "4b6a3346",
   "metadata": {},
   "outputs": [
    {
     "data": {
      "text/html": [
       "<div>\n",
       "<style scoped>\n",
       "    .dataframe tbody tr th:only-of-type {\n",
       "        vertical-align: middle;\n",
       "    }\n",
       "\n",
       "    .dataframe tbody tr th {\n",
       "        vertical-align: top;\n",
       "    }\n",
       "\n",
       "    .dataframe thead th {\n",
       "        text-align: right;\n",
       "    }\n",
       "</style>\n",
       "<table border=\"1\" class=\"dataframe\">\n",
       "  <thead>\n",
       "    <tr style=\"text-align: right;\">\n",
       "      <th>event_name</th>\n",
       "      <th>CartScreenAppear</th>\n",
       "      <th>MainScreenAppear</th>\n",
       "      <th>OffersScreenAppear</th>\n",
       "      <th>PaymentScreenSuccessful</th>\n",
       "      <th>trials</th>\n",
       "    </tr>\n",
       "    <tr>\n",
       "      <th>exp_id</th>\n",
       "      <th></th>\n",
       "      <th></th>\n",
       "      <th></th>\n",
       "      <th></th>\n",
       "      <th></th>\n",
       "    </tr>\n",
       "  </thead>\n",
       "  <tbody>\n",
       "    <tr>\n",
       "      <th>246</th>\n",
       "      <td>1266</td>\n",
       "      <td>2450</td>\n",
       "      <td>1542</td>\n",
       "      <td>1200</td>\n",
       "      <td>2484</td>\n",
       "    </tr>\n",
       "    <tr>\n",
       "      <th>247</th>\n",
       "      <td>1238</td>\n",
       "      <td>2476</td>\n",
       "      <td>1520</td>\n",
       "      <td>1158</td>\n",
       "      <td>2513</td>\n",
       "    </tr>\n",
       "    <tr>\n",
       "      <th>248</th>\n",
       "      <td>1230</td>\n",
       "      <td>2493</td>\n",
       "      <td>1531</td>\n",
       "      <td>1181</td>\n",
       "      <td>2537</td>\n",
       "    </tr>\n",
       "  </tbody>\n",
       "</table>\n",
       "</div>"
      ],
      "text/plain": [
       "event_name  CartScreenAppear  MainScreenAppear  OffersScreenAppear  \\\n",
       "exp_id                                                               \n",
       "246                     1266              2450                1542   \n",
       "247                     1238              2476                1520   \n",
       "248                     1230              2493                1531   \n",
       "\n",
       "event_name  PaymentScreenSuccessful  trials  \n",
       "exp_id                                       \n",
       "246                            1200    2484  \n",
       "247                            1158    2513  \n",
       "248                            1181    2537  "
      ]
     },
     "execution_count": 27,
     "metadata": {},
     "output_type": "execute_result"
    }
   ],
   "source": [
    "# создадим сводную таблицу для проверки гипотез\n",
    "events_pivot = (\n",
    "    logs.pivot_table(index='exp_id', columns='event_name', values= 'device_id_hash', aggfunc='nunique')\n",
    " \n",
    ")\n",
    "events_pivot['trials'] = total_users['trials'] # добавим общее количество пользователей каждой группы\n",
    "events_names = logs['event_name'].unique() #создадим переменную с уникальными названиями событий\n",
    "\n",
    "events_pivot"
   ]
  },
  {
   "cell_type": "code",
   "execution_count": 28,
   "id": "b62aeda9",
   "metadata": {},
   "outputs": [
    {
     "data": {
      "text/plain": [
       "array(['MainScreenAppear', 'OffersScreenAppear', 'CartScreenAppear',\n",
       "       'PaymentScreenSuccessful'], dtype=object)"
      ]
     },
     "execution_count": 28,
     "metadata": {},
     "output_type": "execute_result"
    }
   ],
   "source": [
    "events_names"
   ]
  },
  {
   "cell_type": "code",
   "execution_count": 29,
   "id": "1febb864",
   "metadata": {},
   "outputs": [],
   "source": [
    "# напишем функцию для проверки гипотез\n",
    "def p_value_check (group1, group2, event, alpha):\n",
    "    trials_1 = events_pivot.loc[group1]['trials']\n",
    "    trials_2 = events_pivot.loc[group2]['trials']\n",
    "    successes_1 = events_pivot.loc[group1][event]\n",
    "    successes_2 = events_pivot.loc[group2][event]\n",
    "    trials = np.array([trials_1, trials_2])\n",
    "    successes = np.array([successes_1, successes_2])\n",
    "    # пропорция успехов в первой группе:\n",
    "    p1 = successes[0]/trials[0]\n",
    "    # пропорция успехов во второй группе:\n",
    "    p2 = successes[1]/trials[1]\n",
    "    # пропорция успехов в комбинированном датасете:\n",
    "    p_combined = (successes[0] + successes[1]) / (trials[0] + trials[1])\n",
    "    # разница пропорций в датасетах\n",
    "    difference = p1 - p2 \n",
    "    # считаем статистику в ст.отклонениях стандартного нормального распределения\n",
    "    z_value = difference / mth.sqrt(p_combined * (1 - p_combined) * (1/trials[0] + 1/trials[1]))\n",
    "    # задаем стандартное нормальное распределение (среднее 0, ст.отклонение 1)\n",
    "    distr = st.norm(0, 1)  \n",
    "    p_value = (1 - distr.cdf(abs(z_value))) * 2\n",
    "    print('Событие', event, 'p-значение: ', p_value)\n",
    "    if p_value < alpha:\n",
    "        print('Отвергаем нулевую гипотезу: есть значимая разница')\n",
    "    else:\n",
    "        print('Не получилось отвергнуть нулевую гипотезу, нет оснований считать группы разными') \n"
   ]
  },
  {
   "cell_type": "markdown",
   "id": "0acefcb3",
   "metadata": {},
   "source": [
    "Сформулируем гипотезы. Нулевая: различий в числе пользователей, совершивших события между группами 246 и 247 нет. Альтернативная: различия в числе пользователей между группами есть.\n",
    "\n",
    "Для множественных проверок применим поправку Бонферрони: значение альфа 0.05 разделим на 16 (количество событий, умноженное на количество проверок):"
   ]
  },
  {
   "cell_type": "code",
   "execution_count": 30,
   "id": "32a9baa3",
   "metadata": {},
   "outputs": [
    {
     "data": {
      "text/plain": [
       "0.003125"
      ]
     },
     "execution_count": 30,
     "metadata": {},
     "output_type": "execute_result"
    }
   ],
   "source": [
    "alpha = 0.05/16\n",
    "alpha"
   ]
  },
  {
   "cell_type": "code",
   "execution_count": 31,
   "id": "21b20691",
   "metadata": {},
   "outputs": [
    {
     "name": "stdout",
     "output_type": "stream",
     "text": [
      "Событие MainScreenAppear p-значение:  0.7570597232046099\n",
      "Не получилось отвергнуть нулевую гипотезу, нет оснований считать группы разными\n",
      "Событие OffersScreenAppear p-значение:  0.2480954578522181\n",
      "Не получилось отвергнуть нулевую гипотезу, нет оснований считать группы разными\n",
      "Событие CartScreenAppear p-значение:  0.22883372237997213\n",
      "Не получилось отвергнуть нулевую гипотезу, нет оснований считать группы разными\n",
      "Событие PaymentScreenSuccessful p-значение:  0.11456679313141849\n",
      "Не получилось отвергнуть нулевую гипотезу, нет оснований считать группы разными\n"
     ]
    }
   ],
   "source": [
    "# с помощью цикла проверим гипотезы для групп 246 и 247\n",
    "for i in range(0, len(events_names)):\n",
    "    p_value_check(246, 247, events_names[i], alpha )"
   ]
  },
  {
   "cell_type": "markdown",
   "id": "e481ab1f",
   "metadata": {},
   "source": [
    "Вывод: в результате проверки отсутствуют основания считать группы разными, значит, что А/А тест проведен верно и можно приступать к анализу проведенного А/В теста. Для этого необходимо проверить, находят ли статистические критерии разницу между выборками группы с измененным шрифтом с каждой из контрольных групп по отдельности по каждому событию, а также с объединенной группой.\n",
    "\n",
    "Сформулируем гипотезы. Нулевая: различий в числе пользователей, совершивших события между группами 246 и 248 нет. Альтернативная: различия в числе пользователей между группами есть.\n"
   ]
  },
  {
   "cell_type": "code",
   "execution_count": 32,
   "id": "82c2d99b",
   "metadata": {},
   "outputs": [
    {
     "name": "stdout",
     "output_type": "stream",
     "text": [
      "Событие MainScreenAppear p-значение:  0.2949721933554552\n",
      "Не получилось отвергнуть нулевую гипотезу, нет оснований считать группы разными\n",
      "Событие OffersScreenAppear p-значение:  0.20836205402738917\n",
      "Не получилось отвергнуть нулевую гипотезу, нет оснований считать группы разными\n",
      "Событие CartScreenAppear p-значение:  0.07842923237520116\n",
      "Не получилось отвергнуть нулевую гипотезу, нет оснований считать группы разными\n",
      "Событие PaymentScreenSuccessful p-значение:  0.2122553275697796\n",
      "Не получилось отвергнуть нулевую гипотезу, нет оснований считать группы разными\n"
     ]
    }
   ],
   "source": [
    "for i in range(0, len(events_names)):\n",
    "    p_value_check(246, 248, events_names[i], alpha )"
   ]
  },
  {
   "cell_type": "markdown",
   "id": "a4bf58c7",
   "metadata": {},
   "source": [
    "Вывод: в результате проверки отсутствуют основания считать группы разными, значит, что изменение шрифта не влияет на увеличение конверсии. Для подтверждения продолжим проверку.\n",
    "\n",
    "Сформулируем гипотезы. Нулевая: различий в числе пользователей, совершивших события между группами 247 и 248 нет. Альтернативная: различия в числе пользователей между группами есть."
   ]
  },
  {
   "cell_type": "code",
   "execution_count": 33,
   "id": "2eea8828",
   "metadata": {},
   "outputs": [
    {
     "name": "stdout",
     "output_type": "stream",
     "text": [
      "Событие MainScreenAppear p-значение:  0.4587053616621515\n",
      "Не получилось отвергнуть нулевую гипотезу, нет оснований считать группы разными\n",
      "Событие OffersScreenAppear p-значение:  0.9197817830592261\n",
      "Не получилось отвергнуть нулевую гипотезу, нет оснований считать группы разными\n",
      "Событие CartScreenAppear p-значение:  0.5786197879539783\n",
      "Не получилось отвергнуть нулевую гипотезу, нет оснований считать группы разными\n",
      "Событие PaymentScreenSuccessful p-значение:  0.7373415053803964\n",
      "Не получилось отвергнуть нулевую гипотезу, нет оснований считать группы разными\n"
     ]
    }
   ],
   "source": [
    "for i in range(0, len(events_names)):\n",
    "    p_value_check(247, 248, events_names[i], alpha )"
   ]
  },
  {
   "cell_type": "markdown",
   "id": "9888a6e8",
   "metadata": {},
   "source": [
    "Вывод: в результате проверки отсутствуют основания считать группы разными, значит, что изменение шрифта не влияет на увеличение конверсии. Для подтверждения продолжим проверку.\n",
    "\n",
    "Сформулируем гипотезы. Нулевая: различий в числе пользователей, совершивших события между объединенной группой 246 и 247 и группой 248 нет. Альтернативная: различия в числе пользователей между группами есть."
   ]
  },
  {
   "cell_type": "code",
   "execution_count": 34,
   "id": "20a422b9",
   "metadata": {},
   "outputs": [
    {
     "data": {
      "text/html": [
       "<div>\n",
       "<style scoped>\n",
       "    .dataframe tbody tr th:only-of-type {\n",
       "        vertical-align: middle;\n",
       "    }\n",
       "\n",
       "    .dataframe tbody tr th {\n",
       "        vertical-align: top;\n",
       "    }\n",
       "\n",
       "    .dataframe thead th {\n",
       "        text-align: right;\n",
       "    }\n",
       "</style>\n",
       "<table border=\"1\" class=\"dataframe\">\n",
       "  <thead>\n",
       "    <tr style=\"text-align: right;\">\n",
       "      <th>event_name</th>\n",
       "      <th>CartScreenAppear</th>\n",
       "      <th>MainScreenAppear</th>\n",
       "      <th>OffersScreenAppear</th>\n",
       "      <th>PaymentScreenSuccessful</th>\n",
       "      <th>trials</th>\n",
       "    </tr>\n",
       "    <tr>\n",
       "      <th>exp_id</th>\n",
       "      <th></th>\n",
       "      <th></th>\n",
       "      <th></th>\n",
       "      <th></th>\n",
       "      <th></th>\n",
       "    </tr>\n",
       "  </thead>\n",
       "  <tbody>\n",
       "    <tr>\n",
       "      <th>246</th>\n",
       "      <td>1266</td>\n",
       "      <td>2450</td>\n",
       "      <td>1542</td>\n",
       "      <td>1200</td>\n",
       "      <td>2484</td>\n",
       "    </tr>\n",
       "    <tr>\n",
       "      <th>247</th>\n",
       "      <td>1238</td>\n",
       "      <td>2476</td>\n",
       "      <td>1520</td>\n",
       "      <td>1158</td>\n",
       "      <td>2513</td>\n",
       "    </tr>\n",
       "    <tr>\n",
       "      <th>248</th>\n",
       "      <td>1230</td>\n",
       "      <td>2493</td>\n",
       "      <td>1531</td>\n",
       "      <td>1181</td>\n",
       "      <td>2537</td>\n",
       "    </tr>\n",
       "    <tr>\n",
       "      <th>aa</th>\n",
       "      <td>2504</td>\n",
       "      <td>4926</td>\n",
       "      <td>3062</td>\n",
       "      <td>2358</td>\n",
       "      <td>4997</td>\n",
       "    </tr>\n",
       "  </tbody>\n",
       "</table>\n",
       "</div>"
      ],
      "text/plain": [
       "event_name  CartScreenAppear  MainScreenAppear  OffersScreenAppear  \\\n",
       "exp_id                                                               \n",
       "246                     1266              2450                1542   \n",
       "247                     1238              2476                1520   \n",
       "248                     1230              2493                1531   \n",
       "aa                      2504              4926                3062   \n",
       "\n",
       "event_name  PaymentScreenSuccessful  trials  \n",
       "exp_id                                       \n",
       "246                            1200    2484  \n",
       "247                            1158    2513  \n",
       "248                            1181    2537  \n",
       "aa                             2358    4997  "
      ]
     },
     "execution_count": 34,
     "metadata": {},
     "output_type": "execute_result"
    }
   ],
   "source": [
    "#доюавим в таблицу объединенную группу 246 и 247 \n",
    "events_pivot.loc['aa'] =  (\n",
    "        [events_pivot.loc[246]['CartScreenAppear']+events_pivot.loc[247]['CartScreenAppear'],\n",
    "       events_pivot.loc[246]['MainScreenAppear']+events_pivot.loc[247]['MainScreenAppear'],\n",
    "    events_pivot.loc[246]['OffersScreenAppear']+events_pivot.loc[247]['OffersScreenAppear'],\n",
    "       events_pivot.loc[246]['PaymentScreenSuccessful']+events_pivot.loc[247]['PaymentScreenSuccessful'],\n",
    "        events_pivot.loc[246]['trials']+events_pivot.loc[247]['trials']]\n",
    ")\n",
    "events_pivot"
   ]
  },
  {
   "cell_type": "code",
   "execution_count": 35,
   "id": "ab94becb",
   "metadata": {},
   "outputs": [
    {
     "name": "stdout",
     "output_type": "stream",
     "text": [
      "Событие MainScreenAppear p-значение:  0.29424526837179577\n",
      "Не получилось отвергнуть нулевую гипотезу, нет оснований считать группы разными\n",
      "Событие OffersScreenAppear p-значение:  0.43425549655188256\n",
      "Не получилось отвергнуть нулевую гипотезу, нет оснований считать группы разными\n",
      "Событие CartScreenAppear p-значение:  0.18175875284404386\n",
      "Не получилось отвергнуть нулевую гипотезу, нет оснований считать группы разными\n",
      "Событие PaymentScreenSuccessful p-значение:  0.6004294282308704\n",
      "Не получилось отвергнуть нулевую гипотезу, нет оснований считать группы разными\n"
     ]
    }
   ],
   "source": [
    "for i in range(0, len(events_names)):\n",
    "    p_value_check('aa', 248, events_names[i], alpha )"
   ]
  },
  {
   "cell_type": "markdown",
   "id": "febb64c9",
   "metadata": {},
   "source": [
    "Вывод: в результате проверки отсутствуют основания считать группы разными, значит, что изменение шрифта не влияет на увеличение конверсии.\n",
    "Данное утверждение в результате проверки всех гипотез говорит о том, что результаты проведенного А/В теста показали нецелесообразность введения тестируемых изменений, так как они не влияют на увеличение конверсии."
   ]
  },
  {
   "cell_type": "markdown",
   "id": "8b02dc88",
   "metadata": {},
   "source": [
    "## 5. Вывод по результатам исследования"
   ]
  },
  {
   "cell_type": "markdown",
   "id": "65bb154a",
   "metadata": {},
   "source": [
    "На этапе изучения данных принято решение исследовать данных за период с 1 по 7 августа 2019, так как они наиболее полно представлены в датасете. Потери при фильтрации данных незначительные - 1.16% событий, 0.23% уникальных пользователей. Пользователей, вошедших одновременно в несколько экспериментальных групп нет. \n",
    "\n",
    "По имеющимся данным можно наметить последовательность событий для пользователей приложения: от показа главной страницы (событие происходит у 98% пользователей) до успешной оплаты заказа (у 47%). Исключение  - прохождение обучения по приложению (tutorial) - его проходит только 11% от всех пользователей, неизвестно на каком этапе пользования приложением.\n",
    "\n",
    "Больше всего пользователей приложение теряет еще на этапе главного экрана - на следующий этап (экран предложения) переходят только 62% пользователей. На остальных этапах воронки конверсия лучше - 81% переходит в корзину и 94% перешедших в корзину успешно оплачивают свои покупки. Всего до успешной оплаты от первого события доходит 47% пользователей приложения.\n",
    "\n",
    "При анализе результатов А/А теста выявлено, что группы однородны и могут быть использованы для проведения А/В тестирования.\n",
    "\n",
    "В результате проверки  статистической значимости различий отсутствуют основания считать группы разными, значит, что изменение шрифта не влияет на увеличение конверсии. Данное утверждение в результате проверки всех гипотез говорит о том, что результаты проведенного А/В теста показали нецелесообразность введения тестируемых изменений, так как они не влияют на увеличение конверсии."
   ]
  }
 ],
 "metadata": {
  "ExecuteTimeLog": [
   {
    "duration": 1117,
    "start_time": "2023-04-18T11:07:12.706Z"
   },
   {
    "duration": 144,
    "start_time": "2023-04-18T11:07:13.825Z"
   },
   {
    "duration": 19,
    "start_time": "2023-04-18T11:07:13.970Z"
   },
   {
    "duration": 17,
    "start_time": "2023-04-18T11:07:13.995Z"
   },
   {
    "duration": 19,
    "start_time": "2023-04-18T11:07:14.014Z"
   },
   {
    "duration": 27,
    "start_time": "2023-04-18T11:07:14.035Z"
   },
   {
    "duration": 67,
    "start_time": "2023-04-18T11:07:14.063Z"
   },
   {
    "duration": 80,
    "start_time": "2023-04-18T11:07:14.132Z"
   },
   {
    "duration": 80,
    "start_time": "2023-04-18T11:07:14.214Z"
   },
   {
    "duration": 9,
    "start_time": "2023-04-18T11:07:14.296Z"
   },
   {
    "duration": 39,
    "start_time": "2023-04-18T11:07:14.306Z"
   },
   {
    "duration": 20,
    "start_time": "2023-04-18T11:07:14.347Z"
   },
   {
    "duration": 284,
    "start_time": "2023-04-18T11:07:14.368Z"
   },
   {
    "duration": 12,
    "start_time": "2023-04-18T11:07:14.654Z"
   },
   {
    "duration": 33,
    "start_time": "2023-04-18T11:07:14.668Z"
   },
   {
    "duration": 55,
    "start_time": "2023-04-18T11:07:14.703Z"
   },
   {
    "duration": 10,
    "start_time": "2023-04-18T11:07:14.759Z"
   },
   {
    "duration": 49,
    "start_time": "2023-04-18T11:07:14.770Z"
   },
   {
    "duration": 56,
    "start_time": "2023-04-18T11:07:14.821Z"
   },
   {
    "duration": 13,
    "start_time": "2023-04-18T11:07:14.893Z"
   },
   {
    "duration": 9,
    "start_time": "2023-04-18T11:07:14.908Z"
   },
   {
    "duration": 66,
    "start_time": "2023-04-18T11:07:14.919Z"
   },
   {
    "duration": 85,
    "start_time": "2023-04-18T11:07:14.987Z"
   },
   {
    "duration": 4,
    "start_time": "2023-04-18T11:07:15.074Z"
   },
   {
    "duration": 17,
    "start_time": "2023-04-18T11:07:15.079Z"
   },
   {
    "duration": 16,
    "start_time": "2023-04-18T11:07:15.097Z"
   },
   {
    "duration": 23,
    "start_time": "2023-04-18T11:07:15.115Z"
   },
   {
    "duration": 12,
    "start_time": "2023-04-18T11:07:15.140Z"
   },
   {
    "duration": 27,
    "start_time": "2023-04-18T11:07:15.153Z"
   },
   {
    "duration": 41,
    "start_time": "2023-04-18T11:07:15.181Z"
   },
   {
    "duration": 21,
    "start_time": "2023-04-18T11:07:15.224Z"
   },
   {
    "duration": 41,
    "start_time": "2023-04-18T11:17:01.809Z"
   },
   {
    "duration": 1541,
    "start_time": "2023-04-18T11:25:32.029Z"
   },
   {
    "duration": 895,
    "start_time": "2023-04-18T11:25:33.572Z"
   },
   {
    "duration": 43,
    "start_time": "2023-04-18T11:25:34.469Z"
   },
   {
    "duration": 39,
    "start_time": "2023-04-18T11:25:34.514Z"
   },
   {
    "duration": 16,
    "start_time": "2023-04-18T11:25:34.554Z"
   },
   {
    "duration": 76,
    "start_time": "2023-04-18T11:25:34.571Z"
   },
   {
    "duration": 98,
    "start_time": "2023-04-18T11:25:34.648Z"
   },
   {
    "duration": 91,
    "start_time": "2023-04-18T11:25:34.749Z"
   },
   {
    "duration": 95,
    "start_time": "2023-04-18T11:25:34.842Z"
   },
   {
    "duration": 10,
    "start_time": "2023-04-18T11:25:34.940Z"
   },
   {
    "duration": 78,
    "start_time": "2023-04-18T11:25:34.952Z"
   },
   {
    "duration": 20,
    "start_time": "2023-04-18T11:25:35.031Z"
   },
   {
    "duration": 398,
    "start_time": "2023-04-18T11:25:35.052Z"
   },
   {
    "duration": 12,
    "start_time": "2023-04-18T11:25:35.452Z"
   },
   {
    "duration": 98,
    "start_time": "2023-04-18T11:25:35.466Z"
   },
   {
    "duration": 71,
    "start_time": "2023-04-18T11:25:35.566Z"
   },
   {
    "duration": 9,
    "start_time": "2023-04-18T11:25:35.638Z"
   },
   {
    "duration": 90,
    "start_time": "2023-04-18T11:25:35.649Z"
   },
   {
    "duration": 59,
    "start_time": "2023-04-18T11:25:35.741Z"
   },
   {
    "duration": 126,
    "start_time": "2023-04-18T11:25:35.801Z"
   },
   {
    "duration": 13,
    "start_time": "2023-04-18T11:25:35.930Z"
   },
   {
    "duration": 17,
    "start_time": "2023-04-18T11:25:35.944Z"
   },
   {
    "duration": 109,
    "start_time": "2023-04-18T11:25:35.963Z"
   },
   {
    "duration": 150,
    "start_time": "2023-04-18T11:25:36.074Z"
   },
   {
    "duration": 5,
    "start_time": "2023-04-18T11:25:36.231Z"
   },
   {
    "duration": 29,
    "start_time": "2023-04-18T11:25:36.238Z"
   },
   {
    "duration": 61,
    "start_time": "2023-04-18T11:25:36.269Z"
   },
   {
    "duration": 23,
    "start_time": "2023-04-18T11:25:36.333Z"
   },
   {
    "duration": 75,
    "start_time": "2023-04-18T11:25:36.358Z"
   },
   {
    "duration": 31,
    "start_time": "2023-04-18T11:25:36.435Z"
   },
   {
    "duration": 77,
    "start_time": "2023-04-18T11:25:36.467Z"
   },
   {
    "duration": 34,
    "start_time": "2023-04-18T11:25:36.546Z"
   },
   {
    "duration": 133,
    "start_time": "2023-04-18T11:28:28.180Z"
   },
   {
    "duration": 146,
    "start_time": "2023-04-18T11:31:19.280Z"
   },
   {
    "duration": 19,
    "start_time": "2023-04-18T11:31:57.912Z"
   },
   {
    "duration": 575,
    "start_time": "2023-04-18T11:32:01.345Z"
   },
   {
    "duration": 70,
    "start_time": "2023-04-18T11:32:41.019Z"
   },
   {
    "duration": 68,
    "start_time": "2023-04-18T11:32:42.717Z"
   },
   {
    "duration": 14,
    "start_time": "2023-04-18T11:33:30.932Z"
   },
   {
    "duration": 62,
    "start_time": "2023-04-18T11:33:32.069Z"
   },
   {
    "duration": 15,
    "start_time": "2023-04-18T11:35:17.144Z"
   },
   {
    "duration": 55,
    "start_time": "2023-04-18T11:35:18.575Z"
   },
   {
    "duration": 13,
    "start_time": "2023-04-18T11:35:53.558Z"
   },
   {
    "duration": 48,
    "start_time": "2023-04-18T11:35:54.247Z"
   },
   {
    "duration": 56,
    "start_time": "2023-04-18T11:39:14.199Z"
   },
   {
    "duration": 11,
    "start_time": "2023-04-18T11:43:28.134Z"
   },
   {
    "duration": 11,
    "start_time": "2023-04-18T11:43:36.856Z"
   },
   {
    "duration": 82,
    "start_time": "2023-04-18T11:43:59.477Z"
   },
   {
    "duration": 63,
    "start_time": "2023-04-18T11:44:19.068Z"
   },
   {
    "duration": 1351,
    "start_time": "2023-04-18T11:46:48.315Z"
   },
   {
    "duration": 221,
    "start_time": "2023-04-18T11:46:49.668Z"
   },
   {
    "duration": 33,
    "start_time": "2023-04-18T11:46:49.891Z"
   },
   {
    "duration": 26,
    "start_time": "2023-04-18T11:46:49.926Z"
   },
   {
    "duration": 6,
    "start_time": "2023-04-18T11:46:49.954Z"
   },
   {
    "duration": 31,
    "start_time": "2023-04-18T11:46:49.962Z"
   },
   {
    "duration": 89,
    "start_time": "2023-04-18T11:46:49.996Z"
   },
   {
    "duration": 91,
    "start_time": "2023-04-18T11:46:50.089Z"
   },
   {
    "duration": 96,
    "start_time": "2023-04-18T11:46:50.181Z"
   },
   {
    "duration": 15,
    "start_time": "2023-04-18T11:46:50.279Z"
   },
   {
    "duration": 84,
    "start_time": "2023-04-18T11:46:50.296Z"
   },
   {
    "duration": 44,
    "start_time": "2023-04-18T11:46:50.386Z"
   },
   {
    "duration": 340,
    "start_time": "2023-04-18T11:46:50.432Z"
   },
   {
    "duration": 27,
    "start_time": "2023-04-18T11:46:50.774Z"
   },
   {
    "duration": 59,
    "start_time": "2023-04-18T11:46:50.810Z"
   },
   {
    "duration": 60,
    "start_time": "2023-04-18T11:46:50.871Z"
   },
   {
    "duration": 11,
    "start_time": "2023-04-18T11:46:50.933Z"
   },
   {
    "duration": 66,
    "start_time": "2023-04-18T11:46:50.946Z"
   },
   {
    "duration": 39,
    "start_time": "2023-04-18T11:46:51.019Z"
   },
   {
    "duration": 73,
    "start_time": "2023-04-18T11:46:51.060Z"
   },
   {
    "duration": 14,
    "start_time": "2023-04-18T11:46:51.134Z"
   },
   {
    "duration": 515,
    "start_time": "2023-04-18T11:46:51.150Z"
   },
   {
    "duration": 4,
    "start_time": "2023-04-18T11:46:51.666Z"
   },
   {
    "duration": 115,
    "start_time": "2023-04-18T11:46:51.671Z"
   },
   {
    "duration": 180,
    "start_time": "2023-04-18T11:46:51.788Z"
   },
   {
    "duration": 3,
    "start_time": "2023-04-18T11:46:51.969Z"
   },
   {
    "duration": 9,
    "start_time": "2023-04-18T11:46:51.983Z"
   },
   {
    "duration": 37,
    "start_time": "2023-04-18T11:46:52.003Z"
   },
   {
    "duration": 20,
    "start_time": "2023-04-18T11:46:52.042Z"
   },
   {
    "duration": 16,
    "start_time": "2023-04-18T11:46:52.063Z"
   },
   {
    "duration": 31,
    "start_time": "2023-04-18T11:46:52.081Z"
   },
   {
    "duration": 35,
    "start_time": "2023-04-18T11:46:52.117Z"
   },
   {
    "duration": 14,
    "start_time": "2023-04-18T11:46:52.154Z"
   },
   {
    "duration": 1444,
    "start_time": "2023-04-18T15:17:23.071Z"
   },
   {
    "duration": 168,
    "start_time": "2023-04-18T15:17:24.518Z"
   },
   {
    "duration": 35,
    "start_time": "2023-04-18T15:17:24.689Z"
   },
   {
    "duration": 18,
    "start_time": "2023-04-18T15:17:24.727Z"
   },
   {
    "duration": 10,
    "start_time": "2023-04-18T15:17:24.747Z"
   },
   {
    "duration": 45,
    "start_time": "2023-04-18T15:17:24.759Z"
   },
   {
    "duration": 113,
    "start_time": "2023-04-18T15:17:24.807Z"
   },
   {
    "duration": 93,
    "start_time": "2023-04-18T15:17:24.922Z"
   },
   {
    "duration": 82,
    "start_time": "2023-04-18T15:17:25.017Z"
   },
   {
    "duration": 15,
    "start_time": "2023-04-18T15:17:25.106Z"
   },
   {
    "duration": 65,
    "start_time": "2023-04-18T15:17:25.124Z"
   },
   {
    "duration": 16,
    "start_time": "2023-04-18T15:17:25.192Z"
   },
   {
    "duration": 406,
    "start_time": "2023-04-18T15:17:25.213Z"
   },
   {
    "duration": 14,
    "start_time": "2023-04-18T15:17:25.620Z"
   },
   {
    "duration": 59,
    "start_time": "2023-04-18T15:17:25.636Z"
   },
   {
    "duration": 62,
    "start_time": "2023-04-18T15:17:25.697Z"
   },
   {
    "duration": 34,
    "start_time": "2023-04-18T15:17:25.761Z"
   },
   {
    "duration": 46,
    "start_time": "2023-04-18T15:17:25.800Z"
   },
   {
    "duration": 82,
    "start_time": "2023-04-18T15:17:25.849Z"
   },
   {
    "duration": 71,
    "start_time": "2023-04-18T15:17:25.939Z"
   },
   {
    "duration": 19,
    "start_time": "2023-04-18T15:17:26.014Z"
   },
   {
    "duration": 731,
    "start_time": "2023-04-18T15:17:26.035Z"
   },
   {
    "duration": 4,
    "start_time": "2023-04-18T15:17:26.767Z"
   },
   {
    "duration": 138,
    "start_time": "2023-04-18T15:17:26.774Z"
   },
   {
    "duration": 162,
    "start_time": "2023-04-18T15:17:26.914Z"
   },
   {
    "duration": 5,
    "start_time": "2023-04-18T15:17:27.078Z"
   },
   {
    "duration": 14,
    "start_time": "2023-04-18T15:17:27.097Z"
   },
   {
    "duration": 4,
    "start_time": "2023-04-18T15:17:27.116Z"
   },
   {
    "duration": 29,
    "start_time": "2023-04-18T15:17:27.122Z"
   },
   {
    "duration": 39,
    "start_time": "2023-04-18T15:17:27.153Z"
   },
   {
    "duration": 27,
    "start_time": "2023-04-18T15:17:27.200Z"
   },
   {
    "duration": 34,
    "start_time": "2023-04-18T15:17:27.230Z"
   },
   {
    "duration": 37,
    "start_time": "2023-04-18T15:17:27.266Z"
   },
   {
    "duration": 48,
    "start_time": "2023-04-18T15:23:01.614Z"
   },
   {
    "duration": 1450,
    "start_time": "2023-04-18T15:23:14.645Z"
   },
   {
    "duration": 682,
    "start_time": "2023-04-18T15:23:16.097Z"
   },
   {
    "duration": 23,
    "start_time": "2023-04-18T15:23:16.782Z"
   },
   {
    "duration": 36,
    "start_time": "2023-04-18T15:23:16.807Z"
   },
   {
    "duration": 7,
    "start_time": "2023-04-18T15:23:16.844Z"
   },
   {
    "duration": 18,
    "start_time": "2023-04-18T15:23:16.852Z"
   },
   {
    "duration": 62,
    "start_time": "2023-04-18T15:23:16.871Z"
   },
   {
    "duration": 78,
    "start_time": "2023-04-18T15:23:16.935Z"
   },
   {
    "duration": 73,
    "start_time": "2023-04-18T15:23:17.014Z"
   },
   {
    "duration": 9,
    "start_time": "2023-04-18T15:23:17.088Z"
   },
   {
    "duration": 41,
    "start_time": "2023-04-18T15:23:17.099Z"
   },
   {
    "duration": 6,
    "start_time": "2023-04-18T15:23:17.141Z"
   },
   {
    "duration": 313,
    "start_time": "2023-04-18T15:23:17.150Z"
   },
   {
    "duration": 23,
    "start_time": "2023-04-18T15:23:17.464Z"
   },
   {
    "duration": 43,
    "start_time": "2023-04-18T15:23:17.489Z"
   },
   {
    "duration": 65,
    "start_time": "2023-04-18T15:23:17.534Z"
   },
   {
    "duration": 9,
    "start_time": "2023-04-18T15:23:17.600Z"
   },
   {
    "duration": 40,
    "start_time": "2023-04-18T15:23:17.611Z"
   },
   {
    "duration": 52,
    "start_time": "2023-04-18T15:23:17.652Z"
   },
   {
    "duration": 60,
    "start_time": "2023-04-18T15:23:17.705Z"
   },
   {
    "duration": 28,
    "start_time": "2023-04-18T15:23:17.766Z"
   },
   {
    "duration": 465,
    "start_time": "2023-04-18T15:23:17.795Z"
   },
   {
    "duration": 3,
    "start_time": "2023-04-18T15:23:18.262Z"
   },
   {
    "duration": 68,
    "start_time": "2023-04-18T15:23:18.266Z"
   },
   {
    "duration": 139,
    "start_time": "2023-04-18T15:23:18.336Z"
   },
   {
    "duration": 4,
    "start_time": "2023-04-18T15:23:18.486Z"
   },
   {
    "duration": 9,
    "start_time": "2023-04-18T15:23:18.491Z"
   },
   {
    "duration": 13,
    "start_time": "2023-04-18T15:23:18.501Z"
   },
   {
    "duration": 11,
    "start_time": "2023-04-18T15:23:18.516Z"
   },
   {
    "duration": 10,
    "start_time": "2023-04-18T15:23:18.528Z"
   },
   {
    "duration": 14,
    "start_time": "2023-04-18T15:23:18.539Z"
   },
   {
    "duration": 36,
    "start_time": "2023-04-18T15:23:18.554Z"
   },
   {
    "duration": 12,
    "start_time": "2023-04-18T15:23:18.593Z"
   },
   {
    "duration": 13,
    "start_time": "2023-04-18T15:24:51.126Z"
   },
   {
    "duration": 45,
    "start_time": "2023-04-18T15:24:52.614Z"
   },
   {
    "duration": 15,
    "start_time": "2023-04-18T15:25:05.826Z"
   },
   {
    "duration": 44,
    "start_time": "2023-04-18T15:25:07.246Z"
   },
   {
    "duration": 15,
    "start_time": "2023-04-18T15:28:24.439Z"
   },
   {
    "duration": 40,
    "start_time": "2023-04-18T15:28:25.930Z"
   },
   {
    "duration": 13,
    "start_time": "2023-04-18T15:29:13.922Z"
   },
   {
    "duration": 39,
    "start_time": "2023-04-18T15:29:16.848Z"
   },
   {
    "duration": 15,
    "start_time": "2023-04-18T15:29:22.233Z"
   },
   {
    "duration": 44,
    "start_time": "2023-04-18T15:29:23.876Z"
   },
   {
    "duration": 5,
    "start_time": "2023-04-18T15:31:26.262Z"
   },
   {
    "duration": 5,
    "start_time": "2023-04-18T15:32:01.734Z"
   },
   {
    "duration": 5,
    "start_time": "2023-04-18T15:32:50.674Z"
   },
   {
    "duration": 4,
    "start_time": "2023-04-18T15:32:52.999Z"
   },
   {
    "duration": 5,
    "start_time": "2023-04-18T15:33:03.403Z"
   },
   {
    "duration": 1292,
    "start_time": "2023-04-18T15:33:08.918Z"
   },
   {
    "duration": 162,
    "start_time": "2023-04-18T15:33:10.212Z"
   },
   {
    "duration": 26,
    "start_time": "2023-04-18T15:33:10.375Z"
   },
   {
    "duration": 12,
    "start_time": "2023-04-18T15:33:10.404Z"
   },
   {
    "duration": 8,
    "start_time": "2023-04-18T15:33:10.420Z"
   },
   {
    "duration": 22,
    "start_time": "2023-04-18T15:33:10.430Z"
   },
   {
    "duration": 107,
    "start_time": "2023-04-18T15:33:10.487Z"
   },
   {
    "duration": 89,
    "start_time": "2023-04-18T15:33:10.596Z"
   },
   {
    "duration": 75,
    "start_time": "2023-04-18T15:33:10.687Z"
   },
   {
    "duration": 23,
    "start_time": "2023-04-18T15:33:10.764Z"
   },
   {
    "duration": 32,
    "start_time": "2023-04-18T15:33:10.790Z"
   },
   {
    "duration": 5,
    "start_time": "2023-04-18T15:33:10.824Z"
   },
   {
    "duration": 324,
    "start_time": "2023-04-18T15:33:10.831Z"
   },
   {
    "duration": 13,
    "start_time": "2023-04-18T15:33:11.158Z"
   },
   {
    "duration": 70,
    "start_time": "2023-04-18T15:33:11.173Z"
   },
   {
    "duration": 73,
    "start_time": "2023-04-18T15:33:11.245Z"
   },
   {
    "duration": 11,
    "start_time": "2023-04-18T15:33:11.320Z"
   },
   {
    "duration": 65,
    "start_time": "2023-04-18T15:33:11.333Z"
   },
   {
    "duration": 39,
    "start_time": "2023-04-18T15:33:11.400Z"
   },
   {
    "duration": 82,
    "start_time": "2023-04-18T15:33:11.441Z"
   },
   {
    "duration": 17,
    "start_time": "2023-04-18T15:33:11.525Z"
   },
   {
    "duration": 440,
    "start_time": "2023-04-18T15:33:11.544Z"
   },
   {
    "duration": 4,
    "start_time": "2023-04-18T15:33:11.987Z"
   },
   {
    "duration": 103,
    "start_time": "2023-04-18T15:33:11.993Z"
   },
   {
    "duration": 143,
    "start_time": "2023-04-18T15:33:12.098Z"
   },
   {
    "duration": 5,
    "start_time": "2023-04-18T15:33:12.242Z"
   },
   {
    "duration": 9,
    "start_time": "2023-04-18T15:33:12.249Z"
   },
   {
    "duration": 27,
    "start_time": "2023-04-18T15:33:12.260Z"
   },
   {
    "duration": 14,
    "start_time": "2023-04-18T15:33:12.289Z"
   },
   {
    "duration": 13,
    "start_time": "2023-04-18T15:33:12.304Z"
   },
   {
    "duration": 11,
    "start_time": "2023-04-18T15:33:12.319Z"
   },
   {
    "duration": 17,
    "start_time": "2023-04-18T15:33:12.332Z"
   },
   {
    "duration": 45,
    "start_time": "2023-04-18T15:33:12.350Z"
   },
   {
    "duration": 1428,
    "start_time": "2023-04-18T16:19:10.952Z"
   },
   {
    "duration": 202,
    "start_time": "2023-04-18T16:19:12.383Z"
   },
   {
    "duration": 36,
    "start_time": "2023-04-18T16:19:12.587Z"
   },
   {
    "duration": 40,
    "start_time": "2023-04-18T16:19:12.633Z"
   },
   {
    "duration": 38,
    "start_time": "2023-04-18T16:19:12.676Z"
   },
   {
    "duration": 36,
    "start_time": "2023-04-18T16:19:12.719Z"
   },
   {
    "duration": 106,
    "start_time": "2023-04-18T16:19:12.758Z"
   },
   {
    "duration": 99,
    "start_time": "2023-04-18T16:19:12.866Z"
   },
   {
    "duration": 107,
    "start_time": "2023-04-18T16:19:12.967Z"
   },
   {
    "duration": 10,
    "start_time": "2023-04-18T16:19:13.078Z"
   },
   {
    "duration": 55,
    "start_time": "2023-04-18T16:19:13.090Z"
   },
   {
    "duration": 6,
    "start_time": "2023-04-18T16:19:13.147Z"
   },
   {
    "duration": 416,
    "start_time": "2023-04-18T16:19:13.155Z"
   },
   {
    "duration": 29,
    "start_time": "2023-04-18T16:19:13.573Z"
   },
   {
    "duration": 63,
    "start_time": "2023-04-18T16:19:13.605Z"
   },
   {
    "duration": 83,
    "start_time": "2023-04-18T16:19:13.670Z"
   },
   {
    "duration": 13,
    "start_time": "2023-04-18T16:19:13.756Z"
   },
   {
    "duration": 74,
    "start_time": "2023-04-18T16:19:13.770Z"
   },
   {
    "duration": 60,
    "start_time": "2023-04-18T16:19:13.846Z"
   },
   {
    "duration": 70,
    "start_time": "2023-04-18T16:19:13.913Z"
   },
   {
    "duration": 23,
    "start_time": "2023-04-18T16:19:13.985Z"
   },
   {
    "duration": 675,
    "start_time": "2023-04-18T16:19:14.010Z"
   },
   {
    "duration": 5,
    "start_time": "2023-04-18T16:19:14.687Z"
   },
   {
    "duration": 149,
    "start_time": "2023-04-18T16:19:14.693Z"
   },
   {
    "duration": 140,
    "start_time": "2023-04-18T16:19:14.844Z"
   },
   {
    "duration": 6,
    "start_time": "2023-04-18T16:19:14.992Z"
   },
   {
    "duration": 50,
    "start_time": "2023-04-18T16:19:15.000Z"
   },
   {
    "duration": 10,
    "start_time": "2023-04-18T16:19:15.053Z"
   },
   {
    "duration": 20,
    "start_time": "2023-04-18T16:19:15.065Z"
   },
   {
    "duration": 33,
    "start_time": "2023-04-18T16:19:15.087Z"
   },
   {
    "duration": 15,
    "start_time": "2023-04-18T16:19:15.122Z"
   },
   {
    "duration": 14,
    "start_time": "2023-04-18T16:19:15.139Z"
   },
   {
    "duration": 27,
    "start_time": "2023-04-18T16:19:15.156Z"
   }
  ],
  "kernelspec": {
   "display_name": "Python 3 (ipykernel)",
   "language": "python",
   "name": "python3"
  },
  "language_info": {
   "codemirror_mode": {
    "name": "ipython",
    "version": 3
   },
   "file_extension": ".py",
   "mimetype": "text/x-python",
   "name": "python",
   "nbconvert_exporter": "python",
   "pygments_lexer": "ipython3",
   "version": "3.9.15"
  },
  "toc": {
   "base_numbering": 1,
   "nav_menu": {},
   "number_sections": true,
   "sideBar": true,
   "skip_h1_title": true,
   "title_cell": "Table of Contents",
   "title_sidebar": "Contents",
   "toc_cell": false,
   "toc_position": {},
   "toc_section_display": true,
   "toc_window_display": false
  }
 },
 "nbformat": 4,
 "nbformat_minor": 5
}
