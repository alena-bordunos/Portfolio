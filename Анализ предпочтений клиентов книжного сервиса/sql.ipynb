{
 "cells": [
  {
   "cell_type": "markdown",
   "metadata": {},
   "source": [
    "# Анализ предпочтений клиентов книжного сервиса"
   ]
  },
  {
   "cell_type": "markdown",
   "metadata": {},
   "source": [
    "**Цель исследования:**\n",
    "\n",
    "Проанализировать базу данных книжного сервиса для того, чтобы сформулировать ценностное предложение для нового продукта.\n",
    "\n",
    "**Задачи исследования:**\n",
    "\n",
    "- Посчитать, сколько книг вышло после 1 января 2000 года;\n",
    "- Для каждой книги посчитать количество обзоров и среднюю оценку;\n",
    "- Определить издательство, которое выпустило наибольшее число книг толще 50 страниц;\n",
    "- Определить автора с самой высокой средней оценкой книг среди книг с 50 и более оценками;\n",
    "- Посчитать среднее количество обзоров от пользователей, которые поставили больше 48 оценок.\n",
    "\n",
    "**Описание данных:**\n",
    "\n",
    "**Таблица `books`**\n",
    "\n",
    "Содержит данные о книгах:\n",
    "\n",
    "- `book_id` — идентификатор книги;\n",
    "- `author_id` — идентификатор автора;\n",
    "- `title` — название книги;\n",
    "- `num_pages` — количество страниц;\n",
    "- `publication_date` — дата публикации книги;\n",
    "- `publisher_id` — идентификатор издателя.\n",
    "\n",
    "**Таблица `authors`**\n",
    "\n",
    "Содержит данные об авторах:\n",
    "\n",
    "- `author_id` — идентификатор автора;\n",
    "- `author` — имя автора.\n",
    "\n",
    "**Таблица `publishers`**\n",
    "\n",
    "Содержит данные об издательствах:\n",
    "\n",
    "- `publisher_id` — идентификатор издательства;\n",
    "- `publisher` — название издательства;\n",
    "\n",
    "**Таблица `ratings`**\n",
    "\n",
    "Содержит данные о пользовательских оценках книг:\n",
    "\n",
    "- `rating_id` — идентификатор оценки;\n",
    "- `book_id` — идентификатор книги;\n",
    "- `username` — имя пользователя, оставившего оценку;\n",
    "- `rating` — оценка книги.\n",
    "\n",
    "**Таблица `reviews`**\n",
    "\n",
    "Содержит данные о пользовательских обзорах на книги:\n",
    "\n",
    "- `review_id` — идентификатор обзора;\n",
    "- `book_id` — идентификатор книги;\n",
    "- `username` — имя пользователя, написавшего обзор;\n",
    "- `text` — текст обзора.\n"
   ]
  },
  {
   "cell_type": "markdown",
   "metadata": {},
   "source": [
    "## Настройка необходимых параметров"
   ]
  },
  {
   "cell_type": "code",
   "execution_count": 1,
   "metadata": {},
   "outputs": [],
   "source": [
    "# импортируем библиотеки\n",
    "import pandas as pd\n",
    "from sqlalchemy import text, create_engine\n",
    "# устанавливаем параметры\n",
    "db_config = {'user': 'praktikum_student', # имя пользователя\n",
    "'pwd': 'Sdf4$2;d-d30pp', # пароль\n",
    "'host': 'rc1b-wcoijxj3yxfsf3fs.mdb.yandexcloud.net',\n",
    "'port': 6432, # порт подключения\n",
    "'db': 'data-analyst-final-project-db'} # название базы данных\n",
    "connection_string = 'postgresql://{user}:{pwd}@{host}:{port}/{db}'.format(**db_config)\n",
    "# сохраняем коннектор\n",
    "engine = create_engine(connection_string, connect_args={'sslmode':'require'})"
   ]
  },
  {
   "cell_type": "code",
   "execution_count": 2,
   "metadata": {},
   "outputs": [],
   "source": [
    "# создадим функцию ддя вывода результатов sql-запроса\n",
    "def result(query):\n",
    "    con=engine.connect()\n",
    "    return pd.io.sql.read_sql(sql=text(query), con = con)"
   ]
  },
  {
   "cell_type": "markdown",
   "metadata": {},
   "source": [
    "## Знакомство с данными"
   ]
  },
  {
   "cell_type": "markdown",
   "metadata": {},
   "source": [
    "Для начала выведем на экран первые строки всех таблиц базы данных:"
   ]
  },
  {
   "cell_type": "code",
   "execution_count": 3,
   "metadata": {},
   "outputs": [
    {
     "data": {
      "text/html": [
       "<div>\n",
       "<style scoped>\n",
       "    .dataframe tbody tr th:only-of-type {\n",
       "        vertical-align: middle;\n",
       "    }\n",
       "\n",
       "    .dataframe tbody tr th {\n",
       "        vertical-align: top;\n",
       "    }\n",
       "\n",
       "    .dataframe thead th {\n",
       "        text-align: right;\n",
       "    }\n",
       "</style>\n",
       "<table border=\"1\" class=\"dataframe\">\n",
       "  <thead>\n",
       "    <tr style=\"text-align: right;\">\n",
       "      <th></th>\n",
       "      <th>book_id</th>\n",
       "      <th>author_id</th>\n",
       "      <th>title</th>\n",
       "      <th>num_pages</th>\n",
       "      <th>publication_date</th>\n",
       "      <th>publisher_id</th>\n",
       "    </tr>\n",
       "  </thead>\n",
       "  <tbody>\n",
       "    <tr>\n",
       "      <th>0</th>\n",
       "      <td>1</td>\n",
       "      <td>546</td>\n",
       "      <td>'Salem's Lot</td>\n",
       "      <td>594</td>\n",
       "      <td>2005-11-01</td>\n",
       "      <td>93</td>\n",
       "    </tr>\n",
       "    <tr>\n",
       "      <th>1</th>\n",
       "      <td>2</td>\n",
       "      <td>465</td>\n",
       "      <td>1 000 Places to See Before You Die</td>\n",
       "      <td>992</td>\n",
       "      <td>2003-05-22</td>\n",
       "      <td>336</td>\n",
       "    </tr>\n",
       "    <tr>\n",
       "      <th>2</th>\n",
       "      <td>3</td>\n",
       "      <td>407</td>\n",
       "      <td>13 Little Blue Envelopes (Little Blue Envelope...</td>\n",
       "      <td>322</td>\n",
       "      <td>2010-12-21</td>\n",
       "      <td>135</td>\n",
       "    </tr>\n",
       "    <tr>\n",
       "      <th>3</th>\n",
       "      <td>4</td>\n",
       "      <td>82</td>\n",
       "      <td>1491: New Revelations of the Americas Before C...</td>\n",
       "      <td>541</td>\n",
       "      <td>2006-10-10</td>\n",
       "      <td>309</td>\n",
       "    </tr>\n",
       "    <tr>\n",
       "      <th>4</th>\n",
       "      <td>5</td>\n",
       "      <td>125</td>\n",
       "      <td>1776</td>\n",
       "      <td>386</td>\n",
       "      <td>2006-07-04</td>\n",
       "      <td>268</td>\n",
       "    </tr>\n",
       "  </tbody>\n",
       "</table>\n",
       "</div>"
      ],
      "text/plain": [
       "   book_id  author_id                                              title  \\\n",
       "0        1        546                                       'Salem's Lot   \n",
       "1        2        465                 1 000 Places to See Before You Die   \n",
       "2        3        407  13 Little Blue Envelopes (Little Blue Envelope...   \n",
       "3        4         82  1491: New Revelations of the Americas Before C...   \n",
       "4        5        125                                               1776   \n",
       "\n",
       "   num_pages publication_date  publisher_id  \n",
       "0        594       2005-11-01            93  \n",
       "1        992       2003-05-22           336  \n",
       "2        322       2010-12-21           135  \n",
       "3        541       2006-10-10           309  \n",
       "4        386       2006-07-04           268  "
      ]
     },
     "execution_count": 3,
     "metadata": {},
     "output_type": "execute_result"
    }
   ],
   "source": [
    "query = \\\n",
    "'''\n",
    "SELECT * \n",
    "FROM books \n",
    "LIMIT 5\n",
    "'''\n",
    "result(query)"
   ]
  },
  {
   "cell_type": "code",
   "execution_count": 4,
   "metadata": {},
   "outputs": [
    {
     "data": {
      "text/html": [
       "<div>\n",
       "<style scoped>\n",
       "    .dataframe tbody tr th:only-of-type {\n",
       "        vertical-align: middle;\n",
       "    }\n",
       "\n",
       "    .dataframe tbody tr th {\n",
       "        vertical-align: top;\n",
       "    }\n",
       "\n",
       "    .dataframe thead th {\n",
       "        text-align: right;\n",
       "    }\n",
       "</style>\n",
       "<table border=\"1\" class=\"dataframe\">\n",
       "  <thead>\n",
       "    <tr style=\"text-align: right;\">\n",
       "      <th></th>\n",
       "      <th>author_id</th>\n",
       "      <th>author</th>\n",
       "    </tr>\n",
       "  </thead>\n",
       "  <tbody>\n",
       "    <tr>\n",
       "      <th>0</th>\n",
       "      <td>1</td>\n",
       "      <td>A.S. Byatt</td>\n",
       "    </tr>\n",
       "    <tr>\n",
       "      <th>1</th>\n",
       "      <td>2</td>\n",
       "      <td>Aesop/Laura Harris/Laura Gibbs</td>\n",
       "    </tr>\n",
       "    <tr>\n",
       "      <th>2</th>\n",
       "      <td>3</td>\n",
       "      <td>Agatha Christie</td>\n",
       "    </tr>\n",
       "    <tr>\n",
       "      <th>3</th>\n",
       "      <td>4</td>\n",
       "      <td>Alan Brennert</td>\n",
       "    </tr>\n",
       "    <tr>\n",
       "      <th>4</th>\n",
       "      <td>5</td>\n",
       "      <td>Alan Moore/David   Lloyd</td>\n",
       "    </tr>\n",
       "  </tbody>\n",
       "</table>\n",
       "</div>"
      ],
      "text/plain": [
       "   author_id                          author\n",
       "0          1                      A.S. Byatt\n",
       "1          2  Aesop/Laura Harris/Laura Gibbs\n",
       "2          3                 Agatha Christie\n",
       "3          4                   Alan Brennert\n",
       "4          5        Alan Moore/David   Lloyd"
      ]
     },
     "execution_count": 4,
     "metadata": {},
     "output_type": "execute_result"
    }
   ],
   "source": [
    "query = \\\n",
    "'''\n",
    "SELECT * \n",
    "FROM authors \n",
    "LIMIT 5\n",
    "'''\n",
    "result(query)"
   ]
  },
  {
   "cell_type": "code",
   "execution_count": 5,
   "metadata": {},
   "outputs": [
    {
     "data": {
      "text/html": [
       "<div>\n",
       "<style scoped>\n",
       "    .dataframe tbody tr th:only-of-type {\n",
       "        vertical-align: middle;\n",
       "    }\n",
       "\n",
       "    .dataframe tbody tr th {\n",
       "        vertical-align: top;\n",
       "    }\n",
       "\n",
       "    .dataframe thead th {\n",
       "        text-align: right;\n",
       "    }\n",
       "</style>\n",
       "<table border=\"1\" class=\"dataframe\">\n",
       "  <thead>\n",
       "    <tr style=\"text-align: right;\">\n",
       "      <th></th>\n",
       "      <th>rating_id</th>\n",
       "      <th>book_id</th>\n",
       "      <th>username</th>\n",
       "      <th>rating</th>\n",
       "    </tr>\n",
       "  </thead>\n",
       "  <tbody>\n",
       "    <tr>\n",
       "      <th>0</th>\n",
       "      <td>1</td>\n",
       "      <td>1</td>\n",
       "      <td>ryanfranco</td>\n",
       "      <td>4</td>\n",
       "    </tr>\n",
       "    <tr>\n",
       "      <th>1</th>\n",
       "      <td>2</td>\n",
       "      <td>1</td>\n",
       "      <td>grantpatricia</td>\n",
       "      <td>2</td>\n",
       "    </tr>\n",
       "    <tr>\n",
       "      <th>2</th>\n",
       "      <td>3</td>\n",
       "      <td>1</td>\n",
       "      <td>brandtandrea</td>\n",
       "      <td>5</td>\n",
       "    </tr>\n",
       "    <tr>\n",
       "      <th>3</th>\n",
       "      <td>4</td>\n",
       "      <td>2</td>\n",
       "      <td>lorichen</td>\n",
       "      <td>3</td>\n",
       "    </tr>\n",
       "    <tr>\n",
       "      <th>4</th>\n",
       "      <td>5</td>\n",
       "      <td>2</td>\n",
       "      <td>mariokeller</td>\n",
       "      <td>2</td>\n",
       "    </tr>\n",
       "  </tbody>\n",
       "</table>\n",
       "</div>"
      ],
      "text/plain": [
       "   rating_id  book_id       username  rating\n",
       "0          1        1     ryanfranco       4\n",
       "1          2        1  grantpatricia       2\n",
       "2          3        1   brandtandrea       5\n",
       "3          4        2       lorichen       3\n",
       "4          5        2    mariokeller       2"
      ]
     },
     "execution_count": 5,
     "metadata": {},
     "output_type": "execute_result"
    }
   ],
   "source": [
    "query = \\\n",
    "'''\n",
    "SELECT * \n",
    "FROM ratings\n",
    "LIMIT 5\n",
    "'''\n",
    "result(query)"
   ]
  },
  {
   "cell_type": "code",
   "execution_count": 6,
   "metadata": {},
   "outputs": [
    {
     "data": {
      "text/html": [
       "<div>\n",
       "<style scoped>\n",
       "    .dataframe tbody tr th:only-of-type {\n",
       "        vertical-align: middle;\n",
       "    }\n",
       "\n",
       "    .dataframe tbody tr th {\n",
       "        vertical-align: top;\n",
       "    }\n",
       "\n",
       "    .dataframe thead th {\n",
       "        text-align: right;\n",
       "    }\n",
       "</style>\n",
       "<table border=\"1\" class=\"dataframe\">\n",
       "  <thead>\n",
       "    <tr style=\"text-align: right;\">\n",
       "      <th></th>\n",
       "      <th>review_id</th>\n",
       "      <th>book_id</th>\n",
       "      <th>username</th>\n",
       "      <th>text</th>\n",
       "    </tr>\n",
       "  </thead>\n",
       "  <tbody>\n",
       "    <tr>\n",
       "      <th>0</th>\n",
       "      <td>1</td>\n",
       "      <td>1</td>\n",
       "      <td>brandtandrea</td>\n",
       "      <td>Mention society tell send professor analysis. ...</td>\n",
       "    </tr>\n",
       "    <tr>\n",
       "      <th>1</th>\n",
       "      <td>2</td>\n",
       "      <td>1</td>\n",
       "      <td>ryanfranco</td>\n",
       "      <td>Foot glass pretty audience hit themselves. Amo...</td>\n",
       "    </tr>\n",
       "    <tr>\n",
       "      <th>2</th>\n",
       "      <td>3</td>\n",
       "      <td>2</td>\n",
       "      <td>lorichen</td>\n",
       "      <td>Listen treat keep worry. Miss husband tax but ...</td>\n",
       "    </tr>\n",
       "    <tr>\n",
       "      <th>3</th>\n",
       "      <td>4</td>\n",
       "      <td>3</td>\n",
       "      <td>johnsonamanda</td>\n",
       "      <td>Finally month interesting blue could nature cu...</td>\n",
       "    </tr>\n",
       "    <tr>\n",
       "      <th>4</th>\n",
       "      <td>5</td>\n",
       "      <td>3</td>\n",
       "      <td>scotttamara</td>\n",
       "      <td>Nation purpose heavy give wait song will. List...</td>\n",
       "    </tr>\n",
       "  </tbody>\n",
       "</table>\n",
       "</div>"
      ],
      "text/plain": [
       "   review_id  book_id       username  \\\n",
       "0          1        1   brandtandrea   \n",
       "1          2        1     ryanfranco   \n",
       "2          3        2       lorichen   \n",
       "3          4        3  johnsonamanda   \n",
       "4          5        3    scotttamara   \n",
       "\n",
       "                                                text  \n",
       "0  Mention society tell send professor analysis. ...  \n",
       "1  Foot glass pretty audience hit themselves. Amo...  \n",
       "2  Listen treat keep worry. Miss husband tax but ...  \n",
       "3  Finally month interesting blue could nature cu...  \n",
       "4  Nation purpose heavy give wait song will. List...  "
      ]
     },
     "execution_count": 6,
     "metadata": {},
     "output_type": "execute_result"
    }
   ],
   "source": [
    "query = \\\n",
    "'''\n",
    "SELECT * \n",
    "FROM reviews\n",
    "LIMIT 5\n",
    "'''\n",
    "result(query)"
   ]
  },
  {
   "cell_type": "code",
   "execution_count": 8,
   "metadata": {},
   "outputs": [
    {
     "data": {
      "text/html": [
       "<div>\n",
       "<style scoped>\n",
       "    .dataframe tbody tr th:only-of-type {\n",
       "        vertical-align: middle;\n",
       "    }\n",
       "\n",
       "    .dataframe tbody tr th {\n",
       "        vertical-align: top;\n",
       "    }\n",
       "\n",
       "    .dataframe thead th {\n",
       "        text-align: right;\n",
       "    }\n",
       "</style>\n",
       "<table border=\"1\" class=\"dataframe\">\n",
       "  <thead>\n",
       "    <tr style=\"text-align: right;\">\n",
       "      <th></th>\n",
       "      <th>publisher_id</th>\n",
       "      <th>publisher</th>\n",
       "    </tr>\n",
       "  </thead>\n",
       "  <tbody>\n",
       "    <tr>\n",
       "      <th>0</th>\n",
       "      <td>1</td>\n",
       "      <td>Ace</td>\n",
       "    </tr>\n",
       "    <tr>\n",
       "      <th>1</th>\n",
       "      <td>2</td>\n",
       "      <td>Ace Book</td>\n",
       "    </tr>\n",
       "    <tr>\n",
       "      <th>2</th>\n",
       "      <td>3</td>\n",
       "      <td>Ace Books</td>\n",
       "    </tr>\n",
       "    <tr>\n",
       "      <th>3</th>\n",
       "      <td>4</td>\n",
       "      <td>Ace Hardcover</td>\n",
       "    </tr>\n",
       "    <tr>\n",
       "      <th>4</th>\n",
       "      <td>5</td>\n",
       "      <td>Addison Wesley Publishing Company</td>\n",
       "    </tr>\n",
       "  </tbody>\n",
       "</table>\n",
       "</div>"
      ],
      "text/plain": [
       "   publisher_id                          publisher\n",
       "0             1                                Ace\n",
       "1             2                           Ace Book\n",
       "2             3                          Ace Books\n",
       "3             4                      Ace Hardcover\n",
       "4             5  Addison Wesley Publishing Company"
      ]
     },
     "execution_count": 8,
     "metadata": {},
     "output_type": "execute_result"
    }
   ],
   "source": [
    "query = \\\n",
    "'''\n",
    "SELECT * \n",
    "FROM publishers\n",
    "LIMIT 5\n",
    "'''\n",
    "result(query)"
   ]
  },
  {
   "cell_type": "markdown",
   "metadata": {},
   "source": [
    "Таблицы выгружаются нормально, можно приступить к ответам на вопросы."
   ]
  },
  {
   "cell_type": "markdown",
   "metadata": {},
   "source": [
    "## Решение заданий"
   ]
  },
  {
   "cell_type": "markdown",
   "metadata": {},
   "source": [
    "### Cколько книг вышло после 1 января 2000 года"
   ]
  },
  {
   "cell_type": "code",
   "execution_count": 9,
   "metadata": {},
   "outputs": [
    {
     "data": {
      "text/html": [
       "<div>\n",
       "<style scoped>\n",
       "    .dataframe tbody tr th:only-of-type {\n",
       "        vertical-align: middle;\n",
       "    }\n",
       "\n",
       "    .dataframe tbody tr th {\n",
       "        vertical-align: top;\n",
       "    }\n",
       "\n",
       "    .dataframe thead th {\n",
       "        text-align: right;\n",
       "    }\n",
       "</style>\n",
       "<table border=\"1\" class=\"dataframe\">\n",
       "  <thead>\n",
       "    <tr style=\"text-align: right;\">\n",
       "      <th></th>\n",
       "      <th>count</th>\n",
       "    </tr>\n",
       "  </thead>\n",
       "  <tbody>\n",
       "    <tr>\n",
       "      <th>0</th>\n",
       "      <td>819</td>\n",
       "    </tr>\n",
       "  </tbody>\n",
       "</table>\n",
       "</div>"
      ],
      "text/plain": [
       "   count\n",
       "0    819"
      ]
     },
     "execution_count": 9,
     "metadata": {},
     "output_type": "execute_result"
    }
   ],
   "source": [
    "query = \\\n",
    "'''\n",
    "SELECT COUNT(book_id) \n",
    "FROM books\n",
    "WHERE publication_date > '2000-01-01'\n",
    "'''\n",
    "result(query)"
   ]
  },
  {
   "cell_type": "markdown",
   "metadata": {},
   "source": [
    "После 1 января 2000 года вышло 819 книг."
   ]
  },
  {
   "cell_type": "markdown",
   "metadata": {},
   "source": [
    "### Для каждой книги посчитайте количество обзоров и среднюю оценку"
   ]
  },
  {
   "cell_type": "code",
   "execution_count": 10,
   "metadata": {},
   "outputs": [
    {
     "data": {
      "text/html": [
       "<div>\n",
       "<style scoped>\n",
       "    .dataframe tbody tr th:only-of-type {\n",
       "        vertical-align: middle;\n",
       "    }\n",
       "\n",
       "    .dataframe tbody tr th {\n",
       "        vertical-align: top;\n",
       "    }\n",
       "\n",
       "    .dataframe thead th {\n",
       "        text-align: right;\n",
       "    }\n",
       "</style>\n",
       "<table border=\"1\" class=\"dataframe\">\n",
       "  <thead>\n",
       "    <tr style=\"text-align: right;\">\n",
       "      <th></th>\n",
       "      <th>book_id</th>\n",
       "      <th>title</th>\n",
       "      <th>quantity_review</th>\n",
       "      <th>avg_rating</th>\n",
       "    </tr>\n",
       "  </thead>\n",
       "  <tbody>\n",
       "    <tr>\n",
       "      <th>0</th>\n",
       "      <td>948</td>\n",
       "      <td>Twilight (Twilight  #1)</td>\n",
       "      <td>7</td>\n",
       "      <td>3.662500</td>\n",
       "    </tr>\n",
       "    <tr>\n",
       "      <th>1</th>\n",
       "      <td>302</td>\n",
       "      <td>Harry Potter and the Prisoner of Azkaban (Harr...</td>\n",
       "      <td>6</td>\n",
       "      <td>4.414634</td>\n",
       "    </tr>\n",
       "    <tr>\n",
       "      <th>2</th>\n",
       "      <td>299</td>\n",
       "      <td>Harry Potter and the Chamber of Secrets (Harry...</td>\n",
       "      <td>6</td>\n",
       "      <td>4.287500</td>\n",
       "    </tr>\n",
       "    <tr>\n",
       "      <th>3</th>\n",
       "      <td>656</td>\n",
       "      <td>The Book Thief</td>\n",
       "      <td>6</td>\n",
       "      <td>4.264151</td>\n",
       "    </tr>\n",
       "    <tr>\n",
       "      <th>4</th>\n",
       "      <td>734</td>\n",
       "      <td>The Glass Castle</td>\n",
       "      <td>6</td>\n",
       "      <td>4.206897</td>\n",
       "    </tr>\n",
       "    <tr>\n",
       "      <th>...</th>\n",
       "      <td>...</td>\n",
       "      <td>...</td>\n",
       "      <td>...</td>\n",
       "      <td>...</td>\n",
       "    </tr>\n",
       "    <tr>\n",
       "      <th>995</th>\n",
       "      <td>191</td>\n",
       "      <td>Disney's Beauty and the Beast (A Little Golden...</td>\n",
       "      <td>0</td>\n",
       "      <td>4.000000</td>\n",
       "    </tr>\n",
       "    <tr>\n",
       "      <th>996</th>\n",
       "      <td>387</td>\n",
       "      <td>Leonardo's Notebooks</td>\n",
       "      <td>0</td>\n",
       "      <td>4.000000</td>\n",
       "    </tr>\n",
       "    <tr>\n",
       "      <th>997</th>\n",
       "      <td>221</td>\n",
       "      <td>Essential Tales and Poems</td>\n",
       "      <td>0</td>\n",
       "      <td>4.000000</td>\n",
       "    </tr>\n",
       "    <tr>\n",
       "      <th>998</th>\n",
       "      <td>83</td>\n",
       "      <td>Anne Rice's The Vampire Lestat: A Graphic Novel</td>\n",
       "      <td>0</td>\n",
       "      <td>3.666667</td>\n",
       "    </tr>\n",
       "    <tr>\n",
       "      <th>999</th>\n",
       "      <td>808</td>\n",
       "      <td>The Natural Way to Draw</td>\n",
       "      <td>0</td>\n",
       "      <td>3.000000</td>\n",
       "    </tr>\n",
       "  </tbody>\n",
       "</table>\n",
       "<p>1000 rows × 4 columns</p>\n",
       "</div>"
      ],
      "text/plain": [
       "     book_id                                              title  \\\n",
       "0        948                            Twilight (Twilight  #1)   \n",
       "1        302  Harry Potter and the Prisoner of Azkaban (Harr...   \n",
       "2        299  Harry Potter and the Chamber of Secrets (Harry...   \n",
       "3        656                                     The Book Thief   \n",
       "4        734                                   The Glass Castle   \n",
       "..       ...                                                ...   \n",
       "995      191  Disney's Beauty and the Beast (A Little Golden...   \n",
       "996      387                               Leonardo's Notebooks   \n",
       "997      221                          Essential Tales and Poems   \n",
       "998       83    Anne Rice's The Vampire Lestat: A Graphic Novel   \n",
       "999      808                            The Natural Way to Draw   \n",
       "\n",
       "     quantity_review  avg_rating  \n",
       "0                  7    3.662500  \n",
       "1                  6    4.414634  \n",
       "2                  6    4.287500  \n",
       "3                  6    4.264151  \n",
       "4                  6    4.206897  \n",
       "..               ...         ...  \n",
       "995                0    4.000000  \n",
       "996                0    4.000000  \n",
       "997                0    4.000000  \n",
       "998                0    3.666667  \n",
       "999                0    3.000000  \n",
       "\n",
       "[1000 rows x 4 columns]"
      ]
     },
     "execution_count": 10,
     "metadata": {},
     "output_type": "execute_result"
    }
   ],
   "source": [
    "query = \\\n",
    "'''\n",
    "SELECT b.book_id,\n",
    "        b.title,\n",
    "        COUNT(DISTINCT r.review_id) AS quantity_review,\n",
    "        AVG(rt.rating) AS avg_rating\n",
    "FROM books AS b\n",
    "LEFT JOIN reviews AS r ON b.book_id = r.book_id\n",
    "LEFT JOIN ratings AS rt ON b.book_id = rt.book_id\n",
    "GROUP BY b.book_id\n",
    "ORDER BY quantity_review DESC, avg_rating DESC\n",
    "\n",
    "'''\n",
    "result(query)"
   ]
  },
  {
   "cell_type": "code",
   "execution_count": 11,
   "metadata": {},
   "outputs": [
    {
     "data": {
      "text/html": [
       "<div>\n",
       "<style scoped>\n",
       "    .dataframe tbody tr th:only-of-type {\n",
       "        vertical-align: middle;\n",
       "    }\n",
       "\n",
       "    .dataframe tbody tr th {\n",
       "        vertical-align: top;\n",
       "    }\n",
       "\n",
       "    .dataframe thead th {\n",
       "        text-align: right;\n",
       "    }\n",
       "</style>\n",
       "<table border=\"1\" class=\"dataframe\">\n",
       "  <thead>\n",
       "    <tr style=\"text-align: right;\">\n",
       "      <th></th>\n",
       "      <th>sum</th>\n",
       "    </tr>\n",
       "  </thead>\n",
       "  <tbody>\n",
       "    <tr>\n",
       "      <th>0</th>\n",
       "      <td>2793.0</td>\n",
       "    </tr>\n",
       "  </tbody>\n",
       "</table>\n",
       "</div>"
      ],
      "text/plain": [
       "      sum\n",
       "0  2793.0"
      ]
     },
     "execution_count": 11,
     "metadata": {},
     "output_type": "execute_result"
    }
   ],
   "source": [
    "# проверка соответствия суммы ревью количеству всех ревью в бд\n",
    "query = \\\n",
    "'''\n",
    "SELECT SUM(kmk.quantity_review)\n",
    "from (SELECT b.book_id,\n",
    "        b.title,\n",
    "        COUNT(distinct r.review_id) AS quantity_review,\n",
    "        AVG(rt.rating) AS avg_rating\n",
    "FROM books AS b\n",
    "LEFT JOIN reviews AS r ON b.book_id = r.book_id\n",
    "LEFT JOIN ratings AS rt ON b.book_id = rt.book_id\n",
    "GROUP BY b.book_id\n",
    "ORDER BY quantity_review DESC, avg_rating DESC) as kmk\n",
    "\n",
    "'''\n",
    "result(query)"
   ]
  },
  {
   "cell_type": "markdown",
   "metadata": {},
   "source": [
    "Больше всего обзоров было сделано на книгу Twilight (Twilight #1) - всего 7 обзоров. Средний рейтинг этой книги - 3.66."
   ]
  },
  {
   "cell_type": "markdown",
   "metadata": {},
   "source": [
    "### Определите издательство, которое выпустило наибольшее число книг толще 50 страниц — так вы исключите из анализа брошюры"
   ]
  },
  {
   "cell_type": "code",
   "execution_count": 12,
   "metadata": {},
   "outputs": [
    {
     "data": {
      "text/html": [
       "<div>\n",
       "<style scoped>\n",
       "    .dataframe tbody tr th:only-of-type {\n",
       "        vertical-align: middle;\n",
       "    }\n",
       "\n",
       "    .dataframe tbody tr th {\n",
       "        vertical-align: top;\n",
       "    }\n",
       "\n",
       "    .dataframe thead th {\n",
       "        text-align: right;\n",
       "    }\n",
       "</style>\n",
       "<table border=\"1\" class=\"dataframe\">\n",
       "  <thead>\n",
       "    <tr style=\"text-align: right;\">\n",
       "      <th></th>\n",
       "      <th>publisher</th>\n",
       "      <th>book_count</th>\n",
       "    </tr>\n",
       "  </thead>\n",
       "  <tbody>\n",
       "    <tr>\n",
       "      <th>0</th>\n",
       "      <td>Penguin Books</td>\n",
       "      <td>42</td>\n",
       "    </tr>\n",
       "  </tbody>\n",
       "</table>\n",
       "</div>"
      ],
      "text/plain": [
       "       publisher  book_count\n",
       "0  Penguin Books          42"
      ]
     },
     "execution_count": 12,
     "metadata": {},
     "output_type": "execute_result"
    }
   ],
   "source": [
    "query = \\\n",
    "'''\n",
    "SELECT p.publisher,\n",
    "    COUNT(b.book_id) AS book_count\n",
    "FROM books AS b\n",
    "LEFT JOIN publishers AS p on b.publisher_id = p.publisher_id\n",
    "WHERE b.num_pages >50\n",
    "GROUP BY p.publisher\n",
    "ORDER BY book_count DESC\n",
    "LIMIT 1\n",
    "'''\n",
    "result(query)"
   ]
  },
  {
   "cell_type": "markdown",
   "metadata": {},
   "source": [
    "Издательство, которое выпустило наибольшее число книг толще 50 страниц - Penguin Books, всего выпустило 42 книги."
   ]
  },
  {
   "cell_type": "markdown",
   "metadata": {},
   "source": []
  },
  {
   "cell_type": "markdown",
   "metadata": {},
   "source": [
    "### Определите автора с самой высокой средней оценкой книг — учитывайте только книги с 50 и более оценками"
   ]
  },
  {
   "cell_type": "code",
   "execution_count": 13,
   "metadata": {},
   "outputs": [
    {
     "data": {
      "text/html": [
       "<div>\n",
       "<style scoped>\n",
       "    .dataframe tbody tr th:only-of-type {\n",
       "        vertical-align: middle;\n",
       "    }\n",
       "\n",
       "    .dataframe tbody tr th {\n",
       "        vertical-align: top;\n",
       "    }\n",
       "\n",
       "    .dataframe thead th {\n",
       "        text-align: right;\n",
       "    }\n",
       "</style>\n",
       "<table border=\"1\" class=\"dataframe\">\n",
       "  <thead>\n",
       "    <tr style=\"text-align: right;\">\n",
       "      <th></th>\n",
       "      <th>author</th>\n",
       "      <th>avg_rate</th>\n",
       "    </tr>\n",
       "  </thead>\n",
       "  <tbody>\n",
       "    <tr>\n",
       "      <th>0</th>\n",
       "      <td>J.K. Rowling/Mary GrandPré</td>\n",
       "      <td>4.283844</td>\n",
       "    </tr>\n",
       "  </tbody>\n",
       "</table>\n",
       "</div>"
      ],
      "text/plain": [
       "                       author  avg_rate\n",
       "0  J.K. Rowling/Mary GrandPré  4.283844"
      ]
     },
     "execution_count": 13,
     "metadata": {},
     "output_type": "execute_result"
    }
   ],
   "source": [
    "query = \\\n",
    "'''\n",
    "SELECT tbl.author,\n",
    "    AVG(tbl.avg_rate) AS avg_rate\n",
    "FROM (SELECT a.author,\n",
    "            b.book_id,\n",
    "            COUNT(r.rating) AS rating_count,\n",
    "            AVG(r.rating) AS avg_rate\n",
    "        FROM authors AS a\n",
    "        JOIN books AS b ON a.author_id = b.author_id\n",
    "        JOIN ratings AS r ON b.book_id = r.book_id\n",
    "        GROUP BY a.author, b.book_id\n",
    "        HAVING COUNT(r.rating) >50) AS tbl\n",
    "GROUP BY author\n",
    "ORDER BY avg_rate DESC\n",
    "LIMIT 1\n",
    "\n",
    "'''\n",
    "result(query)"
   ]
  },
  {
   "cell_type": "markdown",
   "metadata": {},
   "source": [
    "Автор с самой высокой средней оценкой книг среди книг с 50 и более оценками - J.K. Rowling/Mary GrandPré, средний рейтинг - 4.28."
   ]
  },
  {
   "cell_type": "markdown",
   "metadata": {},
   "source": [
    "### Посчитайте среднее количество обзоров от пользователей, которые поставили больше 48 оценок"
   ]
  },
  {
   "cell_type": "code",
   "execution_count": 14,
   "metadata": {},
   "outputs": [
    {
     "data": {
      "text/html": [
       "<div>\n",
       "<style scoped>\n",
       "    .dataframe tbody tr th:only-of-type {\n",
       "        vertical-align: middle;\n",
       "    }\n",
       "\n",
       "    .dataframe tbody tr th {\n",
       "        vertical-align: top;\n",
       "    }\n",
       "\n",
       "    .dataframe thead th {\n",
       "        text-align: right;\n",
       "    }\n",
       "</style>\n",
       "<table border=\"1\" class=\"dataframe\">\n",
       "  <thead>\n",
       "    <tr style=\"text-align: right;\">\n",
       "      <th></th>\n",
       "      <th>avg</th>\n",
       "    </tr>\n",
       "  </thead>\n",
       "  <tbody>\n",
       "    <tr>\n",
       "      <th>0</th>\n",
       "      <td>24.0</td>\n",
       "    </tr>\n",
       "  </tbody>\n",
       "</table>\n",
       "</div>"
      ],
      "text/plain": [
       "    avg\n",
       "0  24.0"
      ]
     },
     "execution_count": 14,
     "metadata": {},
     "output_type": "execute_result"
    }
   ],
   "source": [
    "query = \\\n",
    "'''\n",
    "SELECT AVG(tbl.cnt_review)\n",
    "FROM (SELECT username,\n",
    "        COUNT(review_id) AS cnt_review\n",
    "    FROM reviews\n",
    "    WHERE username IN (SELECT username\n",
    "                        FROM ratings\n",
    "                        GROUP BY username\n",
    "                        HAVING COUNT(rating) > 48)\n",
    "    GROUP BY username) AS tbl\n",
    "\n",
    "'''\n",
    "result(query)"
   ]
  },
  {
   "cell_type": "markdown",
   "metadata": {},
   "source": [
    "Среднее количество обзоров от пользователей, которые поставили больше 48 оценок - 24 обзора."
   ]
  },
  {
   "cell_type": "markdown",
   "metadata": {},
   "source": [
    "## Выводы"
   ]
  },
  {
   "cell_type": "markdown",
   "metadata": {},
   "source": [
    "1) После 1 января 2000 года вышло 819 книг.\n",
    "2) Больше всего обзоров было сделано на книгу Twilight (Twilight #1) - всего 7 обзоров. Средний рейтинг этой книги - 3.66.\n",
    "3) Издательство, которое выпустило наибольшее число книг толще 50 страниц - Penguin Books, всего выпустило 42 книги.\n",
    "4) Автор с самой высокой средней оценкой книг среди книг с 50 и более оценками - J.K. Rowling/Mary GrandPré, средний рейтинг - 4.28.\n",
    "5) Среднее количество обзоров от пользователей, которые поставили больше 48 оценок - 24 обзора."
   ]
  },
  {
   "cell_type": "code",
   "execution_count": null,
   "metadata": {},
   "outputs": [],
   "source": []
  }
 ],
 "metadata": {
  "ExecuteTimeLog": [
   {
    "duration": 12500,
    "start_time": "2023-06-11T14:04:14.054Z"
   },
   {
    "duration": 3,
    "start_time": "2023-06-11T14:23:51.220Z"
   },
   {
    "duration": 69,
    "start_time": "2023-06-11T14:24:05.859Z"
   },
   {
    "duration": 3,
    "start_time": "2023-06-11T14:24:37.912Z"
   },
   {
    "duration": 13,
    "start_time": "2023-06-11T14:24:38.717Z"
   },
   {
    "duration": 101,
    "start_time": "2023-06-11T14:25:21.558Z"
   },
   {
    "duration": 14,
    "start_time": "2023-06-11T14:25:27.025Z"
   },
   {
    "duration": 3,
    "start_time": "2023-06-11T14:26:02.494Z"
   },
   {
    "duration": 10,
    "start_time": "2023-06-11T14:28:22.889Z"
   },
   {
    "duration": 13,
    "start_time": "2023-06-11T14:28:35.967Z"
   },
   {
    "duration": 13,
    "start_time": "2023-06-11T14:28:49.962Z"
   },
   {
    "duration": 10,
    "start_time": "2023-06-11T14:29:05.964Z"
   },
   {
    "duration": 86,
    "start_time": "2023-06-11T14:36:49.523Z"
   },
   {
    "duration": 52,
    "start_time": "2023-06-11T14:37:54.976Z"
   },
   {
    "duration": 68,
    "start_time": "2023-06-11T14:38:06.190Z"
   },
   {
    "duration": 11,
    "start_time": "2023-06-11T14:38:23.782Z"
   },
   {
    "duration": 26,
    "start_time": "2023-06-11T14:50:10.457Z"
   },
   {
    "duration": 32,
    "start_time": "2023-06-11T14:50:25.211Z"
   },
   {
    "duration": 89,
    "start_time": "2023-06-11T14:50:44.857Z"
   },
   {
    "duration": 21,
    "start_time": "2023-06-11T14:51:24.066Z"
   },
   {
    "duration": 29,
    "start_time": "2023-06-11T15:21:10.146Z"
   },
   {
    "duration": 94,
    "start_time": "2023-06-11T15:21:22.445Z"
   },
   {
    "duration": 12176,
    "start_time": "2023-06-11T19:24:33.152Z"
   },
   {
    "duration": 2,
    "start_time": "2023-06-11T19:24:45.330Z"
   },
   {
    "duration": 60,
    "start_time": "2023-06-11T19:24:45.334Z"
   },
   {
    "duration": 10,
    "start_time": "2023-06-11T19:24:45.395Z"
   },
   {
    "duration": 13,
    "start_time": "2023-06-11T19:24:45.407Z"
   },
   {
    "duration": 11,
    "start_time": "2023-06-11T19:24:45.421Z"
   },
   {
    "duration": 10,
    "start_time": "2023-06-11T19:24:45.433Z"
   },
   {
    "duration": 32,
    "start_time": "2023-06-11T19:24:45.444Z"
   },
   {
    "duration": 29,
    "start_time": "2023-06-11T19:24:45.478Z"
   },
   {
    "duration": 82,
    "start_time": "2023-06-11T19:37:08.495Z"
   },
   {
    "duration": 82,
    "start_time": "2023-06-11T19:37:48.992Z"
   },
   {
    "duration": 21,
    "start_time": "2023-06-11T19:43:19.361Z"
   },
   {
    "duration": 91,
    "start_time": "2023-06-11T19:43:42.392Z"
   },
   {
    "duration": 89,
    "start_time": "2023-06-11T19:43:48.105Z"
   },
   {
    "duration": 26,
    "start_time": "2023-06-11T19:43:55.932Z"
   },
   {
    "duration": 11,
    "start_time": "2023-06-11T19:44:40.686Z"
   },
   {
    "duration": 16,
    "start_time": "2023-06-11T19:44:46.768Z"
   },
   {
    "duration": 11,
    "start_time": "2023-06-11T19:44:58.831Z"
   },
   {
    "duration": 21,
    "start_time": "2023-06-11T19:50:22.191Z"
   },
   {
    "duration": 69,
    "start_time": "2023-06-11T19:50:45.348Z"
   },
   {
    "duration": 90,
    "start_time": "2023-06-11T19:51:16.477Z"
   },
   {
    "duration": 82,
    "start_time": "2023-06-11T19:51:31.996Z"
   },
   {
    "duration": 21,
    "start_time": "2023-06-11T20:06:47.362Z"
   },
   {
    "duration": 36,
    "start_time": "2023-06-11T20:07:04.210Z"
   },
   {
    "duration": 21,
    "start_time": "2023-06-11T20:07:23.459Z"
   },
   {
    "duration": 134,
    "start_time": "2023-06-11T20:07:26.703Z"
   },
   {
    "duration": 80,
    "start_time": "2023-06-11T20:07:55.896Z"
   },
   {
    "duration": 16,
    "start_time": "2023-06-11T20:08:37.461Z"
   },
   {
    "duration": 17,
    "start_time": "2023-06-11T20:08:43.701Z"
   },
   {
    "duration": 16,
    "start_time": "2023-06-11T20:09:50.474Z"
   },
   {
    "duration": 20,
    "start_time": "2023-06-11T20:33:06.865Z"
   },
   {
    "duration": 11,
    "start_time": "2023-06-11T20:33:23.022Z"
   },
   {
    "duration": 12,
    "start_time": "2023-06-11T20:34:11.353Z"
   },
   {
    "duration": 20,
    "start_time": "2023-06-11T20:36:25.809Z"
   },
   {
    "duration": 22,
    "start_time": "2023-06-11T20:37:29.938Z"
   },
   {
    "duration": 13,
    "start_time": "2023-06-11T20:37:47.232Z"
   },
   {
    "duration": 13,
    "start_time": "2023-06-11T20:38:41.834Z"
   },
   {
    "duration": 9,
    "start_time": "2023-06-11T20:51:37.631Z"
   },
   {
    "duration": 100,
    "start_time": "2023-06-11T20:53:55.736Z"
   },
   {
    "duration": 12078,
    "start_time": "2023-06-11T21:02:12.426Z"
   },
   {
    "duration": 2,
    "start_time": "2023-06-11T21:02:24.506Z"
   },
   {
    "duration": 68,
    "start_time": "2023-06-11T21:02:24.510Z"
   },
   {
    "duration": 9,
    "start_time": "2023-06-11T21:02:24.579Z"
   },
   {
    "duration": 10,
    "start_time": "2023-06-11T21:02:24.590Z"
   },
   {
    "duration": 9,
    "start_time": "2023-06-11T21:02:24.601Z"
   },
   {
    "duration": 9,
    "start_time": "2023-06-11T21:02:24.611Z"
   },
   {
    "duration": 8,
    "start_time": "2023-06-11T21:02:24.621Z"
   },
   {
    "duration": 27,
    "start_time": "2023-06-11T21:02:24.630Z"
   },
   {
    "duration": 25,
    "start_time": "2023-06-11T21:02:24.658Z"
   },
   {
    "duration": 13,
    "start_time": "2023-06-11T21:02:24.684Z"
   },
   {
    "duration": 24,
    "start_time": "2023-06-11T21:02:24.699Z"
   },
   {
    "duration": 20921,
    "start_time": "2023-06-11T21:26:00.235Z"
   },
   {
    "duration": 4,
    "start_time": "2023-06-11T21:26:21.159Z"
   },
   {
    "duration": 481,
    "start_time": "2023-06-11T21:26:21.165Z"
   },
   {
    "duration": 106,
    "start_time": "2023-06-11T21:26:21.655Z"
   },
   {
    "duration": 92,
    "start_time": "2023-06-11T21:26:21.764Z"
   },
   {
    "duration": 97,
    "start_time": "2023-06-11T21:26:21.859Z"
   },
   {
    "duration": 105,
    "start_time": "2023-06-11T21:26:21.958Z"
   },
   {
    "duration": 95,
    "start_time": "2023-06-11T21:26:22.065Z"
   },
   {
    "duration": 141,
    "start_time": "2023-06-11T21:26:22.162Z"
   },
   {
    "duration": 68,
    "start_time": "2023-06-11T21:26:22.305Z"
   },
   {
    "duration": 122,
    "start_time": "2023-06-11T21:26:22.376Z"
   },
   {
    "duration": 83,
    "start_time": "2023-06-11T21:26:22.500Z"
   },
   {
    "duration": 105,
    "start_time": "2023-06-11T21:29:19.634Z"
   },
   {
    "duration": 16037,
    "start_time": "2023-06-11T21:29:28.196Z"
   },
   {
    "duration": 3,
    "start_time": "2023-06-11T21:29:44.236Z"
   },
   {
    "duration": 112,
    "start_time": "2023-06-11T21:29:44.241Z"
   },
   {
    "duration": 16,
    "start_time": "2023-06-11T21:29:44.355Z"
   },
   {
    "duration": 38,
    "start_time": "2023-06-11T21:29:44.374Z"
   },
   {
    "duration": 11,
    "start_time": "2023-06-11T21:29:44.414Z"
   },
   {
    "duration": 9,
    "start_time": "2023-06-11T21:29:44.426Z"
   },
   {
    "duration": 10,
    "start_time": "2023-06-11T21:29:44.436Z"
   },
   {
    "duration": 97,
    "start_time": "2023-06-11T21:29:44.448Z"
   },
   {
    "duration": 0,
    "start_time": "2023-06-11T21:29:44.547Z"
   },
   {
    "duration": 0,
    "start_time": "2023-06-11T21:29:44.548Z"
   },
   {
    "duration": 0,
    "start_time": "2023-06-11T21:29:44.549Z"
   },
   {
    "duration": 69,
    "start_time": "2023-06-11T21:30:39.859Z"
   },
   {
    "duration": 22,
    "start_time": "2023-06-11T21:31:02.832Z"
   },
   {
    "duration": 121,
    "start_time": "2023-06-11T21:32:44.293Z"
   },
   {
    "duration": 92,
    "start_time": "2023-06-11T21:33:06.633Z"
   },
   {
    "duration": 34,
    "start_time": "2023-06-11T21:33:49.419Z"
   },
   {
    "duration": 20,
    "start_time": "2023-06-11T21:34:26.747Z"
   },
   {
    "duration": 24,
    "start_time": "2023-06-11T21:36:14.138Z"
   },
   {
    "duration": 22,
    "start_time": "2023-06-11T21:36:29.723Z"
   },
   {
    "duration": 19,
    "start_time": "2023-06-11T21:36:40.299Z"
   },
   {
    "duration": 20,
    "start_time": "2023-06-11T21:38:43.499Z"
   },
   {
    "duration": 11,
    "start_time": "2023-06-11T21:39:37.761Z"
   },
   {
    "duration": 9,
    "start_time": "2023-06-11T21:40:06.051Z"
   },
   {
    "duration": 29,
    "start_time": "2023-06-11T21:40:58.002Z"
   },
   {
    "duration": 20,
    "start_time": "2023-06-11T21:42:40.011Z"
   },
   {
    "duration": 42,
    "start_time": "2023-06-11T21:43:16.263Z"
   },
   {
    "duration": 12674,
    "start_time": "2023-06-11T21:45:18.646Z"
   },
   {
    "duration": 4,
    "start_time": "2023-06-11T21:45:31.322Z"
   },
   {
    "duration": 126,
    "start_time": "2023-06-11T21:45:31.328Z"
   },
   {
    "duration": 9,
    "start_time": "2023-06-11T21:45:31.456Z"
   },
   {
    "duration": 21,
    "start_time": "2023-06-11T21:45:31.468Z"
   },
   {
    "duration": 17,
    "start_time": "2023-06-11T21:45:31.491Z"
   },
   {
    "duration": 19,
    "start_time": "2023-06-11T21:45:31.509Z"
   },
   {
    "duration": 9,
    "start_time": "2023-06-11T21:45:31.530Z"
   },
   {
    "duration": 9,
    "start_time": "2023-06-11T21:45:31.541Z"
   },
   {
    "duration": 28,
    "start_time": "2023-06-11T21:45:31.551Z"
   },
   {
    "duration": 18,
    "start_time": "2023-06-11T21:45:31.581Z"
   },
   {
    "duration": 13,
    "start_time": "2023-06-11T21:45:31.601Z"
   },
   {
    "duration": 14,
    "start_time": "2023-06-11T21:45:31.616Z"
   },
   {
    "duration": 15,
    "start_time": "2023-06-11T21:45:31.632Z"
   }
  ],
  "kernelspec": {
   "display_name": "Python 3 (ipykernel)",
   "language": "python",
   "name": "python3"
  },
  "language_info": {
   "codemirror_mode": {
    "name": "ipython",
    "version": 3
   },
   "file_extension": ".py",
   "mimetype": "text/x-python",
   "name": "python",
   "nbconvert_exporter": "python",
   "pygments_lexer": "ipython3",
   "version": "3.9.15"
  },
  "toc": {
   "base_numbering": 1,
   "nav_menu": {},
   "number_sections": true,
   "sideBar": true,
   "skip_h1_title": true,
   "title_cell": "Table of Contents",
   "title_sidebar": "Contents",
   "toc_cell": false,
   "toc_position": {},
   "toc_section_display": true,
   "toc_window_display": true
  }
 },
 "nbformat": 4,
 "nbformat_minor": 2
}
