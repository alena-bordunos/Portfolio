{
 "cells": [
  {
   "cell_type": "markdown",
   "id": "39d0dd3a",
   "metadata": {},
   "source": [
    "# Проверка гипотез по увеличению выручки в интернет-магазине\n"
   ]
  },
  {
   "cell_type": "markdown",
   "id": "4af69bc4",
   "metadata": {},
   "source": [
    "Вы — аналитик крупного интернет-магазина. Вместе с отделом маркетинга вы подготовили список гипотез для увеличения выручки.\n",
    "\n",
    "**Цель исследования:**\n",
    "1) Приоритизировать гипотезы\n",
    "2) Запуск А/В теста\n",
    "3) Анализ результатов\n",
    "\n",
    "**Ход исследования:**\n",
    "\n",
    "**Часть 1 - приоритизация гипотез:**\n",
    "1) Гипотезы по увеличению выручки интернет-магазина для приоритизации получу из датасета hypothesis.csv\n",
    "2) Применю фреймворк ICE \n",
    "3) Применю фреймворк RICE\n",
    "\n",
    "**Часть 2 - анализ А/В теста:**\n",
    "1) Построю график кумулятивной выручки по группам\n",
    "2) Построю график кумулятивного среднего чека по группам\n",
    "3) Построю график относительного изменения кумулятивного среднего чека группы B к группе A\n",
    "4) Построю график кумулятивного среднего количества заказов на посетителя по группам\n",
    "5) Построю график относительного изменения кумулятивного среднего количества заказов на посетителя группы B к группе A\n",
    "6) Построю точечный график количества заказов по пользователям\n",
    "7) Посчитаю 95-й и 99-й перцентили количества заказов на пользователя\n",
    "8) Построю точечный график стоимостей заказов\n",
    "9) Посчитаю 95-й и 99-й перцентили стоимости заказов\n",
    "10) Посчитаю статистическую значимость различий в среднем количестве заказов на посетителя между группами по «сырым» данным\n",
    "11) Посчитаю статистическую значимость различий в среднем чеке заказа между группами по «сырым» данным\n",
    "12) Посчитаю статистическую значимость различий в среднем количестве заказов на посетителя между группами по «очищенным» данным\n",
    "13) Посчитаю статистическую значимость различий в среднем чеке заказа между группами по «очищенным» данным\n",
    "14) Приму решение по результатам теста"
   ]
  },
  {
   "cell_type": "markdown",
   "id": "bd10ba3e",
   "metadata": {},
   "source": [
    "## 1. Приоритизация гипотез "
   ]
  },
  {
   "cell_type": "markdown",
   "id": "17a6fe07",
   "metadata": {},
   "source": [
    "### 1.1 Знакомство с данными"
   ]
  },
  {
   "cell_type": "code",
   "execution_count": 1,
   "id": "3b8bcef1",
   "metadata": {},
   "outputs": [],
   "source": [
    "import pandas as pd  # импортируем библиотеки\n",
    "import numpy as np\n",
    "import matplotlib.pyplot as plt\n",
    "from scipy import stats as st\n",
    "from datetime import datetime, timedelta"
   ]
  },
  {
   "cell_type": "code",
   "execution_count": 3,
   "id": "066918e1",
   "metadata": {},
   "outputs": [],
   "source": [
    "hypothesis=pd.read_csv('/Users/alena/Desktop/datasets/project_ab/hypothesis.csv')\n",
    "#открываем файлы с данными для исследования"
   ]
  },
  {
   "cell_type": "code",
   "execution_count": 4,
   "id": "0d93f2dc",
   "metadata": {},
   "outputs": [
    {
     "name": "stdout",
     "output_type": "stream",
     "text": [
      "<class 'pandas.core.frame.DataFrame'>\n",
      "RangeIndex: 9 entries, 0 to 8\n",
      "Data columns (total 5 columns):\n",
      " #   Column      Non-Null Count  Dtype \n",
      "---  ------      --------------  ----- \n",
      " 0   Hypothesis  9 non-null      object\n",
      " 1   Reach       9 non-null      int64 \n",
      " 2   Impact      9 non-null      int64 \n",
      " 3   Confidence  9 non-null      int64 \n",
      " 4   Efforts     9 non-null      int64 \n",
      "dtypes: int64(4), object(1)\n",
      "memory usage: 488.0+ bytes\n"
     ]
    }
   ],
   "source": [
    "hypothesis.info() # ознакомимся со структурой таблицы"
   ]
  },
  {
   "cell_type": "code",
   "execution_count": 5,
   "id": "839b41bc",
   "metadata": {},
   "outputs": [
    {
     "name": "stderr",
     "output_type": "stream",
     "text": [
      "/var/folders/wz/_xj2wb8s0fj1qgdwgh4cp1k80000gp/T/ipykernel_16400/2315510681.py:1: FutureWarning: Passing a negative integer is deprecated in version 1.0 and will not be supported in future version. Instead, use None to not limit the column width.\n",
      "  pd.set_option('display.max_colwidth', -1)\n"
     ]
    },
    {
     "data": {
      "text/plain": [
       "0    Добавить два новых канала привлечения трафика, что позволит привлекать на 30% больше пользователей          \n",
       "1    Запустить собственную службу доставки, что сократит срок доставки заказов                                   \n",
       "2    Добавить блоки рекомендаций товаров на сайт интернет магазина, чтобы повысить конверсию и средний чек заказа\n",
       "3    Изменить структура категорий, что увеличит конверсию, т.к. пользователи быстрее найдут нужный товар         \n",
       "4    Изменить цвет фона главной страницы, чтобы увеличить вовлеченность пользователей                            \n",
       "5    Добавить страницу отзывов клиентов о магазине, что позволит увеличить количество заказов                    \n",
       "6    Показать на главной странице баннеры с актуальными акциями и распродажами, чтобы увеличить конверсию        \n",
       "7    Добавить форму подписки на все основные страницы, чтобы собрать базу клиентов для email-рассылок            \n",
       "8    Запустить акцию, дающую скидку на товар в день рождения                                                     \n",
       "Name: Hypothesis, dtype: object"
      ]
     },
     "metadata": {},
     "output_type": "display_data"
    }
   ],
   "source": [
    "pd.set_option('display.max_colwidth', -1)\n",
    "display(hypothesis['Hypothesis']) # выведем гипотезы на экран"
   ]
  },
  {
   "cell_type": "code",
   "execution_count": 6,
   "id": "8972f6d6",
   "metadata": {},
   "outputs": [],
   "source": [
    "hypothesis.columns = hypothesis.columns.str.lower() \n",
    "# приведем названия колонок к нижнему регистру"
   ]
  },
  {
   "cell_type": "markdown",
   "id": "70c3c39d",
   "metadata": {},
   "source": [
    "### 1.2 Применение фреймворков ICE  и RICE для приоритизации гипотез"
   ]
  },
  {
   "cell_type": "code",
   "execution_count": 7,
   "id": "fee39453",
   "metadata": {},
   "outputs": [
    {
     "data": {
      "text/html": [
       "<div>\n",
       "<style scoped>\n",
       "    .dataframe tbody tr th:only-of-type {\n",
       "        vertical-align: middle;\n",
       "    }\n",
       "\n",
       "    .dataframe tbody tr th {\n",
       "        vertical-align: top;\n",
       "    }\n",
       "\n",
       "    .dataframe thead th {\n",
       "        text-align: right;\n",
       "    }\n",
       "</style>\n",
       "<table border=\"1\" class=\"dataframe\">\n",
       "  <thead>\n",
       "    <tr style=\"text-align: right;\">\n",
       "      <th></th>\n",
       "      <th>hypothesis</th>\n",
       "      <th>ICE</th>\n",
       "    </tr>\n",
       "  </thead>\n",
       "  <tbody>\n",
       "    <tr>\n",
       "      <th>8</th>\n",
       "      <td>Запустить акцию, дающую скидку на товар в день рождения</td>\n",
       "      <td>16.20</td>\n",
       "    </tr>\n",
       "    <tr>\n",
       "      <th>0</th>\n",
       "      <td>Добавить два новых канала привлечения трафика, что позволит привлекать на 30% больше пользователей</td>\n",
       "      <td>13.33</td>\n",
       "    </tr>\n",
       "    <tr>\n",
       "      <th>7</th>\n",
       "      <td>Добавить форму подписки на все основные страницы, чтобы собрать базу клиентов для email-рассылок</td>\n",
       "      <td>11.20</td>\n",
       "    </tr>\n",
       "    <tr>\n",
       "      <th>6</th>\n",
       "      <td>Показать на главной странице баннеры с актуальными акциями и распродажами, чтобы увеличить конверсию</td>\n",
       "      <td>8.00</td>\n",
       "    </tr>\n",
       "    <tr>\n",
       "      <th>2</th>\n",
       "      <td>Добавить блоки рекомендаций товаров на сайт интернет магазина, чтобы повысить конверсию и средний чек заказа</td>\n",
       "      <td>7.00</td>\n",
       "    </tr>\n",
       "    <tr>\n",
       "      <th>1</th>\n",
       "      <td>Запустить собственную службу доставки, что сократит срок доставки заказов</td>\n",
       "      <td>2.00</td>\n",
       "    </tr>\n",
       "    <tr>\n",
       "      <th>5</th>\n",
       "      <td>Добавить страницу отзывов клиентов о магазине, что позволит увеличить количество заказов</td>\n",
       "      <td>1.33</td>\n",
       "    </tr>\n",
       "    <tr>\n",
       "      <th>3</th>\n",
       "      <td>Изменить структура категорий, что увеличит конверсию, т.к. пользователи быстрее найдут нужный товар</td>\n",
       "      <td>1.12</td>\n",
       "    </tr>\n",
       "    <tr>\n",
       "      <th>4</th>\n",
       "      <td>Изменить цвет фона главной страницы, чтобы увеличить вовлеченность пользователей</td>\n",
       "      <td>1.00</td>\n",
       "    </tr>\n",
       "  </tbody>\n",
       "</table>\n",
       "</div>"
      ],
      "text/plain": [
       "                                                                                                     hypothesis  \\\n",
       "8  Запустить акцию, дающую скидку на товар в день рождения                                                        \n",
       "0  Добавить два новых канала привлечения трафика, что позволит привлекать на 30% больше пользователей             \n",
       "7  Добавить форму подписки на все основные страницы, чтобы собрать базу клиентов для email-рассылок               \n",
       "6  Показать на главной странице баннеры с актуальными акциями и распродажами, чтобы увеличить конверсию           \n",
       "2  Добавить блоки рекомендаций товаров на сайт интернет магазина, чтобы повысить конверсию и средний чек заказа   \n",
       "1  Запустить собственную службу доставки, что сократит срок доставки заказов                                      \n",
       "5  Добавить страницу отзывов клиентов о магазине, что позволит увеличить количество заказов                       \n",
       "3  Изменить структура категорий, что увеличит конверсию, т.к. пользователи быстрее найдут нужный товар            \n",
       "4  Изменить цвет фона главной страницы, чтобы увеличить вовлеченность пользователей                               \n",
       "\n",
       "     ICE  \n",
       "8  16.20  \n",
       "0  13.33  \n",
       "7  11.20  \n",
       "6  8.00   \n",
       "2  7.00   \n",
       "1  2.00   \n",
       "5  1.33   \n",
       "3  1.12   \n",
       "4  1.00   "
      ]
     },
     "metadata": {},
     "output_type": "display_data"
    }
   ],
   "source": [
    "# проведем приоритизацию по фреймворку ICE \n",
    "hypothesis['ICE'] = round(hypothesis['impact']*hypothesis['confidence']/hypothesis['efforts'], 2)\n",
    "display(hypothesis[['hypothesis', 'ICE']].sort_values(by='ICE', ascending=False))"
   ]
  },
  {
   "cell_type": "code",
   "execution_count": 8,
   "id": "587958d6",
   "metadata": {},
   "outputs": [
    {
     "data": {
      "text/html": [
       "<div>\n",
       "<style scoped>\n",
       "    .dataframe tbody tr th:only-of-type {\n",
       "        vertical-align: middle;\n",
       "    }\n",
       "\n",
       "    .dataframe tbody tr th {\n",
       "        vertical-align: top;\n",
       "    }\n",
       "\n",
       "    .dataframe thead th {\n",
       "        text-align: right;\n",
       "    }\n",
       "</style>\n",
       "<table border=\"1\" class=\"dataframe\">\n",
       "  <thead>\n",
       "    <tr style=\"text-align: right;\">\n",
       "      <th></th>\n",
       "      <th>hypothesis</th>\n",
       "      <th>RICE</th>\n",
       "    </tr>\n",
       "  </thead>\n",
       "  <tbody>\n",
       "    <tr>\n",
       "      <th>7</th>\n",
       "      <td>Добавить форму подписки на все основные страницы, чтобы собрать базу клиентов для email-рассылок</td>\n",
       "      <td>112.0</td>\n",
       "    </tr>\n",
       "    <tr>\n",
       "      <th>2</th>\n",
       "      <td>Добавить блоки рекомендаций товаров на сайт интернет магазина, чтобы повысить конверсию и средний чек заказа</td>\n",
       "      <td>56.0</td>\n",
       "    </tr>\n",
       "    <tr>\n",
       "      <th>0</th>\n",
       "      <td>Добавить два новых канала привлечения трафика, что позволит привлекать на 30% больше пользователей</td>\n",
       "      <td>40.0</td>\n",
       "    </tr>\n",
       "    <tr>\n",
       "      <th>6</th>\n",
       "      <td>Показать на главной странице баннеры с актуальными акциями и распродажами, чтобы увеличить конверсию</td>\n",
       "      <td>40.0</td>\n",
       "    </tr>\n",
       "    <tr>\n",
       "      <th>8</th>\n",
       "      <td>Запустить акцию, дающую скидку на товар в день рождения</td>\n",
       "      <td>16.2</td>\n",
       "    </tr>\n",
       "    <tr>\n",
       "      <th>3</th>\n",
       "      <td>Изменить структура категорий, что увеличит конверсию, т.к. пользователи быстрее найдут нужный товар</td>\n",
       "      <td>9.0</td>\n",
       "    </tr>\n",
       "    <tr>\n",
       "      <th>1</th>\n",
       "      <td>Запустить собственную службу доставки, что сократит срок доставки заказов</td>\n",
       "      <td>4.0</td>\n",
       "    </tr>\n",
       "    <tr>\n",
       "      <th>5</th>\n",
       "      <td>Добавить страницу отзывов клиентов о магазине, что позволит увеличить количество заказов</td>\n",
       "      <td>4.0</td>\n",
       "    </tr>\n",
       "    <tr>\n",
       "      <th>4</th>\n",
       "      <td>Изменить цвет фона главной страницы, чтобы увеличить вовлеченность пользователей</td>\n",
       "      <td>3.0</td>\n",
       "    </tr>\n",
       "  </tbody>\n",
       "</table>\n",
       "</div>"
      ],
      "text/plain": [
       "                                                                                                     hypothesis  \\\n",
       "7  Добавить форму подписки на все основные страницы, чтобы собрать базу клиентов для email-рассылок               \n",
       "2  Добавить блоки рекомендаций товаров на сайт интернет магазина, чтобы повысить конверсию и средний чек заказа   \n",
       "0  Добавить два новых канала привлечения трафика, что позволит привлекать на 30% больше пользователей             \n",
       "6  Показать на главной странице баннеры с актуальными акциями и распродажами, чтобы увеличить конверсию           \n",
       "8  Запустить акцию, дающую скидку на товар в день рождения                                                        \n",
       "3  Изменить структура категорий, что увеличит конверсию, т.к. пользователи быстрее найдут нужный товар            \n",
       "1  Запустить собственную службу доставки, что сократит срок доставки заказов                                      \n",
       "5  Добавить страницу отзывов клиентов о магазине, что позволит увеличить количество заказов                       \n",
       "4  Изменить цвет фона главной страницы, чтобы увеличить вовлеченность пользователей                               \n",
       "\n",
       "    RICE  \n",
       "7  112.0  \n",
       "2  56.0   \n",
       "0  40.0   \n",
       "6  40.0   \n",
       "8  16.2   \n",
       "3  9.0    \n",
       "1  4.0    \n",
       "5  4.0    \n",
       "4  3.0    "
      ]
     },
     "metadata": {},
     "output_type": "display_data"
    }
   ],
   "source": [
    "# проведем приоритизацию по фреймворку RICE \n",
    "hypothesis['RICE'] = hypothesis['reach']*hypothesis['impact']*hypothesis['confidence']/hypothesis['efforts']\n",
    "display(hypothesis[['hypothesis', 'RICE']].sort_values(by='RICE', ascending=False))"
   ]
  },
  {
   "cell_type": "markdown",
   "id": "306be91f",
   "metadata": {},
   "source": [
    "Видно отличие в приоритизации при использовании фреймворков ICE и RICE. Фреймворк RICE учитывает параметр REACH - охват, поэтому больший скорринг получают гипотезы, применение которых задействует большее количество пользователей. При применении фреймворка RICE приоритетной получается гипотеза \"Добавить форму подписки на все основные страницы, чтобы собрать базу клиентов для email-рассылок\"."
   ]
  },
  {
   "cell_type": "markdown",
   "id": "b3ff2c42",
   "metadata": {},
   "source": [
    "## 2. Анализ результатов А/В теста"
   ]
  },
  {
   "cell_type": "markdown",
   "id": "9f91d346",
   "metadata": {},
   "source": [
    "### 2.1 Знакомство с данными"
   ]
  },
  {
   "cell_type": "code",
   "execution_count": 9,
   "id": "5cb35ca1",
   "metadata": {},
   "outputs": [],
   "source": [
    "orders=pd.read_csv('/Users/alena/Desktop/datasets/project_ab/orders.csv')\n",
    "visitors=pd.read_csv('/Users/alena/Desktop/datasets/project_ab/visitors.csv')\n",
    "#открываем файлы с данными для исследования"
   ]
  },
  {
   "cell_type": "code",
   "execution_count": 10,
   "id": "6c494a43",
   "metadata": {},
   "outputs": [
    {
     "name": "stdout",
     "output_type": "stream",
     "text": [
      "<class 'pandas.core.frame.DataFrame'>\n",
      "RangeIndex: 1197 entries, 0 to 1196\n",
      "Data columns (total 5 columns):\n",
      " #   Column         Non-Null Count  Dtype \n",
      "---  ------         --------------  ----- \n",
      " 0   transactionId  1197 non-null   int64 \n",
      " 1   visitorId      1197 non-null   int64 \n",
      " 2   date           1197 non-null   object\n",
      " 3   revenue        1197 non-null   int64 \n",
      " 4   group          1197 non-null   object\n",
      "dtypes: int64(3), object(2)\n",
      "memory usage: 46.9+ KB\n"
     ]
    }
   ],
   "source": [
    "orders.info()"
   ]
  },
  {
   "cell_type": "code",
   "execution_count": 11,
   "id": "39c586ca",
   "metadata": {},
   "outputs": [
    {
     "data": {
      "text/html": [
       "<div>\n",
       "<style scoped>\n",
       "    .dataframe tbody tr th:only-of-type {\n",
       "        vertical-align: middle;\n",
       "    }\n",
       "\n",
       "    .dataframe tbody tr th {\n",
       "        vertical-align: top;\n",
       "    }\n",
       "\n",
       "    .dataframe thead th {\n",
       "        text-align: right;\n",
       "    }\n",
       "</style>\n",
       "<table border=\"1\" class=\"dataframe\">\n",
       "  <thead>\n",
       "    <tr style=\"text-align: right;\">\n",
       "      <th></th>\n",
       "      <th>transactionId</th>\n",
       "      <th>visitorId</th>\n",
       "      <th>date</th>\n",
       "      <th>revenue</th>\n",
       "      <th>group</th>\n",
       "    </tr>\n",
       "  </thead>\n",
       "  <tbody>\n",
       "    <tr>\n",
       "      <th>0</th>\n",
       "      <td>3667963787</td>\n",
       "      <td>3312258926</td>\n",
       "      <td>2019-08-15</td>\n",
       "      <td>1650</td>\n",
       "      <td>B</td>\n",
       "    </tr>\n",
       "    <tr>\n",
       "      <th>1</th>\n",
       "      <td>2804400009</td>\n",
       "      <td>3642806036</td>\n",
       "      <td>2019-08-15</td>\n",
       "      <td>730</td>\n",
       "      <td>B</td>\n",
       "    </tr>\n",
       "    <tr>\n",
       "      <th>2</th>\n",
       "      <td>2961555356</td>\n",
       "      <td>4069496402</td>\n",
       "      <td>2019-08-15</td>\n",
       "      <td>400</td>\n",
       "      <td>A</td>\n",
       "    </tr>\n",
       "    <tr>\n",
       "      <th>3</th>\n",
       "      <td>3797467345</td>\n",
       "      <td>1196621759</td>\n",
       "      <td>2019-08-15</td>\n",
       "      <td>9759</td>\n",
       "      <td>B</td>\n",
       "    </tr>\n",
       "    <tr>\n",
       "      <th>4</th>\n",
       "      <td>2282983706</td>\n",
       "      <td>2322279887</td>\n",
       "      <td>2019-08-15</td>\n",
       "      <td>2308</td>\n",
       "      <td>B</td>\n",
       "    </tr>\n",
       "  </tbody>\n",
       "</table>\n",
       "</div>"
      ],
      "text/plain": [
       "   transactionId   visitorId        date  revenue group\n",
       "0  3667963787     3312258926  2019-08-15  1650     B   \n",
       "1  2804400009     3642806036  2019-08-15  730      B   \n",
       "2  2961555356     4069496402  2019-08-15  400      A   \n",
       "3  3797467345     1196621759  2019-08-15  9759     B   \n",
       "4  2282983706     2322279887  2019-08-15  2308     B   "
      ]
     },
     "metadata": {},
     "output_type": "display_data"
    }
   ],
   "source": [
    "display(orders.head())"
   ]
  },
  {
   "cell_type": "code",
   "execution_count": 12,
   "id": "e942783e",
   "metadata": {},
   "outputs": [
    {
     "data": {
      "text/plain": [
       "0"
      ]
     },
     "execution_count": 12,
     "metadata": {},
     "output_type": "execute_result"
    }
   ],
   "source": [
    "orders.duplicated().sum() #проверка на явные дубликаты"
   ]
  },
  {
   "cell_type": "code",
   "execution_count": 13,
   "id": "98afa128",
   "metadata": {},
   "outputs": [
    {
     "data": {
      "text/plain": [
       "transactionId    0\n",
       "visitorId        0\n",
       "date             0\n",
       "revenue          0\n",
       "group            0\n",
       "dtype: int64"
      ]
     },
     "execution_count": 13,
     "metadata": {},
     "output_type": "execute_result"
    }
   ],
   "source": [
    "orders.isna().sum() # сколько пропущено значений в каждом столбце"
   ]
  },
  {
   "cell_type": "code",
   "execution_count": 14,
   "id": "3192ea38",
   "metadata": {},
   "outputs": [],
   "source": [
    "orders = orders.rename(columns={'transactionId':'transaction_id','visitorId':'visitor_id'})"
   ]
  },
  {
   "cell_type": "markdown",
   "id": "efc6244c",
   "metadata": {},
   "source": [
    "В датафрейме Orders нет явных дубликатов и пропусков, текстовые разделители считываются корректно. Для дальнейшей работы с данными необходимо заменить типы данных на datetime в колонке 'date'.Также для удобcтва приведем названия колонок к нижнему регистру и добавим '_'. "
   ]
  },
  {
   "cell_type": "code",
   "execution_count": 15,
   "id": "536a8bdf",
   "metadata": {},
   "outputs": [],
   "source": [
    "orders['date'] = pd.to_datetime(orders['date'])"
   ]
  },
  {
   "cell_type": "code",
   "execution_count": 16,
   "id": "7646edf9",
   "metadata": {},
   "outputs": [
    {
     "data": {
      "text/html": [
       "<div>\n",
       "<style scoped>\n",
       "    .dataframe tbody tr th:only-of-type {\n",
       "        vertical-align: middle;\n",
       "    }\n",
       "\n",
       "    .dataframe tbody tr th {\n",
       "        vertical-align: top;\n",
       "    }\n",
       "\n",
       "    .dataframe thead th {\n",
       "        text-align: right;\n",
       "    }\n",
       "</style>\n",
       "<table border=\"1\" class=\"dataframe\">\n",
       "  <thead>\n",
       "    <tr style=\"text-align: right;\">\n",
       "      <th></th>\n",
       "      <th>transaction_id</th>\n",
       "      <th>visitor_id</th>\n",
       "      <th>date</th>\n",
       "      <th>revenue</th>\n",
       "      <th>group</th>\n",
       "    </tr>\n",
       "  </thead>\n",
       "  <tbody>\n",
       "    <tr>\n",
       "      <th>0</th>\n",
       "      <td>3667963787</td>\n",
       "      <td>3312258926</td>\n",
       "      <td>2019-08-15</td>\n",
       "      <td>1650</td>\n",
       "      <td>B</td>\n",
       "    </tr>\n",
       "    <tr>\n",
       "      <th>1</th>\n",
       "      <td>2804400009</td>\n",
       "      <td>3642806036</td>\n",
       "      <td>2019-08-15</td>\n",
       "      <td>730</td>\n",
       "      <td>B</td>\n",
       "    </tr>\n",
       "    <tr>\n",
       "      <th>2</th>\n",
       "      <td>2961555356</td>\n",
       "      <td>4069496402</td>\n",
       "      <td>2019-08-15</td>\n",
       "      <td>400</td>\n",
       "      <td>A</td>\n",
       "    </tr>\n",
       "    <tr>\n",
       "      <th>3</th>\n",
       "      <td>3797467345</td>\n",
       "      <td>1196621759</td>\n",
       "      <td>2019-08-15</td>\n",
       "      <td>9759</td>\n",
       "      <td>B</td>\n",
       "    </tr>\n",
       "    <tr>\n",
       "      <th>4</th>\n",
       "      <td>2282983706</td>\n",
       "      <td>2322279887</td>\n",
       "      <td>2019-08-15</td>\n",
       "      <td>2308</td>\n",
       "      <td>B</td>\n",
       "    </tr>\n",
       "  </tbody>\n",
       "</table>\n",
       "</div>"
      ],
      "text/plain": [
       "   transaction_id  visitor_id       date  revenue group\n",
       "0  3667963787      3312258926 2019-08-15  1650     B   \n",
       "1  2804400009      3642806036 2019-08-15  730      B   \n",
       "2  2961555356      4069496402 2019-08-15  400      A   \n",
       "3  3797467345      1196621759 2019-08-15  9759     B   \n",
       "4  2282983706      2322279887 2019-08-15  2308     B   "
      ]
     },
     "execution_count": 16,
     "metadata": {},
     "output_type": "execute_result"
    }
   ],
   "source": [
    "orders.head()"
   ]
  },
  {
   "cell_type": "code",
   "execution_count": 17,
   "id": "4af41077",
   "metadata": {},
   "outputs": [
    {
     "name": "stdout",
     "output_type": "stream",
     "text": [
      "<class 'pandas.core.frame.DataFrame'>\n",
      "RangeIndex: 62 entries, 0 to 61\n",
      "Data columns (total 3 columns):\n",
      " #   Column    Non-Null Count  Dtype \n",
      "---  ------    --------------  ----- \n",
      " 0   date      62 non-null     object\n",
      " 1   group     62 non-null     object\n",
      " 2   visitors  62 non-null     int64 \n",
      "dtypes: int64(1), object(2)\n",
      "memory usage: 1.6+ KB\n"
     ]
    }
   ],
   "source": [
    "visitors.info()"
   ]
  },
  {
   "cell_type": "code",
   "execution_count": 18,
   "id": "7358f4f9",
   "metadata": {},
   "outputs": [
    {
     "data": {
      "text/html": [
       "<div>\n",
       "<style scoped>\n",
       "    .dataframe tbody tr th:only-of-type {\n",
       "        vertical-align: middle;\n",
       "    }\n",
       "\n",
       "    .dataframe tbody tr th {\n",
       "        vertical-align: top;\n",
       "    }\n",
       "\n",
       "    .dataframe thead th {\n",
       "        text-align: right;\n",
       "    }\n",
       "</style>\n",
       "<table border=\"1\" class=\"dataframe\">\n",
       "  <thead>\n",
       "    <tr style=\"text-align: right;\">\n",
       "      <th></th>\n",
       "      <th>date</th>\n",
       "      <th>group</th>\n",
       "      <th>visitors</th>\n",
       "    </tr>\n",
       "  </thead>\n",
       "  <tbody>\n",
       "    <tr>\n",
       "      <th>0</th>\n",
       "      <td>2019-08-01</td>\n",
       "      <td>A</td>\n",
       "      <td>719</td>\n",
       "    </tr>\n",
       "    <tr>\n",
       "      <th>1</th>\n",
       "      <td>2019-08-02</td>\n",
       "      <td>A</td>\n",
       "      <td>619</td>\n",
       "    </tr>\n",
       "    <tr>\n",
       "      <th>2</th>\n",
       "      <td>2019-08-03</td>\n",
       "      <td>A</td>\n",
       "      <td>507</td>\n",
       "    </tr>\n",
       "    <tr>\n",
       "      <th>3</th>\n",
       "      <td>2019-08-04</td>\n",
       "      <td>A</td>\n",
       "      <td>717</td>\n",
       "    </tr>\n",
       "    <tr>\n",
       "      <th>4</th>\n",
       "      <td>2019-08-05</td>\n",
       "      <td>A</td>\n",
       "      <td>756</td>\n",
       "    </tr>\n",
       "  </tbody>\n",
       "</table>\n",
       "</div>"
      ],
      "text/plain": [
       "         date group  visitors\n",
       "0  2019-08-01  A     719     \n",
       "1  2019-08-02  A     619     \n",
       "2  2019-08-03  A     507     \n",
       "3  2019-08-04  A     717     \n",
       "4  2019-08-05  A     756     "
      ]
     },
     "metadata": {},
     "output_type": "display_data"
    }
   ],
   "source": [
    "display(visitors.head())"
   ]
  },
  {
   "cell_type": "code",
   "execution_count": 19,
   "id": "e8e0dcfe",
   "metadata": {},
   "outputs": [
    {
     "data": {
      "text/plain": [
       "0"
      ]
     },
     "execution_count": 19,
     "metadata": {},
     "output_type": "execute_result"
    }
   ],
   "source": [
    "visitors.duplicated().sum() #проверка на явные дубликаты"
   ]
  },
  {
   "cell_type": "code",
   "execution_count": 20,
   "id": "cc652a9c",
   "metadata": {},
   "outputs": [
    {
     "data": {
      "text/plain": [
       "date        0\n",
       "group       0\n",
       "visitors    0\n",
       "dtype: int64"
      ]
     },
     "execution_count": 20,
     "metadata": {},
     "output_type": "execute_result"
    }
   ],
   "source": [
    "visitors.isna().sum() #есть ли пропуски в данных"
   ]
  },
  {
   "cell_type": "code",
   "execution_count": 21,
   "id": "c302c6c2",
   "metadata": {},
   "outputs": [],
   "source": [
    "visitors['date'] = pd.to_datetime(visitors['date']) #изменим тип данных"
   ]
  },
  {
   "cell_type": "markdown",
   "id": "dab79d55",
   "metadata": {},
   "source": [
    "В датафрейме visitors нет явных дубликатов и пропусков, текстовые разделители считываются корректно. Для дальнейшей работы с данными были заменены типы данных на datetime в колонке 'date'."
   ]
  },
  {
   "cell_type": "markdown",
   "id": "4172a190",
   "metadata": {},
   "source": [
    "Далее для корректной интерпретации результатов проведенного А/В теста необходимо проверить полученные данные: нет ли пользователей, попавших в обе группы."
   ]
  },
  {
   "cell_type": "code",
   "execution_count": 22,
   "id": "50a68404",
   "metadata": {},
   "outputs": [
    {
     "name": "stdout",
     "output_type": "stream",
     "text": [
      "Пользователей, попавших в обе группы: 58\n"
     ]
    }
   ],
   "source": [
    "duplicates = np.intersect1d(orders[orders['group']=='A']['visitor_id'], orders[orders['group']=='B']['visitor_id'])\n",
    "print ('Пользователей, попавших в обе группы:', len(duplicates))"
   ]
  },
  {
   "cell_type": "markdown",
   "id": "7e47010d",
   "metadata": {},
   "source": [
    "Теперь посчитаем, какой процент от общего количества составляют дубли:"
   ]
  },
  {
   "cell_type": "code",
   "execution_count": 23,
   "id": "eb534e84",
   "metadata": {},
   "outputs": [
    {
     "name": "stdout",
     "output_type": "stream",
     "text": [
      "Всего пользователей в эксперименте:  1031 \n",
      "Процент дублирующихся от общего количества: 5.63\n"
     ]
    }
   ],
   "source": [
    "visitors_total = orders['visitor_id'].nunique()\n",
    "print('Всего пользователей в эксперименте: ', visitors_total,'\\n'\n",
    "     'Процент дублирующихся от общего количества:', round(len(duplicates)/visitors_total*100, 2))"
   ]
  },
  {
   "cell_type": "markdown",
   "id": "200a53ff",
   "metadata": {},
   "source": [
    "Для того, чтобы интерпретировать результаты верно, удалим пользователей, попавших в обе группы."
   ]
  },
  {
   "cell_type": "code",
   "execution_count": 24,
   "id": "9d1bd446",
   "metadata": {},
   "outputs": [],
   "source": [
    "orders = orders.query('visitor_id not in @duplicates')"
   ]
  },
  {
   "cell_type": "markdown",
   "id": "3acdd0b3",
   "metadata": {},
   "source": [
    "### 2.2 График кумулятивной выручки по группам"
   ]
  },
  {
   "cell_type": "code",
   "execution_count": 25,
   "id": "70cc9cb7",
   "metadata": {},
   "outputs": [
    {
     "name": "stdout",
     "output_type": "stream",
     "text": [
      "        date group  orders  buyers  revenue  visitors\n",
      "0 2019-08-01  A     23      19      142779   719     \n",
      "1 2019-08-01  B     17      17      59758    713     \n",
      "2 2019-08-02  A     42      36      234381   1338    \n",
      "3 2019-08-02  B     40      39      221801   1294    \n",
      "4 2019-08-03  A     66      60      346854   1845    \n"
     ]
    }
   ],
   "source": [
    "# создаем массив уникальных пар значений дат и групп теста\n",
    "dates_groups = orders[['date','group']].drop_duplicates()\n",
    "\n",
    "# получаем агрегированные кумулятивные по дням данные о заказах \n",
    "orders_aggregated = dates_groups.apply(lambda x: orders[np.logical_and(orders['date'] <= x['date'], orders['group'] == x['group'])]\n",
    "                                       .agg({'date' : 'max', 'group' : 'max', 'transaction_id' : 'nunique', 'visitor_id' : 'nunique', 'revenue' : 'sum'}), axis=1).sort_values(by=['date','group'])\n",
    "\n",
    "# получаем агрегированные кумулятивные по дням данные о посетителях интернет-магазина \n",
    "visitors_aggregated = dates_groups.apply(lambda x: visitors[np.logical_and(visitors['date'] <= x['date'], visitors['group'] == x['group'])]\n",
    "                                        .agg({'date' : 'max', 'group' : 'max', 'visitors' : 'sum'}), axis=1).sort_values(by=['date','group'])\n",
    "\n",
    "# объединяем кумулятивные данные в одной таблице и присваиваем ее столбцам понятные названия\n",
    "cumulative_data = orders_aggregated.merge(visitors_aggregated, left_on=['date', 'group'], right_on=['date', 'group'])\n",
    "cumulative_data.columns = ['date', 'group', 'orders', 'buyers', 'revenue', 'visitors']\n",
    "\n",
    "print(cumulative_data.head(5))"
   ]
  },
  {
   "cell_type": "markdown",
   "id": "2df09401",
   "metadata": {},
   "source": [
    "Построим графики кумулятивной выручки по дням и группам А/В тестирования:"
   ]
  },
  {
   "cell_type": "code",
   "execution_count": 26,
   "id": "8bc37fc3",
   "metadata": {},
   "outputs": [
    {
     "data": {
      "image/png": "[encoded data removed]",
      "text/plain": [
       "<Figure size 640x480 with 1 Axes>"
      ]
     },
     "metadata": {},
     "output_type": "display_data"
    }
   ],
   "source": [
    "# датафрейм с кумулятивным количеством заказов и кумулятивной выручкой по дням в группе А\n",
    "cumulative_revenue_a = cumulative_data[cumulative_data['group']=='A'][['date','revenue', 'orders']]\n",
    "\n",
    "# датафрейм с кумулятивным количеством заказов и кумулятивной выручкой по дням в группе B\n",
    "cumulative_revenue_b = cumulative_data[cumulative_data['group']=='B'][['date','revenue', 'orders']]\n",
    "\n",
    "# Строим график выручки группы А\n",
    "plt.plot(cumulative_revenue_a['date'], cumulative_revenue_a['revenue'], label='A')\n",
    "\n",
    "# Строим график выручки группы B\n",
    "plt.plot(cumulative_revenue_b['date'], cumulative_revenue_b['revenue'], label='B')\n",
    "\n",
    "plt.legend()\n",
    "plt.title('График кумулятивной выручки по группам')\n",
    "plt.xticks(rotation=45)\n",
    "plt.xlabel('Дата')\n",
    "plt.ylabel('Выручка')\n",
    "plt.show()"
   ]
  },
  {
   "cell_type": "markdown",
   "id": "55df23b8",
   "metadata": {},
   "source": [
    "На графике видно, что выручка стабильно растет. Однако, в некоторых точках виден резкий рост у группы В. Это может сигнализировать о всплесках числа заказов, либо о появлении очень дорогих заказов в выборке.\n"
   ]
  },
  {
   "cell_type": "markdown",
   "id": "3faf2348",
   "metadata": {},
   "source": [
    "### 2.3 График кумулятивного среднего чека по группам"
   ]
  },
  {
   "cell_type": "markdown",
   "id": "3ea79d29",
   "metadata": {},
   "source": [
    "Построим графики среднего чека по группам — разделим кумулятивную выручку на кумулятивное число заказов:"
   ]
  },
  {
   "cell_type": "code",
   "execution_count": 27,
   "id": "de8af788",
   "metadata": {},
   "outputs": [
    {
     "data": {
      "image/png": "[encoded data removed]",
      "text/plain": [
       "<Figure size 640x480 with 1 Axes>"
      ]
     },
     "metadata": {},
     "output_type": "display_data"
    }
   ],
   "source": [
    "plt.plot(cumulative_revenue_a['date'], cumulative_revenue_a['revenue']/cumulative_revenue_a['orders'], label='A')\n",
    "plt.plot(cumulative_revenue_b['date'], cumulative_revenue_b['revenue']/cumulative_revenue_b['orders'], label='B')\n",
    "plt.legend()\n",
    "plt.title('График кумулятивного среднего чека по группам')\n",
    "plt.xticks(rotation=45)\n",
    "plt.xlabel('Дата')\n",
    "plt.ylabel('Средний чек')\n",
    "plt.show()"
   ]
  },
  {
   "cell_type": "markdown",
   "id": "a70d9e63",
   "metadata": {},
   "source": [
    "На графике мы видим резкие изменения в среднем чеке группы В, это может быть связано с выбросами и аномалиями. Также можно увидеть, что по кумулятивным метрикам на конец исследуемого периода средний чек группы В сильно выше группы А."
   ]
  },
  {
   "cell_type": "markdown",
   "id": "3ddb7763",
   "metadata": {},
   "source": [
    "### 2.4 График относительного изменения кумулятивного среднего чека группы B к группе A"
   ]
  },
  {
   "cell_type": "markdown",
   "id": "54e2bdc6",
   "metadata": {},
   "source": [
    "Построим график относительного различия для среднего чека:"
   ]
  },
  {
   "cell_type": "code",
   "execution_count": 28,
   "id": "c4eeaed7",
   "metadata": {},
   "outputs": [
    {
     "data": {
      "image/png": "[encoded data removed]",
      "text/plain": [
       "<Figure size 640x480 with 1 Axes>"
      ]
     },
     "metadata": {},
     "output_type": "display_data"
    }
   ],
   "source": [
    "# собираем данные в одном датафрейме\n",
    "merged_cumulative_revenue = cumulative_revenue_a.merge(cumulative_revenue_b, left_on='date', right_on='date', how='left', suffixes=['A', 'B'])\n",
    "\n",
    "# cтроим отношение средних чеков\n",
    "plt.plot(merged_cumulative_revenue['date'], (merged_cumulative_revenue['revenueB']/merged_cumulative_revenue['ordersB'])/(merged_cumulative_revenue['revenueA']/merged_cumulative_revenue['ordersA'])-1)\n",
    "\n",
    "# добавляем ось X\n",
    "plt.axhline(y=0, color='black', linestyle='--')\n",
    "plt.title('График относительного изменения кумулятивного среднего чека группы B к группе A')\n",
    "plt.xticks(rotation=45)\n",
    "plt.xlabel('Дата')\n",
    "plt.ylabel('Отношение средних чеков')\n",
    "plt.show()"
   ]
  },
  {
   "cell_type": "markdown",
   "id": "015fd8ec",
   "metadata": {},
   "source": [
    "Видны резкие скачки графика в некоторых местах. Это может быть связано с аномальными значениями."
   ]
  },
  {
   "cell_type": "markdown",
   "id": "57d86380",
   "metadata": {},
   "source": [
    "### 2.5 График кумулятивного среднего количества заказов на посетителя по группам"
   ]
  },
  {
   "cell_type": "markdown",
   "id": "5cc5da0a",
   "metadata": {},
   "source": [
    "Аналогично проанализируем график кумулятивной конверсии."
   ]
  },
  {
   "cell_type": "code",
   "execution_count": 29,
   "id": "4f413ae1",
   "metadata": {},
   "outputs": [
    {
     "data": {
      "image/png": "[encoded data removed]",
      "text/plain": [
       "<Figure size 640x480 with 1 Axes>"
      ]
     },
     "metadata": {},
     "output_type": "display_data"
    }
   ],
   "source": [
    "# считаем кумулятивную конверсию\n",
    "cumulative_data['conversion'] = cumulative_data['orders']/cumulative_data['visitors']\n",
    "\n",
    "# отделяем данные по группе A\n",
    "cumulative_data_a = cumulative_data[cumulative_data['group']=='A']\n",
    "\n",
    "# отделяем данные по группе B\n",
    "cumulative_data_b = cumulative_data[cumulative_data['group']=='B']\n",
    "\n",
    "# строим графики\n",
    "plt.plot(cumulative_data_a['date'], cumulative_data_a['conversion'], label='A')\n",
    "plt.plot(cumulative_data_b['date'], cumulative_data_b['conversion'], label='B')\n",
    "plt.legend()\n",
    "plt.title('График кумулятивного среднего количества заказов на посетителя по группам')\n",
    "plt.xticks(rotation=45)\n",
    "plt.xlabel('Дата')\n",
    "plt.ylabel('Среднее количество заказов')\n",
    "plt.show()\n"
   ]
  },
  {
   "cell_type": "markdown",
   "id": "a4b68ff2",
   "metadata": {},
   "source": [
    "На графике видно различие между средним количеством заказов в группах А и В. В обеих группах во второй половине эксперимента показатель немного снижается. Отчетливо видны скачки в графике, это может говорить о наличии аномальных значений в данных."
   ]
  },
  {
   "cell_type": "markdown",
   "id": "83ab633a",
   "metadata": {},
   "source": [
    "### 2.6 График относительного изменения кумулятивного среднего количества заказов на посетителя группы B к группе A."
   ]
  },
  {
   "cell_type": "markdown",
   "id": "6280be06",
   "metadata": {},
   "source": [
    "Построим график относительного различия кумулятивных конверсий:"
   ]
  },
  {
   "cell_type": "code",
   "execution_count": 30,
   "id": "553a58da",
   "metadata": {},
   "outputs": [
    {
     "data": {
      "image/png": "[encoded data removed]",
      "text/plain": [
       "<Figure size 640x480 with 1 Axes>"
      ]
     },
     "metadata": {},
     "output_type": "display_data"
    }
   ],
   "source": [
    "merged_cumulative_conversions = cumulative_data_a[['date','conversion']].merge(cumulative_data_b[['date','conversion']], left_on='date', right_on='date', how='left', suffixes=['A', 'B'])\n",
    "\n",
    "plt.plot(merged_cumulative_conversions['date'], merged_cumulative_conversions['conversionB']/merged_cumulative_conversions['conversionA']-1, label=\"Относительный прирост конверсии группы B относительно группы A\")\n",
    "\n",
    "plt.axhline(y=0, color='black', linestyle='--')\n",
    "plt.axhline(y=-0.1, color='grey', linestyle='--')\n",
    "plt.title('График относительного изменения кумулятивного среднего количества заказов на посетителя группы B к группе A')\n",
    "plt.xticks(rotation=45)\n",
    "plt.xlabel('Дата')\n",
    "plt.ylabel('Конверсия')\n",
    "plt.show()\n"
   ]
  },
  {
   "cell_type": "markdown",
   "id": "5ef42f0b",
   "metadata": {},
   "source": [
    "На графике виден быстрый рост кумулятивного среднего количества заказов на посетителя группы В к группе Ав первой половине эксперимента и небольшое снижение показателя во второй половине. Для более точного анализа необходимо исследовать аномалии."
   ]
  },
  {
   "cell_type": "markdown",
   "id": "95c343af",
   "metadata": {},
   "source": [
    "### 2.7 Точечный график количества заказов по пользователям"
   ]
  },
  {
   "cell_type": "markdown",
   "id": "e8fd773a",
   "metadata": {},
   "source": [
    "Пользователи, совершившие много заказов, влияют на числитель формулы конверсии. Скорее всего, их поведение отличается от нормального. \n",
    "Подсчитаем количество заказов по пользователям и посмотрим на результат:"
   ]
  },
  {
   "cell_type": "code",
   "execution_count": 31,
   "id": "552502e5",
   "metadata": {},
   "outputs": [
    {
     "name": "stdout",
     "output_type": "stream",
     "text": [
      "        user_id  orders\n",
      "908  3967698036  3     \n",
      "55   249864742   3     \n",
      "478  2108163459  3     \n",
      "687  2988190573  3     \n",
      "890  3908431265  3     \n",
      "138  611059232   3     \n",
      "632  2742574263  3     \n",
      "157  678354126   2     \n",
      "323  1404560065  2     \n",
      "452  1985475298  2     \n"
     ]
    }
   ],
   "source": [
    "orders_by_users = (\n",
    "    orders.groupby('visitor_id', as_index=False)\n",
    "    .agg({'transaction_id': 'nunique'})\n",
    ")\n",
    "\n",
    "orders_by_users.columns = ['user_id', 'orders']\n",
    "\n",
    "print(orders_by_users.sort_values(by='orders', ascending=False).head(10))"
   ]
  },
  {
   "cell_type": "markdown",
   "id": "8b324303",
   "metadata": {},
   "source": [
    "Построим точечную диаграмму числа заказов на одного пользователя:"
   ]
  },
  {
   "cell_type": "code",
   "execution_count": 32,
   "id": "dd0f2504",
   "metadata": {},
   "outputs": [
    {
     "data": {
      "image/png": "[encoded data removed]",
      "text/plain": [
       "<Figure size 640x480 with 1 Axes>"
      ]
     },
     "metadata": {},
     "output_type": "display_data"
    }
   ],
   "source": [
    "x_values = pd.Series(range(0,len(orders_by_users)))\n",
    "\n",
    "plt.scatter(x_values, orders_by_users['orders'])\n",
    "plt.title('Количество заказов по пользователям')\n",
    "plt.xlabel('Дата')\n",
    "plt.ylabel('Количество заказов')\n",
    "plt.show()"
   ]
  },
  {
   "cell_type": "markdown",
   "id": "693df7c8",
   "metadata": {},
   "source": [
    "Есть пользователи, совершившие 2 и 3 заказа. Для более точного исследования аномалий посчитаем 99 и 95й перцентили количества заказов на пользователя:"
   ]
  },
  {
   "cell_type": "code",
   "execution_count": 33,
   "id": "c890242f",
   "metadata": {},
   "outputs": [
    {
     "name": "stdout",
     "output_type": "stream",
     "text": [
      "[1. 2.]\n"
     ]
    }
   ],
   "source": [
    "print(np.percentile(orders_by_users['orders'], [95, 99]))"
   ]
  },
  {
   "cell_type": "markdown",
   "id": "94642cd1",
   "metadata": {},
   "source": [
    "Не более 5% пользователей сделали больше 1 и не более 1% сделали больше 2х заказов. Разумно будет выбрать 2 заказа на одного пользователя за верхнюю границу числа заказов и отсеять аномальных пользователей по ней."
   ]
  },
  {
   "cell_type": "markdown",
   "id": "c8d06f69",
   "metadata": {},
   "source": [
    "### 2.8 Точечный график стоимостей заказов"
   ]
  },
  {
   "cell_type": "markdown",
   "id": "069b1a34",
   "metadata": {},
   "source": [
    "Построим точечную диаграмму распределения стоимостей заказов:"
   ]
  },
  {
   "cell_type": "code",
   "execution_count": 34,
   "id": "e862c487",
   "metadata": {},
   "outputs": [
    {
     "data": {
      "image/png": "[encoded data removed]",
      "text/plain": [
       "<Figure size 640x480 with 1 Axes>"
      ]
     },
     "metadata": {},
     "output_type": "display_data"
    }
   ],
   "source": [
    "x_values = pd.Series(range(0,len(orders['revenue'])))\n",
    "plt.scatter(x_values, orders['revenue'])\n",
    "plt.title('Распределение стоимостей заказов')\n",
    "plt.xlabel('Пользователь')\n",
    "plt.ylabel('Стоимость заказов (млн)')\n",
    "plt.show()"
   ]
  },
  {
   "cell_type": "code",
   "execution_count": 35,
   "id": "fd528b5f",
   "metadata": {
    "scrolled": true
   },
   "outputs": [
    {
     "name": "stdout",
     "output_type": "stream",
     "text": [
      "425     1294500\n",
      "1196    202740 \n",
      "1136    92550  \n",
      "744     86620  \n",
      "743     67990  \n",
      "1103    66350  \n",
      "1099    65710  \n",
      "949     60450  \n",
      "940     58550  \n",
      "131     53904  \n",
      "Name: revenue, dtype: int64\n"
     ]
    }
   ],
   "source": [
    "print(orders['revenue'].sort_values(ascending = False).head(10))"
   ]
  },
  {
   "cell_type": "markdown",
   "id": "cf22235e",
   "metadata": {},
   "source": [
    "На графике отчетливо видны выбросы по соимости заказов на пользователя. Для дальнейшего исследования аномалий посчитаем 99 и 95й перцентили стоимости заказов на пользователя:"
   ]
  },
  {
   "cell_type": "code",
   "execution_count": 36,
   "id": "452f4607",
   "metadata": {},
   "outputs": [
    {
     "name": "stdout",
     "output_type": "stream",
     "text": [
      "[26785. 53904.]\n"
     ]
    }
   ],
   "source": [
    "print(np.percentile(orders['revenue'], [95, 99]))"
   ]
  },
  {
   "cell_type": "markdown",
   "id": "3fab6ed2",
   "metadata": {},
   "source": [
    "В данных не более 5% заказов стоимостью 26785 и не более 53904. Разумно будет выбрать стоимость заказов 26785 за верхнюю границу числа заказов и отсеять аномальных пользователей по ней."
   ]
  },
  {
   "cell_type": "markdown",
   "id": "4e06cbda",
   "metadata": {},
   "source": [
    "### 2.9 Анализ результатов А/В теста"
   ]
  },
  {
   "cell_type": "markdown",
   "id": "eaae4a78",
   "metadata": {},
   "source": [
    "Посчитаем статистическую значимость различий в среднем числе заказов на пользователя и среднем чеке между группами по «сырым» данным — без удаления аномальных пользователей.\n",
    "\n",
    "Сформулируем гипотезы. Нулевая: различий в среднем количестве заказов на пользователя между группами нет. Альтернативная: различия в среднем между группами есть."
   ]
  },
  {
   "cell_type": "code",
   "execution_count": 37,
   "id": "554c7205",
   "metadata": {},
   "outputs": [
    {
     "name": "stdout",
     "output_type": "stream",
     "text": [
      "        date  orders_per_date_a  revenue_per_date_a  orders_per_date_b  \\\n",
      "0 2019-08-01  23                 142779              17                  \n",
      "1 2019-08-02  19                 91602               22                  \n",
      "2 2019-08-03  24                 112473              14                  \n",
      "3 2019-08-04  11                 41176               13                  \n",
      "4 2019-08-05  22                 86383               21                  \n",
      "\n",
      "   revenue_per_date_b  orders_cummulative_a  revenue_cummulative_a  \\\n",
      "0  59758               23                    142779                  \n",
      "1  162043              42                    234381                  \n",
      "2  67049               66                    346854                  \n",
      "3  96890               77                    388030                  \n",
      "4  89908               99                    474413                  \n",
      "\n",
      "   orders_cummulative_b  revenue_cummulative_b  visitors_per_date_a  \\\n",
      "0  17                    59758                  719                   \n",
      "1  39                    221801                 619                   \n",
      "2  53                    288850                 507                   \n",
      "3  66                    385740                 717                   \n",
      "4  87                    475648                 756                   \n",
      "\n",
      "   visitors_per_date_b  visitors_cummulative_a  visitors_cummulative_b  \n",
      "0  713                  719                     713                     \n",
      "1  581                  1338                    1294                    \n",
      "2  509                  1845                    1803                    \n",
      "3  770                  2562                    2573                    \n",
      "4  707                  3318                    3280                    \n"
     ]
    }
   ],
   "source": [
    "# подготовим данные\n",
    "\n",
    "\n",
    "visitors_a_daily = visitors[visitors['group'] == 'A'][['date', 'visitors']]\n",
    "visitors_a_daily.columns = ['date', 'visitors_per_date_a']\n",
    "\n",
    "visitors_a_cummulative = visitors_a_daily.apply(\n",
    "    lambda x: visitors_a_daily[visitors_a_daily['date'] <= x['date']].agg(\n",
    "        {'date': 'max', 'visitors_per_date_a': 'sum'}\n",
    "    ),\n",
    "    axis=1,\n",
    ")\n",
    "visitors_a_cummulative.columns = ['date', 'visitors_cummulative_a']\n",
    "\n",
    "visitors_b_daily = visitors[visitors['group'] == 'B'][['date', 'visitors']]\n",
    "visitors_b_daily.columns = ['date', 'visitors_per_date_b']\n",
    "\n",
    "visitors_b_cummulative = visitors_b_daily.apply(\n",
    "    lambda x: visitors_b_daily[visitors_b_daily['date'] <= x['date']].agg(\n",
    "        {'date': 'max', 'visitors_per_date_b': 'sum'}\n",
    "    ),\n",
    "    axis=1,\n",
    ")\n",
    "visitors_b_cummulative.columns = ['date', 'visitors_cummulative_b']\n",
    "\n",
    "orders_a_daily = (\n",
    "    orders[orders['group'] == 'A'][['date', 'transaction_id', 'visitor_id', 'revenue']]\n",
    "    .groupby('date', as_index=False)\n",
    "    .agg({'transaction_id': pd.Series.nunique, 'revenue': 'sum'})\n",
    ")\n",
    "orders_a_daily.columns = ['date', 'orders_per_date_a', 'revenue_per_date_a']\n",
    "\n",
    "orders_a_cummulative = orders_a_daily.apply(\n",
    "    lambda x: orders_a_daily[orders_a_daily['date'] <= x['date']].agg(\n",
    "        {'date': 'max', 'orders_per_date_a': 'sum', 'revenue_per_date_a': 'sum'}\n",
    "    ),\n",
    "    axis=1,\n",
    ").sort_values(by=['date'])\n",
    "orders_a_cummulative.columns = [\n",
    "    'date',\n",
    "    'orders_cummulative_a',\n",
    "    'revenue_cummulative_a',\n",
    "]\n",
    "\n",
    "orders_b_daily = (\n",
    "    orders[orders['group'] == 'B'][['date', 'transaction_id', 'visitor_id', 'revenue']]\n",
    "    .groupby('date', as_index=False)\n",
    "    .agg({'visitor_id': pd.Series.nunique, 'revenue': 'sum'})\n",
    ")\n",
    "orders_b_daily.columns = ['date', 'orders_per_date_b', 'revenue_per_date_b']\n",
    "\n",
    "orders_b_cummulative = orders_b_daily.apply(\n",
    "    lambda x: orders_b_daily[orders_b_daily['date'] <= x['date']].agg(\n",
    "        {'date': 'max', 'orders_per_date_b': 'sum', 'revenue_per_date_b': 'sum'}\n",
    "    ),\n",
    "    axis=1,\n",
    ").sort_values(by=['date'])\n",
    "orders_b_cummulative.columns = [\n",
    "    'date',\n",
    "    'orders_cummulative_b',\n",
    "    'revenue_cummulative_b',\n",
    "]\n",
    "\n",
    "data = (\n",
    "    orders_a_daily.merge(\n",
    "        orders_b_daily, left_on='date', right_on='date', how='left'\n",
    "    )\n",
    "    .merge(orders_a_cummulative, left_on='date', right_on='date', how='left')\n",
    "    .merge(orders_b_cummulative, left_on='date', right_on='date', how='left')\n",
    "    .merge(visitors_a_daily, left_on='date', right_on='date', how='left')\n",
    "    .merge(visitors_b_daily, left_on='date', right_on='date', how='left')\n",
    "    .merge(visitors_a_cummulative, left_on='date', right_on='date', how='left')\n",
    "    .merge(visitors_b_cummulative, left_on='date', right_on='date', how='left')\n",
    ")\n",
    "\n",
    "print(data.head(5))"
   ]
  },
  {
   "cell_type": "markdown",
   "id": "a762bd1c",
   "metadata": {},
   "source": [
    "Создадим переменные orders_by_users_a и orders_by_users_b со столбцами ['visitor_id', 'orders']. В них для пользователей, которые заказывали хотя бы 1 раз, укажем число совершённых заказов. "
   ]
  },
  {
   "cell_type": "code",
   "execution_count": 38,
   "id": "32c61890",
   "metadata": {},
   "outputs": [],
   "source": [
    "orders_by_users_a = (\n",
    "    orders[orders['group'] == 'A']\n",
    "    .groupby('visitor_id', as_index=False)\n",
    "    .agg({'transaction_id': pd.Series.nunique})\n",
    ")\n",
    "orders_by_users_a.columns = ['visitor_id', 'orders']\n",
    "\n",
    "orders_by_users_b = (\n",
    "    orders[orders['group'] == 'B']\n",
    "    .groupby('visitor_id', as_index=False)\n",
    "    .agg({'transaction_id': pd.Series.nunique})\n",
    ")\n",
    "orders_by_users_b.columns = ['visitor_id', 'orders']"
   ]
  },
  {
   "cell_type": "markdown",
   "id": "ff919050",
   "metadata": {},
   "source": [
    "Объявим переменные sample_a и sample_b, в которых пользователям из разных групп будет соответствовать количество заказов. Тем, кто ничего не заказал, будут соответствовать нули."
   ]
  },
  {
   "cell_type": "code",
   "execution_count": 39,
   "id": "6ce15df9",
   "metadata": {},
   "outputs": [],
   "source": [
    "sample_a = pd.concat(\n",
    "    [\n",
    "        orders_by_users_a['orders'],\n",
    "        pd.Series(\n",
    "            0,\n",
    "            index=np.arange(\n",
    "                data['visitors_per_date_a'].sum() - len(orders_by_users_a['orders'])\n",
    "            ),\n",
    "            name='orders',\n",
    "        ),\n",
    "    ],\n",
    "    axis=0,\n",
    ")\n",
    "\n",
    "sample_b = pd.concat(\n",
    "    [\n",
    "        orders_by_users_b['orders'],\n",
    "        pd.Series(\n",
    "            0,\n",
    "            index=np.arange(\n",
    "                data['visitors_per_date_b'].sum() - len(orders_by_users_b['orders'])\n",
    "            ),\n",
    "            name='orders',\n",
    "        ),\n",
    "    ],\n",
    "    axis=0,\n",
    ")"
   ]
  },
  {
   "cell_type": "markdown",
   "id": "8c4b52b8",
   "metadata": {},
   "source": [
    "Применим критерий Манна-Уитни и отформатируем p-value, округлив его до трёх знаков после запятой. Выведем относительный прирост среднего числа заказов группы B: среднее число заказов группы B / среднее число заказов группы A - 1.  Округлим до трёх знаков после запятой."
   ]
  },
  {
   "cell_type": "code",
   "execution_count": 40,
   "id": "4de4754f",
   "metadata": {},
   "outputs": [
    {
     "name": "stdout",
     "output_type": "stream",
     "text": [
      "P-value: 0.011\n",
      "Относительный прирост среднего числа заказов группы В: 0.160\n"
     ]
    }
   ],
   "source": [
    "print('P-value:', \"{0:.3f}\".format(st.mannwhitneyu(sample_a, sample_b)[1]))\n",
    "\n",
    "print('Относительный прирост среднего числа заказов группы В:', \"{0:.3f}\".format(sample_b.mean() / sample_a.mean() - 1))\n",
    " "
   ]
  },
  {
   "cell_type": "markdown",
   "id": "282c2a48",
   "metadata": {},
   "source": [
    "P-value меньше 0,05 - можно отвергнуть нулевую гипотезу о том, что статистически значимых различий в среднем числе заказов между группами нет. Относительный прирост среднего числа заказов группы В составил 16%.\n",
    "\n",
    "Вывод: По \"сырым\" данным наблюдаются статистические различия между средним числом заказов в группах А и В. \n",
    "\n",
    "Теперь проверим статистическую значимость различий в среднем чеке между сегментами. Нулевая гипотеза: различий в среднем чеке между группами нет. Альтернативная гипотеза: различия в среднем чеке между группами есть. А также вычислим относительные различия в среднем чеке между группами:"
   ]
  },
  {
   "cell_type": "code",
   "execution_count": 40,
   "id": "1042aeac",
   "metadata": {},
   "outputs": [
    {
     "name": "stdout",
     "output_type": "stream",
     "text": [
      "P-value: 0.829\n",
      "Относительный прирост среднего чека группы В: 0.287\n"
     ]
    }
   ],
   "source": [
    "print('P-value:', \n",
    "      '{0:.3f}'.format(st.mannwhitneyu(orders[orders['group']=='A']['revenue'], orders[orders['group']=='B']['revenue'])[1]))\n",
    "print('Относительный прирост среднего чека группы В:', \n",
    "      '{0:.3f}'.format(orders[orders['group']=='B']['revenue'].mean()/orders[orders['group']=='A']['revenue'].mean()-1))"
   ]
  },
  {
   "cell_type": "markdown",
   "id": "8bbb40c1",
   "metadata": {},
   "source": [
    "P-value значительно больше 0.05. Значит, причин отвергать нулевую гипотезу и считать, что в среднем чеке есть различия, нет. Это говорит о том, что выявленные различия не значимы, могут быть получены случайно из-за единичных выбросов."
   ]
  },
  {
   "cell_type": "markdown",
   "id": "ac997002",
   "metadata": {},
   "source": [
    "Найденные ранее 95-й и 99-й перцентили средних чеков равны 26785 и 53904 рублям. А 95-й и 99-й перцентили количества заказов на одного пользователя равны 1 и 2 заказа на пользователя.\n",
    "\n",
    "Примем за аномальных пользователей тех, кто совершил от 2 заказов или совершил заказ дороже 26785 рублей. Так мы уберём 5% пользователей с наибольшим числом заказов и  5% пользователей с дорогими заказами. Сделаем срезы пользователей с числом заказов больше 2 — users_with_many_orders и пользователей, совершивших заказы дороже 26785 — users_with_expensive_orders. Объединим их в таблице abnormal_users. "
   ]
  },
  {
   "cell_type": "code",
   "execution_count": null,
   "id": "88335d4a",
   "metadata": {},
   "outputs": [],
   "source": [
    "users_with_many_orders = pd.concat(\n",
    "    [\n",
    "        orders_by_users_a[orders_by_users_a['orders'] > 2]['visitor_id'],\n",
    "        orders_by_users_b[orders_by_users_b['orders'] > 2]['visitor_id'],\n",
    "    ],\n",
    "    axis=0,\n",
    ")\n",
    "users_with_expensive_orders = orders[orders['revenue'] > 26785]['visitor_id']\n",
    "abnormal_users = (\n",
    "    pd.concat([users_with_many_orders, users_with_expensive_orders], axis=0)\n",
    "    .drop_duplicates()\n",
    "    .sort_values()\n",
    ")\n",
    "print(abnormal_users.head(5))\n",
    "print(abnormal_users.shape[0])"
   ]
  },
  {
   "cell_type": "markdown",
   "id": "7a8210fc",
   "metadata": {},
   "source": [
    "Всего 58 аномальных пользователей. \n",
    "Узнаем, как их действия повлияли на результаты теста. Посчитаем статистическую значимость различий в среднем количестве заказов между группами теста по очищенным данным. Сначала подготовим выборки количества заказов по пользователям по группам теста:"
   ]
  },
  {
   "cell_type": "code",
   "execution_count": 47,
   "id": "a2797d9b",
   "metadata": {},
   "outputs": [],
   "source": [
    "sample_a_filtered = pd.concat(\n",
    "    [\n",
    "        orders_by_users_a[\n",
    "            np.logical_not(orders_by_users_a['visitor_id'].isin(abnormal_users))\n",
    "        ]['orders'],\n",
    "        pd.Series(\n",
    "            0,\n",
    "            index=np.arange(\n",
    "                data['visitors_per_date_a'].sum() - len(orders_by_users_a['orders'])\n",
    "            ),\n",
    "            name='orders',\n",
    "        ),\n",
    "    ],\n",
    "    axis=0,\n",
    ")\n",
    "\n",
    "sample_b_filtered = pd.concat(\n",
    "    [\n",
    "        orders_by_users_b[\n",
    "            np.logical_not(orders_by_users_b['visitor_id'].isin(abnormal_users))\n",
    "        ]['orders'],\n",
    "        pd.Series(\n",
    "            0,\n",
    "            index=np.arange(\n",
    "                data['visitors_per_date_b'].sum() - len(orders_by_users_b['orders'])\n",
    "            ),\n",
    "            name='orders',\n",
    "        ),\n",
    "    ],\n",
    "    axis=0,\n",
    ")"
   ]
  },
  {
   "cell_type": "markdown",
   "id": "ab47bc3c",
   "metadata": {},
   "source": [
    "Сформулируем гипотезы. Нулевая: различий в среднем количестве заказов на пользователя между группами нет. Альтернативная: различия в среднем между группами есть.\n",
    "\n",
    "Применим статистический критерий Манна-Уитни к полученным выборкам:"
   ]
  },
  {
   "cell_type": "code",
   "execution_count": 48,
   "id": "8d4030db",
   "metadata": {},
   "outputs": [
    {
     "name": "stdout",
     "output_type": "stream",
     "text": [
      "P-value: 0.012\n",
      "Относительный прирост среднего числа заказов группы В: 0.182\n"
     ]
    }
   ],
   "source": [
    "print('P-value:', '{0:.3f}'.format(st.mannwhitneyu(sample_a_filtered, sample_b_filtered)[1]))\n",
    "print('Относительный прирост среднего числа заказов группы В:', \n",
    "      '{0:.3f}'.format(sample_b_filtered.mean()/sample_a_filtered.mean()-1))"
   ]
  },
  {
   "cell_type": "markdown",
   "id": "a61df526",
   "metadata": {},
   "source": [
    "Вывод: результаты по среднему количеству заказов практически не изменились. \n",
    "\n",
    "Рассмотрим изменения по среднему чеку:\n",
    "\n",
    "Сформулируем гипотезы. Нулевая: различий в размере среднего чека между группами нет. Альтернативная: различия в среднем чеке между группами есть."
   ]
  },
  {
   "cell_type": "code",
   "execution_count": 49,
   "id": "85d1050e",
   "metadata": {},
   "outputs": [
    {
     "name": "stdout",
     "output_type": "stream",
     "text": [
      "P-value: 0.646\n",
      "Относительный прирост среднего чека группы В -0.048\n"
     ]
    }
   ],
   "source": [
    "print(\n",
    "    'P-value:',\n",
    "    '{0:.3f}'.format(\n",
    "        st.mannwhitneyu(\n",
    "            orders[\n",
    "                np.logical_and(\n",
    "                    orders['group'] == 'A',\n",
    "                    np.logical_not(orders['visitor_id'].isin(abnormal_users)),\n",
    "                )\n",
    "            ]['revenue'],\n",
    "            orders[\n",
    "                np.logical_and(\n",
    "                    orders['group'] == 'B',\n",
    "                    np.logical_not(orders['visitor_id'].isin(abnormal_users)),\n",
    "                )\n",
    "            ]['revenue'],\n",
    "        )[1]\n",
    "    )\n",
    ")\n",
    "\n",
    "print(\n",
    "    'Относительный прирост среднего чека группы В',\n",
    "    \"{0:.3f}\".format(\n",
    "        orders[\n",
    "            np.logical_and(\n",
    "                orders['group'] == 'B',\n",
    "                np.logical_not(orders['visitor_id'].isin(abnormal_users)),\n",
    "            )\n",
    "        ]['revenue'].mean()\n",
    "        / orders[\n",
    "            np.logical_and(\n",
    "                orders['group'] == 'A',\n",
    "                np.logical_not(orders['visitor_id'].isin(abnormal_users)),\n",
    "            )\n",
    "        ]['revenue'].mean()\n",
    "        - 1\n",
    "    )\n",
    ")"
   ]
  },
  {
   "cell_type": "markdown",
   "id": "5ab49195",
   "metadata": {},
   "source": [
    "Небольшое снижение p-value, однако, остается сильно выше 0.05, это значит, что причин отвергать нулевую гипотезу и считать, что в среднем чеке есть различия после \"очистки\" данных нет. Интересно отметить, что в абсолютном выражении средний чек в группе В снизился по отношению к группе А в \"очищенных\" данных."
   ]
  },
  {
   "cell_type": "markdown",
   "id": "7d21a333",
   "metadata": {},
   "source": [
    "### 2.10 Решение по результатам теста"
   ]
  },
  {
   "cell_type": "markdown",
   "id": "2aec0cec",
   "metadata": {},
   "source": [
    "По проведенному А/В тесту можно сделать следующие выводы:\n",
    "\n",
    "1) Есть статистически значимое различие по относительному числу прироста заказов между группами как по сырым данным, так и после фильтрации аномалий.\n",
    "2) Ни по сырым данным, ни после фильтрации нет статистически значимого различия по среднему чеку между группами.\n",
    "3) График кумулятивного роста количества заказов показывает явное примущество у группы В по их количеству.\n",
    "\n",
    "На основании этих выводов можно принять решение о прекращении тестирования и признать эксперимент удачным, так как обнаружено положительное влияние нововведений на среднее число заказов пользователей."
   ]
  }
 ],
 "metadata": {
  "ExecuteTimeLog": [
   {
    "duration": 1255,
    "start_time": "2023-04-11T15:19:06.326Z"
   },
   {
    "duration": 100,
    "start_time": "2023-04-11T15:19:07.583Z"
   },
   {
    "duration": 14,
    "start_time": "2023-04-11T15:19:07.685Z"
   },
   {
    "duration": 11,
    "start_time": "2023-04-11T15:19:07.702Z"
   },
   {
    "duration": 16,
    "start_time": "2023-04-11T15:19:07.716Z"
   },
   {
    "duration": 24,
    "start_time": "2023-04-11T15:19:07.734Z"
   },
   {
    "duration": 18,
    "start_time": "2023-04-11T15:19:07.760Z"
   },
   {
    "duration": 177,
    "start_time": "2023-04-11T15:19:07.780Z"
   },
   {
    "duration": 13,
    "start_time": "2023-04-11T15:19:07.959Z"
   },
   {
    "duration": 9,
    "start_time": "2023-04-11T15:19:07.975Z"
   },
   {
    "duration": 12,
    "start_time": "2023-04-11T15:19:07.986Z"
   },
   {
    "duration": 9,
    "start_time": "2023-04-11T15:19:08.001Z"
   },
   {
    "duration": 8,
    "start_time": "2023-04-11T15:19:08.012Z"
   },
   {
    "duration": 44,
    "start_time": "2023-04-11T15:19:08.022Z"
   },
   {
    "duration": 25,
    "start_time": "2023-04-11T15:19:08.068Z"
   },
   {
    "duration": 17,
    "start_time": "2023-04-11T15:19:08.095Z"
   },
   {
    "duration": 14,
    "start_time": "2023-04-11T15:19:08.114Z"
   },
   {
    "duration": 8,
    "start_time": "2023-04-11T15:19:08.130Z"
   },
   {
    "duration": 33,
    "start_time": "2023-04-11T15:19:08.141Z"
   },
   {
    "duration": 12,
    "start_time": "2023-04-11T15:19:08.176Z"
   },
   {
    "duration": 14,
    "start_time": "2023-04-11T15:19:08.190Z"
   },
   {
    "duration": 11,
    "start_time": "2023-04-11T15:19:08.206Z"
   },
   {
    "duration": 9,
    "start_time": "2023-04-11T15:19:08.219Z"
   },
   {
    "duration": 328,
    "start_time": "2023-04-11T15:19:08.229Z"
   },
   {
    "duration": 302,
    "start_time": "2023-04-11T15:19:08.561Z"
   },
   {
    "duration": 223,
    "start_time": "2023-04-11T15:19:08.865Z"
   },
   {
    "duration": 297,
    "start_time": "2023-04-11T15:19:09.090Z"
   },
   {
    "duration": 229,
    "start_time": "2023-04-11T15:19:09.391Z"
   },
   {
    "duration": 393,
    "start_time": "2023-04-11T15:19:09.621Z"
   },
   {
    "duration": 35,
    "start_time": "2023-04-11T15:19:10.017Z"
   },
   {
    "duration": 156,
    "start_time": "2023-04-11T15:19:10.061Z"
   },
   {
    "duration": 6,
    "start_time": "2023-04-11T15:19:10.219Z"
   },
   {
    "duration": 177,
    "start_time": "2023-04-11T15:19:10.226Z"
   },
   {
    "duration": 6,
    "start_time": "2023-04-11T15:19:10.405Z"
   },
   {
    "duration": 12,
    "start_time": "2023-04-11T15:19:10.413Z"
   },
   {
    "duration": 256,
    "start_time": "2023-04-11T15:19:10.427Z"
   },
   {
    "duration": 156,
    "start_time": "2023-04-11T15:19:10.685Z"
   },
   {
    "duration": 13,
    "start_time": "2023-04-11T15:19:10.847Z"
   },
   {
    "duration": 27,
    "start_time": "2023-04-11T15:19:10.862Z"
   },
   {
    "duration": 12,
    "start_time": "2023-04-11T15:19:10.891Z"
   },
   {
    "duration": 46,
    "start_time": "2023-04-11T15:19:10.905Z"
   },
   {
    "duration": 30,
    "start_time": "2023-04-11T15:19:10.956Z"
   },
   {
    "duration": 28,
    "start_time": "2023-04-11T15:19:10.988Z"
   },
   {
    "duration": 18,
    "start_time": "2023-04-11T15:19:11.018Z"
   },
   {
    "duration": 1336,
    "start_time": "2023-04-11T15:27:31.790Z"
   },
   {
    "duration": 46,
    "start_time": "2023-04-11T15:27:33.128Z"
   },
   {
    "duration": 15,
    "start_time": "2023-04-11T15:27:33.176Z"
   },
   {
    "duration": 26,
    "start_time": "2023-04-11T15:27:33.194Z"
   },
   {
    "duration": 15,
    "start_time": "2023-04-11T15:27:33.223Z"
   },
   {
    "duration": 55,
    "start_time": "2023-04-11T15:27:33.240Z"
   },
   {
    "duration": 13,
    "start_time": "2023-04-11T15:27:33.297Z"
   },
   {
    "duration": 82,
    "start_time": "2023-04-11T15:27:33.312Z"
   },
   {
    "duration": 15,
    "start_time": "2023-04-11T15:27:33.396Z"
   },
   {
    "duration": 35,
    "start_time": "2023-04-11T15:27:33.414Z"
   },
   {
    "duration": 37,
    "start_time": "2023-04-11T15:27:33.454Z"
   },
   {
    "duration": 26,
    "start_time": "2023-04-11T15:27:33.495Z"
   },
   {
    "duration": 42,
    "start_time": "2023-04-11T15:27:33.523Z"
   },
   {
    "duration": 17,
    "start_time": "2023-04-11T15:27:33.569Z"
   },
   {
    "duration": 30,
    "start_time": "2023-04-11T15:27:33.590Z"
   },
   {
    "duration": 34,
    "start_time": "2023-04-11T15:27:33.622Z"
   },
   {
    "duration": 27,
    "start_time": "2023-04-11T15:27:33.660Z"
   },
   {
    "duration": 21,
    "start_time": "2023-04-11T15:27:33.690Z"
   },
   {
    "duration": 33,
    "start_time": "2023-04-11T15:27:33.714Z"
   },
   {
    "duration": 33,
    "start_time": "2023-04-11T15:27:33.749Z"
   },
   {
    "duration": 22,
    "start_time": "2023-04-11T15:27:33.785Z"
   },
   {
    "duration": 22,
    "start_time": "2023-04-11T15:27:33.810Z"
   },
   {
    "duration": 37,
    "start_time": "2023-04-11T15:27:33.834Z"
   },
   {
    "duration": 435,
    "start_time": "2023-04-11T15:27:33.874Z"
   },
   {
    "duration": 316,
    "start_time": "2023-04-11T15:27:34.311Z"
   },
   {
    "duration": 265,
    "start_time": "2023-04-11T15:27:34.630Z"
   },
   {
    "duration": 298,
    "start_time": "2023-04-11T15:27:34.897Z"
   },
   {
    "duration": 295,
    "start_time": "2023-04-11T15:27:35.197Z"
   },
   {
    "duration": 423,
    "start_time": "2023-04-11T15:27:35.495Z"
   },
   {
    "duration": 12,
    "start_time": "2023-04-11T15:27:35.920Z"
   },
   {
    "duration": 238,
    "start_time": "2023-04-11T15:27:35.943Z"
   },
   {
    "duration": 6,
    "start_time": "2023-04-11T15:27:36.184Z"
   },
   {
    "duration": 263,
    "start_time": "2023-04-11T15:27:36.192Z"
   },
   {
    "duration": 22,
    "start_time": "2023-04-11T15:27:36.458Z"
   },
   {
    "duration": 20,
    "start_time": "2023-04-11T15:27:36.483Z"
   },
   {
    "duration": 464,
    "start_time": "2023-04-11T15:27:36.506Z"
   },
   {
    "duration": 187,
    "start_time": "2023-04-11T15:27:36.975Z"
   },
   {
    "duration": 9,
    "start_time": "2023-04-11T15:27:37.167Z"
   },
   {
    "duration": 174,
    "start_time": "2023-04-11T15:27:37.178Z"
   },
   {
    "duration": 160,
    "start_time": "2023-04-11T15:27:37.354Z"
   },
   {
    "duration": 109,
    "start_time": "2023-04-11T15:27:37.519Z"
   },
   {
    "duration": 86,
    "start_time": "2023-04-11T15:27:37.630Z"
   },
   {
    "duration": 111,
    "start_time": "2023-04-11T15:27:37.720Z"
   },
   {
    "duration": 25,
    "start_time": "2023-04-11T15:27:37.833Z"
   },
   {
    "duration": 71,
    "start_time": "2023-04-11T15:52:37.946Z"
   },
   {
    "duration": 1419,
    "start_time": "2023-04-11T15:52:45.975Z"
   },
   {
    "duration": 88,
    "start_time": "2023-04-11T15:52:47.396Z"
   },
   {
    "duration": 15,
    "start_time": "2023-04-11T15:52:47.486Z"
   },
   {
    "duration": 15,
    "start_time": "2023-04-11T15:52:47.505Z"
   },
   {
    "duration": 5,
    "start_time": "2023-04-11T15:52:47.522Z"
   },
   {
    "duration": 34,
    "start_time": "2023-04-11T15:52:47.529Z"
   },
   {
    "duration": 13,
    "start_time": "2023-04-11T15:52:47.565Z"
   },
   {
    "duration": 181,
    "start_time": "2023-04-11T15:52:47.579Z"
   },
   {
    "duration": 18,
    "start_time": "2023-04-11T15:52:47.763Z"
   },
   {
    "duration": 9,
    "start_time": "2023-04-11T15:52:47.785Z"
   },
   {
    "duration": 8,
    "start_time": "2023-04-11T15:52:47.796Z"
   },
   {
    "duration": 22,
    "start_time": "2023-04-11T15:52:47.805Z"
   },
   {
    "duration": 26,
    "start_time": "2023-04-11T15:52:47.828Z"
   },
   {
    "duration": 8,
    "start_time": "2023-04-11T15:52:47.856Z"
   },
   {
    "duration": 18,
    "start_time": "2023-04-11T15:52:47.865Z"
   },
   {
    "duration": 19,
    "start_time": "2023-04-11T15:52:47.885Z"
   },
   {
    "duration": 12,
    "start_time": "2023-04-11T15:52:47.906Z"
   },
   {
    "duration": 29,
    "start_time": "2023-04-11T15:52:47.919Z"
   },
   {
    "duration": 13,
    "start_time": "2023-04-11T15:52:47.950Z"
   },
   {
    "duration": 10,
    "start_time": "2023-04-11T15:52:47.964Z"
   },
   {
    "duration": 10,
    "start_time": "2023-04-11T15:52:47.976Z"
   },
   {
    "duration": 10,
    "start_time": "2023-04-11T15:52:47.988Z"
   },
   {
    "duration": 11,
    "start_time": "2023-04-11T15:52:48.000Z"
   },
   {
    "duration": 333,
    "start_time": "2023-04-11T15:52:48.013Z"
   },
   {
    "duration": 326,
    "start_time": "2023-04-11T15:52:48.352Z"
   },
   {
    "duration": 222,
    "start_time": "2023-04-11T15:52:48.680Z"
   },
   {
    "duration": 377,
    "start_time": "2023-04-11T15:52:48.905Z"
   },
   {
    "duration": 238,
    "start_time": "2023-04-11T15:52:49.285Z"
   },
   {
    "duration": 377,
    "start_time": "2023-04-11T15:52:49.525Z"
   },
   {
    "duration": 9,
    "start_time": "2023-04-11T15:52:49.904Z"
   },
   {
    "duration": 172,
    "start_time": "2023-04-11T15:52:49.915Z"
   },
   {
    "duration": 5,
    "start_time": "2023-04-11T15:52:50.088Z"
   },
   {
    "duration": 171,
    "start_time": "2023-04-11T15:52:50.095Z"
   },
   {
    "duration": 5,
    "start_time": "2023-04-11T15:52:50.267Z"
   },
   {
    "duration": 6,
    "start_time": "2023-04-11T15:52:50.274Z"
   },
   {
    "duration": 265,
    "start_time": "2023-04-11T15:52:50.282Z"
   },
   {
    "duration": 136,
    "start_time": "2023-04-11T15:52:50.549Z"
   },
   {
    "duration": 8,
    "start_time": "2023-04-11T15:52:50.687Z"
   },
   {
    "duration": 53,
    "start_time": "2023-04-11T15:52:50.696Z"
   },
   {
    "duration": 18,
    "start_time": "2023-04-11T15:52:50.751Z"
   },
   {
    "duration": 19,
    "start_time": "2023-04-11T15:52:50.772Z"
   },
   {
    "duration": 15,
    "start_time": "2023-04-11T15:52:50.794Z"
   },
   {
    "duration": 51,
    "start_time": "2023-04-11T15:52:50.812Z"
   },
   {
    "duration": 16,
    "start_time": "2023-04-11T15:52:50.865Z"
   },
   {
    "duration": 62,
    "start_time": "2023-04-11T19:06:39.602Z"
   },
   {
    "duration": 1401,
    "start_time": "2023-04-11T19:06:45.998Z"
   },
   {
    "duration": 101,
    "start_time": "2023-04-11T19:06:47.401Z"
   },
   {
    "duration": 15,
    "start_time": "2023-04-11T19:06:47.503Z"
   },
   {
    "duration": 8,
    "start_time": "2023-04-11T19:06:47.521Z"
   },
   {
    "duration": 6,
    "start_time": "2023-04-11T19:06:47.531Z"
   },
   {
    "duration": 32,
    "start_time": "2023-04-11T19:06:47.539Z"
   },
   {
    "duration": 13,
    "start_time": "2023-04-11T19:06:47.573Z"
   },
   {
    "duration": 196,
    "start_time": "2023-04-11T19:06:47.588Z"
   },
   {
    "duration": 11,
    "start_time": "2023-04-11T19:06:47.785Z"
   },
   {
    "duration": 8,
    "start_time": "2023-04-11T19:06:47.800Z"
   },
   {
    "duration": 6,
    "start_time": "2023-04-11T19:06:47.810Z"
   },
   {
    "duration": 6,
    "start_time": "2023-04-11T19:06:47.818Z"
   },
   {
    "duration": 4,
    "start_time": "2023-04-11T19:06:47.827Z"
   },
   {
    "duration": 19,
    "start_time": "2023-04-11T19:06:47.833Z"
   },
   {
    "duration": 39,
    "start_time": "2023-04-11T19:06:47.854Z"
   },
   {
    "duration": 20,
    "start_time": "2023-04-11T19:06:47.894Z"
   },
   {
    "duration": 14,
    "start_time": "2023-04-11T19:06:47.915Z"
   },
   {
    "duration": 11,
    "start_time": "2023-04-11T19:06:47.931Z"
   },
   {
    "duration": 52,
    "start_time": "2023-04-11T19:06:47.944Z"
   },
   {
    "duration": 6,
    "start_time": "2023-04-11T19:06:47.997Z"
   },
   {
    "duration": 22,
    "start_time": "2023-04-11T19:06:48.004Z"
   },
   {
    "duration": 19,
    "start_time": "2023-04-11T19:06:48.028Z"
   },
   {
    "duration": 43,
    "start_time": "2023-04-11T19:06:48.049Z"
   },
   {
    "duration": 315,
    "start_time": "2023-04-11T19:06:48.093Z"
   },
   {
    "duration": 318,
    "start_time": "2023-04-11T19:06:48.410Z"
   },
   {
    "duration": 218,
    "start_time": "2023-04-11T19:06:48.730Z"
   },
   {
    "duration": 367,
    "start_time": "2023-04-11T19:06:48.950Z"
   },
   {
    "duration": 250,
    "start_time": "2023-04-11T19:06:49.321Z"
   },
   {
    "duration": 321,
    "start_time": "2023-04-11T19:06:49.573Z"
   },
   {
    "duration": 10,
    "start_time": "2023-04-11T19:06:49.896Z"
   },
   {
    "duration": 191,
    "start_time": "2023-04-11T19:06:49.908Z"
   },
   {
    "duration": 4,
    "start_time": "2023-04-11T19:06:50.101Z"
   },
   {
    "duration": 157,
    "start_time": "2023-04-11T19:06:50.107Z"
   },
   {
    "duration": 5,
    "start_time": "2023-04-11T19:06:50.266Z"
   },
   {
    "duration": 15,
    "start_time": "2023-04-11T19:06:50.274Z"
   },
   {
    "duration": 247,
    "start_time": "2023-04-11T19:06:50.291Z"
   },
   {
    "duration": 165,
    "start_time": "2023-04-11T19:06:50.539Z"
   },
   {
    "duration": 7,
    "start_time": "2023-04-11T19:06:50.706Z"
   },
   {
    "duration": 99,
    "start_time": "2023-04-11T19:06:50.715Z"
   },
   {
    "duration": 14,
    "start_time": "2023-04-11T19:06:50.816Z"
   },
   {
    "duration": 63,
    "start_time": "2023-04-11T19:06:50.832Z"
   },
   {
    "duration": 18,
    "start_time": "2023-04-11T19:06:50.897Z"
   },
   {
    "duration": 21,
    "start_time": "2023-04-11T19:06:50.918Z"
   },
   {
    "duration": 15,
    "start_time": "2023-04-11T19:06:50.941Z"
   },
   {
    "duration": 115,
    "start_time": "2023-04-11T19:21:04.269Z"
   },
   {
    "duration": 9,
    "start_time": "2023-04-11T19:25:41.413Z"
   },
   {
    "duration": 993,
    "start_time": "2023-04-12T13:45:48.075Z"
   },
   {
    "duration": 55,
    "start_time": "2023-04-12T13:45:49.070Z"
   },
   {
    "duration": 11,
    "start_time": "2023-04-12T13:45:49.127Z"
   },
   {
    "duration": 10,
    "start_time": "2023-04-12T13:45:49.139Z"
   },
   {
    "duration": 2,
    "start_time": "2023-04-12T13:45:49.151Z"
   },
   {
    "duration": 13,
    "start_time": "2023-04-12T13:45:49.155Z"
   },
   {
    "duration": 10,
    "start_time": "2023-04-12T13:45:49.169Z"
   },
   {
    "duration": 119,
    "start_time": "2023-04-12T13:45:49.180Z"
   },
   {
    "duration": 9,
    "start_time": "2023-04-12T13:45:49.300Z"
   },
   {
    "duration": 26,
    "start_time": "2023-04-12T13:45:49.311Z"
   },
   {
    "duration": 6,
    "start_time": "2023-04-12T13:45:49.338Z"
   },
   {
    "duration": 8,
    "start_time": "2023-04-12T13:45:49.346Z"
   },
   {
    "duration": 25,
    "start_time": "2023-04-12T13:45:49.355Z"
   },
   {
    "duration": 5,
    "start_time": "2023-04-12T13:45:49.384Z"
   },
   {
    "duration": 9,
    "start_time": "2023-04-12T13:45:49.390Z"
   },
   {
    "duration": 11,
    "start_time": "2023-04-12T13:45:49.400Z"
   },
   {
    "duration": 15,
    "start_time": "2023-04-12T13:45:49.412Z"
   },
   {
    "duration": 5,
    "start_time": "2023-04-12T13:45:49.428Z"
   },
   {
    "duration": 13,
    "start_time": "2023-04-12T13:45:49.434Z"
   },
   {
    "duration": 4,
    "start_time": "2023-04-12T13:45:49.448Z"
   },
   {
    "duration": 8,
    "start_time": "2023-04-12T13:45:49.453Z"
   },
   {
    "duration": 6,
    "start_time": "2023-04-12T13:45:49.462Z"
   },
   {
    "duration": 6,
    "start_time": "2023-04-12T13:45:49.470Z"
   },
   {
    "duration": 252,
    "start_time": "2023-04-12T13:45:49.477Z"
   },
   {
    "duration": 250,
    "start_time": "2023-04-12T13:45:49.731Z"
   },
   {
    "duration": 184,
    "start_time": "2023-04-12T13:45:49.982Z"
   },
   {
    "duration": 250,
    "start_time": "2023-04-12T13:45:50.168Z"
   },
   {
    "duration": 183,
    "start_time": "2023-04-12T13:45:50.420Z"
   },
   {
    "duration": 293,
    "start_time": "2023-04-12T13:45:50.605Z"
   },
   {
    "duration": 8,
    "start_time": "2023-04-12T13:45:50.899Z"
   },
   {
    "duration": 141,
    "start_time": "2023-04-12T13:45:50.908Z"
   },
   {
    "duration": 3,
    "start_time": "2023-04-12T13:45:51.051Z"
   },
   {
    "duration": 123,
    "start_time": "2023-04-12T13:45:51.056Z"
   },
   {
    "duration": 4,
    "start_time": "2023-04-12T13:45:51.181Z"
   },
   {
    "duration": 21,
    "start_time": "2023-04-12T13:45:51.186Z"
   },
   {
    "duration": 208,
    "start_time": "2023-04-12T13:45:51.209Z"
   },
   {
    "duration": 103,
    "start_time": "2023-04-12T13:45:51.418Z"
   },
   {
    "duration": 13,
    "start_time": "2023-04-12T13:45:51.523Z"
   },
   {
    "duration": 24,
    "start_time": "2023-04-12T13:45:51.537Z"
   },
   {
    "duration": 9,
    "start_time": "2023-04-12T13:45:51.563Z"
   },
   {
    "duration": 8,
    "start_time": "2023-04-12T13:45:51.576Z"
   },
   {
    "duration": 12,
    "start_time": "2023-04-12T13:45:51.586Z"
   },
   {
    "duration": 22,
    "start_time": "2023-04-12T13:45:51.599Z"
   },
   {
    "duration": 12,
    "start_time": "2023-04-12T13:45:51.636Z"
   }
  ],
  "kernelspec": {
   "display_name": "Python 3 (ipykernel)",
   "language": "python",
   "name": "python3"
  },
  "language_info": {
   "codemirror_mode": {
    "name": "ipython",
    "version": 3
   },
   "file_extension": ".py",
   "mimetype": "text/x-python",
   "name": "python",
   "nbconvert_exporter": "python",
   "pygments_lexer": "ipython3",
   "version": "3.9.15"
  },
  "toc": {
   "base_numbering": 1,
   "nav_menu": {},
   "number_sections": true,
   "sideBar": true,
   "skip_h1_title": true,
   "title_cell": "Table of Contents",
   "title_sidebar": "Contents",
   "toc_cell": false,
   "toc_position": {},
   "toc_section_display": true,
   "toc_window_display": false
  }
 },
 "nbformat": 4,
 "nbformat_minor": 5
}
